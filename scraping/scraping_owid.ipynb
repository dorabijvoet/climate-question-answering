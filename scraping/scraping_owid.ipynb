{
 "cells": [
  {
   "cell_type": "markdown",
   "metadata": {},
   "source": [
    "# ClimateQ&A\n",
    "---\n",
    "**Goal of the notebook: Scraping all charts from Our World In Data**\n",
    "\n",
    "Inputs of the notebook:\n",
    "- *blablabli blablablou*\n",
    "\n",
    "Output of the notebook:\n",
    "- *blablabli blablablou*\n",
    "\n",
    "Takeaways:\n",
    "- *blablabli blablablou*"
   ]
  },
  {
   "cell_type": "markdown",
   "metadata": {},
   "source": [
    "## Questions, remarks and ideas:\n",
    "- *blablabli blablablou*\n",
    "\n",
    "\n",
    "Prio High:\n",
    "- Do we scrape all charts or just categories of topics linked to ClimateQ&A ?\n",
    "\n",
    "Prio Mid:\n",
    "- *blablabli blablablou*\n",
    "\n",
    "Prio Low:\n",
    "- How to dynamically give the embed link with the right parameters (country/ies, time period, tab (table, chart, map))\n",
    "  1. Bind a function to the LLM which returns arguments: country, time, tab\n",
    "  2. Write a function which inputs the arguments in the link and returns the right embedding link\n",
    "  3. If the embedding link works great, if it does not: take other parameters which work and make the LLM say sorry we don't have the exact info you are looking for, but this is closely related"
   ]
  },
  {
   "cell_type": "markdown",
   "metadata": {},
   "source": [
    "## Dependencies and path\n",
    "Adjust the argument in `sys.path.append` to align with your specific requirements."
   ]
  },
  {
   "cell_type": "code",
   "execution_count": 11,
   "metadata": {},
   "outputs": [
    {
     "name": "stdout",
     "output_type": "stream",
     "text": [
      "The autoreload extension is already loaded. To reload it, use:\n",
      "  %reload_ext autoreload\n"
     ]
    }
   ],
   "source": [
    "# Standard library imports\n",
    "import os  # (Standard Library - No Version)\n",
    "import sys  # (Standard Library - No Version)\n",
    "import pandas as pd\n",
    "import numpy as np\n",
    "\n",
    "# Third-party imports\n",
    "from dotenv import load_dotenv\n",
    "\n",
    "# Change this path to align with your specific requirements\n",
    "base_dir = '/home/dora/climate-question-answering'\n",
    "sys.path.append(os.path.join(base_dir, 'climateqa'))\n",
    "\n",
    "# Load environment variables\n",
    "load_dotenv()\n",
    "\n",
    "# IPython extension for auto-reloading (automatically reloads modules before executing code)\n",
    "%load_ext autoreload\n",
    "%autoreload 2"
   ]
  },
  {
   "cell_type": "markdown",
   "metadata": {},
   "source": [
    "## 1. Introduction\n",
    "Scrape all charts from https://ourworldindata.org/charts and not explorers:\n",
    "- All the information covered by charts under the tab \"Explorers\" seems to be contained in the charts under the \"Charts\" tabs\n",
    "- The interactive added value of the explorer is already captured by the LLM"
   ]
  },
  {
   "cell_type": "markdown",
   "metadata": {},
   "source": [
    "Elements to scrap:\n",
    "- Category of the graph\n",
    "- Title of the graph\n",
    "- Subtitle of the graph\n",
    "- Embedding link\n",
    "- URL to the page"
   ]
  },
  {
   "cell_type": "markdown",
   "metadata": {},
   "source": [
    "### 1.1 Set up chromedriver and chrome in WSL"
   ]
  },
  {
   "cell_type": "code",
   "execution_count": 154,
   "metadata": {},
   "outputs": [],
   "source": [
    "import time\n",
    "import os.path\n",
    "from selenium import webdriver\n",
    "from selenium.webdriver.chrome.service import Service\n",
    "from selenium.webdriver.common.by import By\n",
    "from selenium.webdriver.chrome.options import Options\n",
    "from selenium.webdriver.support.ui import WebDriverWait\n",
    "from selenium.webdriver.support import expected_conditions as EC\n",
    "\n",
    "## Setup chrome options\n",
    "chrome_options = Options()\n",
    "chrome_options.add_argument(\"--headless\") # Ensure GUI is off\n",
    "chrome_options.add_argument(\"--no-sandbox\")\n",
    "\n",
    "# Set path to chrome/chromedriver as per your configuration\n",
    "homedir = os.path.expanduser(\"~\")\n",
    "chrome_options.binary_location = f\"{homedir}/chrome-linux64/chrome\"\n",
    "webdriver_service = Service(f\"{homedir}/chromedriver-linux64/chromedriver\")\n",
    "\n",
    "# Choose Chrome Browser\n",
    "driver = webdriver.Chrome(service=webdriver_service, options=chrome_options)\n",
    "\n",
    "# Use WebDriverWait to allow dynamic page content to load\n",
    "wait = WebDriverWait(driver, 10)"
   ]
  },
  {
   "cell_type": "markdown",
   "metadata": {},
   "source": [
    "## 2. Scraping charts\n",
    "### 2.1 Test for one chart\n",
    "https://ourworldindata.org/grapher/number-with-without-clean-cooking-fuels"
   ]
  },
  {
   "cell_type": "markdown",
   "metadata": {},
   "source": [
    "Pseudo code:\n",
    "1. Get all the section headers `<section[i]> <h2>`\n",
    "2. For loop through all the section headers\n",
    "   1. `category = <section[i]> <h2> .text`\n",
    "   2. For loop through all the child elements `> ul/li[i]`\n",
    "      1. Get the `<a> element` and get:\n",
    "         - `url = .href`\n",
    "         - `embedding = f\"blabla{url}blabla\"`\n",
    "         - `Title`\n",
    "         - `category = category`\n",
    "      2. Navigate to the url and get:\n",
    "         - `Subtitle`\n",
    "         - Later:\n",
    "           - Any additional info in metadata as well > `Learn more about this data` > `select an indicator` (des fois) > `\"What you should know about this indicator/data\"`, `\"How this data is described by its producer\"` (PAS \"Additional information about this data\" as discusses more how the data was collected, by who, etc.)"
   ]
  },
  {
   "cell_type": "code",
   "execution_count": 162,
   "metadata": {},
   "outputs": [],
   "source": [
    "# Get page\n",
    "home_url = \"https://ourworldindata.org/charts\"\n",
    "driver.get(home_url)\n",
    "\n",
    "# Find all the charts by their unique class and text within them\n",
    "sections = wait.until(EC.presence_of_all_elements_located((By.XPATH, \"//section/h2\")))\n",
    "\n",
    "# Initialize an empty list to store URLs\n",
    "charts = []\n",
    "\n",
    "for section in sections[1:]:\n",
    "    category = section.text\n",
    "\n",
    "    # Find the ul element that is a sibling to the current h2 section\n",
    "    ul_element = section.find_element(By.XPATH, './following-sibling::ul')\n",
    "\n",
    "    # Find all a elements within the li elements of the ul\n",
    "    items = ul_element.find_elements(By.XPATH, './/li/a')\n",
    "\n",
    "    for item in items:\n",
    "        url = item.get_attribute(\"href\")\n",
    "        title = item.text\n",
    "        chart = {\n",
    "            \"category\": category,\n",
    "            \"title\": title,\n",
    "            \"url\": url,\n",
    "            \"embedding\": f\"\"\"<iframe src=\"{url}?tab=map\" loading=\"lazy\" style=\"width: 100%; height: 600px; border: 0px none;\" allow=\"web-share; clipboard-write\"></iframe>\"\"\"\n",
    "\n",
    "        }\n",
    "        charts.append(chart)\n",
    "\n",
    "for chart in charts:\n",
    "    driver.get(chart[\"url\"])\n",
    "    subtitle_element = wait.until(EC.presence_of_element_located((By.CSS_SELECTOR, \"span.markdown-text-wrap\")))\n",
    "    chart[\"subtitle\"] = subtitle_element.text.replace(\"\\n\", \" \")"
   ]
  },
  {
   "cell_type": "code",
   "execution_count": null,
   "metadata": {},
   "outputs": [
    {
     "data": {
      "text/plain": [
       "[{'category': 'Access to Energy',\n",
       "  'title': 'Number of people with and without access to clean cooking fuels',\n",
       "  'url': 'https://ourworldindata.org/grapher/number-with-without-clean-cooking-fuels',\n",
       "  'embedding': '<iframe src=\"https://ourworldindata.org/grapher/number-with-without-clean-cooking-fuels?tab=map\" loading=\"lazy\" style=\"width: 100%; height: 600px; border: 0px none;\" allow=\"web-share; clipboard-write\"></iframe>',\n",
       "  'subtitle': 'Clean cooking fuels and technologies represent non-solid fuels such as natural gas, ethanol or electric technologies.'},\n",
       " {'category': 'Access to Energy',\n",
       "  'title': 'Number of people without access to clean fuels for cooking',\n",
       "  'url': 'https://ourworldindata.org/grapher/number-without-clean-cooking-fuel',\n",
       "  'embedding': '<iframe src=\"https://ourworldindata.org/grapher/number-without-clean-cooking-fuel?tab=map\" loading=\"lazy\" style=\"width: 100%; height: 600px; border: 0px none;\" allow=\"web-share; clipboard-write\"></iframe>',\n",
       "  'subtitle': 'Clean cooking fuels and technologies represent non-solid fuels such as natural gas, ethanol or electric technologies.'},\n",
       " {'category': 'Access to Energy',\n",
       "  'title': 'People without clean fuels for cooking, by world region',\n",
       "  'url': 'https://ourworldindata.org/grapher/people-without-clean-cooking-fuels-region',\n",
       "  'embedding': '<iframe src=\"https://ourworldindata.org/grapher/people-without-clean-cooking-fuels-region?tab=map\" loading=\"lazy\" style=\"width: 100%; height: 600px; border: 0px none;\" allow=\"web-share; clipboard-write\"></iframe>',\n",
       "  'subtitle': 'Data source: World Bank'},\n",
       " {'category': 'Access to Energy',\n",
       "  'title': 'Share of the population without access to clean fuels for cooking',\n",
       "  'url': 'https://ourworldindata.org/grapher/share-of-the-population-without-access-to-clean-fuels-for-cooking',\n",
       "  'embedding': '<iframe src=\"https://ourworldindata.org/grapher/share-of-the-population-without-access-to-clean-fuels-for-cooking?tab=map\" loading=\"lazy\" style=\"width: 100%; height: 600px; border: 0px none;\" allow=\"web-share; clipboard-write\"></iframe>',\n",
       "  'subtitle': 'Access to clean fuels or technologies such as natural gas, electricity, and clean cookstoves reduces exposure to indoor air pollutants, a leading cause of death in low-income households.'},\n",
       " {'category': 'Access to Energy',\n",
       "  'title': 'Share with access to electricity vs. per capita energy consumption',\n",
       "  'url': 'https://ourworldindata.org/grapher/share-with-access-to-electricity-vs-per-capita-energy-consumption',\n",
       "  'embedding': '<iframe src=\"https://ourworldindata.org/grapher/share-with-access-to-electricity-vs-per-capita-energy-consumption?tab=map\" loading=\"lazy\" style=\"width: 100%; height: 600px; border: 0px none;\" allow=\"web-share; clipboard-write\"></iframe>',\n",
       "  'subtitle': 'Having access to electricity is defined in international statistics as having an electricity source that can provide very basic lighting, and charge a phone or power a radio for 4 hours per day. Primary energy is measured in kilowatt-hours per person, using the substitution method.'}]"
      ]
     },
     "execution_count": 161,
     "metadata": {},
     "output_type": "execute_result"
    }
   ],
   "source": [
    "charts"
   ]
  },
  {
   "cell_type": "code",
   "execution_count": 139,
   "metadata": {},
   "outputs": [
    {
     "data": {
      "text/plain": [
       "'Having access to electricity is defined in international statistics as having an electricity source that can provide very basic lighting, and charge a phone or power a radio for 4 hours per day. Primary energy is measured in kilowatt-hours per person, using the substitution method.'"
      ]
     },
     "execution_count": 139,
     "metadata": {},
     "output_type": "execute_result"
    }
   ],
   "source": [
    "from IPython.display import display, Markdown\n",
    "\n",
    "# Get page\n",
    "driver.get(\"https://ourworldindata.org/charts\")\n",
    "\n",
    "# Find all the charts by their unique class and text within them\n",
    "sections = wait.until(EC.presence_of_all_elements_located((By.XPATH, \"//section/h2\")))\n",
    "\n",
    "\n",
    "section = sections[1]\n",
    "category = section.text\n",
    "# Find the ul element that is a sibling to the current h2 section\n",
    "ul_element = section.find_element(By.XPATH, './following-sibling::ul')\n",
    "\n",
    "# Find all a elements within the li elements of the ul\n",
    "items = ul_element.find_elements(By.XPATH, './/li/a')\n",
    "url = items[-1].get_attribute(\"href\")\n",
    "embedding = f\"\"\"<iframe src=\"{url}?tab=map\" loading=\"lazy\" style=\"width: 100%; height: 600px; border: 0px none;\" allow=\"web-share; clipboard-write\"></iframe>\"\"\"\n",
    "\n",
    "\n",
    "driver.get(url)\n",
    "\n",
    "subtitle_element = wait.until(EC.presence_of_element_located((By.CSS_SELECTOR, \"span.markdown-text-wrap\")))\n",
    "subtitle_element.text.replace(\"\\n\", \" \")"
   ]
  }
 ],
 "metadata": {
  "kernelspec": {
   "display_name": "climateqa_huggingface",
   "language": "python",
   "name": "python3"
  },
  "language_info": {
   "codemirror_mode": {
    "name": "ipython",
    "version": 3
   },
   "file_extension": ".py",
   "mimetype": "text/x-python",
   "name": "python",
   "nbconvert_exporter": "python",
   "pygments_lexer": "ipython3",
   "version": "3.12.3"
  }
 },
 "nbformat": 4,
 "nbformat_minor": 2
}
