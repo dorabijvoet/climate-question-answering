{
 "cells": [
  {
   "cell_type": "code",
   "execution_count": 1,
   "metadata": {},
   "outputs": [
    {
     "data": {
      "text/plain": [
       "True"
      ]
     },
     "execution_count": 1,
     "metadata": {},
     "output_type": "execute_result"
    }
   ],
   "source": [
    "import pandas as pd \n",
    "import numpy as np\n",
    "import os\n",
    "\n",
    "%load_ext autoreload\n",
    "%autoreload 2\n",
    "\n",
    "import sys\n",
    "#sys.path.append(\"C:/git/climate-question-answering\")\n",
    "sys.path.append(\"/home/dora/climate-question-answering\")\n",
    "\n",
    "from dotenv import load_dotenv\n",
    "load_dotenv()"
   ]
  },
  {
   "cell_type": "markdown",
   "metadata": {},
   "source": [
    "# Import objects"
   ]
  },
  {
   "cell_type": "code",
   "execution_count": 2,
   "metadata": {},
   "outputs": [],
   "source": [
    "from climateqa.engine.llm import get_llm\n",
    "llm = get_llm(provider=\"openai\")"
   ]
  },
  {
   "cell_type": "code",
   "execution_count": 3,
   "metadata": {},
   "outputs": [
    {
     "name": "stderr",
     "output_type": "stream",
     "text": [
      "/home/dora/anaconda3/envs/climateqa_huggingface/lib/python3.12/site-packages/tqdm/auto.py:21: TqdmWarning: IProgress not found. Please update jupyter and ipywidgets. See https://ipywidgets.readthedocs.io/en/stable/user_install.html\n",
      "  from .autonotebook import tqdm as notebook_tqdm\n"
     ]
    },
    {
     "name": "stdout",
     "output_type": "stream",
     "text": [
      "Loading TransformerRanker model mixedbread-ai/mxbai-rerank-xsmall-v1\n",
      "No device set\n",
      "Using device cpu\n",
      "No dtype set\n",
      "Device set to `cpu`, setting dtype to `float32`\n",
      "Using dtype torch.float32\n",
      "Loaded model mixedbread-ai/mxbai-rerank-xsmall-v1\n",
      "Using device cpu.\n",
      "Using dtype torch.float32.\n"
     ]
    }
   ],
   "source": [
    "from climateqa.engine.reranker import get_reranker\n",
    "\n",
    "reranker = get_reranker(\"small\")\n",
    "# from rerankers import Reranker\n",
    "# # Specific flashrank model.\n",
    "# # reranker = Reranker('ms-marco-TinyBERT-L-2-v2', model_type='flashrank')\n",
    "# # reranker = Reranker('ms-marco-MiniLM-L-12-v2', model_type='flashrank')\n",
    "# # reranker = Reranker('cross-encoder/ms-marco-MiniLM-L-4-v2', model_type='cross-encoder')\n",
    "# # reranker = Reranker(\"mixedbread-ai/mxbai-rerank-xsmall-v1\", model_type='cross-encoder')\n",
    "# # reranker = Reranker(\"mixedbread-ai/mxbai-rerank-xsmall-v1\", model_type='cross-encoder')\n",
    "# reranker = Reranker(\"cohere\", lang='en', api_key = \"XXX\")"
   ]
  },
  {
   "cell_type": "code",
   "execution_count": 4,
   "metadata": {},
   "outputs": [
    {
     "name": "stdout",
     "output_type": "stream",
     "text": [
      "Loading embeddings model:  BAAI/bge-base-en-v1.5\n"
     ]
    },
    {
     "name": "stderr",
     "output_type": "stream",
     "text": [
      "/home/dora/anaconda3/envs/climateqa_huggingface/lib/python3.12/site-packages/huggingface_hub/file_download.py:1132: FutureWarning: `resume_download` is deprecated and will be removed in version 1.0.0. Downloads always resume when possible. If you want to force a new download, use `force_download=True`.\n",
      "  warnings.warn(\n",
      "/home/dora/anaconda3/envs/climateqa_huggingface/lib/python3.12/site-packages/langchain_core/_api/deprecation.py:119: LangChainDeprecationWarning: The class `Pinecone` was deprecated in LangChain 0.0.18 and will be removed in 0.3.0. An updated version of the class exists in the langchain-pinecone package and should be used instead. To use it run `pip install -U langchain-pinecone` and import as `from langchain_pinecone import Pinecone`.\n",
      "  warn_deprecated(\n"
     ]
    }
   ],
   "source": [
    "from climateqa.engine.vectorstore import get_pinecone_vectorstore\n",
    "from climateqa.engine.embeddings import get_embeddings_function\n",
    "from climateqa.engine.retriever import ClimateQARetriever\n",
    "\n",
    "embeddings_function = get_embeddings_function()\n",
    "vectorstore = get_pinecone_vectorstore(embeddings_function)"
   ]
  },
  {
   "cell_type": "markdown",
   "metadata": {},
   "source": [
    "# Semantic Routing"
   ]
  },
  {
   "cell_type": "code",
   "execution_count": 5,
   "metadata": {},
   "outputs": [],
   "source": [
    "from climateqa.engine.chains.intent_categorization import make_intent_categorization_chain\n",
    "\n",
    "router_chain = make_intent_categorization_chain(llm)"
   ]
  },
  {
   "cell_type": "code",
   "execution_count": 6,
   "metadata": {},
   "outputs": [
    {
     "data": {
      "text/plain": [
       "{'intent': 'search'}"
      ]
     },
     "execution_count": 6,
     "metadata": {},
     "output_type": "execute_result"
    }
   ],
   "source": [
    "router_chain.invoke({\"input\":\"Which industries have the highest GHG emissions?\"})"
   ]
  },
  {
   "cell_type": "markdown",
   "metadata": {},
   "source": [
    "# Query Rewriter"
   ]
  },
  {
   "cell_type": "code",
   "execution_count": 7,
   "metadata": {},
   "outputs": [],
   "source": [
    "from climateqa.engine.chains.query_transformation import make_query_rewriter_chain,make_query_decomposition_chain\n",
    "from climateqa.engine.chains.translation import make_translation_chain"
   ]
  },
  {
   "cell_type": "code",
   "execution_count": 8,
   "metadata": {},
   "outputs": [],
   "source": [
    "rewriter_chain = make_query_rewriter_chain(llm)\n",
    "translation_chain = make_translation_chain(llm)\n",
    "decomposition_chain = make_query_decomposition_chain(llm)\n",
    "router_chain = make_intent_categorization_chain(llm)"
   ]
  },
  {
   "cell_type": "code",
   "execution_count": 9,
   "metadata": {},
   "outputs": [],
   "source": [
    "def transform_query(user_input):\n",
    "    \n",
    "    state = {\"user_input\":user_input}\n",
    "    \n",
    "    # Route\n",
    "    output_router = router_chain.invoke({\"input\":user_input})\n",
    "    if \"language\" not in output_router: output_router[\"language\"] = \"English\"\n",
    "    state.update(output_router)\n",
    "    \n",
    "    # Translation\n",
    "    if output_router[\"language\"].lower() != \"english\":\n",
    "        translation = translation_chain.invoke({\"input\":user_input})\n",
    "        state[\"query\"] = translation[\"translation\"]\n",
    "    else:\n",
    "        state[\"query\"] = user_input\n",
    "        \n",
    "    # Decomposition\n",
    "    decomposition_output = decomposition_chain.invoke({\"input\":state[\"query\"]})\n",
    "    state.update(decomposition_output)\n",
    "    \n",
    "    # Query Analysis\n",
    "    questions = []\n",
    "    for question in state[\"questions\"]:\n",
    "        question_state = {\"question\":question}\n",
    "        analysis_output = rewriter_chain.invoke({\"input\":question})\n",
    "        question_state.update(analysis_output)\n",
    "        questions.append(question_state)\n",
    "    state[\"questions\"] = questions\n",
    "    \n",
    "    return state"
   ]
  },
  {
   "cell_type": "code",
   "execution_count": 10,
   "metadata": {},
   "outputs": [
    {
     "data": {
      "text/plain": [
       "{'user_input': 'Franchement je sais pas trop de quoi on parle là, qui sont les membres du GIEC en fait ? Et quelles sont leurs dernières publications and What does Morrison argue about IK and LK on internal migration ?',\n",
       " 'language': 'French',\n",
       " 'intent': 'search',\n",
       " 'query': \"Honestly, I'm not sure what we're talking about here, who are the members of the IPCC actually? And what are their latest publications and What does Morrison argue about IK and LK on internal migration?\",\n",
       " 'questions': [{'question': 'Who are the members of the IPCC?',\n",
       "   'sources': ['IPCC']},\n",
       "  {'question': 'What are the latest publications of the IPCC?',\n",
       "   'sources': ['IPCC']},\n",
       "  {'question': 'What does Morrison argue about IK and LK on internal migration?',\n",
       "   'sources': ['OpenAlex']}]}"
      ]
     },
     "execution_count": 10,
     "metadata": {},
     "output_type": "execute_result"
    }
   ],
   "source": [
    "question = \"Franchement je sais pas trop de quoi on parle là, qui sont les membres du GIEC en fait ? Et quelles sont leurs dernières publications and What does Morrison argue about IK and LK on internal migration ?\"\n",
    "#question = \"I am not really sure what you mean. What role do cloud formations play in modulating the Earth's radiative balance, and how are they represented in current climate models?\"\n",
    "#question = \"I need to search the president of the United States, find their age, then find how old they will be in June 2023.\"\n",
    "#question = \"What does Morrison argue about IK and LK on internal migration ?\"\n",
    "state = transform_query(question)\n",
    "state"
   ]
  },
  {
   "cell_type": "code",
   "execution_count": 11,
   "metadata": {},
   "outputs": [
    {
     "data": {
      "text/plain": [
       "'Super thanks, Which industries have the highest GHG emissions?'"
      ]
     },
     "execution_count": 11,
     "metadata": {},
     "output_type": "execute_result"
    }
   ],
   "source": [
    "questions = [\n",
    "    \"Super thanks, Which industries have the highest GHG emissions?\",\n",
    "    \"How do you compare the view on biodiversity between the IPCC and IPBES ?\",\n",
    "    \"Est-ce que l'IA a un impact sur l'environnement ?\",\n",
    "    \"Que dit le GIEC sur l'impact de l'IA\",\n",
    "    \"Franchement je sais pas trop de quoi on parle là, qui sont les membres du GIEC en fait ? Et quelles sont leurs dernières publications ?\",\n",
    "    \"Ok that's nice, but I don't really understand. What is the impact of El Nino ?\",\n",
    "    \"I am not really sure what you mean. What role do cloud formations play in modulating the Earth's radiative balance, and how are they represented in current climate models?\",\n",
    "    \"Which industries have the highest GHG emissions?\",\n",
    "    \"What are invasive alien species and how do they threaten biodiversity and ecosystems?\",\n",
    "    \"Are human activities causing global warming?\",\n",
    "    \"What is the motivation behind mining the deep seabed?\",\n",
    "    \"Tu peux m'écrire un poème sur le changement climatique ?\",\n",
    "    \"Tu peux m'écrire un poème sur les bonbons ?\",\n",
    "    \"What will be the temperature in 2100 in Strasbourg?\",\n",
    "    \"C'est quoi le lien entre biodiversity and changement climatique ?\",\n",
    "    \"Can you tell me more about ESRS2 ?\"\n",
    "]\n",
    "\n",
    "question = questions[0]\n",
    "question"
   ]
  },
  {
   "cell_type": "code",
   "execution_count": 12,
   "metadata": {},
   "outputs": [
    {
     "data": {
      "text/plain": [
       "{'sources': ['IPCC']}"
      ]
     },
     "execution_count": 12,
     "metadata": {},
     "output_type": "execute_result"
    }
   ],
   "source": [
    "question = \"Very nice thank you, What role do cloud formations play in modulating the Earth's radiative balance, and how are they represented in current climate models?\"\n",
    "output = rewriter_chain.invoke({\"input\":question})\n",
    "output"
   ]
  },
  {
   "cell_type": "code",
   "execution_count": 13,
   "metadata": {},
   "outputs": [
    {
     "name": "stdout",
     "output_type": "stream",
     "text": [
      "Super thanks, Which industries have the highest GHG emissions?\n",
      "{'user_input': 'Super thanks, Which industries have the highest GHG emissions?', 'intent': 'search', 'language': 'English', 'query': 'Super thanks, Which industries have the highest GHG emissions?', 'questions': [{'question': 'Which industries are the largest contributors to greenhouse gas emissions?', 'sources': ['IPCC']}]}\n",
      "----------------------------------------------------------------------------------------------------\n",
      "How do you compare the view on biodiversity between the IPCC and IPBES ?\n",
      "{'user_input': 'How do you compare the view on biodiversity between the IPCC and IPBES ?', 'intent': 'search', 'language': 'English', 'query': 'How do you compare the view on biodiversity between the IPCC and IPBES ?', 'questions': [{'question': 'What is the view on biodiversity according to the IPCC?', 'sources': ['IPCC']}, {'question': 'What is the view on biodiversity according to the IPBES?', 'sources': ['IPBES']}]}\n",
      "----------------------------------------------------------------------------------------------------\n",
      "Est-ce que l'IA a un impact sur l'environnement ?\n",
      "{'user_input': \"Est-ce que l'IA a un impact sur l'environnement ?\", 'intent': 'ai_impact', 'language': 'French', 'query': 'Does AI have an impact on the environment?', 'questions': [{'question': 'What is the impact of AI on the environment?', 'sources': ['IPCC', 'OpenAlex']}]}\n",
      "----------------------------------------------------------------------------------------------------\n",
      "Que dit le GIEC sur l'impact de l'IA\n",
      "{'user_input': \"Que dit le GIEC sur l'impact de l'IA\", 'intent': 'search', 'language': 'French', 'query': 'What does the IPCC say about the impact of AI', 'questions': [{'question': \"What is the IPCC's stance on artificial intelligence and its impact on climate change?\", 'sources': ['IPCC']}, {'question': 'How does the IPCC address the relationship between AI and environmental issues in its reports?', 'sources': ['IPCC']}]}\n",
      "----------------------------------------------------------------------------------------------------\n",
      "Franchement je sais pas trop de quoi on parle là, qui sont les membres du GIEC en fait ? Et quelles sont leurs dernières publications ?\n",
      "{'user_input': 'Franchement je sais pas trop de quoi on parle là, qui sont les membres du GIEC en fait ? Et quelles sont leurs dernières publications ?', 'language': 'French', 'intent': 'search', 'query': \"Honestly, I'm not sure what we're talking about here, who are the members of the IPCC actually? And what are their latest publications?\", 'questions': [{'question': 'Who are the members of the IPCC?', 'sources': ['IPCC']}, {'question': 'What are the latest publications of the IPCC?', 'sources': ['IPCC']}]}\n",
      "----------------------------------------------------------------------------------------------------\n",
      "Ok that's nice, but I don't really understand. What is the impact of El Nino ?\n",
      "{'user_input': \"Ok that's nice, but I don't really understand. What is the impact of El Nino ?\", 'intent': 'ai_impact', 'language': 'English', 'query': \"Ok that's nice, but I don't really understand. What is the impact of El Nino ?\", 'questions': [{'question': 'What are the impacts of El Nino on weather patterns?', 'sources': ['IPCC']}, {'question': 'How does El Nino affect global climate?', 'sources': ['IPCC']}, {'question': 'What are the consequences of El Nino on ecosystems and agriculture?', 'sources': ['IPCC', 'IPBES']}]}\n",
      "----------------------------------------------------------------------------------------------------\n",
      "I am not really sure what you mean. What role do cloud formations play in modulating the Earth's radiative balance, and how are they represented in current climate models?\n",
      "{'user_input': \"I am not really sure what you mean. What role do cloud formations play in modulating the Earth's radiative balance, and how are they represented in current climate models?\", 'intent': 'search', 'language': 'English', 'query': \"I am not really sure what you mean. What role do cloud formations play in modulating the Earth's radiative balance, and how are they represented in current climate models?\", 'questions': [{'question': \"What role do cloud formations play in modulating the Earth's radiative balance?\", 'sources': ['IPCC']}, {'question': 'How are cloud formations represented in current climate models?', 'sources': ['IPCC']}]}\n",
      "----------------------------------------------------------------------------------------------------\n",
      "Which industries have the highest GHG emissions?\n",
      "{'user_input': 'Which industries have the highest GHG emissions?', 'intent': 'search', 'language': 'English', 'query': 'Which industries have the highest GHG emissions?', 'questions': [{'question': 'What are the main industries contributing to greenhouse gas emissions?', 'sources': ['IPCC']}, {'question': 'How do different industries impact greenhouse gas emissions?', 'sources': ['IPCC']}]}\n",
      "----------------------------------------------------------------------------------------------------\n",
      "What are invasive alien species and how do they threaten biodiversity and ecosystems?\n",
      "{'user_input': 'What are invasive alien species and how do they threaten biodiversity and ecosystems?', 'intent': 'search', 'language': 'English', 'query': 'What are invasive alien species and how do they threaten biodiversity and ecosystems?', 'questions': [{'question': 'What are invasive alien species?', 'sources': ['IPBES']}, {'question': 'How do invasive alien species threaten biodiversity and ecosystems?', 'sources': ['IPBES']}]}\n",
      "----------------------------------------------------------------------------------------------------\n",
      "Are human activities causing global warming?\n",
      "{'user_input': 'Are human activities causing global warming?', 'intent': 'search', 'language': 'English', 'query': 'Are human activities causing global warming?', 'questions': [{'question': 'What are the main causes of global warming?', 'sources': ['IPCC']}, {'question': 'How do human activities contribute to global warming?', 'sources': ['IPCC']}, {'question': 'What is the scientific consensus on the link between human activities and global warming?', 'sources': ['IPCC']}]}\n",
      "----------------------------------------------------------------------------------------------------\n",
      "What is the motivation behind mining the deep seabed?\n",
      "{'user_input': 'What is the motivation behind mining the deep seabed?', 'intent': 'search', 'language': 'English', 'query': 'What is the motivation behind mining the deep seabed?', 'questions': [{'question': 'What are the reasons for mining the deep seabed?', 'sources': ['IPOS']}]}\n",
      "----------------------------------------------------------------------------------------------------\n",
      "Tu peux m'écrire un poème sur le changement climatique ?\n",
      "{'user_input': \"Tu peux m'écrire un poème sur le changement climatique ?\", 'language': 'French', 'intent': 'search', 'query': 'Can you write me a poem about climate change?', 'questions': [{'question': 'What are the key themes and elements related to climate change that can be included in a poem?', 'sources': ['IPCC']}, {'question': 'How can poetry be used to raise awareness about climate change?', 'sources': ['IPCC', 'OpenAlex']}, {'question': 'What are some examples of poems about climate change that have been written by poets or authors?', 'sources': ['OpenAlex']}]}\n",
      "----------------------------------------------------------------------------------------------------\n",
      "Tu peux m'écrire un poème sur les bonbons ?\n",
      "{'user_input': \"Tu peux m'écrire un poème sur les bonbons ?\", 'intent': 'chitchat', 'language': 'French', 'query': 'Can you write me a poem about candies?', 'questions': [{'question': 'What are the key elements of a poem about candies?', 'sources': ['OpenAlex']}, {'question': 'What are some common themes or emotions associated with candies in poetry?', 'sources': ['OpenAlex']}, {'question': 'How can candies be symbolically represented in a poem?', 'sources': ['OpenAlex']}]}\n",
      "----------------------------------------------------------------------------------------------------\n",
      "What will be the temperature in 2100 in Strasbourg?\n",
      "{'user_input': 'What will be the temperature in 2100 in Strasbourg?', 'intent': 'geo_info', 'language': 'English', 'query': 'What will be the temperature in 2100 in Strasbourg?', 'questions': [{'question': 'How is the temperature in a specific location projected to change over time?', 'sources': ['IPCC']}, {'question': 'What are the factors influencing future temperature projections for a specific city like Strasbourg?', 'sources': ['IPCC']}]}\n",
      "----------------------------------------------------------------------------------------------------\n",
      "C'est quoi le lien entre biodiversity and changement climatique ?\n",
      "{'user_input': \"C'est quoi le lien entre biodiversity and changement climatique ?\", 'language': 'French', 'intent': 'search', 'query': 'What is the link between biodiversity and climate change?', 'questions': [{'question': 'What is biodiversity?', 'sources': ['IPBES']}, {'question': 'How does climate change affect biodiversity?', 'sources': ['IPCC', 'IPBES']}, {'question': 'How does biodiversity impact climate change?', 'sources': ['IPCC', 'IPBES']}]}\n",
      "----------------------------------------------------------------------------------------------------\n",
      "Can you tell me more about ESRS2 ?\n",
      "{'user_input': 'Can you tell me more about ESRS2 ?', 'intent': 'esg', 'language': 'English', 'query': 'Can you tell me more about ESRS2 ?', 'questions': [{'question': 'What is ESRS2?', 'sources': ['OpenAlex']}, {'question': 'What are the key features of ESRS2?', 'sources': ['IPCC']}, {'question': 'How is ESRS2 related to climate change, energy, biodiversity, and nature?', 'sources': ['IPCC', 'IPBES']}]}\n",
      "----------------------------------------------------------------------------------------------------\n"
     ]
    }
   ],
   "source": [
    "for question in questions:\n",
    "    print(question)\n",
    "    output = transform_query(question)\n",
    "    print(output)\n",
    "    print(\"-\"*100)"
   ]
  },
  {
   "cell_type": "markdown",
   "metadata": {},
   "source": [
    "# Langgraph\n",
    "Inspired from https://colab.research.google.com/drive/1WemHvycYcoNTDr33w7p2HL3FF72Nj88i?usp=sharing#scrollTo=YJ77ZCzkiGTL"
   ]
  },
  {
   "cell_type": "markdown",
   "metadata": {},
   "source": [
    "## Graph"
   ]
  },
  {
   "cell_type": "code",
   "execution_count": 14,
   "metadata": {},
   "outputs": [],
   "source": [
    "from climateqa.engine.graph import make_graph_agent,display_graph\n",
    "agent = make_graph_agent(llm,vectorstore,reranker)"
   ]
  },
  {
   "cell_type": "code",
   "execution_count": 15,
   "metadata": {},
   "outputs": [
    {
     "data": {
      "image/jpeg": "[encoded data removed]",
      "text/plain": [
       "<IPython.core.display.Image object>"
      ]
     },
     "metadata": {},
     "output_type": "display_data"
    }
   ],
   "source": [
    "display_graph(agent)"
   ]
  },
  {
   "cell_type": "code",
   "execution_count": null,
   "metadata": {},
   "outputs": [],
   "source": []
  }
 ],
 "metadata": {
  "kernelspec": {
   "display_name": "climateqa_huggingface",
   "language": "python",
   "name": "python3"
  },
  "language_info": {
   "codemirror_mode": {
    "name": "ipython",
    "version": 3
   },
   "file_extension": ".py",
   "mimetype": "text/x-python",
   "name": "python",
   "nbconvert_exporter": "python",
   "pygments_lexer": "ipython3",
   "version": "3.12.3"
  }
 },
 "nbformat": 4,
 "nbformat_minor": 2
}
