{
 "cells": [
  {
   "cell_type": "markdown",
   "metadata": {},
   "source": [
    "# ClimateQ&A\n",
    "---\n",
    "Goal of the notebook: Recommended graphs functionality\n",
    "\n",
    "Inputs of the notebook:\n",
    "\n",
    "Output of the notebook:\n",
    "\n",
    "\n",
    "Takeaways:\n",
    "\n",
    "Questions, thoughts and remarks:\n",
    "- What do I put for query instruction ?\n",
    "  - Default is \"Represent this sentence for searching relevant passages:\"\n",
    "  - embedding_function = get_embeddings_function(query_instruction=\"\")"
   ]
  },
  {
   "cell_type": "markdown",
   "metadata": {},
   "source": [
    "## Dependencies and path\n",
    "Adjust the argument in `sys.path.append` to align with your specific requirements."
   ]
  },
  {
   "cell_type": "code",
   "execution_count": 3,
   "metadata": {},
   "outputs": [
    {
     "name": "stdout",
     "output_type": "stream",
     "text": [
      "The autoreload extension is already loaded. To reload it, use:\n",
      "  %reload_ext autoreload\n"
     ]
    },
    {
     "data": {
      "text/plain": [
       "True"
      ]
     },
     "execution_count": 3,
     "metadata": {},
     "output_type": "execute_result"
    }
   ],
   "source": [
    "import pandas as pd \n",
    "import numpy as np\n",
    "import os\n",
    "\n",
    "%load_ext autoreload\n",
    "%autoreload 2\n",
    "\n",
    "import sys\n",
    "sys.path.append(\"/home/dora/climate-question-answering\")\n",
    "\n",
    "from dotenv import load_dotenv\n",
    "load_dotenv()"
   ]
  },
  {
   "cell_type": "markdown",
   "metadata": {},
   "source": [
    "## 1. Import objects\n",
    "### 1.1 LLM"
   ]
  },
  {
   "cell_type": "code",
   "execution_count": 41,
   "metadata": {},
   "outputs": [],
   "source": [
    "from climateqa.engine.llm import get_llm\n",
    "llm = get_llm(provider=\"openai\")"
   ]
  },
  {
   "cell_type": "markdown",
   "metadata": {},
   "source": [
    "### 1.2 Embedding"
   ]
  },
  {
   "cell_type": "code",
   "execution_count": 42,
   "metadata": {},
   "outputs": [
    {
     "name": "stdout",
     "output_type": "stream",
     "text": [
      "Loading embeddings model:  BAAI/bge-base-en-v1.5\n"
     ]
    },
    {
     "name": "stderr",
     "output_type": "stream",
     "text": [
      "/home/dora/anaconda3/envs/climateqa_huggingface/lib/python3.12/site-packages/huggingface_hub/file_download.py:1132: FutureWarning: `resume_download` is deprecated and will be removed in version 1.0.0. Downloads always resume when possible. If you want to force a new download, use `force_download=True`.\n",
      "  warnings.warn(\n"
     ]
    }
   ],
   "source": [
    "from climateqa.engine.embeddings import get_embeddings_function\n",
    "\n",
    "embeddings_function = get_embeddings_function()"
   ]
  },
  {
   "cell_type": "markdown",
   "metadata": {},
   "source": [
    "### 1.3 Reranker"
   ]
  },
  {
   "cell_type": "code",
   "execution_count": 43,
   "metadata": {},
   "outputs": [
    {
     "name": "stderr",
     "output_type": "stream",
     "text": [
      "INFO:flashrank.Ranker:Downloading ms-marco-TinyBERT-L-2-v2...\n"
     ]
    },
    {
     "name": "stdout",
     "output_type": "stream",
     "text": [
      "Loading FlashRankRanker model ms-marco-TinyBERT-L-2-v2\n",
      "Loading model FlashRank model ms-marco-TinyBERT-L-2-v2...\n"
     ]
    },
    {
     "name": "stderr",
     "output_type": "stream",
     "text": [
      "ms-marco-TinyBERT-L-2-v2.zip: 100%|██████████| 3.26M/3.26M [00:00<00:00, 40.6MiB/s]\n"
     ]
    },
    {
     "data": {
      "text/plain": [
       "<rerankers.models.flashrank_ranker.FlashRankRanker at 0x7f96b4ea8200>"
      ]
     },
     "execution_count": 43,
     "metadata": {},
     "output_type": "execute_result"
    }
   ],
   "source": [
    "from climateqa.engine.reranker import get_reranker\n",
    "\n",
    "reranker = get_reranker(\"nano\")\n",
    "reranker"
   ]
  },
  {
   "cell_type": "markdown",
   "metadata": {},
   "source": [
    "### 1.4 IPCC vectorstore"
   ]
  },
  {
   "cell_type": "code",
   "execution_count": 7,
   "metadata": {},
   "outputs": [
    {
     "name": "stderr",
     "output_type": "stream",
     "text": [
      "/home/dora/anaconda3/envs/climateqa_huggingface/lib/python3.12/site-packages/langchain_core/_api/deprecation.py:119: LangChainDeprecationWarning: The class `Pinecone` was deprecated in LangChain 0.0.18 and will be removed in 0.3.0. An updated version of the class exists in the langchain-pinecone package and should be used instead. To use it run `pip install -U langchain-pinecone` and import as `from langchain_pinecone import Pinecone`.\n",
      "  warn_deprecated(\n"
     ]
    }
   ],
   "source": [
    "from climateqa.engine.vectorstore import get_pinecone_vectorstore\n",
    "\n",
    "vectorstore = get_pinecone_vectorstore(embeddings_function)"
   ]
  },
  {
   "cell_type": "markdown",
   "metadata": {},
   "source": [
    "## 2 Vectorstore"
   ]
  },
  {
   "cell_type": "markdown",
   "metadata": {},
   "source": [
    "### 2.1 IEA data"
   ]
  },
  {
   "cell_type": "code",
   "execution_count": 8,
   "metadata": {},
   "outputs": [
    {
     "data": {
      "text/html": [
       "<div>\n",
       "<style scoped>\n",
       "    .dataframe tbody tr th:only-of-type {\n",
       "        vertical-align: middle;\n",
       "    }\n",
       "\n",
       "    .dataframe tbody tr th {\n",
       "        vertical-align: top;\n",
       "    }\n",
       "\n",
       "    .dataframe thead th {\n",
       "        text-align: right;\n",
       "    }\n",
       "</style>\n",
       "<table border=\"1\" class=\"dataframe\">\n",
       "  <thead>\n",
       "    <tr style=\"text-align: right;\">\n",
       "      <th></th>\n",
       "      <th>title</th>\n",
       "      <th>returned_content</th>\n",
       "      <th>sources</th>\n",
       "      <th>notes</th>\n",
       "      <th>appears_in</th>\n",
       "      <th>appears_in_url</th>\n",
       "      <th>doc_id</th>\n",
       "      <th>source</th>\n",
       "    </tr>\n",
       "  </thead>\n",
       "  <tbody>\n",
       "    <tr>\n",
       "      <th>0</th>\n",
       "      <td>Capital requirements for mining to meet demand...</td>\n",
       "      <td>https://www.iea.org/data-and-statistics/charts...</td>\n",
       "      <td>IEA analysis based on data from S&amp;P Global and...</td>\n",
       "      <td>Capital requirements are calculated based on c...</td>\n",
       "      <td>Global Critical Minerals Outlook 2024</td>\n",
       "      <td>https://www.iea.org/reports/global-critical-mi...</td>\n",
       "      <td>iea_0</td>\n",
       "      <td>IEA</td>\n",
       "    </tr>\n",
       "    <tr>\n",
       "      <th>1</th>\n",
       "      <td>IEA energy transition mineral price index, Jan...</td>\n",
       "      <td>https://www.iea.org/data-and-statistics/charts...</td>\n",
       "      <td>IEA analysis based on Bloomberg and S&amp;P Global.</td>\n",
       "      <td>IEA energy transition minerals price index is ...</td>\n",
       "      <td>Global Critical Minerals Outlook 2024</td>\n",
       "      <td>https://www.iea.org/reports/global-critical-mi...</td>\n",
       "      <td>iea_1</td>\n",
       "      <td>IEA</td>\n",
       "    </tr>\n",
       "    <tr>\n",
       "      <th>2</th>\n",
       "      <td>Price developments of minerals and metals by c...</td>\n",
       "      <td>https://www.iea.org/data-and-statistics/charts...</td>\n",
       "      <td>IEA analysis based on Bloomberg and S&amp;P Global.</td>\n",
       "      <td>Base metals include iron, aluminium, zinc and ...</td>\n",
       "      <td>Global Critical Minerals Outlook 2024</td>\n",
       "      <td>https://www.iea.org/reports/global-critical-mi...</td>\n",
       "      <td>iea_2</td>\n",
       "      <td>IEA</td>\n",
       "    </tr>\n",
       "    <tr>\n",
       "      <th>3</th>\n",
       "      <td>Capital expenditure on nonferrous metal produc...</td>\n",
       "      <td>https://www.iea.org/data-and-statistics/charts...</td>\n",
       "      <td>IEA analysis based on company annual reports a...</td>\n",
       "      <td>For diversified majors, capex on the productio...</td>\n",
       "      <td>Global Critical Minerals Outlook 2024</td>\n",
       "      <td>https://www.iea.org/reports/global-critical-mi...</td>\n",
       "      <td>iea_3</td>\n",
       "      <td>IEA</td>\n",
       "    </tr>\n",
       "    <tr>\n",
       "      <th>4</th>\n",
       "      <td>Selected environmental, social and governance ...</td>\n",
       "      <td>https://www.iea.org/data-and-statistics/charts...</td>\n",
       "      <td>IEA analysis based on the latest sustainabilit...</td>\n",
       "      <td>GHG= greenhouse gas. Aggregated data for 25 ma...</td>\n",
       "      <td>Global Critical Minerals Outlook 2024</td>\n",
       "      <td>https://www.iea.org/reports/global-critical-mi...</td>\n",
       "      <td>iea_4</td>\n",
       "      <td>IEA</td>\n",
       "    </tr>\n",
       "  </tbody>\n",
       "</table>\n",
       "</div>"
      ],
      "text/plain": [
       "                                               title  \\\n",
       "0  Capital requirements for mining to meet demand...   \n",
       "1  IEA energy transition mineral price index, Jan...   \n",
       "2  Price developments of minerals and metals by c...   \n",
       "3  Capital expenditure on nonferrous metal produc...   \n",
       "4  Selected environmental, social and governance ...   \n",
       "\n",
       "                                    returned_content  \\\n",
       "0  https://www.iea.org/data-and-statistics/charts...   \n",
       "1  https://www.iea.org/data-and-statistics/charts...   \n",
       "2  https://www.iea.org/data-and-statistics/charts...   \n",
       "3  https://www.iea.org/data-and-statistics/charts...   \n",
       "4  https://www.iea.org/data-and-statistics/charts...   \n",
       "\n",
       "                                             sources  \\\n",
       "0  IEA analysis based on data from S&P Global and...   \n",
       "1    IEA analysis based on Bloomberg and S&P Global.   \n",
       "2    IEA analysis based on Bloomberg and S&P Global.   \n",
       "3  IEA analysis based on company annual reports a...   \n",
       "4  IEA analysis based on the latest sustainabilit...   \n",
       "\n",
       "                                               notes  \\\n",
       "0  Capital requirements are calculated based on c...   \n",
       "1  IEA energy transition minerals price index is ...   \n",
       "2  Base metals include iron, aluminium, zinc and ...   \n",
       "3  For diversified majors, capex on the productio...   \n",
       "4  GHG= greenhouse gas. Aggregated data for 25 ma...   \n",
       "\n",
       "                              appears_in  \\\n",
       "0  Global Critical Minerals Outlook 2024   \n",
       "1  Global Critical Minerals Outlook 2024   \n",
       "2  Global Critical Minerals Outlook 2024   \n",
       "3  Global Critical Minerals Outlook 2024   \n",
       "4  Global Critical Minerals Outlook 2024   \n",
       "\n",
       "                                      appears_in_url doc_id source  \n",
       "0  https://www.iea.org/reports/global-critical-mi...  iea_0    IEA  \n",
       "1  https://www.iea.org/reports/global-critical-mi...  iea_1    IEA  \n",
       "2  https://www.iea.org/reports/global-critical-mi...  iea_2    IEA  \n",
       "3  https://www.iea.org/reports/global-critical-mi...  iea_3    IEA  \n",
       "4  https://www.iea.org/reports/global-critical-mi...  iea_4    IEA  "
      ]
     },
     "execution_count": 8,
     "metadata": {},
     "output_type": "execute_result"
    }
   ],
   "source": [
    "from langchain_community.document_loaders import DataFrameLoader\n",
    "from langchain_chroma import Chroma\n",
    "\n",
    "df_iea = pd.read_csv(\"/home/dora/climate-question-answering/data/charts_iea.csv\")\n",
    "df_iea = df_iea.rename(columns={'url': 'returned_content'})\n",
    "df_iea[\"doc_id\"] = \"iea_\" + df_iea.index.astype(str)\n",
    "df_iea[\"source\"] = \"IEA\"\n",
    "df_iea.head()"
   ]
  },
  {
   "cell_type": "code",
   "execution_count": 9,
   "metadata": {},
   "outputs": [
    {
     "data": {
      "text/plain": [
       "5355"
      ]
     },
     "execution_count": 9,
     "metadata": {},
     "output_type": "execute_result"
    }
   ],
   "source": [
    "# Load csv file of charts\n",
    "loader_iea = DataFrameLoader(df_iea, page_content_column='title')\n",
    "documents_iea = loader_iea.load()\n",
    "len(documents_iea)"
   ]
  },
  {
   "cell_type": "markdown",
   "metadata": {},
   "source": [
    "### 2.2 OWID data"
   ]
  },
  {
   "cell_type": "code",
   "execution_count": 10,
   "metadata": {},
   "outputs": [
    {
     "data": {
      "text/html": [
       "<div>\n",
       "<style scoped>\n",
       "    .dataframe tbody tr th:only-of-type {\n",
       "        vertical-align: middle;\n",
       "    }\n",
       "\n",
       "    .dataframe tbody tr th {\n",
       "        vertical-align: top;\n",
       "    }\n",
       "\n",
       "    .dataframe thead th {\n",
       "        text-align: right;\n",
       "    }\n",
       "</style>\n",
       "<table border=\"1\" class=\"dataframe\">\n",
       "  <thead>\n",
       "    <tr style=\"text-align: right;\">\n",
       "      <th></th>\n",
       "      <th>category</th>\n",
       "      <th>title</th>\n",
       "      <th>url</th>\n",
       "      <th>returned_content</th>\n",
       "      <th>subtitle</th>\n",
       "      <th>doc_id</th>\n",
       "      <th>source</th>\n",
       "    </tr>\n",
       "  </thead>\n",
       "  <tbody>\n",
       "    <tr>\n",
       "      <th>0</th>\n",
       "      <td>Access to Energy</td>\n",
       "      <td>Number of people with and without access to cl...</td>\n",
       "      <td>https://ourworldindata.org/grapher/number-with...</td>\n",
       "      <td>&lt;iframe src=\"https://ourworldindata.org/graphe...</td>\n",
       "      <td>Clean cooking fuels and technologies represent...</td>\n",
       "      <td>owid_0</td>\n",
       "      <td>OWID</td>\n",
       "    </tr>\n",
       "    <tr>\n",
       "      <th>1</th>\n",
       "      <td>Access to Energy</td>\n",
       "      <td>Number of people without access to clean fuels...</td>\n",
       "      <td>https://ourworldindata.org/grapher/number-with...</td>\n",
       "      <td>&lt;iframe src=\"https://ourworldindata.org/graphe...</td>\n",
       "      <td>Clean cooking fuels and technologies represent...</td>\n",
       "      <td>owid_1</td>\n",
       "      <td>OWID</td>\n",
       "    </tr>\n",
       "    <tr>\n",
       "      <th>2</th>\n",
       "      <td>Access to Energy</td>\n",
       "      <td>People without clean fuels for cooking, by wor...</td>\n",
       "      <td>https://ourworldindata.org/grapher/people-with...</td>\n",
       "      <td>&lt;iframe src=\"https://ourworldindata.org/graphe...</td>\n",
       "      <td>Data source: World Bank</td>\n",
       "      <td>owid_2</td>\n",
       "      <td>OWID</td>\n",
       "    </tr>\n",
       "    <tr>\n",
       "      <th>3</th>\n",
       "      <td>Access to Energy</td>\n",
       "      <td>Share of the population without access to clea...</td>\n",
       "      <td>https://ourworldindata.org/grapher/share-of-th...</td>\n",
       "      <td>&lt;iframe src=\"https://ourworldindata.org/graphe...</td>\n",
       "      <td>Access to clean fuels or technologies such as ...</td>\n",
       "      <td>owid_3</td>\n",
       "      <td>OWID</td>\n",
       "    </tr>\n",
       "    <tr>\n",
       "      <th>4</th>\n",
       "      <td>Access to Energy</td>\n",
       "      <td>Share with access to electricity vs. per capit...</td>\n",
       "      <td>https://ourworldindata.org/grapher/share-with-...</td>\n",
       "      <td>&lt;iframe src=\"https://ourworldindata.org/graphe...</td>\n",
       "      <td>Having access to electricity is defined in int...</td>\n",
       "      <td>owid_4</td>\n",
       "      <td>OWID</td>\n",
       "    </tr>\n",
       "  </tbody>\n",
       "</table>\n",
       "</div>"
      ],
      "text/plain": [
       "           category                                              title  \\\n",
       "0  Access to Energy  Number of people with and without access to cl...   \n",
       "1  Access to Energy  Number of people without access to clean fuels...   \n",
       "2  Access to Energy  People without clean fuels for cooking, by wor...   \n",
       "3  Access to Energy  Share of the population without access to clea...   \n",
       "4  Access to Energy  Share with access to electricity vs. per capit...   \n",
       "\n",
       "                                                 url  \\\n",
       "0  https://ourworldindata.org/grapher/number-with...   \n",
       "1  https://ourworldindata.org/grapher/number-with...   \n",
       "2  https://ourworldindata.org/grapher/people-with...   \n",
       "3  https://ourworldindata.org/grapher/share-of-th...   \n",
       "4  https://ourworldindata.org/grapher/share-with-...   \n",
       "\n",
       "                                    returned_content  \\\n",
       "0  <iframe src=\"https://ourworldindata.org/graphe...   \n",
       "1  <iframe src=\"https://ourworldindata.org/graphe...   \n",
       "2  <iframe src=\"https://ourworldindata.org/graphe...   \n",
       "3  <iframe src=\"https://ourworldindata.org/graphe...   \n",
       "4  <iframe src=\"https://ourworldindata.org/graphe...   \n",
       "\n",
       "                                            subtitle  doc_id source  \n",
       "0  Clean cooking fuels and technologies represent...  owid_0   OWID  \n",
       "1  Clean cooking fuels and technologies represent...  owid_1   OWID  \n",
       "2                            Data source: World Bank  owid_2   OWID  \n",
       "3  Access to clean fuels or technologies such as ...  owid_3   OWID  \n",
       "4  Having access to electricity is defined in int...  owid_4   OWID  "
      ]
     },
     "execution_count": 10,
     "metadata": {},
     "output_type": "execute_result"
    }
   ],
   "source": [
    "df_owid = pd.read_csv(\"/home/dora/climate-question-answering/data/charts_owid.csv\")\n",
    "\n",
    "# rename column 'embedding' to 'returned_content'\n",
    "df_owid = df_owid.rename(columns={'embedding': 'returned_content'})\n",
    "df_owid.head()\n",
    "\n",
    "df_owid[\"doc_id\"] = \"owid_\" + df_owid.index.astype(str)\n",
    "df_owid[\"source\"] = \"OWID\"\n",
    "df_owid.head()"
   ]
  },
  {
   "cell_type": "code",
   "execution_count": 11,
   "metadata": {},
   "outputs": [
    {
     "data": {
      "text/plain": [
       "2202"
      ]
     },
     "execution_count": 11,
     "metadata": {},
     "output_type": "execute_result"
    }
   ],
   "source": [
    "loader_owid = DataFrameLoader(df_owid, page_content_column='title')\n",
    "documents_owid = loader_owid.load()\n",
    "len(documents_owid)"
   ]
  },
  {
   "cell_type": "markdown",
   "metadata": {},
   "source": [
    "### 2.3 Merged Data Loader"
   ]
  },
  {
   "cell_type": "code",
   "execution_count": 12,
   "metadata": {},
   "outputs": [
    {
     "data": {
      "text/plain": [
       "7557"
      ]
     },
     "execution_count": 12,
     "metadata": {},
     "output_type": "execute_result"
    }
   ],
   "source": [
    "from langchain_community.document_loaders.merge import MergedDataLoader\n",
    "\n",
    "loader_all = MergedDataLoader(loaders=[loader_iea, loader_owid])\n",
    "documents_all = loader_all.load()\n",
    "len(documents_all)"
   ]
  },
  {
   "cell_type": "code",
   "execution_count": 13,
   "metadata": {},
   "outputs": [
    {
     "data": {
      "text/plain": [
       "Document(page_content='Wildfire area burned by land cover type', metadata={'category': 'Wildfires', 'url': 'https://ourworldindata.org/grapher/annual-burned-area-by-landcover', 'returned_content': '<iframe src=\"https://ourworldindata.org/grapher/annual-burned-area-by-landcover?tab=map\" loading=\"lazy\" style=\"width: 100%; height: 600px; border: 0px none;\" allow=\"web-share; clipboard-write\"></iframe>', 'subtitle': 'Total area of forests, savannas, shrublands/grasslands, croplands, and other land that have been burned as a result of wildfires each year.', 'doc_id': 'owid_2201', 'source': 'OWID'})"
      ]
     },
     "execution_count": 13,
     "metadata": {},
     "output_type": "execute_result"
    }
   ],
   "source": [
    "documents_all[-1]"
   ]
  },
  {
   "cell_type": "markdown",
   "metadata": {},
   "source": [
    "### 2.4 Chroma vectorstore"
   ]
  },
  {
   "cell_type": "code",
   "execution_count": 14,
   "metadata": {},
   "outputs": [],
   "source": [
    "# DO NOT RUN AGAIN (persisted)\n",
    "vectorstore_graphs = Chroma.from_documents(documents_all, embeddings_function, persist_directory=\"/home/dora/climate-question-answering/data/vectorstore\")"
   ]
  },
  {
   "cell_type": "code",
   "execution_count": 15,
   "metadata": {},
   "outputs": [],
   "source": [
    "vectorstore_graphs = Chroma(persist_directory=\"/home/dora/climate-question-answering/data/vectorstore\", embedding_function=embeddings_function)"
   ]
  },
  {
   "cell_type": "code",
   "execution_count": 17,
   "metadata": {},
   "outputs": [
    {
     "data": {
      "text/plain": [
       "[(Document(page_content='Share of water bodies with good ambient water quality', metadata={'category': 'Clean Water & Sanitation', 'doc_id': 'owid_742', 'returned_content': '<iframe src=\"https://ourworldindata.org/grapher/water-bodies-good-water-quality?tab=map\" loading=\"lazy\" style=\"width: 100%; height: 600px; border: 0px none;\" allow=\"web-share; clipboard-write\"></iframe>', 'source': 'OWID', 'subtitle': 'Water quality is assessed by means of core physical and chemical parameters that reflect natural water quality. A water body is classified as \"good\" quality if at least 80% of monitoring values meet target quality levels.', 'url': 'https://ourworldindata.org/grapher/water-bodies-good-water-quality'}),\n",
       "  0.4695535045145023),\n",
       " (Document(page_content='Share of water bodies with good ambient water quality', metadata={'category': 'Water Pollution', 'doc_id': 'owid_2151', 'returned_content': '<iframe src=\"https://ourworldindata.org/grapher/water-bodies-good-water-quality?tab=map\" loading=\"lazy\" style=\"width: 100%; height: 600px; border: 0px none;\" allow=\"web-share; clipboard-write\"></iframe>', 'source': 'OWID', 'subtitle': 'Water quality is assessed by means of core physical and chemical parameters that reflect natural water quality. A water body is classified as \"good\" quality if at least 80% of monitoring values meet target quality levels.', 'url': 'https://ourworldindata.org/grapher/water-bodies-good-water-quality'}),\n",
       "  0.46955348387336615),\n",
       " (Document(page_content='Share of water bodies with good ambient water quality', metadata={'category': 'Water Use & Stress', 'doc_id': 'owid_2184', 'returned_content': '<iframe src=\"https://ourworldindata.org/grapher/water-bodies-good-water-quality?tab=map\" loading=\"lazy\" style=\"width: 100%; height: 600px; border: 0px none;\" allow=\"web-share; clipboard-write\"></iframe>', 'source': 'OWID', 'subtitle': 'Water quality is assessed by means of core physical and chemical parameters that reflect natural water quality. A water body is classified as \"good\" quality if at least 80% of monitoring values meet target quality levels.', 'url': 'https://ourworldindata.org/grapher/water-bodies-good-water-quality'}),\n",
       "  0.4695534578346052),\n",
       " (Document(page_content='Share of population using at least a basic drinking water source', metadata={'category': 'Clean Water & Sanitation', 'doc_id': 'owid_719', 'returned_content': '<iframe src=\"https://ourworldindata.org/grapher/population-using-at-least-basic-drinking-water?tab=map\" loading=\"lazy\" style=\"width: 100%; height: 600px; border: 0px none;\" allow=\"web-share; clipboard-write\"></iframe>', 'source': 'OWID', 'subtitle': 'A basic drinking water service is water from an improved water source that can be collected within a 30-minute round trip, including queuing.', 'url': 'https://ourworldindata.org/grapher/population-using-at-least-basic-drinking-water'}),\n",
       "  0.43012078660716435)]"
      ]
     },
     "execution_count": 17,
     "metadata": {},
     "output_type": "execute_result"
    }
   ],
   "source": [
    "vectorstore_graphs.similarity_search_with_relevance_scores(\"What is the trend of clean water?\")"
   ]
  },
  {
   "cell_type": "markdown",
   "metadata": {},
   "source": [
    "## 3. Retriever for recommended graphs"
   ]
  },
  {
   "cell_type": "markdown",
   "metadata": {},
   "source": [
    "### 3.1 Custom retriever"
   ]
  },
  {
   "cell_type": "code",
   "execution_count": 18,
   "metadata": {},
   "outputs": [],
   "source": [
    "from langchain_core.retrievers import BaseRetriever\n",
    "from langchain_core.documents.base import Document\n",
    "from langchain_core.vectorstores import VectorStore\n",
    "from langchain_core.callbacks.manager import CallbackManagerForRetrieverRun\n",
    "\n",
    "from typing import List\n",
    "\n",
    "class GraphRetriever(BaseRetriever):\n",
    "    vectorstore:VectorStore\n",
    "    sources:list = [\"IEA\", \"OWID\"] # plus tard ajouter OurWorldInData # faudra integrate avec l'autre retriever\n",
    "    threshold:float = 0.5\n",
    "    k_total:int = 10\n",
    "\n",
    "    def _get_relevant_documents(\n",
    "        self, query: str, *, run_manager: CallbackManagerForRetrieverRun\n",
    "    ) -> List[Document]:\n",
    "\n",
    "        # Check if all elements in the list are IEA or OWID\n",
    "        assert isinstance(self.sources,list)\n",
    "        assert any([x in [\"IEA\", \"OWID\"] for x in self.sources])\n",
    "\n",
    "        # Prepare base search kwargs\n",
    "        filters = {}\n",
    "\n",
    "        filters[\"source\"] = {\"$in\": self.sources}\n",
    "\n",
    "        docs = self.vectorstore.similarity_search_with_score(query=query, filter=filters, k=self.k_total)\n",
    "        \n",
    "        # Filter if scores are below threshold\n",
    "        docs = [x for x in docs if x[1] > self.threshold]\n",
    "\n",
    "        # Add score to metadata\n",
    "        results = []\n",
    "        for i,(doc,score) in enumerate(docs):\n",
    "            doc.metadata[\"similarity_score\"] = score\n",
    "            doc.metadata[\"content\"] = doc.page_content\n",
    "            results.append(doc)\n",
    "\n",
    "        return results"
   ]
  },
  {
   "cell_type": "code",
   "execution_count": 21,
   "metadata": {},
   "outputs": [],
   "source": [
    "retriever = GraphRetriever(vectorstore=vectorstore_graphs, sources=[\"OWID\"])"
   ]
  },
  {
   "cell_type": "code",
   "execution_count": 22,
   "metadata": {},
   "outputs": [
    {
     "data": {
      "text/plain": [
       "[Document(page_content='Energy imports and exports', metadata={'category': 'Energy', 'doc_id': 'owid_969', 'returned_content': '<iframe src=\"https://ourworldindata.org/grapher/energy-imports-and-exports-energy-use?tab=map\" loading=\"lazy\" style=\"width: 100%; height: 600px; border: 0px none;\" allow=\"web-share; clipboard-write\"></iframe>', 'source': 'OWID', 'subtitle': 'Energy trade, measured as the percentage of energy use. Positive values indicate a country or region is a net importer of energy. Negative numbers indicate a country or region is a net exporter.', 'url': 'https://ourworldindata.org/grapher/energy-imports-and-exports-energy-use', 'similarity_score': 0.7722017765045166, 'content': 'Energy imports and exports'}),\n",
       " Document(page_content='Import of environmentally sound technologies', metadata={'category': 'CO2 & Greenhouse Gas Emissions', 'doc_id': 'owid_400', 'returned_content': '<iframe src=\"https://ourworldindata.org/grapher/import-of-environmentally-sound-technologies?tab=map\" loading=\"lazy\" style=\"width: 100%; height: 600px; border: 0px none;\" allow=\"web-share; clipboard-write\"></iframe>', 'source': 'OWID', 'subtitle': 'Environmentally sound technologies (ESTs) are technologies that have the potential for significantly improved environmental performance relative to other technologies. This indicator shows the value of imported ESTs in current US-$.', 'url': 'https://ourworldindata.org/grapher/import-of-environmentally-sound-technologies', 'similarity_score': 0.7829903364181519, 'content': 'Import of environmentally sound technologies'}),\n",
       " Document(page_content='Long-term energy transitions', metadata={'category': 'Energy', 'doc_id': 'owid_1013', 'returned_content': '<iframe src=\"https://ourworldindata.org/grapher/long-term-energy-transitions?tab=map\" loading=\"lazy\" style=\"width: 100%; height: 600px; border: 0px none;\" allow=\"web-share; clipboard-write\"></iframe>', 'source': 'OWID', 'subtitle': 'Share of primary energy by source over the long-term, measured as the percentage of total energy consumption. Primary electricity includes: hydropower, nuclear power, wind, photo\\xadvoltaics, tidal, wave and solar thermal and geothermal (only figures for electricity production are included).', 'url': 'https://ourworldindata.org/grapher/long-term-energy-transitions', 'similarity_score': 0.8692114949226379, 'content': 'Long-term energy transitions'}),\n",
       " Document(page_content='Imported deforestation', metadata={'category': 'Forests & Deforestation', 'doc_id': 'owid_1376', 'returned_content': '<iframe src=\"https://ourworldindata.org/grapher/imported-deforestation?tab=map\" loading=\"lazy\" style=\"width: 100%; height: 600px; border: 0px none;\" allow=\"web-share; clipboard-write\"></iframe>', 'source': 'OWID', 'subtitle': 'Imported deforestation is the amount of deforestation in other countries that is driven by the production of food and forestry products that are imported. This is measured in hectares.', 'url': 'https://ourworldindata.org/grapher/imported-deforestation', 'similarity_score': 0.8846047520637512, 'content': 'Imported deforestation'}),\n",
       " Document(page_content='Net electricity imports', metadata={'category': 'Energy', 'doc_id': 'owid_1019', 'returned_content': '<iframe src=\"https://ourworldindata.org/grapher/net-electricity-imports?tab=map\" loading=\"lazy\" style=\"width: 100%; height: 600px; border: 0px none;\" allow=\"web-share; clipboard-write\"></iframe>', 'source': 'OWID', 'subtitle': 'Net electricity imports are calculated as electricity imports minus exports. Countries with positive values are net importers of electricity; negative values are net exporters. Measured in terawatt-hours.', 'url': 'https://ourworldindata.org/grapher/net-electricity-imports', 'similarity_score': 0.8953984975814819, 'content': 'Net electricity imports'}),\n",
       " Document(page_content='Fossil fuel production over the long-term', metadata={'category': 'Energy', 'doc_id': 'owid_983', 'returned_content': '<iframe src=\"https://ourworldindata.org/grapher/fossil-fuel-production-over-the-long-term?tab=map\" loading=\"lazy\" style=\"width: 100%; height: 600px; border: 0px none;\" allow=\"web-share; clipboard-write\"></iframe>', 'source': 'OWID', 'subtitle': 'Total fossil fuel production - differentiated by coal, oil and natural gas - by country over the long-run, measured in terawatt-hour (TWh) equivalents per year.', 'url': 'https://ourworldindata.org/grapher/fossil-fuel-production-over-the-long-term', 'similarity_score': 0.908625602722168, 'content': 'Fossil fuel production over the long-term'}),\n",
       " Document(page_content='Fossil fuel production over the long-term', metadata={'category': 'Fossil Fuels', 'doc_id': 'owid_1443', 'returned_content': '<iframe src=\"https://ourworldindata.org/grapher/fossil-fuel-production-over-the-long-term?tab=map\" loading=\"lazy\" style=\"width: 100%; height: 600px; border: 0px none;\" allow=\"web-share; clipboard-write\"></iframe>', 'source': 'OWID', 'subtitle': 'Total fossil fuel production - differentiated by coal, oil and natural gas - by country over the long-run, measured in terawatt-hour (TWh) equivalents per year.', 'url': 'https://ourworldindata.org/grapher/fossil-fuel-production-over-the-long-term', 'similarity_score': 0.9086256623268127, 'content': 'Fossil fuel production over the long-term'}),\n",
       " Document(page_content='Export of environmentally sound technologies', metadata={'category': 'CO2 & Greenhouse Gas Emissions', 'doc_id': 'owid_379', 'returned_content': '<iframe src=\"https://ourworldindata.org/grapher/export-of-environmentally-sound-technologies?tab=map\" loading=\"lazy\" style=\"width: 100%; height: 600px; border: 0px none;\" allow=\"web-share; clipboard-write\"></iframe>', 'source': 'OWID', 'subtitle': 'Environmentally sound technologies (ESTs) are technologies that have the potential for significantly improved environmental performance relative to other technologies. This indicator shows the value of exported ESTs in current US-$.', 'url': 'https://ourworldindata.org/grapher/export-of-environmentally-sound-technologies', 'similarity_score': 0.9094709157943726, 'content': 'Export of environmentally sound technologies'}),\n",
       " Document(page_content='Net electricity imports as a share of electricity demand', metadata={'category': 'Electricity Mix', 'doc_id': 'owid_892', 'returned_content': '<iframe src=\"https://ourworldindata.org/grapher/electricity-imports-share-demand?tab=map\" loading=\"lazy\" style=\"width: 100%; height: 600px; border: 0px none;\" allow=\"web-share; clipboard-write\"></iframe>', 'source': 'OWID', 'subtitle': \"Net electricity imports are calculated as electricity imports minus exports. This is given as a share of a country's electricity demand. Countries with positive values are net importers of electricity; negative values are net exporters.\", 'url': 'https://ourworldindata.org/grapher/electricity-imports-share-demand', 'similarity_score': 0.9217978119850159, 'content': 'Net electricity imports as a share of electricity demand'}),\n",
       " Document(page_content='Net electricity imports as a share of electricity demand', metadata={'category': 'Energy', 'doc_id': 'owid_1020', 'returned_content': '<iframe src=\"https://ourworldindata.org/grapher/electricity-imports-share-demand?tab=map\" loading=\"lazy\" style=\"width: 100%; height: 600px; border: 0px none;\" allow=\"web-share; clipboard-write\"></iframe>', 'source': 'OWID', 'subtitle': \"Net electricity imports are calculated as electricity imports minus exports. This is given as a share of a country's electricity demand. Countries with positive values are net importers of electricity; negative values are net exporters.\", 'url': 'https://ourworldindata.org/grapher/electricity-imports-share-demand', 'similarity_score': 0.9217978119850159, 'content': 'Net electricity imports as a share of electricity demand'})]"
      ]
     },
     "execution_count": 22,
     "metadata": {},
     "output_type": "execute_result"
    }
   ],
   "source": [
    "retriever.invoke(\"hydrogen import evolutions\")"
   ]
  },
  {
   "cell_type": "markdown",
   "metadata": {},
   "source": [
    "### 3.2 Retriever node"
   ]
  },
  {
   "cell_type": "code",
   "execution_count": 56,
   "metadata": {},
   "outputs": [],
   "source": [
    "import sys\n",
    "import os\n",
    "from contextlib import contextmanager\n",
    "\n",
    "from climateqa.engine.reranker import rerank_docs\n",
    "\n",
    "\n",
    "\n",
    "def divide_into_parts(target, parts):\n",
    "    # Base value for each part\n",
    "    base = target // parts\n",
    "    # Remainder to distribute\n",
    "    remainder = target % parts\n",
    "    # List to hold the result\n",
    "    result = []\n",
    "    \n",
    "    for i in range(parts):\n",
    "        if i < remainder:\n",
    "            # These parts get base value + 1\n",
    "            result.append(base + 1)\n",
    "        else:\n",
    "            # The rest get the base value\n",
    "            result.append(base)\n",
    "    \n",
    "    return result\n",
    "\n",
    "\n",
    "@contextmanager\n",
    "def suppress_output():\n",
    "    # Open a null device\n",
    "    with open(os.devnull, 'w') as devnull:\n",
    "        # Store the original stdout and stderr\n",
    "        old_stdout = sys.stdout\n",
    "        old_stderr = sys.stderr\n",
    "        # Redirect stdout and stderr to the null device\n",
    "        sys.stdout = devnull\n",
    "        sys.stderr = devnull\n",
    "        try:\n",
    "            yield\n",
    "        finally:\n",
    "            # Restore stdout and stderr\n",
    "            sys.stdout = old_stdout\n",
    "            sys.stderr = old_stderr\n",
    "\n",
    "\n",
    "def make_graph_retriever_node(vectorstore, reranker, rerank_by_question=True, k_final=15, k_before_reranking=100):\n",
    "\n",
    "        def retrieve_graphs(state):\n",
    "            print(\"---- Retrieving graphs ----\")\n",
    "            \n",
    "            POSSIBLE_SOURCES = [\"IEA\", \"OWID\"]\n",
    "            questions = state[\"questions\"]\n",
    "            sources_input = state[\"sources_input\"]\n",
    "\n",
    "            auto_mode = \"auto\" in sources_input\n",
    "\n",
    "            # There are several options to get the final top k\n",
    "            # Option 1 - Get 100 documents by question and rerank by question\n",
    "            # Option 2 - Get 100/n documents by question and rerank the total\n",
    "            if rerank_by_question:\n",
    "                k_by_question = divide_into_parts(k_final,len(questions))\n",
    "            \n",
    "            docs = []\n",
    "            \n",
    "            for i,q in enumerate(questions):\n",
    "                \n",
    "                sources = q[\"sources\"]\n",
    "                question = q[\"question\"]\n",
    "                \n",
    "                # Sert à rien pour l'instant puisqu'on a auto par défaut et qu'on fait pas de query transformation sur les sources de graphs donc on est toujours en mode auto\n",
    "                # If auto mode, we use the sources detected by the LLM\n",
    "                if auto_mode:\n",
    "                    sources = [x for x in sources if x in POSSIBLE_SOURCES]\n",
    "                # Otherwise, we use the config\n",
    "                else:\n",
    "                    sources = sources_input\n",
    "\n",
    "                if any([x in POSSIBLE_SOURCES for x in sources]):\n",
    "\n",
    "                    sources = [x for x in sources if x in POSSIBLE_SOURCES]\n",
    "                    \n",
    "                    # Search the document store using the retriever\n",
    "                    retriever = GraphRetriever(\n",
    "                        vectorstore = vectorstore,\n",
    "                        sources = sources,\n",
    "                        k_total = k_before_reranking,\n",
    "                        threshold = 0.5,\n",
    "                        )\n",
    "                    docs_question = retriever.get_relevant_documents(question)\n",
    "\n",
    "                    print(f\"Docs retrieved: {docs_question}\")\n",
    "                    \n",
    "                    # Rerank\n",
    "                    if reranker is not None:\n",
    "                        with suppress_output():\n",
    "                            docs_question = rerank_docs(reranker,docs_question,question)\n",
    "                    else:\n",
    "                        # Add a default reranking score\n",
    "                        for doc in docs_question:\n",
    "                            # doc.metadata[\"reranking_score\"] = doc.metadata[\"similarity_score\"]\n",
    "                            doc.metadata[\"reranking_score\"] = \"No reranking\"\n",
    "                        \n",
    "                    # If rerank by question we select the top documents for each question\n",
    "                    if rerank_by_question:\n",
    "                        docs_question = docs_question[:k_by_question[i]]\n",
    "                        \n",
    "                    # Add sources used in the metadata\n",
    "                    for doc in docs_question:\n",
    "                        doc.metadata[\"sources_used\"] = sources\n",
    "                    \n",
    "                    # Add to the list of docs\n",
    "                    docs.extend(docs_question)\n",
    "                    \n",
    "                # Sorting the list in descending order by rerank_score\n",
    "                # Then select the top k\n",
    "                docs = sorted(docs, key=lambda x: x.metadata[\"reranking_score\"], reverse=True)\n",
    "                docs = docs[:k_final]\n",
    "\n",
    "            return {\"recommended_content\": docs}\n",
    "        \n",
    "        return retrieve_graphs"
   ]
  },
  {
   "cell_type": "code",
   "execution_count": 26,
   "metadata": {},
   "outputs": [],
   "source": [
    "# import sys\n",
    "# import os\n",
    "# from contextlib import contextmanager\n",
    "\n",
    "# from climateqa.engine.reranker import rerank_docs\n",
    "\n",
    "\n",
    "# def divide_into_parts(target, parts):\n",
    "#     # Base value for each part\n",
    "#     base = target // parts\n",
    "#     # Remainder to distribute\n",
    "#     remainder = target % parts\n",
    "#     # List to hold the result\n",
    "#     result = []\n",
    "    \n",
    "#     for i in range(parts):\n",
    "#         if i < remainder:\n",
    "#             # These parts get base value + 1\n",
    "#             result.append(base + 1)\n",
    "#         else:\n",
    "#             # The rest get the base value\n",
    "#             result.append(base)\n",
    "    \n",
    "#     return result\n",
    "\n",
    "\n",
    "# @contextmanager\n",
    "# def suppress_output():\n",
    "#     # Open a null device\n",
    "#     with open(os.devnull, 'w') as devnull:\n",
    "#         # Store the original stdout and stderr\n",
    "#         old_stdout = sys.stdout\n",
    "#         old_stderr = sys.stderr\n",
    "#         # Redirect stdout and stderr to the null device\n",
    "#         sys.stdout = devnull\n",
    "#         sys.stderr = devnull\n",
    "#         try:\n",
    "#             yield\n",
    "#         finally:\n",
    "#             # Restore stdout and stderr\n",
    "#             sys.stdout = old_stdout\n",
    "#             sys.stderr = old_stderr\n",
    "\n",
    "\n",
    "\n",
    "# def make_retriever_node(vectorstore, reranker, rerank_by_question=True, k_final=15, k_before_reranking=100):\n",
    "\n",
    "#     def retrieve_documents(state):\n",
    "        \n",
    "#         POSSIBLE_SOURCES = [\"IEA\",\"OWID\"]\n",
    "#         questions = state[\"questions\"]\n",
    "#         sources_input = state[\"sources_input\"]\n",
    "        \n",
    "#         # Sert à rien pour l'instant puisqu'on a des valeurs par défaut et qu'on fait pas de query transformation sur les sources de graphs\n",
    "#         # Use sources from the user input or from the LLM detection\n",
    "#         if \"sources_input\" not in state or state[\"sources_input\"] is None:\n",
    "#             sources_input = [\"auto\"]\n",
    "#         else:\n",
    "#             sources_input = state[\"sources_input\"]\n",
    "#         auto_mode = \"auto\" in sources_input\n",
    "\n",
    "#         # There are several options to get the final top k\n",
    "#         # Option 1 - Get 100 documents by question and rerank by question\n",
    "#         # Option 2 - Get 100/n documents by question and rerank the total\n",
    "#         if rerank_by_question:\n",
    "#             k_by_question = divide_into_parts(k_final,len(questions))\n",
    "        \n",
    "#         docs = []\n",
    "        \n",
    "#         for i,q in enumerate(questions):\n",
    "            \n",
    "#             sources = q[\"sources\"]\n",
    "#             question = q[\"question\"]\n",
    "            \n",
    "#             # If auto mode, we use the sources detected by the LLM\n",
    "#             if auto_mode:\n",
    "#                 sources = [x for x in sources if x in POSSIBLE_SOURCES]\n",
    "                \n",
    "#             # Otherwise, we use the config\n",
    "#             else:\n",
    "#                 sources = sources_input\n",
    "                \n",
    "#             # Search the document store using the retriever\n",
    "#             # Configure high top k for further reranking step\n",
    "#             retriever = GraphRetriever(\n",
    "#                 vectorstore=vectorstore,\n",
    "#                 sources = sources,\n",
    "#                 k_total = k_before_reranking,\n",
    "#                 threshold = 0.5,\n",
    "#                 )\n",
    "#             docs_question = retriever.get_relevant_documents(question)\n",
    "            \n",
    "#             # Rerank\n",
    "#             if reranker is not None:\n",
    "#                 with suppress_output():\n",
    "#                     docs_question = rerank_docs(reranker,docs_question,question)\n",
    "#             else:\n",
    "#                 # Add a default reranking score\n",
    "#                 for doc in docs_question:\n",
    "#                     # doc.metadata[\"reranking_score\"] = doc.metadata[\"similarity_score\"]\n",
    "#                     doc.metadata[\"reranking_score\"] = \"No reranking\"\n",
    "                \n",
    "#             # If rerank by question we select the top documents for each question\n",
    "#             if rerank_by_question:\n",
    "#                 docs_question = docs_question[:k_by_question[i]]\n",
    "                \n",
    "#             # Add sources used in the metadata\n",
    "#             for doc in docs_question:\n",
    "#                 doc.metadata[\"sources_used\"] = sources\n",
    "            \n",
    "#             # Add to the list of docs\n",
    "#             docs.extend(docs_question)\n",
    "            \n",
    "#         # Sorting the list in descending order by rerank_score\n",
    "#         # Then select the top k\n",
    "#         docs = sorted(docs, key=lambda x: x.metadata[\"reranking_score\"], reverse=True)\n",
    "#         docs = docs[:k_final]\n",
    "        \n",
    "#         new_state = {\"documents\": docs}\n",
    "#         return new_state\n",
    "    \n",
    "#     return retrieve_documents"
   ]
  },
  {
   "cell_type": "markdown",
   "metadata": {},
   "source": [
    "## 4. Graph"
   ]
  },
  {
   "cell_type": "markdown",
   "metadata": {},
   "source": [
    "### 4.1 Make graph agent"
   ]
  },
  {
   "cell_type": "code",
   "execution_count": 66,
   "metadata": {},
   "outputs": [],
   "source": [
    "import sys\n",
    "import os\n",
    "from contextlib import contextmanager\n",
    "\n",
    "from langchain.schema import Document\n",
    "from langgraph.graph import END, StateGraph\n",
    "from langchain_core.runnables.graph import CurveStyle, NodeColors, MermaidDrawMethod\n",
    "\n",
    "from typing_extensions import TypedDict\n",
    "from typing import List\n",
    "\n",
    "from IPython.display import display, HTML, Image\n",
    "\n",
    "from climateqa.engine.chains.answer_chitchat import make_chitchat_node\n",
    "from climateqa.engine.chains.answer_ai_impact import make_ai_impact_node\n",
    "from climateqa.engine.chains.query_transformation import make_query_transform_node\n",
    "from climateqa.engine.chains.translation import make_translation_node\n",
    "from climateqa.engine.chains.intent_categorization import make_intent_categorization_node\n",
    "from climateqa.engine.chains.retriever import make_retriever_node\n",
    "from climateqa.engine.chains.answer_rag import make_rag_node\n",
    "from climateqa.engine.chains.set_defaults import set_defaults\n",
    "\n",
    "\n",
    "class GraphState(TypedDict):\n",
    "    \"\"\"\n",
    "    Represents the state of our graph.\n",
    "    \"\"\"\n",
    "    user_input : str\n",
    "    language : str\n",
    "    intent : str\n",
    "    query: str\n",
    "    questions : List[dict]\n",
    "    answer: str\n",
    "    audience: str\n",
    "    sources_input: List[str]\n",
    "    documents: List[Document]\n",
    "    recommended_content : List[Document]\n",
    "\n",
    "def search(state):\n",
    "    return {}\n",
    "\n",
    "def route_intent(state):\n",
    "    intent = state[\"intent\"]\n",
    "    if intent in [\"chitchat\",\"esg\"]:\n",
    "        return \"answer_chitchat\"\n",
    "    elif intent == \"ai_impact\":\n",
    "        return \"answer_ai_impact\"\n",
    "    else:\n",
    "        # Search route\n",
    "        return \"search\"\n",
    "    \n",
    "def route_translation(state):\n",
    "    if state[\"language\"].lower() == \"english\":\n",
    "        return \"transform_query\"\n",
    "    else:\n",
    "        return \"translate_query\"\n",
    "    \n",
    "def route_based_on_relevant_docs(state,threshold_docs=0.2):\n",
    "    docs = [x for x in state[\"documents\"] if x.metadata[\"reranking_score\"] > threshold_docs]\n",
    "    if len(docs) > 0:\n",
    "        return \"answer_rag\"\n",
    "    else:\n",
    "        return \"answer_rag_no_docs\"\n",
    "    \n",
    "\n",
    "def make_id_dict(values):\n",
    "    return {k:k for k in values}\n",
    "\n",
    "def make_graph_agent(llm, vectorstore_ipcc, vectorstore_graphs, reranker, threshold_docs=0.2):\n",
    "    \n",
    "    workflow = StateGraph(GraphState)\n",
    "\n",
    "    # Define the node functions\n",
    "    categorize_intent = make_intent_categorization_node(llm)\n",
    "    transform_query = make_query_transform_node(llm)\n",
    "    translate_query = make_translation_node(llm)\n",
    "    answer_chitchat = make_chitchat_node(llm)\n",
    "    answer_ai_impact = make_ai_impact_node(llm)\n",
    "    retrieve_documents = make_retriever_node(vectorstore_ipcc, reranker)\n",
    "    retrieve_graphs = make_graph_retriever_node(vectorstore_graphs, reranker)\n",
    "    answer_rag = make_rag_node(llm, with_docs=True)\n",
    "    answer_rag_no_docs = make_rag_node(llm, with_docs=False)\n",
    "\n",
    "    # Define the nodes\n",
    "    workflow.add_node(\"set_defaults\", set_defaults)\n",
    "    workflow.add_node(\"categorize_intent\", categorize_intent)\n",
    "    workflow.add_node(\"search\", search)\n",
    "    workflow.add_node(\"transform_query\", transform_query)\n",
    "    workflow.add_node(\"translate_query\", translate_query)\n",
    "    workflow.add_node(\"answer_chitchat\", answer_chitchat)\n",
    "    workflow.add_node(\"answer_ai_impact\", answer_ai_impact)\n",
    "    workflow.add_node(\"retrieve_graphs\", retrieve_graphs)\n",
    "    workflow.add_node(\"retrieve_documents\", retrieve_documents)\n",
    "    workflow.add_node(\"answer_rag\", answer_rag)\n",
    "    workflow.add_node(\"answer_rag_no_docs\", answer_rag_no_docs)\n",
    "\n",
    "    # Entry point\n",
    "    workflow.set_entry_point(\"set_defaults\")\n",
    "\n",
    "    # CONDITIONAL EDGES\n",
    "    workflow.add_conditional_edges(\n",
    "        \"categorize_intent\",\n",
    "        route_intent,\n",
    "        make_id_dict([\"answer_chitchat\",\"answer_ai_impact\",\"search\"])\n",
    "    )\n",
    "\n",
    "    workflow.add_conditional_edges(\n",
    "        \"search\",\n",
    "        route_translation,\n",
    "        make_id_dict([\"translate_query\",\"transform_query\"])\n",
    "    )\n",
    "\n",
    "    workflow.add_conditional_edges(\n",
    "        \"retrieve_documents\",\n",
    "        lambda x : route_based_on_relevant_docs(x,threshold_docs=threshold_docs),\n",
    "        make_id_dict([\"answer_rag\",\"answer_rag_no_docs\"])\n",
    "    )\n",
    "\n",
    "    # Define the edges\n",
    "    workflow.add_edge(\"set_defaults\", \"categorize_intent\")\n",
    "    workflow.add_edge(\"translate_query\", \"transform_query\")\n",
    "    workflow.add_edge(\"transform_query\", \"retrieve_graphs\")\n",
    "    workflow.add_edge(\"retrieve_graphs\", \"retrieve_documents\")\n",
    "    workflow.add_edge(\"answer_rag\", END)\n",
    "    workflow.add_edge(\"answer_rag_no_docs\", END)\n",
    "    workflow.add_edge(\"answer_chitchat\", END)\n",
    "    workflow.add_edge(\"answer_ai_impact\", END)\n",
    "\n",
    "    # Compile\n",
    "    app = workflow.compile()\n",
    "    return app\n",
    "\n",
    "\n",
    "\n",
    "\n",
    "def display_graph(app):\n",
    "\n",
    "    display(\n",
    "        Image(\n",
    "            app.get_graph(xray = True).draw_mermaid_png(\n",
    "                draw_method=MermaidDrawMethod.API,\n",
    "            )\n",
    "        )\n",
    "    )"
   ]
  },
  {
   "cell_type": "code",
   "execution_count": 67,
   "metadata": {},
   "outputs": [
    {
     "data": {
      "image/jpeg": "[encoded data removed]",
      "text/plain": [
       "<IPython.core.display.Image object>"
      ]
     },
     "metadata": {},
     "output_type": "display_data"
    }
   ],
   "source": [
    "app = make_graph_agent(llm=llm, vectorstore_ipcc=vectorstore, vectorstore_graphs=vectorstore_graphs, reranker=reranker)\n",
    "display_graph(app)"
   ]
  },
  {
   "cell_type": "markdown",
   "metadata": {},
   "source": [
    "### 4.2 Testing graph agent"
   ]
  },
  {
   "cell_type": "code",
   "execution_count": 68,
   "metadata": {},
   "outputs": [
    {
     "name": "stdout",
     "output_type": "stream",
     "text": [
      "---- Setting defaults ----\n"
     ]
    },
    {
     "name": "stderr",
     "output_type": "stream",
     "text": [
      "INFO:httpx:HTTP Request: POST https://api.openai.com/v1/chat/completions \"HTTP/1.1 200 OK\"\n",
      "INFO:httpx:HTTP Request: POST https://api.openai.com/v1/chat/completions \"HTTP/1.1 200 OK\"\n",
      "INFO:httpx:HTTP Request: POST https://api.openai.com/v1/chat/completions \"HTTP/1.1 200 OK\"\n",
      "INFO:httpx:HTTP Request: POST https://api.openai.com/v1/chat/completions \"HTTP/1.1 200 OK\"\n",
      "INFO:httpx:HTTP Request: POST https://api.openai.com/v1/chat/completions \"HTTP/1.1 200 OK\"\n"
     ]
    },
    {
     "name": "stdout",
     "output_type": "stream",
     "text": [
      "---- Retrieving graphs ----\n",
      "['OpenAlex']\n"
     ]
    },
    {
     "ename": "AssertionError",
     "evalue": "",
     "output_type": "error",
     "traceback": [
      "\u001b[0;31m---------------------------------------------------------------------------\u001b[0m",
      "\u001b[0;31mAssertionError\u001b[0m                            Traceback (most recent call last)",
      "Cell \u001b[0;32mIn[68], line 1\u001b[0m\n\u001b[0;32m----> 1\u001b[0m output \u001b[38;5;241m=\u001b[39m \u001b[38;5;28;01mawait\u001b[39;00m app\u001b[38;5;241m.\u001b[39mainvoke({\u001b[38;5;124m\"\u001b[39m\u001b[38;5;124muser_input\u001b[39m\u001b[38;5;124m\"\u001b[39m: \u001b[38;5;124m\"\u001b[39m\u001b[38;5;124mWhat are hydrogen imports?\u001b[39m\u001b[38;5;124m\"\u001b[39m})\n\u001b[1;32m      2\u001b[0m output\n",
      "File \u001b[0;32m~/anaconda3/envs/climateqa_huggingface/lib/python3.12/site-packages/langgraph/pregel/__init__.py:1389\u001b[0m, in \u001b[0;36mPregel.ainvoke\u001b[0;34m(self, input, config, stream_mode, output_keys, input_keys, interrupt_before, interrupt_after, debug, **kwargs)\u001b[0m\n\u001b[1;32m   1387\u001b[0m \u001b[38;5;28;01melse\u001b[39;00m:\n\u001b[1;32m   1388\u001b[0m     chunks \u001b[38;5;241m=\u001b[39m []\n\u001b[0;32m-> 1389\u001b[0m \u001b[38;5;28;01masync\u001b[39;00m \u001b[38;5;28;01mfor\u001b[39;00m chunk \u001b[38;5;129;01min\u001b[39;00m \u001b[38;5;28mself\u001b[39m\u001b[38;5;241m.\u001b[39mastream(\n\u001b[1;32m   1390\u001b[0m     \u001b[38;5;28minput\u001b[39m,\n\u001b[1;32m   1391\u001b[0m     config,\n\u001b[1;32m   1392\u001b[0m     stream_mode\u001b[38;5;241m=\u001b[39mstream_mode,\n\u001b[1;32m   1393\u001b[0m     output_keys\u001b[38;5;241m=\u001b[39moutput_keys,\n\u001b[1;32m   1394\u001b[0m     input_keys\u001b[38;5;241m=\u001b[39minput_keys,\n\u001b[1;32m   1395\u001b[0m     interrupt_before\u001b[38;5;241m=\u001b[39minterrupt_before,\n\u001b[1;32m   1396\u001b[0m     interrupt_after\u001b[38;5;241m=\u001b[39minterrupt_after,\n\u001b[1;32m   1397\u001b[0m     debug\u001b[38;5;241m=\u001b[39mdebug,\n\u001b[1;32m   1398\u001b[0m     \u001b[38;5;241m*\u001b[39m\u001b[38;5;241m*\u001b[39mkwargs,\n\u001b[1;32m   1399\u001b[0m ):\n\u001b[1;32m   1400\u001b[0m     \u001b[38;5;28;01mif\u001b[39;00m stream_mode \u001b[38;5;241m==\u001b[39m \u001b[38;5;124m\"\u001b[39m\u001b[38;5;124mvalues\u001b[39m\u001b[38;5;124m\"\u001b[39m:\n\u001b[1;32m   1401\u001b[0m         latest \u001b[38;5;241m=\u001b[39m chunk\n",
      "File \u001b[0;32m~/anaconda3/envs/climateqa_huggingface/lib/python3.12/site-packages/langgraph/pregel/__init__.py:1296\u001b[0m, in \u001b[0;36mPregel.astream\u001b[0;34m(self, input, config, stream_mode, output_keys, input_keys, interrupt_before, interrupt_after, debug)\u001b[0m\n\u001b[1;32m   1294\u001b[0m     \u001b[38;5;28;01mpass\u001b[39;00m\n\u001b[1;32m   1295\u001b[0m \u001b[38;5;66;03m# wait for all background tasks to finish\u001b[39;00m\n\u001b[0;32m-> 1296\u001b[0m \u001b[38;5;28;01mawait\u001b[39;00m asyncio\u001b[38;5;241m.\u001b[39mgather(\u001b[38;5;241m*\u001b[39mbg)\n",
      "File \u001b[0;32m~/anaconda3/envs/climateqa_huggingface/lib/python3.12/site-packages/langgraph/pregel/__init__.py:1179\u001b[0m, in \u001b[0;36mPregel.astream\u001b[0;34m(self, input, config, stream_mode, output_keys, input_keys, interrupt_before, interrupt_after, debug)\u001b[0m\n\u001b[1;32m   1172\u001b[0m done, inflight \u001b[38;5;241m=\u001b[39m \u001b[38;5;28;01mawait\u001b[39;00m asyncio\u001b[38;5;241m.\u001b[39mwait(\n\u001b[1;32m   1173\u001b[0m     futures,\n\u001b[1;32m   1174\u001b[0m     return_when\u001b[38;5;241m=\u001b[39masyncio\u001b[38;5;241m.\u001b[39mFIRST_EXCEPTION,\n\u001b[1;32m   1175\u001b[0m     timeout\u001b[38;5;241m=\u001b[39m\u001b[38;5;28mself\u001b[39m\u001b[38;5;241m.\u001b[39mstep_timeout,\n\u001b[1;32m   1176\u001b[0m )\n\u001b[1;32m   1178\u001b[0m \u001b[38;5;66;03m# panic on failure or timeout\u001b[39;00m\n\u001b[0;32m-> 1179\u001b[0m \u001b[43m_panic_or_proceed\u001b[49m\u001b[43m(\u001b[49m\u001b[43mdone\u001b[49m\u001b[43m,\u001b[49m\u001b[43m \u001b[49m\u001b[43minflight\u001b[49m\u001b[43m,\u001b[49m\u001b[43m \u001b[49m\u001b[43mstep\u001b[49m\u001b[43m)\u001b[49m\n\u001b[1;32m   1181\u001b[0m \u001b[38;5;66;03m# combine pending writes from all tasks\u001b[39;00m\n\u001b[1;32m   1182\u001b[0m pending_writes \u001b[38;5;241m=\u001b[39m deque[\u001b[38;5;28mtuple\u001b[39m[\u001b[38;5;28mstr\u001b[39m, Any]]()\n",
      "File \u001b[0;32m~/anaconda3/envs/climateqa_huggingface/lib/python3.12/site-packages/langgraph/pregel/__init__.py:1422\u001b[0m, in \u001b[0;36m_panic_or_proceed\u001b[0;34m(done, inflight, step)\u001b[0m\n\u001b[1;32m   1420\u001b[0m             inflight\u001b[38;5;241m.\u001b[39mpop()\u001b[38;5;241m.\u001b[39mcancel()\n\u001b[1;32m   1421\u001b[0m         \u001b[38;5;66;03m# raise the exception\u001b[39;00m\n\u001b[0;32m-> 1422\u001b[0m         \u001b[38;5;28;01mraise\u001b[39;00m exc\n\u001b[1;32m   1424\u001b[0m \u001b[38;5;28;01mif\u001b[39;00m inflight:\n\u001b[1;32m   1425\u001b[0m     \u001b[38;5;66;03m# if we got here means we timed out\u001b[39;00m\n\u001b[1;32m   1426\u001b[0m     \u001b[38;5;28;01mwhile\u001b[39;00m inflight:\n\u001b[1;32m   1427\u001b[0m         \u001b[38;5;66;03m# cancel all pending tasks\u001b[39;00m\n",
      "File \u001b[0;32m~/anaconda3/envs/climateqa_huggingface/lib/python3.12/site-packages/langgraph/pregel/retry.py:114\u001b[0m, in \u001b[0;36marun_with_retry\u001b[0;34m(task, retry_policy, stream)\u001b[0m\n\u001b[1;32m    112\u001b[0m         \u001b[38;5;28;01mpass\u001b[39;00m\n\u001b[1;32m    113\u001b[0m \u001b[38;5;28;01melse\u001b[39;00m:\n\u001b[0;32m--> 114\u001b[0m     \u001b[38;5;28;01mawait\u001b[39;00m task\u001b[38;5;241m.\u001b[39mproc\u001b[38;5;241m.\u001b[39mainvoke(task\u001b[38;5;241m.\u001b[39minput, task\u001b[38;5;241m.\u001b[39mconfig)\n\u001b[1;32m    115\u001b[0m \u001b[38;5;66;03m# if successful, end\u001b[39;00m\n\u001b[1;32m    116\u001b[0m \u001b[38;5;28;01mbreak\u001b[39;00m\n",
      "File \u001b[0;32m~/anaconda3/envs/climateqa_huggingface/lib/python3.12/site-packages/langchain_core/runnables/base.py:2430\u001b[0m, in \u001b[0;36mRunnableSequence.ainvoke\u001b[0;34m(self, input, config, **kwargs)\u001b[0m\n\u001b[1;32m   2428\u001b[0m \u001b[38;5;28;01mtry\u001b[39;00m:\n\u001b[1;32m   2429\u001b[0m     \u001b[38;5;28;01mfor\u001b[39;00m i, step \u001b[38;5;129;01min\u001b[39;00m \u001b[38;5;28menumerate\u001b[39m(\u001b[38;5;28mself\u001b[39m\u001b[38;5;241m.\u001b[39msteps):\n\u001b[0;32m-> 2430\u001b[0m         \u001b[38;5;28minput\u001b[39m \u001b[38;5;241m=\u001b[39m \u001b[38;5;28;01mawait\u001b[39;00m step\u001b[38;5;241m.\u001b[39mainvoke(\n\u001b[1;32m   2431\u001b[0m             \u001b[38;5;28minput\u001b[39m,\n\u001b[1;32m   2432\u001b[0m             \u001b[38;5;66;03m# mark each step as a child run\u001b[39;00m\n\u001b[1;32m   2433\u001b[0m             patch_config(\n\u001b[1;32m   2434\u001b[0m                 config, callbacks\u001b[38;5;241m=\u001b[39mrun_manager\u001b[38;5;241m.\u001b[39mget_child(\u001b[38;5;124mf\u001b[39m\u001b[38;5;124m\"\u001b[39m\u001b[38;5;124mseq:step:\u001b[39m\u001b[38;5;132;01m{\u001b[39;00mi\u001b[38;5;241m+\u001b[39m\u001b[38;5;241m1\u001b[39m\u001b[38;5;132;01m}\u001b[39;00m\u001b[38;5;124m\"\u001b[39m)\n\u001b[1;32m   2435\u001b[0m             ),\n\u001b[1;32m   2436\u001b[0m         )\n\u001b[1;32m   2437\u001b[0m \u001b[38;5;66;03m# finish the root run\u001b[39;00m\n\u001b[1;32m   2438\u001b[0m \u001b[38;5;28;01mexcept\u001b[39;00m \u001b[38;5;167;01mBaseException\u001b[39;00m \u001b[38;5;28;01mas\u001b[39;00m e:\n",
      "File \u001b[0;32m~/anaconda3/envs/climateqa_huggingface/lib/python3.12/site-packages/langgraph/utils.py:111\u001b[0m, in \u001b[0;36mRunnableCallable.ainvoke\u001b[0;34m(self, input, config)\u001b[0m\n\u001b[1;32m    105\u001b[0m kwargs \u001b[38;5;241m=\u001b[39m (\n\u001b[1;32m    106\u001b[0m     {\u001b[38;5;241m*\u001b[39m\u001b[38;5;241m*\u001b[39m\u001b[38;5;28mself\u001b[39m\u001b[38;5;241m.\u001b[39mkwargs, \u001b[38;5;124m\"\u001b[39m\u001b[38;5;124mconfig\u001b[39m\u001b[38;5;124m\"\u001b[39m: config}\n\u001b[1;32m    107\u001b[0m     \u001b[38;5;28;01mif\u001b[39;00m accepts_config(\u001b[38;5;28mself\u001b[39m\u001b[38;5;241m.\u001b[39mafunc)\n\u001b[1;32m    108\u001b[0m     \u001b[38;5;28;01melse\u001b[39;00m \u001b[38;5;28mself\u001b[39m\u001b[38;5;241m.\u001b[39mkwargs\n\u001b[1;32m    109\u001b[0m )\n\u001b[1;32m    110\u001b[0m \u001b[38;5;28;01mif\u001b[39;00m sys\u001b[38;5;241m.\u001b[39mversion_info \u001b[38;5;241m>\u001b[39m\u001b[38;5;241m=\u001b[39m (\u001b[38;5;241m3\u001b[39m, \u001b[38;5;241m11\u001b[39m):\n\u001b[0;32m--> 111\u001b[0m     ret \u001b[38;5;241m=\u001b[39m \u001b[38;5;28;01mawait\u001b[39;00m asyncio\u001b[38;5;241m.\u001b[39mcreate_task(\n\u001b[1;32m    112\u001b[0m         \u001b[38;5;28mself\u001b[39m\u001b[38;5;241m.\u001b[39mafunc(\u001b[38;5;28minput\u001b[39m, \u001b[38;5;241m*\u001b[39m\u001b[38;5;241m*\u001b[39mkwargs), context\u001b[38;5;241m=\u001b[39mcontext\n\u001b[1;32m    113\u001b[0m     )\n\u001b[1;32m    114\u001b[0m \u001b[38;5;28;01melse\u001b[39;00m:\n\u001b[1;32m    115\u001b[0m     ret \u001b[38;5;241m=\u001b[39m \u001b[38;5;28;01mawait\u001b[39;00m \u001b[38;5;28mself\u001b[39m\u001b[38;5;241m.\u001b[39mafunc(\u001b[38;5;28minput\u001b[39m, \u001b[38;5;241m*\u001b[39m\u001b[38;5;241m*\u001b[39mkwargs)\n",
      "File \u001b[0;32m~/anaconda3/envs/climateqa_huggingface/lib/python3.12/site-packages/langchain_core/runnables/config.py:513\u001b[0m, in \u001b[0;36mrun_in_executor\u001b[0;34m(executor_or_config, func, *args, **kwargs)\u001b[0m\n\u001b[1;32m    500\u001b[0m \u001b[38;5;250m\u001b[39m\u001b[38;5;124;03m\"\"\"Run a function in an executor.\u001b[39;00m\n\u001b[1;32m    501\u001b[0m \n\u001b[1;32m    502\u001b[0m \u001b[38;5;124;03mArgs:\u001b[39;00m\n\u001b[0;32m   (...)\u001b[0m\n\u001b[1;32m    509\u001b[0m \u001b[38;5;124;03m    Output: The output of the function.\u001b[39;00m\n\u001b[1;32m    510\u001b[0m \u001b[38;5;124;03m\"\"\"\u001b[39;00m\n\u001b[1;32m    511\u001b[0m \u001b[38;5;28;01mif\u001b[39;00m executor_or_config \u001b[38;5;129;01mis\u001b[39;00m \u001b[38;5;28;01mNone\u001b[39;00m \u001b[38;5;129;01mor\u001b[39;00m \u001b[38;5;28misinstance\u001b[39m(executor_or_config, \u001b[38;5;28mdict\u001b[39m):\n\u001b[1;32m    512\u001b[0m     \u001b[38;5;66;03m# Use default executor with context copied from current context\u001b[39;00m\n\u001b[0;32m--> 513\u001b[0m     \u001b[38;5;28;01mreturn\u001b[39;00m \u001b[38;5;28;01mawait\u001b[39;00m asyncio\u001b[38;5;241m.\u001b[39mget_running_loop()\u001b[38;5;241m.\u001b[39mrun_in_executor(\n\u001b[1;32m    514\u001b[0m         \u001b[38;5;28;01mNone\u001b[39;00m,\n\u001b[1;32m    515\u001b[0m         cast(Callable[\u001b[38;5;241m.\u001b[39m\u001b[38;5;241m.\u001b[39m\u001b[38;5;241m.\u001b[39m, T], partial(copy_context()\u001b[38;5;241m.\u001b[39mrun, func, \u001b[38;5;241m*\u001b[39margs, \u001b[38;5;241m*\u001b[39m\u001b[38;5;241m*\u001b[39mkwargs)),\n\u001b[1;32m    516\u001b[0m     )\n\u001b[1;32m    518\u001b[0m \u001b[38;5;28;01mreturn\u001b[39;00m \u001b[38;5;28;01mawait\u001b[39;00m asyncio\u001b[38;5;241m.\u001b[39mget_running_loop()\u001b[38;5;241m.\u001b[39mrun_in_executor(\n\u001b[1;32m    519\u001b[0m     executor_or_config, partial(func, \u001b[38;5;241m*\u001b[39m\u001b[38;5;241m*\u001b[39mkwargs), \u001b[38;5;241m*\u001b[39margs\n\u001b[1;32m    520\u001b[0m )\n",
      "File \u001b[0;32m~/anaconda3/envs/climateqa_huggingface/lib/python3.12/concurrent/futures/thread.py:58\u001b[0m, in \u001b[0;36m_WorkItem.run\u001b[0;34m(self)\u001b[0m\n\u001b[1;32m     55\u001b[0m     \u001b[38;5;28;01mreturn\u001b[39;00m\n\u001b[1;32m     57\u001b[0m \u001b[38;5;28;01mtry\u001b[39;00m:\n\u001b[0;32m---> 58\u001b[0m     result \u001b[38;5;241m=\u001b[39m \u001b[38;5;28;43mself\u001b[39;49m\u001b[38;5;241;43m.\u001b[39;49m\u001b[43mfn\u001b[49m\u001b[43m(\u001b[49m\u001b[38;5;241;43m*\u001b[39;49m\u001b[38;5;28;43mself\u001b[39;49m\u001b[38;5;241;43m.\u001b[39;49m\u001b[43margs\u001b[49m\u001b[43m,\u001b[49m\u001b[43m \u001b[49m\u001b[38;5;241;43m*\u001b[39;49m\u001b[38;5;241;43m*\u001b[39;49m\u001b[38;5;28;43mself\u001b[39;49m\u001b[38;5;241;43m.\u001b[39;49m\u001b[43mkwargs\u001b[49m\u001b[43m)\u001b[49m\n\u001b[1;32m     59\u001b[0m \u001b[38;5;28;01mexcept\u001b[39;00m \u001b[38;5;167;01mBaseException\u001b[39;00m \u001b[38;5;28;01mas\u001b[39;00m exc:\n\u001b[1;32m     60\u001b[0m     \u001b[38;5;28mself\u001b[39m\u001b[38;5;241m.\u001b[39mfuture\u001b[38;5;241m.\u001b[39mset_exception(exc)\n",
      "File \u001b[0;32m~/climate-question-answering/climateqa/engine/chains/retriever.py:93\u001b[0m, in \u001b[0;36mmake_retriever_node.<locals>.retrieve_documents\u001b[0;34m(state)\u001b[0m\n\u001b[1;32m     83\u001b[0m \u001b[38;5;66;03m# Search the document store using the retriever\u001b[39;00m\n\u001b[1;32m     84\u001b[0m \u001b[38;5;66;03m# Configure high top k for further reranking step\u001b[39;00m\n\u001b[1;32m     85\u001b[0m retriever \u001b[38;5;241m=\u001b[39m ClimateQARetriever(\n\u001b[1;32m     86\u001b[0m     vectorstore\u001b[38;5;241m=\u001b[39mvectorstore,\n\u001b[1;32m     87\u001b[0m     sources \u001b[38;5;241m=\u001b[39m sources,\n\u001b[0;32m   (...)\u001b[0m\n\u001b[1;32m     91\u001b[0m threshold \u001b[38;5;241m=\u001b[39m \u001b[38;5;241m0.5\u001b[39m,\n\u001b[1;32m     92\u001b[0m )\n\u001b[0;32m---> 93\u001b[0m docs_question \u001b[38;5;241m=\u001b[39m \u001b[43mretriever\u001b[49m\u001b[38;5;241;43m.\u001b[39;49m\u001b[43mget_relevant_documents\u001b[49m\u001b[43m(\u001b[49m\u001b[43mquestion\u001b[49m\u001b[43m)\u001b[49m\n\u001b[1;32m     95\u001b[0m \u001b[38;5;66;03m# Rerank\u001b[39;00m\n\u001b[1;32m     96\u001b[0m \u001b[38;5;28;01mif\u001b[39;00m reranker \u001b[38;5;129;01mis\u001b[39;00m \u001b[38;5;129;01mnot\u001b[39;00m \u001b[38;5;28;01mNone\u001b[39;00m:\n",
      "File \u001b[0;32m~/anaconda3/envs/climateqa_huggingface/lib/python3.12/site-packages/langchain_core/_api/deprecation.py:148\u001b[0m, in \u001b[0;36mdeprecated.<locals>.deprecate.<locals>.warning_emitting_wrapper\u001b[0;34m(*args, **kwargs)\u001b[0m\n\u001b[1;32m    146\u001b[0m     warned \u001b[38;5;241m=\u001b[39m \u001b[38;5;28;01mTrue\u001b[39;00m\n\u001b[1;32m    147\u001b[0m     emit_warning()\n\u001b[0;32m--> 148\u001b[0m \u001b[38;5;28;01mreturn\u001b[39;00m \u001b[43mwrapped\u001b[49m\u001b[43m(\u001b[49m\u001b[38;5;241;43m*\u001b[39;49m\u001b[43margs\u001b[49m\u001b[43m,\u001b[49m\u001b[43m \u001b[49m\u001b[38;5;241;43m*\u001b[39;49m\u001b[38;5;241;43m*\u001b[39;49m\u001b[43mkwargs\u001b[49m\u001b[43m)\u001b[49m\n",
      "File \u001b[0;32m~/anaconda3/envs/climateqa_huggingface/lib/python3.12/site-packages/langchain_core/retrievers.py:323\u001b[0m, in \u001b[0;36mBaseRetriever.get_relevant_documents\u001b[0;34m(self, query, callbacks, tags, metadata, run_name, **kwargs)\u001b[0m\n\u001b[1;32m    321\u001b[0m \u001b[38;5;28;01mexcept\u001b[39;00m \u001b[38;5;167;01mException\u001b[39;00m \u001b[38;5;28;01mas\u001b[39;00m e:\n\u001b[1;32m    322\u001b[0m     run_manager\u001b[38;5;241m.\u001b[39mon_retriever_error(e)\n\u001b[0;32m--> 323\u001b[0m     \u001b[38;5;28;01mraise\u001b[39;00m e\n\u001b[1;32m    324\u001b[0m \u001b[38;5;28;01melse\u001b[39;00m:\n\u001b[1;32m    325\u001b[0m     run_manager\u001b[38;5;241m.\u001b[39mon_retriever_end(\n\u001b[1;32m    326\u001b[0m         result,\n\u001b[1;32m    327\u001b[0m     )\n",
      "File \u001b[0;32m~/anaconda3/envs/climateqa_huggingface/lib/python3.12/site-packages/langchain_core/retrievers.py:316\u001b[0m, in \u001b[0;36mBaseRetriever.get_relevant_documents\u001b[0;34m(self, query, callbacks, tags, metadata, run_name, **kwargs)\u001b[0m\n\u001b[1;32m    314\u001b[0m _kwargs \u001b[38;5;241m=\u001b[39m kwargs \u001b[38;5;28;01mif\u001b[39;00m \u001b[38;5;28mself\u001b[39m\u001b[38;5;241m.\u001b[39m_expects_other_args \u001b[38;5;28;01melse\u001b[39;00m {}\n\u001b[1;32m    315\u001b[0m \u001b[38;5;28;01mif\u001b[39;00m \u001b[38;5;28mself\u001b[39m\u001b[38;5;241m.\u001b[39m_new_arg_supported:\n\u001b[0;32m--> 316\u001b[0m     result \u001b[38;5;241m=\u001b[39m \u001b[38;5;28;43mself\u001b[39;49m\u001b[38;5;241;43m.\u001b[39;49m\u001b[43m_get_relevant_documents\u001b[49m\u001b[43m(\u001b[49m\n\u001b[1;32m    317\u001b[0m \u001b[43m        \u001b[49m\u001b[43mquery\u001b[49m\u001b[43m,\u001b[49m\u001b[43m \u001b[49m\u001b[43mrun_manager\u001b[49m\u001b[38;5;241;43m=\u001b[39;49m\u001b[43mrun_manager\u001b[49m\u001b[43m,\u001b[49m\u001b[43m \u001b[49m\u001b[38;5;241;43m*\u001b[39;49m\u001b[38;5;241;43m*\u001b[39;49m\u001b[43m_kwargs\u001b[49m\n\u001b[1;32m    318\u001b[0m \u001b[43m    \u001b[49m\u001b[43m)\u001b[49m\n\u001b[1;32m    319\u001b[0m \u001b[38;5;28;01melse\u001b[39;00m:\n\u001b[1;32m    320\u001b[0m     result \u001b[38;5;241m=\u001b[39m \u001b[38;5;28mself\u001b[39m\u001b[38;5;241m.\u001b[39m_get_relevant_documents(query, \u001b[38;5;241m*\u001b[39m\u001b[38;5;241m*\u001b[39m_kwargs)\n",
      "File \u001b[0;32m~/climate-question-answering/climateqa/engine/retriever.py:32\u001b[0m, in \u001b[0;36mClimateQARetriever._get_relevant_documents\u001b[0;34m(self, query, run_manager)\u001b[0m\n\u001b[1;32m     30\u001b[0m \u001b[38;5;28;01massert\u001b[39;00m \u001b[38;5;28misinstance\u001b[39m(\u001b[38;5;28mself\u001b[39m\u001b[38;5;241m.\u001b[39msources,\u001b[38;5;28mlist\u001b[39m)\n\u001b[1;32m     31\u001b[0m \u001b[38;5;28mprint\u001b[39m(\u001b[38;5;28mself\u001b[39m\u001b[38;5;241m.\u001b[39msources)\n\u001b[0;32m---> 32\u001b[0m \u001b[38;5;28;01massert\u001b[39;00m \u001b[38;5;28many\u001b[39m([x \u001b[38;5;129;01min\u001b[39;00m [\u001b[38;5;124m\"\u001b[39m\u001b[38;5;124mIPCC\u001b[39m\u001b[38;5;124m\"\u001b[39m,\u001b[38;5;124m\"\u001b[39m\u001b[38;5;124mIPBES\u001b[39m\u001b[38;5;124m\"\u001b[39m,\u001b[38;5;124m\"\u001b[39m\u001b[38;5;124mIPOS\u001b[39m\u001b[38;5;124m\"\u001b[39m] \u001b[38;5;28;01mfor\u001b[39;00m x \u001b[38;5;129;01min\u001b[39;00m \u001b[38;5;28mself\u001b[39m\u001b[38;5;241m.\u001b[39msources])\n\u001b[1;32m     33\u001b[0m \u001b[38;5;28;01massert\u001b[39;00m \u001b[38;5;28mself\u001b[39m\u001b[38;5;241m.\u001b[39mk_total \u001b[38;5;241m>\u001b[39m \u001b[38;5;28mself\u001b[39m\u001b[38;5;241m.\u001b[39mk_summary, \u001b[38;5;124m\"\u001b[39m\u001b[38;5;124mk_total should be greater than k_summary\u001b[39m\u001b[38;5;124m\"\u001b[39m\n\u001b[1;32m     35\u001b[0m \u001b[38;5;66;03m# Prepare base search kwargs\u001b[39;00m\n",
      "\u001b[0;31mAssertionError\u001b[0m: "
     ]
    }
   ],
   "source": [
    "output = await app.ainvoke({\"user_input\": \"What are hydrogen imports?\"})\n",
    "output"
   ]
  },
  {
   "cell_type": "code",
   "execution_count": 62,
   "metadata": {},
   "outputs": [
    {
     "name": "stdout",
     "output_type": "stream",
     "text": [
      "{'event': 'on_chain_start', 'data': {'input': {'user_input': 'What are hydrogen imports?'}}, 'name': 'LangGraph', 'tags': [], 'run_id': '1c50a12d-ef8c-46a1-8cf4-577ebd484fdc', 'metadata': {}}\n",
      "{'event': 'on_chain_start', 'data': {'input': {'user_input': 'What are hydrogen imports?'}}, 'name': '__start__', 'tags': ['graph:step:0', 'langsmith:hidden'], 'run_id': '4c1b0292-8507-4a83-84ad-f83fe43a3497', 'metadata': {'langgraph_step': 0, 'langgraph_node': '__start__'}}\n",
      "{'event': 'on_chain_end', 'data': {'output': {'user_input': 'What are hydrogen imports?'}, 'input': {'user_input': 'What are hydrogen imports?'}}, 'run_id': '4c1b0292-8507-4a83-84ad-f83fe43a3497', 'name': '__start__', 'tags': ['graph:step:0', 'langsmith:hidden'], 'metadata': {'langgraph_step': 0, 'langgraph_node': '__start__'}}\n",
      "{'event': 'on_chain_start', 'data': {}, 'name': 'set_defaults', 'tags': ['graph:step:1'], 'run_id': 'cb4386bd-a5f8-4c5d-82d0-92ad74efda15', 'metadata': {'langgraph_step': 1, 'langgraph_node': 'set_defaults'}}\n",
      "---- Setting defaults ----\n",
      "{'event': 'on_chain_start', 'data': {'input': {'user_input': 'What are hydrogen imports?', 'language': None, 'intent': None, 'query': None, 'questions': None, 'answer': None, 'audience': 'experts', 'sources_input': ['auto'], 'documents': None, 'recommended_content': None}}, 'name': 'ChannelWrite<set_defaults,user_input,language,intent,query,questions,answer,audience,sources_input,documents,recommended_content>', 'tags': ['seq:step:2', 'langsmith:hidden'], 'run_id': '2127b124-812d-4a86-8085-0613f6a38e15', 'metadata': {'langgraph_step': 1, 'langgraph_node': 'set_defaults'}}\n",
      "{'event': 'on_chain_end', 'data': {'output': {'user_input': 'What are hydrogen imports?', 'language': None, 'intent': None, 'query': None, 'questions': None, 'answer': None, 'audience': 'experts', 'sources_input': ['auto'], 'documents': None, 'recommended_content': None}, 'input': {'user_input': 'What are hydrogen imports?', 'language': None, 'intent': None, 'query': None, 'questions': None, 'answer': None, 'audience': 'experts', 'sources_input': ['auto'], 'documents': None, 'recommended_content': None}}, 'run_id': '2127b124-812d-4a86-8085-0613f6a38e15', 'name': 'ChannelWrite<set_defaults,user_input,language,intent,query,questions,answer,audience,sources_input,documents,recommended_content>', 'tags': ['seq:step:2', 'langsmith:hidden'], 'metadata': {'langgraph_step': 1, 'langgraph_node': 'set_defaults'}}\n",
      "{'event': 'on_chain_stream', 'run_id': 'cb4386bd-a5f8-4c5d-82d0-92ad74efda15', 'name': 'set_defaults', 'tags': ['graph:step:1'], 'metadata': {'langgraph_step': 1, 'langgraph_node': 'set_defaults'}, 'data': {'chunk': {'user_input': 'What are hydrogen imports?', 'language': None, 'intent': None, 'query': None, 'questions': None, 'answer': None, 'audience': 'experts', 'sources_input': ['auto'], 'documents': None, 'recommended_content': None}}}\n",
      "{'event': 'on_chain_end', 'data': {'output': {'user_input': 'What are hydrogen imports?', 'language': None, 'intent': None, 'query': None, 'questions': None, 'answer': None, 'audience': 'experts', 'sources_input': ['auto'], 'documents': None, 'recommended_content': None}, 'input': {'user_input': 'What are hydrogen imports?', 'language': None, 'intent': None, 'query': None, 'questions': None, 'answer': None, 'audience': 'experts', 'sources_input': ['auto'], 'documents': None, 'recommended_content': None}}, 'run_id': 'cb4386bd-a5f8-4c5d-82d0-92ad74efda15', 'name': 'set_defaults', 'tags': ['graph:step:1'], 'metadata': {'langgraph_step': 1, 'langgraph_node': 'set_defaults'}}\n",
      "{'event': 'on_chain_stream', 'run_id': '1c50a12d-ef8c-46a1-8cf4-577ebd484fdc', 'name': 'LangGraph', 'tags': [], 'metadata': {}, 'data': {'chunk': {'set_defaults': {'user_input': 'What are hydrogen imports?', 'language': None, 'intent': None, 'query': None, 'questions': None, 'answer': None, 'audience': 'experts', 'sources_input': ['auto'], 'documents': None, 'recommended_content': None}}}}\n",
      "{'event': 'on_chain_start', 'data': {}, 'name': 'categorize_intent', 'tags': ['graph:step:2'], 'run_id': '93d4db4d-9f47-4910-b5af-8c1739416974', 'metadata': {'langgraph_step': 2, 'langgraph_node': 'categorize_intent'}}\n",
      "{'event': 'on_chain_start', 'data': {'input': {'input': 'What are hydrogen imports?'}}, 'name': 'RunnableSequence', 'tags': ['seq:step:1'], 'run_id': '5b8b49b5-2f7c-44d7-b446-1218dab10b1a', 'metadata': {'langgraph_step': 2, 'langgraph_node': 'categorize_intent'}}\n",
      "{'event': 'on_prompt_start', 'data': {'input': {'input': 'What are hydrogen imports?'}}, 'name': 'ChatPromptTemplate', 'tags': ['seq:step:1'], 'run_id': '30382fe2-f0e0-45bf-a813-9d11f6216983', 'metadata': {'langgraph_step': 2, 'langgraph_node': 'categorize_intent'}}\n",
      "{'event': 'on_prompt_end', 'data': {'output': ChatPromptValue(messages=[SystemMessage(content='You are a helpful assistant, you will analyze, translate and reformulate the user input message using the function provided'), HumanMessage(content='input: What are hydrogen imports?')]), 'input': {'input': 'What are hydrogen imports?'}}, 'run_id': '30382fe2-f0e0-45bf-a813-9d11f6216983', 'name': 'ChatPromptTemplate', 'tags': ['seq:step:1'], 'metadata': {'langgraph_step': 2, 'langgraph_node': 'categorize_intent'}}\n",
      "{'event': 'on_chat_model_start', 'data': {'input': {'messages': [[SystemMessage(content='You are a helpful assistant, you will analyze, translate and reformulate the user input message using the function provided'), HumanMessage(content='input: What are hydrogen imports?')]]}}, 'name': 'ChatOpenAI', 'tags': ['seq:step:2'], 'run_id': 'c1b725cf-ee9e-4f99-89c6-572567e9c93e', 'metadata': {'langgraph_step': 2, 'langgraph_node': 'categorize_intent', 'ls_model_type': 'chat'}}\n"
     ]
    },
    {
     "name": "stderr",
     "output_type": "stream",
     "text": [
      "INFO:httpx:HTTP Request: POST https://api.openai.com/v1/chat/completions \"HTTP/1.1 200 OK\"\n"
     ]
    },
    {
     "name": "stdout",
     "output_type": "stream",
     "text": [
      "{'event': 'on_chat_model_stream', 'data': {'chunk': AIMessageChunk(content='', additional_kwargs={'function_call': {'arguments': '', 'name': 'IntentCategorizer'}}, id='run-c1b725cf-ee9e-4f99-89c6-572567e9c93e')}, 'run_id': 'c1b725cf-ee9e-4f99-89c6-572567e9c93e', 'name': 'ChatOpenAI', 'tags': ['seq:step:2'], 'metadata': {'langgraph_step': 2, 'langgraph_node': 'categorize_intent', 'ls_model_type': 'chat'}}\n",
      "{'event': 'on_chat_model_stream', 'data': {'chunk': AIMessageChunk(content='', additional_kwargs={'function_call': {'arguments': '{\"', 'name': ''}}, id='run-c1b725cf-ee9e-4f99-89c6-572567e9c93e')}, 'run_id': 'c1b725cf-ee9e-4f99-89c6-572567e9c93e', 'name': 'ChatOpenAI', 'tags': ['seq:step:2'], 'metadata': {'langgraph_step': 2, 'langgraph_node': 'categorize_intent', 'ls_model_type': 'chat'}}\n",
      "{'event': 'on_chat_model_stream', 'data': {'chunk': AIMessageChunk(content='', additional_kwargs={'function_call': {'arguments': 'intent', 'name': ''}}, id='run-c1b725cf-ee9e-4f99-89c6-572567e9c93e')}, 'run_id': 'c1b725cf-ee9e-4f99-89c6-572567e9c93e', 'name': 'ChatOpenAI', 'tags': ['seq:step:2'], 'metadata': {'langgraph_step': 2, 'langgraph_node': 'categorize_intent', 'ls_model_type': 'chat'}}\n",
      "{'event': 'on_chat_model_stream', 'data': {'chunk': AIMessageChunk(content='', additional_kwargs={'function_call': {'arguments': '\":\"', 'name': ''}}, id='run-c1b725cf-ee9e-4f99-89c6-572567e9c93e')}, 'run_id': 'c1b725cf-ee9e-4f99-89c6-572567e9c93e', 'name': 'ChatOpenAI', 'tags': ['seq:step:2'], 'metadata': {'langgraph_step': 2, 'langgraph_node': 'categorize_intent', 'ls_model_type': 'chat'}}\n",
      "{'event': 'on_chat_model_stream', 'data': {'chunk': AIMessageChunk(content='', additional_kwargs={'function_call': {'arguments': 'search', 'name': ''}}, id='run-c1b725cf-ee9e-4f99-89c6-572567e9c93e')}, 'run_id': 'c1b725cf-ee9e-4f99-89c6-572567e9c93e', 'name': 'ChatOpenAI', 'tags': ['seq:step:2'], 'metadata': {'langgraph_step': 2, 'langgraph_node': 'categorize_intent', 'ls_model_type': 'chat'}}\n",
      "{'event': 'on_chat_model_stream', 'data': {'chunk': AIMessageChunk(content='', additional_kwargs={'function_call': {'arguments': '\"}', 'name': ''}}, id='run-c1b725cf-ee9e-4f99-89c6-572567e9c93e')}, 'run_id': 'c1b725cf-ee9e-4f99-89c6-572567e9c93e', 'name': 'ChatOpenAI', 'tags': ['seq:step:2'], 'metadata': {'langgraph_step': 2, 'langgraph_node': 'categorize_intent', 'ls_model_type': 'chat'}}\n",
      "{'event': 'on_chat_model_stream', 'data': {'chunk': AIMessageChunk(content='', response_metadata={'finish_reason': 'stop'}, id='run-c1b725cf-ee9e-4f99-89c6-572567e9c93e')}, 'run_id': 'c1b725cf-ee9e-4f99-89c6-572567e9c93e', 'name': 'ChatOpenAI', 'tags': ['seq:step:2'], 'metadata': {'langgraph_step': 2, 'langgraph_node': 'categorize_intent', 'ls_model_type': 'chat'}}\n",
      "{'event': 'on_chat_model_end', 'data': {'output': AIMessage(content='', additional_kwargs={'function_call': {'arguments': '{\"intent\":\"search\"}', 'name': 'IntentCategorizer'}}, response_metadata={'finish_reason': 'stop'}, id='run-c1b725cf-ee9e-4f99-89c6-572567e9c93e'), 'input': {'messages': [[SystemMessage(content='You are a helpful assistant, you will analyze, translate and reformulate the user input message using the function provided'), HumanMessage(content='input: What are hydrogen imports?')]]}}, 'run_id': 'c1b725cf-ee9e-4f99-89c6-572567e9c93e', 'name': 'ChatOpenAI', 'tags': ['seq:step:2'], 'metadata': {'langgraph_step': 2, 'langgraph_node': 'categorize_intent', 'ls_model_type': 'chat'}}\n",
      "{'event': 'on_parser_start', 'data': {'input': AIMessage(content='', additional_kwargs={'function_call': {'arguments': '{\"intent\":\"search\"}', 'name': 'IntentCategorizer'}}, response_metadata={'finish_reason': 'stop'}, id='run-c1b725cf-ee9e-4f99-89c6-572567e9c93e')}, 'name': 'JsonOutputFunctionsParser', 'tags': ['seq:step:3'], 'run_id': '81b8cfa0-f7fd-4a4c-b3f2-72f8afc65821', 'metadata': {'langgraph_step': 2, 'langgraph_node': 'categorize_intent'}}\n",
      "{'event': 'on_parser_end', 'data': {'output': {'intent': 'search'}, 'input': AIMessage(content='', additional_kwargs={'function_call': {'arguments': '{\"intent\":\"search\"}', 'name': 'IntentCategorizer'}}, response_metadata={'finish_reason': 'stop'}, id='run-c1b725cf-ee9e-4f99-89c6-572567e9c93e')}, 'run_id': '81b8cfa0-f7fd-4a4c-b3f2-72f8afc65821', 'name': 'JsonOutputFunctionsParser', 'tags': ['seq:step:3'], 'metadata': {'langgraph_step': 2, 'langgraph_node': 'categorize_intent'}}\n",
      "{'event': 'on_chain_end', 'data': {'output': {'intent': 'search'}, 'input': {'input': 'What are hydrogen imports?'}}, 'run_id': '5b8b49b5-2f7c-44d7-b446-1218dab10b1a', 'name': 'RunnableSequence', 'tags': ['seq:step:1'], 'metadata': {'langgraph_step': 2, 'langgraph_node': 'categorize_intent'}}\n",
      "{'event': 'on_chain_start', 'data': {'input': {'intent': 'search', 'language': 'English', 'query': 'What are hydrogen imports?'}}, 'name': 'ChannelWrite<categorize_intent,user_input,language,intent,query,questions,answer,audience,sources_input,documents,recommended_content>', 'tags': ['seq:step:2', 'langsmith:hidden'], 'run_id': 'cd6db6dd-ab05-4c17-a719-350659fbeab0', 'metadata': {'langgraph_step': 2, 'langgraph_node': 'categorize_intent'}}\n",
      "{'event': 'on_chain_end', 'data': {'output': {'intent': 'search', 'language': 'English', 'query': 'What are hydrogen imports?'}, 'input': {'intent': 'search', 'language': 'English', 'query': 'What are hydrogen imports?'}}, 'run_id': 'cd6db6dd-ab05-4c17-a719-350659fbeab0', 'name': 'ChannelWrite<categorize_intent,user_input,language,intent,query,questions,answer,audience,sources_input,documents,recommended_content>', 'tags': ['seq:step:2', 'langsmith:hidden'], 'metadata': {'langgraph_step': 2, 'langgraph_node': 'categorize_intent'}}\n",
      "{'event': 'on_chain_start', 'data': {'input': {'user_input': 'What are hydrogen imports?', 'language': 'English', 'intent': 'search', 'query': 'What are hydrogen imports?', 'audience': 'experts', 'sources_input': ['auto']}}, 'name': 'route_intent', 'tags': ['seq:step:3'], 'run_id': '9e22c103-727d-4668-abba-93f6508c5bdf', 'metadata': {'langgraph_step': 2, 'langgraph_node': 'categorize_intent'}}\n",
      "{'event': 'on_chain_end', 'data': {'output': 'search', 'input': {'user_input': 'What are hydrogen imports?', 'language': 'English', 'intent': 'search', 'query': 'What are hydrogen imports?', 'audience': 'experts', 'sources_input': ['auto']}}, 'run_id': '9e22c103-727d-4668-abba-93f6508c5bdf', 'name': 'route_intent', 'tags': ['seq:step:3'], 'metadata': {'langgraph_step': 2, 'langgraph_node': 'categorize_intent'}}\n",
      "{'event': 'on_chain_start', 'data': {'input': {'intent': 'search', 'language': 'English', 'query': 'What are hydrogen imports?'}}, 'name': 'ChannelWrite<branch:categorize_intent:route_intent:search>', 'tags': ['seq:step:3', 'langsmith:hidden'], 'run_id': '6c64cb1b-5fff-401b-b9e8-c6a989ec1bdf', 'metadata': {'langgraph_step': 2, 'langgraph_node': 'categorize_intent'}}\n",
      "{'event': 'on_chain_end', 'data': {'output': {'intent': 'search', 'language': 'English', 'query': 'What are hydrogen imports?'}, 'input': {'intent': 'search', 'language': 'English', 'query': 'What are hydrogen imports?'}}, 'run_id': '6c64cb1b-5fff-401b-b9e8-c6a989ec1bdf', 'name': 'ChannelWrite<branch:categorize_intent:route_intent:search>', 'tags': ['seq:step:3', 'langsmith:hidden'], 'metadata': {'langgraph_step': 2, 'langgraph_node': 'categorize_intent'}}\n",
      "{'event': 'on_chain_stream', 'run_id': '93d4db4d-9f47-4910-b5af-8c1739416974', 'name': 'categorize_intent', 'tags': ['graph:step:2'], 'metadata': {'langgraph_step': 2, 'langgraph_node': 'categorize_intent'}, 'data': {'chunk': {'intent': 'search', 'language': 'English', 'query': 'What are hydrogen imports?'}}}\n",
      "{'event': 'on_chain_end', 'data': {'output': {'intent': 'search', 'language': 'English', 'query': 'What are hydrogen imports?'}, 'input': {'user_input': 'What are hydrogen imports?', 'language': None, 'intent': None, 'query': None, 'questions': None, 'answer': None, 'audience': 'experts', 'sources_input': ['auto'], 'documents': None, 'recommended_content': None}}, 'run_id': '93d4db4d-9f47-4910-b5af-8c1739416974', 'name': 'categorize_intent', 'tags': ['graph:step:2'], 'metadata': {'langgraph_step': 2, 'langgraph_node': 'categorize_intent'}}\n",
      "{'event': 'on_chain_stream', 'run_id': '1c50a12d-ef8c-46a1-8cf4-577ebd484fdc', 'name': 'LangGraph', 'tags': [], 'metadata': {}, 'data': {'chunk': {'categorize_intent': {'language': 'English', 'intent': 'search', 'query': 'What are hydrogen imports?'}}}}\n",
      "{'event': 'on_chain_start', 'data': {}, 'name': 'search', 'tags': ['graph:step:3'], 'run_id': '558d5ef3-230e-4dd5-9afd-e8aa06369ee8', 'metadata': {'langgraph_step': 3, 'langgraph_node': 'search'}}\n",
      "{'event': 'on_chain_start', 'data': {'input': {}}, 'name': 'ChannelWrite<search,user_input,language,intent,query,questions,answer,audience,sources_input,documents,recommended_content>', 'tags': ['seq:step:2', 'langsmith:hidden'], 'run_id': 'c04f0b82-b146-49df-882a-8cc38c9bb8a2', 'metadata': {'langgraph_step': 3, 'langgraph_node': 'search'}}\n",
      "{'event': 'on_chain_end', 'data': {'output': {}, 'input': {}}, 'run_id': 'c04f0b82-b146-49df-882a-8cc38c9bb8a2', 'name': 'ChannelWrite<search,user_input,language,intent,query,questions,answer,audience,sources_input,documents,recommended_content>', 'tags': ['seq:step:2', 'langsmith:hidden'], 'metadata': {'langgraph_step': 3, 'langgraph_node': 'search'}}\n",
      "{'event': 'on_chain_start', 'data': {'input': {'user_input': 'What are hydrogen imports?', 'language': 'English', 'intent': 'search', 'query': 'What are hydrogen imports?', 'audience': 'experts', 'sources_input': ['auto']}}, 'name': 'route_translation', 'tags': ['seq:step:3'], 'run_id': 'a5831aac-c2aa-4694-81bd-9b777d3c70ad', 'metadata': {'langgraph_step': 3, 'langgraph_node': 'search'}}\n",
      "{'event': 'on_chain_end', 'data': {'output': 'transform_query', 'input': {'user_input': 'What are hydrogen imports?', 'language': 'English', 'intent': 'search', 'query': 'What are hydrogen imports?', 'audience': 'experts', 'sources_input': ['auto']}}, 'run_id': 'a5831aac-c2aa-4694-81bd-9b777d3c70ad', 'name': 'route_translation', 'tags': ['seq:step:3'], 'metadata': {'langgraph_step': 3, 'langgraph_node': 'search'}}\n",
      "{'event': 'on_chain_start', 'data': {'input': {}}, 'name': 'ChannelWrite<branch:search:route_translation:transform_query>', 'tags': ['seq:step:3', 'langsmith:hidden'], 'run_id': 'c05b799c-8064-48bb-be32-f29eeb80b273', 'metadata': {'langgraph_step': 3, 'langgraph_node': 'search'}}\n",
      "{'event': 'on_chain_end', 'data': {'output': {}, 'input': {}}, 'run_id': 'c05b799c-8064-48bb-be32-f29eeb80b273', 'name': 'ChannelWrite<branch:search:route_translation:transform_query>', 'tags': ['seq:step:3', 'langsmith:hidden'], 'metadata': {'langgraph_step': 3, 'langgraph_node': 'search'}}\n",
      "{'event': 'on_chain_stream', 'run_id': '558d5ef3-230e-4dd5-9afd-e8aa06369ee8', 'name': 'search', 'tags': ['graph:step:3'], 'metadata': {'langgraph_step': 3, 'langgraph_node': 'search'}, 'data': {'chunk': {}}}\n",
      "{'event': 'on_chain_end', 'data': {'output': {}, 'input': {'user_input': 'What are hydrogen imports?', 'language': 'English', 'intent': 'search', 'query': 'What are hydrogen imports?', 'questions': None, 'answer': None, 'audience': 'experts', 'sources_input': ['auto'], 'documents': None, 'recommended_content': None}}, 'run_id': '558d5ef3-230e-4dd5-9afd-e8aa06369ee8', 'name': 'search', 'tags': ['graph:step:3'], 'metadata': {'langgraph_step': 3, 'langgraph_node': 'search'}}\n",
      "{'event': 'on_chain_start', 'data': {}, 'name': 'transform_query', 'tags': ['graph:step:4'], 'run_id': 'd3aa8d92-d333-4890-88e9-797d27eb9c72', 'metadata': {'langgraph_step': 4, 'langgraph_node': 'transform_query'}}\n",
      "{'event': 'on_chain_start', 'data': {'input': {'input': 'What are hydrogen imports?'}}, 'name': 'RunnableSequence', 'tags': ['seq:step:1'], 'run_id': 'd3c4eeab-8271-471d-9cf3-77ed67558a3d', 'metadata': {'langgraph_step': 4, 'langgraph_node': 'transform_query'}}\n",
      "{'event': 'on_prompt_start', 'data': {'input': {'input': 'What are hydrogen imports?'}}, 'name': 'ChatPromptTemplate', 'tags': ['seq:step:1'], 'run_id': 'e0b565b1-e9f3-4fa7-b6bc-55cdd023f625', 'metadata': {'langgraph_step': 4, 'langgraph_node': 'transform_query'}}\n",
      "{'event': 'on_prompt_end', 'data': {'output': ChatPromptValue(messages=[SystemMessage(content='You are a helpful assistant, you will analyze, translate and reformulate the user input message using the function provided'), HumanMessage(content='input: What are hydrogen imports?')]), 'input': {'input': 'What are hydrogen imports?'}}, 'run_id': 'e0b565b1-e9f3-4fa7-b6bc-55cdd023f625', 'name': 'ChatPromptTemplate', 'tags': ['seq:step:1'], 'metadata': {'langgraph_step': 4, 'langgraph_node': 'transform_query'}}\n",
      "{'event': 'on_chat_model_start', 'data': {'input': {'messages': [[SystemMessage(content='You are a helpful assistant, you will analyze, translate and reformulate the user input message using the function provided'), HumanMessage(content='input: What are hydrogen imports?')]]}}, 'name': 'ChatOpenAI', 'tags': ['seq:step:2'], 'run_id': '33d805b9-4baf-4131-8613-271ee347cc31', 'metadata': {'langgraph_step': 4, 'langgraph_node': 'transform_query', 'ls_model_type': 'chat'}}\n"
     ]
    },
    {
     "name": "stderr",
     "output_type": "stream",
     "text": [
      "INFO:httpx:HTTP Request: POST https://api.openai.com/v1/chat/completions \"HTTP/1.1 200 OK\"\n"
     ]
    },
    {
     "name": "stdout",
     "output_type": "stream",
     "text": [
      "{'event': 'on_chat_model_stream', 'data': {'chunk': AIMessageChunk(content='', additional_kwargs={'function_call': {'arguments': '', 'name': 'QueryDecomposition'}}, id='run-33d805b9-4baf-4131-8613-271ee347cc31')}, 'run_id': '33d805b9-4baf-4131-8613-271ee347cc31', 'name': 'ChatOpenAI', 'tags': ['seq:step:2'], 'metadata': {'langgraph_step': 4, 'langgraph_node': 'transform_query', 'ls_model_type': 'chat'}}\n",
      "{'event': 'on_chat_model_stream', 'data': {'chunk': AIMessageChunk(content='', additional_kwargs={'function_call': {'arguments': '{\"', 'name': ''}}, id='run-33d805b9-4baf-4131-8613-271ee347cc31')}, 'run_id': '33d805b9-4baf-4131-8613-271ee347cc31', 'name': 'ChatOpenAI', 'tags': ['seq:step:2'], 'metadata': {'langgraph_step': 4, 'langgraph_node': 'transform_query', 'ls_model_type': 'chat'}}\n",
      "{'event': 'on_chat_model_stream', 'data': {'chunk': AIMessageChunk(content='', additional_kwargs={'function_call': {'arguments': 'questions', 'name': ''}}, id='run-33d805b9-4baf-4131-8613-271ee347cc31')}, 'run_id': '33d805b9-4baf-4131-8613-271ee347cc31', 'name': 'ChatOpenAI', 'tags': ['seq:step:2'], 'metadata': {'langgraph_step': 4, 'langgraph_node': 'transform_query', 'ls_model_type': 'chat'}}\n",
      "{'event': 'on_chat_model_stream', 'data': {'chunk': AIMessageChunk(content='', additional_kwargs={'function_call': {'arguments': '\":[\"', 'name': ''}}, id='run-33d805b9-4baf-4131-8613-271ee347cc31')}, 'run_id': '33d805b9-4baf-4131-8613-271ee347cc31', 'name': 'ChatOpenAI', 'tags': ['seq:step:2'], 'metadata': {'langgraph_step': 4, 'langgraph_node': 'transform_query', 'ls_model_type': 'chat'}}\n",
      "{'event': 'on_chat_model_stream', 'data': {'chunk': AIMessageChunk(content='', additional_kwargs={'function_call': {'arguments': 'What', 'name': ''}}, id='run-33d805b9-4baf-4131-8613-271ee347cc31')}, 'run_id': '33d805b9-4baf-4131-8613-271ee347cc31', 'name': 'ChatOpenAI', 'tags': ['seq:step:2'], 'metadata': {'langgraph_step': 4, 'langgraph_node': 'transform_query', 'ls_model_type': 'chat'}}\n",
      "{'event': 'on_chat_model_stream', 'data': {'chunk': AIMessageChunk(content='', additional_kwargs={'function_call': {'arguments': ' is', 'name': ''}}, id='run-33d805b9-4baf-4131-8613-271ee347cc31')}, 'run_id': '33d805b9-4baf-4131-8613-271ee347cc31', 'name': 'ChatOpenAI', 'tags': ['seq:step:2'], 'metadata': {'langgraph_step': 4, 'langgraph_node': 'transform_query', 'ls_model_type': 'chat'}}\n",
      "{'event': 'on_chat_model_stream', 'data': {'chunk': AIMessageChunk(content='', additional_kwargs={'function_call': {'arguments': ' the', 'name': ''}}, id='run-33d805b9-4baf-4131-8613-271ee347cc31')}, 'run_id': '33d805b9-4baf-4131-8613-271ee347cc31', 'name': 'ChatOpenAI', 'tags': ['seq:step:2'], 'metadata': {'langgraph_step': 4, 'langgraph_node': 'transform_query', 'ls_model_type': 'chat'}}\n",
      "{'event': 'on_chat_model_stream', 'data': {'chunk': AIMessageChunk(content='', additional_kwargs={'function_call': {'arguments': ' definition', 'name': ''}}, id='run-33d805b9-4baf-4131-8613-271ee347cc31')}, 'run_id': '33d805b9-4baf-4131-8613-271ee347cc31', 'name': 'ChatOpenAI', 'tags': ['seq:step:2'], 'metadata': {'langgraph_step': 4, 'langgraph_node': 'transform_query', 'ls_model_type': 'chat'}}\n",
      "{'event': 'on_chat_model_stream', 'data': {'chunk': AIMessageChunk(content='', additional_kwargs={'function_call': {'arguments': ' of', 'name': ''}}, id='run-33d805b9-4baf-4131-8613-271ee347cc31')}, 'run_id': '33d805b9-4baf-4131-8613-271ee347cc31', 'name': 'ChatOpenAI', 'tags': ['seq:step:2'], 'metadata': {'langgraph_step': 4, 'langgraph_node': 'transform_query', 'ls_model_type': 'chat'}}\n",
      "{'event': 'on_chat_model_stream', 'data': {'chunk': AIMessageChunk(content='', additional_kwargs={'function_call': {'arguments': ' hydrogen', 'name': ''}}, id='run-33d805b9-4baf-4131-8613-271ee347cc31')}, 'run_id': '33d805b9-4baf-4131-8613-271ee347cc31', 'name': 'ChatOpenAI', 'tags': ['seq:step:2'], 'metadata': {'langgraph_step': 4, 'langgraph_node': 'transform_query', 'ls_model_type': 'chat'}}\n",
      "{'event': 'on_chat_model_stream', 'data': {'chunk': AIMessageChunk(content='', additional_kwargs={'function_call': {'arguments': ' imports', 'name': ''}}, id='run-33d805b9-4baf-4131-8613-271ee347cc31')}, 'run_id': '33d805b9-4baf-4131-8613-271ee347cc31', 'name': 'ChatOpenAI', 'tags': ['seq:step:2'], 'metadata': {'langgraph_step': 4, 'langgraph_node': 'transform_query', 'ls_model_type': 'chat'}}\n",
      "{'event': 'on_chat_model_stream', 'data': {'chunk': AIMessageChunk(content='', additional_kwargs={'function_call': {'arguments': '?', 'name': ''}}, id='run-33d805b9-4baf-4131-8613-271ee347cc31')}, 'run_id': '33d805b9-4baf-4131-8613-271ee347cc31', 'name': 'ChatOpenAI', 'tags': ['seq:step:2'], 'metadata': {'langgraph_step': 4, 'langgraph_node': 'transform_query', 'ls_model_type': 'chat'}}\n",
      "{'event': 'on_chat_model_stream', 'data': {'chunk': AIMessageChunk(content='', additional_kwargs={'function_call': {'arguments': '\",\"', 'name': ''}}, id='run-33d805b9-4baf-4131-8613-271ee347cc31')}, 'run_id': '33d805b9-4baf-4131-8613-271ee347cc31', 'name': 'ChatOpenAI', 'tags': ['seq:step:2'], 'metadata': {'langgraph_step': 4, 'langgraph_node': 'transform_query', 'ls_model_type': 'chat'}}\n",
      "{'event': 'on_chat_model_stream', 'data': {'chunk': AIMessageChunk(content='', additional_kwargs={'function_call': {'arguments': 'How', 'name': ''}}, id='run-33d805b9-4baf-4131-8613-271ee347cc31')}, 'run_id': '33d805b9-4baf-4131-8613-271ee347cc31', 'name': 'ChatOpenAI', 'tags': ['seq:step:2'], 'metadata': {'langgraph_step': 4, 'langgraph_node': 'transform_query', 'ls_model_type': 'chat'}}\n",
      "{'event': 'on_chat_model_stream', 'data': {'chunk': AIMessageChunk(content='', additional_kwargs={'function_call': {'arguments': ' are', 'name': ''}}, id='run-33d805b9-4baf-4131-8613-271ee347cc31')}, 'run_id': '33d805b9-4baf-4131-8613-271ee347cc31', 'name': 'ChatOpenAI', 'tags': ['seq:step:2'], 'metadata': {'langgraph_step': 4, 'langgraph_node': 'transform_query', 'ls_model_type': 'chat'}}\n",
      "{'event': 'on_chat_model_stream', 'data': {'chunk': AIMessageChunk(content='', additional_kwargs={'function_call': {'arguments': ' hydrogen', 'name': ''}}, id='run-33d805b9-4baf-4131-8613-271ee347cc31')}, 'run_id': '33d805b9-4baf-4131-8613-271ee347cc31', 'name': 'ChatOpenAI', 'tags': ['seq:step:2'], 'metadata': {'langgraph_step': 4, 'langgraph_node': 'transform_query', 'ls_model_type': 'chat'}}\n",
      "{'event': 'on_chat_model_stream', 'data': {'chunk': AIMessageChunk(content='', additional_kwargs={'function_call': {'arguments': ' imports', 'name': ''}}, id='run-33d805b9-4baf-4131-8613-271ee347cc31')}, 'run_id': '33d805b9-4baf-4131-8613-271ee347cc31', 'name': 'ChatOpenAI', 'tags': ['seq:step:2'], 'metadata': {'langgraph_step': 4, 'langgraph_node': 'transform_query', 'ls_model_type': 'chat'}}\n",
      "{'event': 'on_chat_model_stream', 'data': {'chunk': AIMessageChunk(content='', additional_kwargs={'function_call': {'arguments': ' used', 'name': ''}}, id='run-33d805b9-4baf-4131-8613-271ee347cc31')}, 'run_id': '33d805b9-4baf-4131-8613-271ee347cc31', 'name': 'ChatOpenAI', 'tags': ['seq:step:2'], 'metadata': {'langgraph_step': 4, 'langgraph_node': 'transform_query', 'ls_model_type': 'chat'}}\n",
      "{'event': 'on_chat_model_stream', 'data': {'chunk': AIMessageChunk(content='', additional_kwargs={'function_call': {'arguments': ' in', 'name': ''}}, id='run-33d805b9-4baf-4131-8613-271ee347cc31')}, 'run_id': '33d805b9-4baf-4131-8613-271ee347cc31', 'name': 'ChatOpenAI', 'tags': ['seq:step:2'], 'metadata': {'langgraph_step': 4, 'langgraph_node': 'transform_query', 'ls_model_type': 'chat'}}\n",
      "{'event': 'on_chat_model_stream', 'data': {'chunk': AIMessageChunk(content='', additional_kwargs={'function_call': {'arguments': ' the', 'name': ''}}, id='run-33d805b9-4baf-4131-8613-271ee347cc31')}, 'run_id': '33d805b9-4baf-4131-8613-271ee347cc31', 'name': 'ChatOpenAI', 'tags': ['seq:step:2'], 'metadata': {'langgraph_step': 4, 'langgraph_node': 'transform_query', 'ls_model_type': 'chat'}}\n",
      "{'event': 'on_chat_model_stream', 'data': {'chunk': AIMessageChunk(content='', additional_kwargs={'function_call': {'arguments': ' energy', 'name': ''}}, id='run-33d805b9-4baf-4131-8613-271ee347cc31')}, 'run_id': '33d805b9-4baf-4131-8613-271ee347cc31', 'name': 'ChatOpenAI', 'tags': ['seq:step:2'], 'metadata': {'langgraph_step': 4, 'langgraph_node': 'transform_query', 'ls_model_type': 'chat'}}\n",
      "{'event': 'on_chat_model_stream', 'data': {'chunk': AIMessageChunk(content='', additional_kwargs={'function_call': {'arguments': ' sector', 'name': ''}}, id='run-33d805b9-4baf-4131-8613-271ee347cc31')}, 'run_id': '33d805b9-4baf-4131-8613-271ee347cc31', 'name': 'ChatOpenAI', 'tags': ['seq:step:2'], 'metadata': {'langgraph_step': 4, 'langgraph_node': 'transform_query', 'ls_model_type': 'chat'}}\n",
      "{'event': 'on_chat_model_stream', 'data': {'chunk': AIMessageChunk(content='', additional_kwargs={'function_call': {'arguments': '?', 'name': ''}}, id='run-33d805b9-4baf-4131-8613-271ee347cc31')}, 'run_id': '33d805b9-4baf-4131-8613-271ee347cc31', 'name': 'ChatOpenAI', 'tags': ['seq:step:2'], 'metadata': {'langgraph_step': 4, 'langgraph_node': 'transform_query', 'ls_model_type': 'chat'}}\n",
      "{'event': 'on_chat_model_stream', 'data': {'chunk': AIMessageChunk(content='', additional_kwargs={'function_call': {'arguments': '\",\"', 'name': ''}}, id='run-33d805b9-4baf-4131-8613-271ee347cc31')}, 'run_id': '33d805b9-4baf-4131-8613-271ee347cc31', 'name': 'ChatOpenAI', 'tags': ['seq:step:2'], 'metadata': {'langgraph_step': 4, 'langgraph_node': 'transform_query', 'ls_model_type': 'chat'}}\n",
      "{'event': 'on_chat_model_stream', 'data': {'chunk': AIMessageChunk(content='', additional_kwargs={'function_call': {'arguments': 'What', 'name': ''}}, id='run-33d805b9-4baf-4131-8613-271ee347cc31')}, 'run_id': '33d805b9-4baf-4131-8613-271ee347cc31', 'name': 'ChatOpenAI', 'tags': ['seq:step:2'], 'metadata': {'langgraph_step': 4, 'langgraph_node': 'transform_query', 'ls_model_type': 'chat'}}\n",
      "{'event': 'on_chat_model_stream', 'data': {'chunk': AIMessageChunk(content='', additional_kwargs={'function_call': {'arguments': ' are', 'name': ''}}, id='run-33d805b9-4baf-4131-8613-271ee347cc31')}, 'run_id': '33d805b9-4baf-4131-8613-271ee347cc31', 'name': 'ChatOpenAI', 'tags': ['seq:step:2'], 'metadata': {'langgraph_step': 4, 'langgraph_node': 'transform_query', 'ls_model_type': 'chat'}}\n",
      "{'event': 'on_chat_model_stream', 'data': {'chunk': AIMessageChunk(content='', additional_kwargs={'function_call': {'arguments': ' the', 'name': ''}}, id='run-33d805b9-4baf-4131-8613-271ee347cc31')}, 'run_id': '33d805b9-4baf-4131-8613-271ee347cc31', 'name': 'ChatOpenAI', 'tags': ['seq:step:2'], 'metadata': {'langgraph_step': 4, 'langgraph_node': 'transform_query', 'ls_model_type': 'chat'}}\n",
      "{'event': 'on_chat_model_stream', 'data': {'chunk': AIMessageChunk(content='', additional_kwargs={'function_call': {'arguments': ' benefits', 'name': ''}}, id='run-33d805b9-4baf-4131-8613-271ee347cc31')}, 'run_id': '33d805b9-4baf-4131-8613-271ee347cc31', 'name': 'ChatOpenAI', 'tags': ['seq:step:2'], 'metadata': {'langgraph_step': 4, 'langgraph_node': 'transform_query', 'ls_model_type': 'chat'}}\n",
      "{'event': 'on_chat_model_stream', 'data': {'chunk': AIMessageChunk(content='', additional_kwargs={'function_call': {'arguments': ' of', 'name': ''}}, id='run-33d805b9-4baf-4131-8613-271ee347cc31')}, 'run_id': '33d805b9-4baf-4131-8613-271ee347cc31', 'name': 'ChatOpenAI', 'tags': ['seq:step:2'], 'metadata': {'langgraph_step': 4, 'langgraph_node': 'transform_query', 'ls_model_type': 'chat'}}\n",
      "{'event': 'on_chat_model_stream', 'data': {'chunk': AIMessageChunk(content='', additional_kwargs={'function_call': {'arguments': ' hydrogen', 'name': ''}}, id='run-33d805b9-4baf-4131-8613-271ee347cc31')}, 'run_id': '33d805b9-4baf-4131-8613-271ee347cc31', 'name': 'ChatOpenAI', 'tags': ['seq:step:2'], 'metadata': {'langgraph_step': 4, 'langgraph_node': 'transform_query', 'ls_model_type': 'chat'}}\n",
      "{'event': 'on_chat_model_stream', 'data': {'chunk': AIMessageChunk(content='', additional_kwargs={'function_call': {'arguments': ' imports', 'name': ''}}, id='run-33d805b9-4baf-4131-8613-271ee347cc31')}, 'run_id': '33d805b9-4baf-4131-8613-271ee347cc31', 'name': 'ChatOpenAI', 'tags': ['seq:step:2'], 'metadata': {'langgraph_step': 4, 'langgraph_node': 'transform_query', 'ls_model_type': 'chat'}}\n",
      "{'event': 'on_chat_model_stream', 'data': {'chunk': AIMessageChunk(content='', additional_kwargs={'function_call': {'arguments': ' for', 'name': ''}}, id='run-33d805b9-4baf-4131-8613-271ee347cc31')}, 'run_id': '33d805b9-4baf-4131-8613-271ee347cc31', 'name': 'ChatOpenAI', 'tags': ['seq:step:2'], 'metadata': {'langgraph_step': 4, 'langgraph_node': 'transform_query', 'ls_model_type': 'chat'}}\n",
      "{'event': 'on_chat_model_stream', 'data': {'chunk': AIMessageChunk(content='', additional_kwargs={'function_call': {'arguments': ' countries', 'name': ''}}, id='run-33d805b9-4baf-4131-8613-271ee347cc31')}, 'run_id': '33d805b9-4baf-4131-8613-271ee347cc31', 'name': 'ChatOpenAI', 'tags': ['seq:step:2'], 'metadata': {'langgraph_step': 4, 'langgraph_node': 'transform_query', 'ls_model_type': 'chat'}}\n",
      "{'event': 'on_chat_model_stream', 'data': {'chunk': AIMessageChunk(content='', additional_kwargs={'function_call': {'arguments': '?', 'name': ''}}, id='run-33d805b9-4baf-4131-8613-271ee347cc31')}, 'run_id': '33d805b9-4baf-4131-8613-271ee347cc31', 'name': 'ChatOpenAI', 'tags': ['seq:step:2'], 'metadata': {'langgraph_step': 4, 'langgraph_node': 'transform_query', 'ls_model_type': 'chat'}}\n",
      "{'event': 'on_chat_model_stream', 'data': {'chunk': AIMessageChunk(content='', additional_kwargs={'function_call': {'arguments': '\"]}', 'name': ''}}, id='run-33d805b9-4baf-4131-8613-271ee347cc31')}, 'run_id': '33d805b9-4baf-4131-8613-271ee347cc31', 'name': 'ChatOpenAI', 'tags': ['seq:step:2'], 'metadata': {'langgraph_step': 4, 'langgraph_node': 'transform_query', 'ls_model_type': 'chat'}}\n",
      "{'event': 'on_chat_model_stream', 'data': {'chunk': AIMessageChunk(content='', response_metadata={'finish_reason': 'stop'}, id='run-33d805b9-4baf-4131-8613-271ee347cc31')}, 'run_id': '33d805b9-4baf-4131-8613-271ee347cc31', 'name': 'ChatOpenAI', 'tags': ['seq:step:2'], 'metadata': {'langgraph_step': 4, 'langgraph_node': 'transform_query', 'ls_model_type': 'chat'}}\n",
      "{'event': 'on_chat_model_end', 'data': {'output': AIMessage(content='', additional_kwargs={'function_call': {'arguments': '{\"questions\":[\"What is the definition of hydrogen imports?\",\"How are hydrogen imports used in the energy sector?\",\"What are the benefits of hydrogen imports for countries?\"]}', 'name': 'QueryDecomposition'}}, response_metadata={'finish_reason': 'stop'}, id='run-33d805b9-4baf-4131-8613-271ee347cc31'), 'input': {'messages': [[SystemMessage(content='You are a helpful assistant, you will analyze, translate and reformulate the user input message using the function provided'), HumanMessage(content='input: What are hydrogen imports?')]]}}, 'run_id': '33d805b9-4baf-4131-8613-271ee347cc31', 'name': 'ChatOpenAI', 'tags': ['seq:step:2'], 'metadata': {'langgraph_step': 4, 'langgraph_node': 'transform_query', 'ls_model_type': 'chat'}}\n",
      "{'event': 'on_parser_start', 'data': {'input': AIMessage(content='', additional_kwargs={'function_call': {'arguments': '{\"questions\":[\"What is the definition of hydrogen imports?\",\"How are hydrogen imports used in the energy sector?\",\"What are the benefits of hydrogen imports for countries?\"]}', 'name': 'QueryDecomposition'}}, response_metadata={'finish_reason': 'stop'}, id='run-33d805b9-4baf-4131-8613-271ee347cc31')}, 'name': 'JsonOutputFunctionsParser', 'tags': ['seq:step:3'], 'run_id': '00d34031-2017-49c8-a44d-0e4192e93e74', 'metadata': {'langgraph_step': 4, 'langgraph_node': 'transform_query'}}\n",
      "{'event': 'on_parser_end', 'data': {'output': {'questions': ['What is the definition of hydrogen imports?', 'How are hydrogen imports used in the energy sector?', 'What are the benefits of hydrogen imports for countries?']}, 'input': AIMessage(content='', additional_kwargs={'function_call': {'arguments': '{\"questions\":[\"What is the definition of hydrogen imports?\",\"How are hydrogen imports used in the energy sector?\",\"What are the benefits of hydrogen imports for countries?\"]}', 'name': 'QueryDecomposition'}}, response_metadata={'finish_reason': 'stop'}, id='run-33d805b9-4baf-4131-8613-271ee347cc31')}, 'run_id': '00d34031-2017-49c8-a44d-0e4192e93e74', 'name': 'JsonOutputFunctionsParser', 'tags': ['seq:step:3'], 'metadata': {'langgraph_step': 4, 'langgraph_node': 'transform_query'}}\n",
      "{'event': 'on_chain_end', 'data': {'output': {'questions': ['What is the definition of hydrogen imports?', 'How are hydrogen imports used in the energy sector?', 'What are the benefits of hydrogen imports for countries?']}, 'input': {'input': 'What are hydrogen imports?'}}, 'run_id': 'd3c4eeab-8271-471d-9cf3-77ed67558a3d', 'name': 'RunnableSequence', 'tags': ['seq:step:1'], 'metadata': {'langgraph_step': 4, 'langgraph_node': 'transform_query'}}\n",
      "{'event': 'on_chain_start', 'data': {'input': {'input': 'What is the definition of hydrogen imports?'}}, 'name': 'RunnableSequence', 'tags': ['seq:step:1'], 'run_id': '080400be-6548-467c-bd91-719a2dbfe44a', 'metadata': {'langgraph_step': 4, 'langgraph_node': 'transform_query'}}\n",
      "{'event': 'on_prompt_start', 'data': {'input': {'input': 'What is the definition of hydrogen imports?'}}, 'name': 'ChatPromptTemplate', 'tags': ['seq:step:1'], 'run_id': '5310fa47-8490-440e-a405-7babd1e9a752', 'metadata': {'langgraph_step': 4, 'langgraph_node': 'transform_query'}}\n",
      "{'event': 'on_prompt_end', 'data': {'output': ChatPromptValue(messages=[SystemMessage(content='You are a helpful assistant, you will analyze, translate and reformulate the user input message using the function provided'), HumanMessage(content='input: What is the definition of hydrogen imports?')]), 'input': {'input': 'What is the definition of hydrogen imports?'}}, 'run_id': '5310fa47-8490-440e-a405-7babd1e9a752', 'name': 'ChatPromptTemplate', 'tags': ['seq:step:1'], 'metadata': {'langgraph_step': 4, 'langgraph_node': 'transform_query'}}\n",
      "{'event': 'on_chat_model_start', 'data': {'input': {'messages': [[SystemMessage(content='You are a helpful assistant, you will analyze, translate and reformulate the user input message using the function provided'), HumanMessage(content='input: What is the definition of hydrogen imports?')]]}}, 'name': 'ChatOpenAI', 'tags': ['seq:step:2'], 'run_id': 'a86f5f28-6150-4430-84f9-5e9cd97529d4', 'metadata': {'langgraph_step': 4, 'langgraph_node': 'transform_query', 'ls_model_type': 'chat'}}\n"
     ]
    },
    {
     "name": "stderr",
     "output_type": "stream",
     "text": [
      "INFO:httpx:HTTP Request: POST https://api.openai.com/v1/chat/completions \"HTTP/1.1 200 OK\"\n"
     ]
    },
    {
     "name": "stdout",
     "output_type": "stream",
     "text": [
      "{'event': 'on_chat_model_stream', 'data': {'chunk': AIMessageChunk(content='', additional_kwargs={'function_call': {'arguments': '', 'name': 'QueryAnalysis'}}, id='run-a86f5f28-6150-4430-84f9-5e9cd97529d4')}, 'run_id': 'a86f5f28-6150-4430-84f9-5e9cd97529d4', 'name': 'ChatOpenAI', 'tags': ['seq:step:2'], 'metadata': {'langgraph_step': 4, 'langgraph_node': 'transform_query', 'ls_model_type': 'chat'}}\n",
      "{'event': 'on_chat_model_stream', 'data': {'chunk': AIMessageChunk(content='', additional_kwargs={'function_call': {'arguments': '{\"', 'name': ''}}, id='run-a86f5f28-6150-4430-84f9-5e9cd97529d4')}, 'run_id': 'a86f5f28-6150-4430-84f9-5e9cd97529d4', 'name': 'ChatOpenAI', 'tags': ['seq:step:2'], 'metadata': {'langgraph_step': 4, 'langgraph_node': 'transform_query', 'ls_model_type': 'chat'}}\n",
      "{'event': 'on_chat_model_stream', 'data': {'chunk': AIMessageChunk(content='', additional_kwargs={'function_call': {'arguments': 'sources', 'name': ''}}, id='run-a86f5f28-6150-4430-84f9-5e9cd97529d4')}, 'run_id': 'a86f5f28-6150-4430-84f9-5e9cd97529d4', 'name': 'ChatOpenAI', 'tags': ['seq:step:2'], 'metadata': {'langgraph_step': 4, 'langgraph_node': 'transform_query', 'ls_model_type': 'chat'}}\n",
      "{'event': 'on_chat_model_stream', 'data': {'chunk': AIMessageChunk(content='', additional_kwargs={'function_call': {'arguments': '\":[\"', 'name': ''}}, id='run-a86f5f28-6150-4430-84f9-5e9cd97529d4')}, 'run_id': 'a86f5f28-6150-4430-84f9-5e9cd97529d4', 'name': 'ChatOpenAI', 'tags': ['seq:step:2'], 'metadata': {'langgraph_step': 4, 'langgraph_node': 'transform_query', 'ls_model_type': 'chat'}}\n",
      "{'event': 'on_chat_model_stream', 'data': {'chunk': AIMessageChunk(content='', additional_kwargs={'function_call': {'arguments': 'Open', 'name': ''}}, id='run-a86f5f28-6150-4430-84f9-5e9cd97529d4')}, 'run_id': 'a86f5f28-6150-4430-84f9-5e9cd97529d4', 'name': 'ChatOpenAI', 'tags': ['seq:step:2'], 'metadata': {'langgraph_step': 4, 'langgraph_node': 'transform_query', 'ls_model_type': 'chat'}}\n",
      "{'event': 'on_chat_model_stream', 'data': {'chunk': AIMessageChunk(content='', additional_kwargs={'function_call': {'arguments': 'Alex', 'name': ''}}, id='run-a86f5f28-6150-4430-84f9-5e9cd97529d4')}, 'run_id': 'a86f5f28-6150-4430-84f9-5e9cd97529d4', 'name': 'ChatOpenAI', 'tags': ['seq:step:2'], 'metadata': {'langgraph_step': 4, 'langgraph_node': 'transform_query', 'ls_model_type': 'chat'}}\n",
      "{'event': 'on_chat_model_stream', 'data': {'chunk': AIMessageChunk(content='', additional_kwargs={'function_call': {'arguments': '\"]}', 'name': ''}}, id='run-a86f5f28-6150-4430-84f9-5e9cd97529d4')}, 'run_id': 'a86f5f28-6150-4430-84f9-5e9cd97529d4', 'name': 'ChatOpenAI', 'tags': ['seq:step:2'], 'metadata': {'langgraph_step': 4, 'langgraph_node': 'transform_query', 'ls_model_type': 'chat'}}\n",
      "{'event': 'on_chat_model_stream', 'data': {'chunk': AIMessageChunk(content='', response_metadata={'finish_reason': 'stop'}, id='run-a86f5f28-6150-4430-84f9-5e9cd97529d4')}, 'run_id': 'a86f5f28-6150-4430-84f9-5e9cd97529d4', 'name': 'ChatOpenAI', 'tags': ['seq:step:2'], 'metadata': {'langgraph_step': 4, 'langgraph_node': 'transform_query', 'ls_model_type': 'chat'}}\n",
      "{'event': 'on_chat_model_end', 'data': {'output': AIMessage(content='', additional_kwargs={'function_call': {'arguments': '{\"sources\":[\"OpenAlex\"]}', 'name': 'QueryAnalysis'}}, response_metadata={'finish_reason': 'stop'}, id='run-a86f5f28-6150-4430-84f9-5e9cd97529d4'), 'input': {'messages': [[SystemMessage(content='You are a helpful assistant, you will analyze, translate and reformulate the user input message using the function provided'), HumanMessage(content='input: What is the definition of hydrogen imports?')]]}}, 'run_id': 'a86f5f28-6150-4430-84f9-5e9cd97529d4', 'name': 'ChatOpenAI', 'tags': ['seq:step:2'], 'metadata': {'langgraph_step': 4, 'langgraph_node': 'transform_query', 'ls_model_type': 'chat'}}\n",
      "{'event': 'on_parser_start', 'data': {'input': AIMessage(content='', additional_kwargs={'function_call': {'arguments': '{\"sources\":[\"OpenAlex\"]}', 'name': 'QueryAnalysis'}}, response_metadata={'finish_reason': 'stop'}, id='run-a86f5f28-6150-4430-84f9-5e9cd97529d4')}, 'name': 'JsonOutputFunctionsParser', 'tags': ['seq:step:3'], 'run_id': '6ffea523-91f2-4f9e-8168-4c1d6408fe6b', 'metadata': {'langgraph_step': 4, 'langgraph_node': 'transform_query'}}\n",
      "{'event': 'on_parser_end', 'data': {'output': {'sources': ['OpenAlex']}, 'input': AIMessage(content='', additional_kwargs={'function_call': {'arguments': '{\"sources\":[\"OpenAlex\"]}', 'name': 'QueryAnalysis'}}, response_metadata={'finish_reason': 'stop'}, id='run-a86f5f28-6150-4430-84f9-5e9cd97529d4')}, 'run_id': '6ffea523-91f2-4f9e-8168-4c1d6408fe6b', 'name': 'JsonOutputFunctionsParser', 'tags': ['seq:step:3'], 'metadata': {'langgraph_step': 4, 'langgraph_node': 'transform_query'}}\n",
      "{'event': 'on_chain_end', 'data': {'output': {'sources': ['OpenAlex']}, 'input': {'input': 'What is the definition of hydrogen imports?'}}, 'run_id': '080400be-6548-467c-bd91-719a2dbfe44a', 'name': 'RunnableSequence', 'tags': ['seq:step:1'], 'metadata': {'langgraph_step': 4, 'langgraph_node': 'transform_query'}}\n",
      "{'event': 'on_chain_start', 'data': {'input': {'input': 'How are hydrogen imports used in the energy sector?'}}, 'name': 'RunnableSequence', 'tags': ['seq:step:1'], 'run_id': 'cca962b9-5db2-46b4-9ddf-e700a02fa328', 'metadata': {'langgraph_step': 4, 'langgraph_node': 'transform_query'}}\n",
      "{'event': 'on_prompt_start', 'data': {'input': {'input': 'How are hydrogen imports used in the energy sector?'}}, 'name': 'ChatPromptTemplate', 'tags': ['seq:step:1'], 'run_id': '287462a9-117c-4718-bae3-682e033d11a1', 'metadata': {'langgraph_step': 4, 'langgraph_node': 'transform_query'}}\n",
      "{'event': 'on_prompt_end', 'data': {'output': ChatPromptValue(messages=[SystemMessage(content='You are a helpful assistant, you will analyze, translate and reformulate the user input message using the function provided'), HumanMessage(content='input: How are hydrogen imports used in the energy sector?')]), 'input': {'input': 'How are hydrogen imports used in the energy sector?'}}, 'run_id': '287462a9-117c-4718-bae3-682e033d11a1', 'name': 'ChatPromptTemplate', 'tags': ['seq:step:1'], 'metadata': {'langgraph_step': 4, 'langgraph_node': 'transform_query'}}\n",
      "{'event': 'on_chat_model_start', 'data': {'input': {'messages': [[SystemMessage(content='You are a helpful assistant, you will analyze, translate and reformulate the user input message using the function provided'), HumanMessage(content='input: How are hydrogen imports used in the energy sector?')]]}}, 'name': 'ChatOpenAI', 'tags': ['seq:step:2'], 'run_id': '3a55b8b0-41e8-487c-8165-0e7026d8d1d9', 'metadata': {'langgraph_step': 4, 'langgraph_node': 'transform_query', 'ls_model_type': 'chat'}}\n"
     ]
    },
    {
     "name": "stderr",
     "output_type": "stream",
     "text": [
      "INFO:httpx:HTTP Request: POST https://api.openai.com/v1/chat/completions \"HTTP/1.1 200 OK\"\n"
     ]
    },
    {
     "name": "stdout",
     "output_type": "stream",
     "text": [
      "{'event': 'on_chat_model_stream', 'data': {'chunk': AIMessageChunk(content='', additional_kwargs={'function_call': {'arguments': '', 'name': 'QueryAnalysis'}}, id='run-3a55b8b0-41e8-487c-8165-0e7026d8d1d9')}, 'run_id': '3a55b8b0-41e8-487c-8165-0e7026d8d1d9', 'name': 'ChatOpenAI', 'tags': ['seq:step:2'], 'metadata': {'langgraph_step': 4, 'langgraph_node': 'transform_query', 'ls_model_type': 'chat'}}\n",
      "{'event': 'on_chat_model_stream', 'data': {'chunk': AIMessageChunk(content='', additional_kwargs={'function_call': {'arguments': '{\"', 'name': ''}}, id='run-3a55b8b0-41e8-487c-8165-0e7026d8d1d9')}, 'run_id': '3a55b8b0-41e8-487c-8165-0e7026d8d1d9', 'name': 'ChatOpenAI', 'tags': ['seq:step:2'], 'metadata': {'langgraph_step': 4, 'langgraph_node': 'transform_query', 'ls_model_type': 'chat'}}\n",
      "{'event': 'on_chat_model_stream', 'data': {'chunk': AIMessageChunk(content='', additional_kwargs={'function_call': {'arguments': 'sources', 'name': ''}}, id='run-3a55b8b0-41e8-487c-8165-0e7026d8d1d9')}, 'run_id': '3a55b8b0-41e8-487c-8165-0e7026d8d1d9', 'name': 'ChatOpenAI', 'tags': ['seq:step:2'], 'metadata': {'langgraph_step': 4, 'langgraph_node': 'transform_query', 'ls_model_type': 'chat'}}\n",
      "{'event': 'on_chat_model_stream', 'data': {'chunk': AIMessageChunk(content='', additional_kwargs={'function_call': {'arguments': '\":[\"', 'name': ''}}, id='run-3a55b8b0-41e8-487c-8165-0e7026d8d1d9')}, 'run_id': '3a55b8b0-41e8-487c-8165-0e7026d8d1d9', 'name': 'ChatOpenAI', 'tags': ['seq:step:2'], 'metadata': {'langgraph_step': 4, 'langgraph_node': 'transform_query', 'ls_model_type': 'chat'}}\n",
      "{'event': 'on_chat_model_stream', 'data': {'chunk': AIMessageChunk(content='', additional_kwargs={'function_call': {'arguments': 'IP', 'name': ''}}, id='run-3a55b8b0-41e8-487c-8165-0e7026d8d1d9')}, 'run_id': '3a55b8b0-41e8-487c-8165-0e7026d8d1d9', 'name': 'ChatOpenAI', 'tags': ['seq:step:2'], 'metadata': {'langgraph_step': 4, 'langgraph_node': 'transform_query', 'ls_model_type': 'chat'}}\n",
      "{'event': 'on_chat_model_stream', 'data': {'chunk': AIMessageChunk(content='', additional_kwargs={'function_call': {'arguments': 'CC', 'name': ''}}, id='run-3a55b8b0-41e8-487c-8165-0e7026d8d1d9')}, 'run_id': '3a55b8b0-41e8-487c-8165-0e7026d8d1d9', 'name': 'ChatOpenAI', 'tags': ['seq:step:2'], 'metadata': {'langgraph_step': 4, 'langgraph_node': 'transform_query', 'ls_model_type': 'chat'}}\n",
      "{'event': 'on_chat_model_stream', 'data': {'chunk': AIMessageChunk(content='', additional_kwargs={'function_call': {'arguments': '\"]}', 'name': ''}}, id='run-3a55b8b0-41e8-487c-8165-0e7026d8d1d9')}, 'run_id': '3a55b8b0-41e8-487c-8165-0e7026d8d1d9', 'name': 'ChatOpenAI', 'tags': ['seq:step:2'], 'metadata': {'langgraph_step': 4, 'langgraph_node': 'transform_query', 'ls_model_type': 'chat'}}\n",
      "{'event': 'on_chat_model_stream', 'data': {'chunk': AIMessageChunk(content='', response_metadata={'finish_reason': 'stop'}, id='run-3a55b8b0-41e8-487c-8165-0e7026d8d1d9')}, 'run_id': '3a55b8b0-41e8-487c-8165-0e7026d8d1d9', 'name': 'ChatOpenAI', 'tags': ['seq:step:2'], 'metadata': {'langgraph_step': 4, 'langgraph_node': 'transform_query', 'ls_model_type': 'chat'}}\n",
      "{'event': 'on_chat_model_end', 'data': {'output': AIMessage(content='', additional_kwargs={'function_call': {'arguments': '{\"sources\":[\"IPCC\"]}', 'name': 'QueryAnalysis'}}, response_metadata={'finish_reason': 'stop'}, id='run-3a55b8b0-41e8-487c-8165-0e7026d8d1d9'), 'input': {'messages': [[SystemMessage(content='You are a helpful assistant, you will analyze, translate and reformulate the user input message using the function provided'), HumanMessage(content='input: How are hydrogen imports used in the energy sector?')]]}}, 'run_id': '3a55b8b0-41e8-487c-8165-0e7026d8d1d9', 'name': 'ChatOpenAI', 'tags': ['seq:step:2'], 'metadata': {'langgraph_step': 4, 'langgraph_node': 'transform_query', 'ls_model_type': 'chat'}}\n",
      "{'event': 'on_parser_start', 'data': {'input': AIMessage(content='', additional_kwargs={'function_call': {'arguments': '{\"sources\":[\"IPCC\"]}', 'name': 'QueryAnalysis'}}, response_metadata={'finish_reason': 'stop'}, id='run-3a55b8b0-41e8-487c-8165-0e7026d8d1d9')}, 'name': 'JsonOutputFunctionsParser', 'tags': ['seq:step:3'], 'run_id': '71f5b322-ea1d-44d5-88ba-60013bf96f0a', 'metadata': {'langgraph_step': 4, 'langgraph_node': 'transform_query'}}\n",
      "{'event': 'on_parser_end', 'data': {'output': {'sources': ['IPCC']}, 'input': AIMessage(content='', additional_kwargs={'function_call': {'arguments': '{\"sources\":[\"IPCC\"]}', 'name': 'QueryAnalysis'}}, response_metadata={'finish_reason': 'stop'}, id='run-3a55b8b0-41e8-487c-8165-0e7026d8d1d9')}, 'run_id': '71f5b322-ea1d-44d5-88ba-60013bf96f0a', 'name': 'JsonOutputFunctionsParser', 'tags': ['seq:step:3'], 'metadata': {'langgraph_step': 4, 'langgraph_node': 'transform_query'}}\n",
      "{'event': 'on_chain_end', 'data': {'output': {'sources': ['IPCC']}, 'input': {'input': 'How are hydrogen imports used in the energy sector?'}}, 'run_id': 'cca962b9-5db2-46b4-9ddf-e700a02fa328', 'name': 'RunnableSequence', 'tags': ['seq:step:1'], 'metadata': {'langgraph_step': 4, 'langgraph_node': 'transform_query'}}\n",
      "{'event': 'on_chain_start', 'data': {'input': {'input': 'What are the benefits of hydrogen imports for countries?'}}, 'name': 'RunnableSequence', 'tags': ['seq:step:1'], 'run_id': '792387a4-88cc-45ea-81f9-d90ab29b04d8', 'metadata': {'langgraph_step': 4, 'langgraph_node': 'transform_query'}}\n",
      "{'event': 'on_prompt_start', 'data': {'input': {'input': 'What are the benefits of hydrogen imports for countries?'}}, 'name': 'ChatPromptTemplate', 'tags': ['seq:step:1'], 'run_id': 'f793a0d6-10cd-4c2f-9847-cd6ea48cc460', 'metadata': {'langgraph_step': 4, 'langgraph_node': 'transform_query'}}\n",
      "{'event': 'on_prompt_end', 'data': {'output': ChatPromptValue(messages=[SystemMessage(content='You are a helpful assistant, you will analyze, translate and reformulate the user input message using the function provided'), HumanMessage(content='input: What are the benefits of hydrogen imports for countries?')]), 'input': {'input': 'What are the benefits of hydrogen imports for countries?'}}, 'run_id': 'f793a0d6-10cd-4c2f-9847-cd6ea48cc460', 'name': 'ChatPromptTemplate', 'tags': ['seq:step:1'], 'metadata': {'langgraph_step': 4, 'langgraph_node': 'transform_query'}}\n",
      "{'event': 'on_chat_model_start', 'data': {'input': {'messages': [[SystemMessage(content='You are a helpful assistant, you will analyze, translate and reformulate the user input message using the function provided'), HumanMessage(content='input: What are the benefits of hydrogen imports for countries?')]]}}, 'name': 'ChatOpenAI', 'tags': ['seq:step:2'], 'run_id': 'a4553003-567c-4133-9ba2-32a90d84b666', 'metadata': {'langgraph_step': 4, 'langgraph_node': 'transform_query', 'ls_model_type': 'chat'}}\n"
     ]
    },
    {
     "name": "stderr",
     "output_type": "stream",
     "text": [
      "INFO:httpx:HTTP Request: POST https://api.openai.com/v1/chat/completions \"HTTP/1.1 200 OK\"\n"
     ]
    },
    {
     "name": "stdout",
     "output_type": "stream",
     "text": [
      "{'event': 'on_chat_model_stream', 'data': {'chunk': AIMessageChunk(content='', additional_kwargs={'function_call': {'arguments': '', 'name': 'QueryAnalysis'}}, id='run-a4553003-567c-4133-9ba2-32a90d84b666')}, 'run_id': 'a4553003-567c-4133-9ba2-32a90d84b666', 'name': 'ChatOpenAI', 'tags': ['seq:step:2'], 'metadata': {'langgraph_step': 4, 'langgraph_node': 'transform_query', 'ls_model_type': 'chat'}}\n",
      "{'event': 'on_chat_model_stream', 'data': {'chunk': AIMessageChunk(content='', additional_kwargs={'function_call': {'arguments': '{\"', 'name': ''}}, id='run-a4553003-567c-4133-9ba2-32a90d84b666')}, 'run_id': 'a4553003-567c-4133-9ba2-32a90d84b666', 'name': 'ChatOpenAI', 'tags': ['seq:step:2'], 'metadata': {'langgraph_step': 4, 'langgraph_node': 'transform_query', 'ls_model_type': 'chat'}}\n",
      "{'event': 'on_chat_model_stream', 'data': {'chunk': AIMessageChunk(content='', additional_kwargs={'function_call': {'arguments': 'sources', 'name': ''}}, id='run-a4553003-567c-4133-9ba2-32a90d84b666')}, 'run_id': 'a4553003-567c-4133-9ba2-32a90d84b666', 'name': 'ChatOpenAI', 'tags': ['seq:step:2'], 'metadata': {'langgraph_step': 4, 'langgraph_node': 'transform_query', 'ls_model_type': 'chat'}}\n",
      "{'event': 'on_chat_model_stream', 'data': {'chunk': AIMessageChunk(content='', additional_kwargs={'function_call': {'arguments': '\":[\"', 'name': ''}}, id='run-a4553003-567c-4133-9ba2-32a90d84b666')}, 'run_id': 'a4553003-567c-4133-9ba2-32a90d84b666', 'name': 'ChatOpenAI', 'tags': ['seq:step:2'], 'metadata': {'langgraph_step': 4, 'langgraph_node': 'transform_query', 'ls_model_type': 'chat'}}\n",
      "{'event': 'on_chat_model_stream', 'data': {'chunk': AIMessageChunk(content='', additional_kwargs={'function_call': {'arguments': 'Open', 'name': ''}}, id='run-a4553003-567c-4133-9ba2-32a90d84b666')}, 'run_id': 'a4553003-567c-4133-9ba2-32a90d84b666', 'name': 'ChatOpenAI', 'tags': ['seq:step:2'], 'metadata': {'langgraph_step': 4, 'langgraph_node': 'transform_query', 'ls_model_type': 'chat'}}\n",
      "{'event': 'on_chat_model_stream', 'data': {'chunk': AIMessageChunk(content='', additional_kwargs={'function_call': {'arguments': 'Alex', 'name': ''}}, id='run-a4553003-567c-4133-9ba2-32a90d84b666')}, 'run_id': 'a4553003-567c-4133-9ba2-32a90d84b666', 'name': 'ChatOpenAI', 'tags': ['seq:step:2'], 'metadata': {'langgraph_step': 4, 'langgraph_node': 'transform_query', 'ls_model_type': 'chat'}}\n",
      "{'event': 'on_chat_model_stream', 'data': {'chunk': AIMessageChunk(content='', additional_kwargs={'function_call': {'arguments': '\"]}', 'name': ''}}, id='run-a4553003-567c-4133-9ba2-32a90d84b666')}, 'run_id': 'a4553003-567c-4133-9ba2-32a90d84b666', 'name': 'ChatOpenAI', 'tags': ['seq:step:2'], 'metadata': {'langgraph_step': 4, 'langgraph_node': 'transform_query', 'ls_model_type': 'chat'}}\n",
      "{'event': 'on_chat_model_stream', 'data': {'chunk': AIMessageChunk(content='', response_metadata={'finish_reason': 'stop'}, id='run-a4553003-567c-4133-9ba2-32a90d84b666')}, 'run_id': 'a4553003-567c-4133-9ba2-32a90d84b666', 'name': 'ChatOpenAI', 'tags': ['seq:step:2'], 'metadata': {'langgraph_step': 4, 'langgraph_node': 'transform_query', 'ls_model_type': 'chat'}}\n",
      "{'event': 'on_chat_model_end', 'data': {'output': AIMessage(content='', additional_kwargs={'function_call': {'arguments': '{\"sources\":[\"OpenAlex\"]}', 'name': 'QueryAnalysis'}}, response_metadata={'finish_reason': 'stop'}, id='run-a4553003-567c-4133-9ba2-32a90d84b666'), 'input': {'messages': [[SystemMessage(content='You are a helpful assistant, you will analyze, translate and reformulate the user input message using the function provided'), HumanMessage(content='input: What are the benefits of hydrogen imports for countries?')]]}}, 'run_id': 'a4553003-567c-4133-9ba2-32a90d84b666', 'name': 'ChatOpenAI', 'tags': ['seq:step:2'], 'metadata': {'langgraph_step': 4, 'langgraph_node': 'transform_query', 'ls_model_type': 'chat'}}\n",
      "{'event': 'on_parser_start', 'data': {'input': AIMessage(content='', additional_kwargs={'function_call': {'arguments': '{\"sources\":[\"OpenAlex\"]}', 'name': 'QueryAnalysis'}}, response_metadata={'finish_reason': 'stop'}, id='run-a4553003-567c-4133-9ba2-32a90d84b666')}, 'name': 'JsonOutputFunctionsParser', 'tags': ['seq:step:3'], 'run_id': 'c5eb6c21-01f3-454e-bc6a-e7b472d68b5b', 'metadata': {'langgraph_step': 4, 'langgraph_node': 'transform_query'}}\n",
      "{'event': 'on_parser_end', 'data': {'output': {'sources': ['OpenAlex']}, 'input': AIMessage(content='', additional_kwargs={'function_call': {'arguments': '{\"sources\":[\"OpenAlex\"]}', 'name': 'QueryAnalysis'}}, response_metadata={'finish_reason': 'stop'}, id='run-a4553003-567c-4133-9ba2-32a90d84b666')}, 'run_id': 'c5eb6c21-01f3-454e-bc6a-e7b472d68b5b', 'name': 'JsonOutputFunctionsParser', 'tags': ['seq:step:3'], 'metadata': {'langgraph_step': 4, 'langgraph_node': 'transform_query'}}\n",
      "{'event': 'on_chain_end', 'data': {'output': {'sources': ['OpenAlex']}, 'input': {'input': 'What are the benefits of hydrogen imports for countries?'}}, 'run_id': '792387a4-88cc-45ea-81f9-d90ab29b04d8', 'name': 'RunnableSequence', 'tags': ['seq:step:1'], 'metadata': {'langgraph_step': 4, 'langgraph_node': 'transform_query'}}\n",
      "{'event': 'on_chain_start', 'data': {'input': {'questions': [{'question': 'What is the definition of hydrogen imports?', 'sources': ['OpenAlex']}, {'question': 'How are hydrogen imports used in the energy sector?', 'sources': ['IPCC']}, {'question': 'What are the benefits of hydrogen imports for countries?', 'sources': ['OpenAlex']}]}}, 'name': 'ChannelWrite<transform_query,user_input,language,intent,query,questions,answer,audience,sources_input,documents,recommended_content>', 'tags': ['seq:step:2', 'langsmith:hidden'], 'run_id': '72153d84-bf76-40da-a918-92a35bc93182', 'metadata': {'langgraph_step': 4, 'langgraph_node': 'transform_query'}}\n",
      "{'event': 'on_chain_end', 'data': {'output': {'questions': [{'question': 'What is the definition of hydrogen imports?', 'sources': ['OpenAlex']}, {'question': 'How are hydrogen imports used in the energy sector?', 'sources': ['IPCC']}, {'question': 'What are the benefits of hydrogen imports for countries?', 'sources': ['OpenAlex']}]}, 'input': {'questions': [{'question': 'What is the definition of hydrogen imports?', 'sources': ['OpenAlex']}, {'question': 'How are hydrogen imports used in the energy sector?', 'sources': ['IPCC']}, {'question': 'What are the benefits of hydrogen imports for countries?', 'sources': ['OpenAlex']}]}}, 'run_id': '72153d84-bf76-40da-a918-92a35bc93182', 'name': 'ChannelWrite<transform_query,user_input,language,intent,query,questions,answer,audience,sources_input,documents,recommended_content>', 'tags': ['seq:step:2', 'langsmith:hidden'], 'metadata': {'langgraph_step': 4, 'langgraph_node': 'transform_query'}}\n",
      "{'event': 'on_chain_stream', 'run_id': 'd3aa8d92-d333-4890-88e9-797d27eb9c72', 'name': 'transform_query', 'tags': ['graph:step:4'], 'metadata': {'langgraph_step': 4, 'langgraph_node': 'transform_query'}, 'data': {'chunk': {'questions': [{'question': 'What is the definition of hydrogen imports?', 'sources': ['OpenAlex']}, {'question': 'How are hydrogen imports used in the energy sector?', 'sources': ['IPCC']}, {'question': 'What are the benefits of hydrogen imports for countries?', 'sources': ['OpenAlex']}]}}}\n",
      "{'event': 'on_chain_end', 'data': {'output': {'questions': [{'question': 'What is the definition of hydrogen imports?', 'sources': ['OpenAlex']}, {'question': 'How are hydrogen imports used in the energy sector?', 'sources': ['IPCC']}, {'question': 'What are the benefits of hydrogen imports for countries?', 'sources': ['OpenAlex']}]}, 'input': {'user_input': 'What are hydrogen imports?', 'language': 'English', 'intent': 'search', 'query': 'What are hydrogen imports?', 'questions': None, 'answer': None, 'audience': 'experts', 'sources_input': ['auto'], 'documents': None, 'recommended_content': None}}, 'run_id': 'd3aa8d92-d333-4890-88e9-797d27eb9c72', 'name': 'transform_query', 'tags': ['graph:step:4'], 'metadata': {'langgraph_step': 4, 'langgraph_node': 'transform_query'}}\n",
      "{'event': 'on_chain_stream', 'run_id': '1c50a12d-ef8c-46a1-8cf4-577ebd484fdc', 'name': 'LangGraph', 'tags': [], 'metadata': {}, 'data': {'chunk': {'transform_query': {'questions': [{'question': 'What is the definition of hydrogen imports?', 'sources': ['OpenAlex']}, {'question': 'How are hydrogen imports used in the energy sector?', 'sources': ['IPCC']}, {'question': 'What are the benefits of hydrogen imports for countries?', 'sources': ['OpenAlex']}]}}}}\n",
      "{'event': 'on_chain_start', 'data': {}, 'name': 'retrieve_graphs', 'tags': ['graph:step:5'], 'run_id': 'c969c115-ba72-4c5c-b5c7-a9db5e0c0abb', 'metadata': {'langgraph_step': 5, 'langgraph_node': 'retrieve_graphs'}}\n",
      "---- Retrieving graphs ----\n",
      "{'event': 'on_chain_start', 'data': {'input': {'recommended_content': []}}, 'name': 'ChannelWrite<retrieve_graphs,user_input,language,intent,query,questions,answer,audience,sources_input,documents,recommended_content>', 'tags': ['seq:step:2', 'langsmith:hidden'], 'run_id': '20512903-2e2a-47a0-85e2-001042143cbd', 'metadata': {'langgraph_step': 5, 'langgraph_node': 'retrieve_graphs'}}\n",
      "{'event': 'on_chain_end', 'data': {'output': {'recommended_content': []}, 'input': {'recommended_content': []}}, 'run_id': '20512903-2e2a-47a0-85e2-001042143cbd', 'name': 'ChannelWrite<retrieve_graphs,user_input,language,intent,query,questions,answer,audience,sources_input,documents,recommended_content>', 'tags': ['seq:step:2', 'langsmith:hidden'], 'metadata': {'langgraph_step': 5, 'langgraph_node': 'retrieve_graphs'}}\n",
      "{'event': 'on_chain_stream', 'run_id': 'c969c115-ba72-4c5c-b5c7-a9db5e0c0abb', 'name': 'retrieve_graphs', 'tags': ['graph:step:5'], 'metadata': {'langgraph_step': 5, 'langgraph_node': 'retrieve_graphs'}, 'data': {'chunk': {'recommended_content': []}}}\n",
      "{'event': 'on_chain_end', 'data': {'output': {'recommended_content': []}, 'input': {'user_input': 'What are hydrogen imports?', 'language': 'English', 'intent': 'search', 'query': 'What are hydrogen imports?', 'questions': [{'question': 'What is the definition of hydrogen imports?', 'sources': ['OpenAlex']}, {'question': 'How are hydrogen imports used in the energy sector?', 'sources': ['IPCC']}, {'question': 'What are the benefits of hydrogen imports for countries?', 'sources': ['OpenAlex']}], 'answer': None, 'audience': 'experts', 'sources_input': ['auto'], 'documents': None, 'recommended_content': None}}, 'run_id': 'c969c115-ba72-4c5c-b5c7-a9db5e0c0abb', 'name': 'retrieve_graphs', 'tags': ['graph:step:5'], 'metadata': {'langgraph_step': 5, 'langgraph_node': 'retrieve_graphs'}}\n",
      "{'event': 'on_chain_stream', 'run_id': '1c50a12d-ef8c-46a1-8cf4-577ebd484fdc', 'name': 'LangGraph', 'tags': [], 'metadata': {}, 'data': {'chunk': {'retrieve_graphs': {'recommended_content': []}}}}\n",
      "{'event': 'on_chain_start', 'data': {}, 'name': 'retrieve_documents', 'tags': ['graph:step:6'], 'run_id': 'cb56167e-971b-47db-93bf-813ebccce9c9', 'metadata': {'langgraph_step': 6, 'langgraph_node': 'retrieve_documents'}}\n"
     ]
    },
    {
     "ename": "AssertionError",
     "evalue": "",
     "output_type": "error",
     "traceback": [
      "\u001b[0;31m---------------------------------------------------------------------------\u001b[0m",
      "\u001b[0;31mAssertionError\u001b[0m                            Traceback (most recent call last)",
      "Cell \u001b[0;32mIn[62], line 1\u001b[0m\n\u001b[0;32m----> 1\u001b[0m \u001b[38;5;28;01masync\u001b[39;00m \u001b[38;5;28;01mfor\u001b[39;00m event \u001b[38;5;129;01min\u001b[39;00m app\u001b[38;5;241m.\u001b[39mastream_events({\u001b[38;5;124m\"\u001b[39m\u001b[38;5;124muser_input\u001b[39m\u001b[38;5;124m\"\u001b[39m: \u001b[38;5;124m\"\u001b[39m\u001b[38;5;124mWhat are hydrogen imports?\u001b[39m\u001b[38;5;124m\"\u001b[39m}, version \u001b[38;5;241m=\u001b[39m \u001b[38;5;124m\"\u001b[39m\u001b[38;5;124mv2\u001b[39m\u001b[38;5;124m\"\u001b[39m):\n\u001b[1;32m      2\u001b[0m     \u001b[38;5;28mprint\u001b[39m(event)\n",
      "File \u001b[0;32m~/anaconda3/envs/climateqa_huggingface/lib/python3.12/site-packages/langchain_core/runnables/base.py:1131\u001b[0m, in \u001b[0;36mRunnable.astream_events\u001b[0;34m(self, input, config, version, include_names, include_types, include_tags, exclude_names, exclude_types, exclude_tags, **kwargs)\u001b[0m\n\u001b[1;32m   1126\u001b[0m \u001b[38;5;28;01melse\u001b[39;00m:\n\u001b[1;32m   1127\u001b[0m     \u001b[38;5;28;01mraise\u001b[39;00m \u001b[38;5;167;01mNotImplementedError\u001b[39;00m(\n\u001b[1;32m   1128\u001b[0m         \u001b[38;5;124m'\u001b[39m\u001b[38;5;124mOnly versions \u001b[39m\u001b[38;5;124m\"\u001b[39m\u001b[38;5;124mv1\u001b[39m\u001b[38;5;124m\"\u001b[39m\u001b[38;5;124m and \u001b[39m\u001b[38;5;124m\"\u001b[39m\u001b[38;5;124mv2\u001b[39m\u001b[38;5;124m\"\u001b[39m\u001b[38;5;124m of the schema is currently supported.\u001b[39m\u001b[38;5;124m'\u001b[39m\n\u001b[1;32m   1129\u001b[0m     )\n\u001b[0;32m-> 1131\u001b[0m \u001b[38;5;28;01masync\u001b[39;00m \u001b[38;5;28;01mfor\u001b[39;00m event \u001b[38;5;129;01min\u001b[39;00m event_stream:\n\u001b[1;32m   1132\u001b[0m     \u001b[38;5;28;01myield\u001b[39;00m event\n",
      "File \u001b[0;32m~/anaconda3/envs/climateqa_huggingface/lib/python3.12/site-packages/langchain_core/tracers/event_stream.py:860\u001b[0m, in \u001b[0;36m_astream_events_implementation_v2\u001b[0;34m(runnable, input, config, include_names, include_types, include_tags, exclude_names, exclude_types, exclude_tags, **kwargs)\u001b[0m\n\u001b[1;32m    857\u001b[0m \u001b[38;5;28;01mfinally\u001b[39;00m:\n\u001b[1;32m    858\u001b[0m     \u001b[38;5;66;03m# Wait for the runnable to finish, if not cancelled (eg. by break)\u001b[39;00m\n\u001b[1;32m    859\u001b[0m     \u001b[38;5;28;01mtry\u001b[39;00m:\n\u001b[0;32m--> 860\u001b[0m         \u001b[38;5;28;01mawait\u001b[39;00m task\n\u001b[1;32m    861\u001b[0m     \u001b[38;5;28;01mexcept\u001b[39;00m asyncio\u001b[38;5;241m.\u001b[39mCancelledError:\n\u001b[1;32m    862\u001b[0m         \u001b[38;5;28;01mpass\u001b[39;00m\n",
      "File \u001b[0;32m~/anaconda3/envs/climateqa_huggingface/lib/python3.12/site-packages/langchain_core/tracers/event_stream.py:820\u001b[0m, in \u001b[0;36m_astream_events_implementation_v2.<locals>.consume_astream\u001b[0;34m()\u001b[0m\n\u001b[1;32m    817\u001b[0m \u001b[38;5;28;01masync\u001b[39;00m \u001b[38;5;28;01mdef\u001b[39;00m \u001b[38;5;21mconsume_astream\u001b[39m() \u001b[38;5;241m-\u001b[39m\u001b[38;5;241m>\u001b[39m \u001b[38;5;28;01mNone\u001b[39;00m:\n\u001b[1;32m    818\u001b[0m     \u001b[38;5;28;01mtry\u001b[39;00m:\n\u001b[1;32m    819\u001b[0m         \u001b[38;5;66;03m# if astream also calls tap_output_aiter this will be a no-op\u001b[39;00m\n\u001b[0;32m--> 820\u001b[0m         \u001b[38;5;28;01masync\u001b[39;00m \u001b[38;5;28;01mfor\u001b[39;00m _ \u001b[38;5;129;01min\u001b[39;00m event_streamer\u001b[38;5;241m.\u001b[39mtap_output_aiter(\n\u001b[1;32m    821\u001b[0m             run_id, runnable\u001b[38;5;241m.\u001b[39mastream(\u001b[38;5;28minput\u001b[39m, config, \u001b[38;5;241m*\u001b[39m\u001b[38;5;241m*\u001b[39mkwargs)\n\u001b[1;32m    822\u001b[0m         ):\n\u001b[1;32m    823\u001b[0m             \u001b[38;5;66;03m# All the content will be picked up\u001b[39;00m\n\u001b[1;32m    824\u001b[0m             \u001b[38;5;28;01mpass\u001b[39;00m\n\u001b[1;32m    825\u001b[0m     \u001b[38;5;28;01mfinally\u001b[39;00m:\n",
      "File \u001b[0;32m~/anaconda3/envs/climateqa_huggingface/lib/python3.12/site-packages/langchain_core/tracers/event_stream.py:147\u001b[0m, in \u001b[0;36m_AstreamEventsCallbackHandler.tap_output_aiter\u001b[0;34m(self, run_id, output)\u001b[0m\n\u001b[1;32m    145\u001b[0m \u001b[38;5;28;01myield\u001b[39;00m cast(T, first)\n\u001b[1;32m    146\u001b[0m \u001b[38;5;66;03m# consume the rest of the output\u001b[39;00m\n\u001b[0;32m--> 147\u001b[0m \u001b[38;5;28;01masync\u001b[39;00m \u001b[38;5;28;01mfor\u001b[39;00m chunk \u001b[38;5;129;01min\u001b[39;00m output:\n\u001b[1;32m    148\u001b[0m     \u001b[38;5;28mself\u001b[39m\u001b[38;5;241m.\u001b[39m_send(\n\u001b[1;32m    149\u001b[0m         {\u001b[38;5;241m*\u001b[39m\u001b[38;5;241m*\u001b[39mevent, \u001b[38;5;124m\"\u001b[39m\u001b[38;5;124mdata\u001b[39m\u001b[38;5;124m\"\u001b[39m: {\u001b[38;5;124m\"\u001b[39m\u001b[38;5;124mchunk\u001b[39m\u001b[38;5;124m\"\u001b[39m: chunk}},\n\u001b[1;32m    150\u001b[0m         run_info[\u001b[38;5;124m\"\u001b[39m\u001b[38;5;124mrun_type\u001b[39m\u001b[38;5;124m\"\u001b[39m],\n\u001b[1;32m    151\u001b[0m     )\n\u001b[1;32m    152\u001b[0m     \u001b[38;5;28;01myield\u001b[39;00m chunk\n",
      "File \u001b[0;32m~/anaconda3/envs/climateqa_huggingface/lib/python3.12/site-packages/langgraph/pregel/__init__.py:1296\u001b[0m, in \u001b[0;36mPregel.astream\u001b[0;34m(self, input, config, stream_mode, output_keys, input_keys, interrupt_before, interrupt_after, debug)\u001b[0m\n\u001b[1;32m   1294\u001b[0m     \u001b[38;5;28;01mpass\u001b[39;00m\n\u001b[1;32m   1295\u001b[0m \u001b[38;5;66;03m# wait for all background tasks to finish\u001b[39;00m\n\u001b[0;32m-> 1296\u001b[0m \u001b[38;5;28;01mawait\u001b[39;00m asyncio\u001b[38;5;241m.\u001b[39mgather(\u001b[38;5;241m*\u001b[39mbg)\n",
      "File \u001b[0;32m~/anaconda3/envs/climateqa_huggingface/lib/python3.12/site-packages/langgraph/pregel/__init__.py:1179\u001b[0m, in \u001b[0;36mPregel.astream\u001b[0;34m(self, input, config, stream_mode, output_keys, input_keys, interrupt_before, interrupt_after, debug)\u001b[0m\n\u001b[1;32m   1172\u001b[0m done, inflight \u001b[38;5;241m=\u001b[39m \u001b[38;5;28;01mawait\u001b[39;00m asyncio\u001b[38;5;241m.\u001b[39mwait(\n\u001b[1;32m   1173\u001b[0m     futures,\n\u001b[1;32m   1174\u001b[0m     return_when\u001b[38;5;241m=\u001b[39masyncio\u001b[38;5;241m.\u001b[39mFIRST_EXCEPTION,\n\u001b[1;32m   1175\u001b[0m     timeout\u001b[38;5;241m=\u001b[39m\u001b[38;5;28mself\u001b[39m\u001b[38;5;241m.\u001b[39mstep_timeout,\n\u001b[1;32m   1176\u001b[0m )\n\u001b[1;32m   1178\u001b[0m \u001b[38;5;66;03m# panic on failure or timeout\u001b[39;00m\n\u001b[0;32m-> 1179\u001b[0m \u001b[43m_panic_or_proceed\u001b[49m\u001b[43m(\u001b[49m\u001b[43mdone\u001b[49m\u001b[43m,\u001b[49m\u001b[43m \u001b[49m\u001b[43minflight\u001b[49m\u001b[43m,\u001b[49m\u001b[43m \u001b[49m\u001b[43mstep\u001b[49m\u001b[43m)\u001b[49m\n\u001b[1;32m   1181\u001b[0m \u001b[38;5;66;03m# combine pending writes from all tasks\u001b[39;00m\n\u001b[1;32m   1182\u001b[0m pending_writes \u001b[38;5;241m=\u001b[39m deque[\u001b[38;5;28mtuple\u001b[39m[\u001b[38;5;28mstr\u001b[39m, Any]]()\n",
      "File \u001b[0;32m~/anaconda3/envs/climateqa_huggingface/lib/python3.12/site-packages/langgraph/pregel/__init__.py:1422\u001b[0m, in \u001b[0;36m_panic_or_proceed\u001b[0;34m(done, inflight, step)\u001b[0m\n\u001b[1;32m   1420\u001b[0m             inflight\u001b[38;5;241m.\u001b[39mpop()\u001b[38;5;241m.\u001b[39mcancel()\n\u001b[1;32m   1421\u001b[0m         \u001b[38;5;66;03m# raise the exception\u001b[39;00m\n\u001b[0;32m-> 1422\u001b[0m         \u001b[38;5;28;01mraise\u001b[39;00m exc\n\u001b[1;32m   1424\u001b[0m \u001b[38;5;28;01mif\u001b[39;00m inflight:\n\u001b[1;32m   1425\u001b[0m     \u001b[38;5;66;03m# if we got here means we timed out\u001b[39;00m\n\u001b[1;32m   1426\u001b[0m     \u001b[38;5;28;01mwhile\u001b[39;00m inflight:\n\u001b[1;32m   1427\u001b[0m         \u001b[38;5;66;03m# cancel all pending tasks\u001b[39;00m\n",
      "File \u001b[0;32m~/anaconda3/envs/climateqa_huggingface/lib/python3.12/site-packages/langgraph/pregel/retry.py:111\u001b[0m, in \u001b[0;36marun_with_retry\u001b[0;34m(task, retry_policy, stream)\u001b[0m\n\u001b[1;32m    109\u001b[0m \u001b[38;5;66;03m# run the task\u001b[39;00m\n\u001b[1;32m    110\u001b[0m \u001b[38;5;28;01mif\u001b[39;00m stream:\n\u001b[0;32m--> 111\u001b[0m     \u001b[38;5;28;01masync\u001b[39;00m \u001b[38;5;28;01mfor\u001b[39;00m _ \u001b[38;5;129;01min\u001b[39;00m task\u001b[38;5;241m.\u001b[39mproc\u001b[38;5;241m.\u001b[39mastream(task\u001b[38;5;241m.\u001b[39minput, task\u001b[38;5;241m.\u001b[39mconfig):\n\u001b[1;32m    112\u001b[0m         \u001b[38;5;28;01mpass\u001b[39;00m\n\u001b[1;32m    113\u001b[0m \u001b[38;5;28;01melse\u001b[39;00m:\n",
      "File \u001b[0;32m~/anaconda3/envs/climateqa_huggingface/lib/python3.12/site-packages/langchain_core/runnables/base.py:2794\u001b[0m, in \u001b[0;36mRunnableSequence.astream\u001b[0;34m(self, input, config, **kwargs)\u001b[0m\n\u001b[1;32m   2791\u001b[0m \u001b[38;5;28;01masync\u001b[39;00m \u001b[38;5;28;01mdef\u001b[39;00m \u001b[38;5;21minput_aiter\u001b[39m() \u001b[38;5;241m-\u001b[39m\u001b[38;5;241m>\u001b[39m AsyncIterator[Input]:\n\u001b[1;32m   2792\u001b[0m     \u001b[38;5;28;01myield\u001b[39;00m \u001b[38;5;28minput\u001b[39m\n\u001b[0;32m-> 2794\u001b[0m \u001b[38;5;28;01masync\u001b[39;00m \u001b[38;5;28;01mfor\u001b[39;00m chunk \u001b[38;5;129;01min\u001b[39;00m \u001b[38;5;28mself\u001b[39m\u001b[38;5;241m.\u001b[39matransform(input_aiter(), config, \u001b[38;5;241m*\u001b[39m\u001b[38;5;241m*\u001b[39mkwargs):\n\u001b[1;32m   2795\u001b[0m     \u001b[38;5;28;01myield\u001b[39;00m chunk\n",
      "File \u001b[0;32m~/anaconda3/envs/climateqa_huggingface/lib/python3.12/site-packages/langchain_core/runnables/base.py:2777\u001b[0m, in \u001b[0;36mRunnableSequence.atransform\u001b[0;34m(self, input, config, **kwargs)\u001b[0m\n\u001b[1;32m   2771\u001b[0m \u001b[38;5;28;01masync\u001b[39;00m \u001b[38;5;28;01mdef\u001b[39;00m \u001b[38;5;21matransform\u001b[39m(\n\u001b[1;32m   2772\u001b[0m     \u001b[38;5;28mself\u001b[39m,\n\u001b[1;32m   2773\u001b[0m     \u001b[38;5;28minput\u001b[39m: AsyncIterator[Input],\n\u001b[1;32m   2774\u001b[0m     config: Optional[RunnableConfig] \u001b[38;5;241m=\u001b[39m \u001b[38;5;28;01mNone\u001b[39;00m,\n\u001b[1;32m   2775\u001b[0m     \u001b[38;5;241m*\u001b[39m\u001b[38;5;241m*\u001b[39mkwargs: Optional[Any],\n\u001b[1;32m   2776\u001b[0m ) \u001b[38;5;241m-\u001b[39m\u001b[38;5;241m>\u001b[39m AsyncIterator[Output]:\n\u001b[0;32m-> 2777\u001b[0m     \u001b[38;5;28;01masync\u001b[39;00m \u001b[38;5;28;01mfor\u001b[39;00m chunk \u001b[38;5;129;01min\u001b[39;00m \u001b[38;5;28mself\u001b[39m\u001b[38;5;241m.\u001b[39m_atransform_stream_with_config(\n\u001b[1;32m   2778\u001b[0m         \u001b[38;5;28minput\u001b[39m,\n\u001b[1;32m   2779\u001b[0m         \u001b[38;5;28mself\u001b[39m\u001b[38;5;241m.\u001b[39m_atransform,\n\u001b[1;32m   2780\u001b[0m         patch_config(config, run_name\u001b[38;5;241m=\u001b[39m(config \u001b[38;5;129;01mor\u001b[39;00m {})\u001b[38;5;241m.\u001b[39mget(\u001b[38;5;124m\"\u001b[39m\u001b[38;5;124mrun_name\u001b[39m\u001b[38;5;124m\"\u001b[39m) \u001b[38;5;129;01mor\u001b[39;00m \u001b[38;5;28mself\u001b[39m\u001b[38;5;241m.\u001b[39mname),\n\u001b[1;32m   2781\u001b[0m         \u001b[38;5;241m*\u001b[39m\u001b[38;5;241m*\u001b[39mkwargs,\n\u001b[1;32m   2782\u001b[0m     ):\n\u001b[1;32m   2783\u001b[0m         \u001b[38;5;28;01myield\u001b[39;00m chunk\n",
      "File \u001b[0;32m~/anaconda3/envs/climateqa_huggingface/lib/python3.12/site-packages/langchain_core/runnables/base.py:1874\u001b[0m, in \u001b[0;36mRunnable._atransform_stream_with_config\u001b[0;34m(self, input, transformer, config, run_type, **kwargs)\u001b[0m\n\u001b[1;32m   1872\u001b[0m \u001b[38;5;28;01mwhile\u001b[39;00m \u001b[38;5;28;01mTrue\u001b[39;00m:\n\u001b[1;32m   1873\u001b[0m     \u001b[38;5;28;01mif\u001b[39;00m accepts_context(asyncio\u001b[38;5;241m.\u001b[39mcreate_task):\n\u001b[0;32m-> 1874\u001b[0m         chunk: Output \u001b[38;5;241m=\u001b[39m \u001b[38;5;28;01mawait\u001b[39;00m asyncio\u001b[38;5;241m.\u001b[39mcreate_task(  \u001b[38;5;66;03m# type: ignore[call-arg]\u001b[39;00m\n\u001b[1;32m   1875\u001b[0m             py_anext(iterator),  \u001b[38;5;66;03m# type: ignore[arg-type]\u001b[39;00m\n\u001b[1;32m   1876\u001b[0m             context\u001b[38;5;241m=\u001b[39mcontext,\n\u001b[1;32m   1877\u001b[0m         )\n\u001b[1;32m   1878\u001b[0m     \u001b[38;5;28;01melse\u001b[39;00m:\n\u001b[1;32m   1879\u001b[0m         chunk \u001b[38;5;241m=\u001b[39m cast(Output, \u001b[38;5;28;01mawait\u001b[39;00m py_anext(iterator))\n",
      "File \u001b[0;32m~/anaconda3/envs/climateqa_huggingface/lib/python3.12/site-packages/langchain_core/tracers/event_stream.py:125\u001b[0m, in \u001b[0;36m_AstreamEventsCallbackHandler.tap_output_aiter\u001b[0;34m(self, run_id, output)\u001b[0m\n\u001b[1;32m    123\u001b[0m tap \u001b[38;5;241m=\u001b[39m \u001b[38;5;28mself\u001b[39m\u001b[38;5;241m.\u001b[39mis_tapped\u001b[38;5;241m.\u001b[39msetdefault(run_id, sentinel)\n\u001b[1;32m    124\u001b[0m \u001b[38;5;66;03m# wait for first chunk\u001b[39;00m\n\u001b[0;32m--> 125\u001b[0m first \u001b[38;5;241m=\u001b[39m \u001b[38;5;28;01mawait\u001b[39;00m py_anext(output, default\u001b[38;5;241m=\u001b[39msentinel)\n\u001b[1;32m    126\u001b[0m \u001b[38;5;28;01mif\u001b[39;00m first \u001b[38;5;129;01mis\u001b[39;00m sentinel:\n\u001b[1;32m    127\u001b[0m     \u001b[38;5;28;01mreturn\u001b[39;00m\n",
      "File \u001b[0;32m~/anaconda3/envs/climateqa_huggingface/lib/python3.12/site-packages/langchain_core/utils/aiter.py:62\u001b[0m, in \u001b[0;36mpy_anext.<locals>.anext_impl\u001b[0;34m()\u001b[0m\n\u001b[1;32m     55\u001b[0m \u001b[38;5;28;01masync\u001b[39;00m \u001b[38;5;28;01mdef\u001b[39;00m \u001b[38;5;21manext_impl\u001b[39m() \u001b[38;5;241m-\u001b[39m\u001b[38;5;241m>\u001b[39m Union[T, Any]:\n\u001b[1;32m     56\u001b[0m     \u001b[38;5;28;01mtry\u001b[39;00m:\n\u001b[1;32m     57\u001b[0m         \u001b[38;5;66;03m# The C code is way more low-level than this, as it implements\u001b[39;00m\n\u001b[1;32m     58\u001b[0m         \u001b[38;5;66;03m# all methods of the iterator protocol. In this implementation\u001b[39;00m\n\u001b[1;32m     59\u001b[0m         \u001b[38;5;66;03m# we're relying on higher-level coroutine concepts, but that's\u001b[39;00m\n\u001b[1;32m     60\u001b[0m         \u001b[38;5;66;03m# exactly what we want -- crosstest pure-Python high-level\u001b[39;00m\n\u001b[1;32m     61\u001b[0m         \u001b[38;5;66;03m# implementation and low-level C anext() iterators.\u001b[39;00m\n\u001b[0;32m---> 62\u001b[0m         \u001b[38;5;28;01mreturn\u001b[39;00m \u001b[38;5;28;01mawait\u001b[39;00m \u001b[38;5;21m__anext__\u001b[39m(iterator)\n\u001b[1;32m     63\u001b[0m     \u001b[38;5;28;01mexcept\u001b[39;00m \u001b[38;5;167;01mStopAsyncIteration\u001b[39;00m:\n\u001b[1;32m     64\u001b[0m         \u001b[38;5;28;01mreturn\u001b[39;00m default\n",
      "File \u001b[0;32m~/anaconda3/envs/climateqa_huggingface/lib/python3.12/site-packages/langchain_core/runnables/base.py:2747\u001b[0m, in \u001b[0;36mRunnableSequence._atransform\u001b[0;34m(self, input, run_manager, config)\u001b[0m\n\u001b[1;32m   2739\u001b[0m \u001b[38;5;28;01mfor\u001b[39;00m step \u001b[38;5;129;01min\u001b[39;00m steps:\n\u001b[1;32m   2740\u001b[0m     final_pipeline \u001b[38;5;241m=\u001b[39m step\u001b[38;5;241m.\u001b[39matransform(\n\u001b[1;32m   2741\u001b[0m         final_pipeline,\n\u001b[1;32m   2742\u001b[0m         patch_config(\n\u001b[0;32m   (...)\u001b[0m\n\u001b[1;32m   2745\u001b[0m         ),\n\u001b[1;32m   2746\u001b[0m     )\n\u001b[0;32m-> 2747\u001b[0m \u001b[38;5;28;01masync\u001b[39;00m \u001b[38;5;28;01mfor\u001b[39;00m output \u001b[38;5;129;01min\u001b[39;00m final_pipeline:\n\u001b[1;32m   2748\u001b[0m     \u001b[38;5;28;01myield\u001b[39;00m output\n",
      "File \u001b[0;32m~/anaconda3/envs/climateqa_huggingface/lib/python3.12/site-packages/langchain_core/runnables/base.py:1182\u001b[0m, in \u001b[0;36mRunnable.atransform\u001b[0;34m(self, input, config, **kwargs)\u001b[0m\n\u001b[1;32m   1179\u001b[0m final: Input\n\u001b[1;32m   1180\u001b[0m got_first_val \u001b[38;5;241m=\u001b[39m \u001b[38;5;28;01mFalse\u001b[39;00m\n\u001b[0;32m-> 1182\u001b[0m \u001b[38;5;28;01masync\u001b[39;00m \u001b[38;5;28;01mfor\u001b[39;00m ichunk \u001b[38;5;129;01min\u001b[39;00m \u001b[38;5;28minput\u001b[39m:\n\u001b[1;32m   1183\u001b[0m     \u001b[38;5;66;03m# The default implementation of transform is to buffer input and\u001b[39;00m\n\u001b[1;32m   1184\u001b[0m     \u001b[38;5;66;03m# then call stream.\u001b[39;00m\n\u001b[1;32m   1185\u001b[0m     \u001b[38;5;66;03m# It'll attempt to gather all input into a single chunk using\u001b[39;00m\n\u001b[1;32m   1186\u001b[0m     \u001b[38;5;66;03m# the `+` operator.\u001b[39;00m\n\u001b[1;32m   1187\u001b[0m     \u001b[38;5;66;03m# If the input is not addable, then we'll assume that we can\u001b[39;00m\n\u001b[1;32m   1188\u001b[0m     \u001b[38;5;66;03m# only operate on the last chunk,\u001b[39;00m\n\u001b[1;32m   1189\u001b[0m     \u001b[38;5;66;03m# and we'll iterate until we get to the last chunk.\u001b[39;00m\n\u001b[1;32m   1190\u001b[0m     \u001b[38;5;28;01mif\u001b[39;00m \u001b[38;5;129;01mnot\u001b[39;00m got_first_val:\n\u001b[1;32m   1191\u001b[0m         final \u001b[38;5;241m=\u001b[39m ichunk\n",
      "File \u001b[0;32m~/anaconda3/envs/climateqa_huggingface/lib/python3.12/site-packages/langchain_core/runnables/base.py:1182\u001b[0m, in \u001b[0;36mRunnable.atransform\u001b[0;34m(self, input, config, **kwargs)\u001b[0m\n\u001b[1;32m   1179\u001b[0m final: Input\n\u001b[1;32m   1180\u001b[0m got_first_val \u001b[38;5;241m=\u001b[39m \u001b[38;5;28;01mFalse\u001b[39;00m\n\u001b[0;32m-> 1182\u001b[0m \u001b[38;5;28;01masync\u001b[39;00m \u001b[38;5;28;01mfor\u001b[39;00m ichunk \u001b[38;5;129;01min\u001b[39;00m \u001b[38;5;28minput\u001b[39m:\n\u001b[1;32m   1183\u001b[0m     \u001b[38;5;66;03m# The default implementation of transform is to buffer input and\u001b[39;00m\n\u001b[1;32m   1184\u001b[0m     \u001b[38;5;66;03m# then call stream.\u001b[39;00m\n\u001b[1;32m   1185\u001b[0m     \u001b[38;5;66;03m# It'll attempt to gather all input into a single chunk using\u001b[39;00m\n\u001b[1;32m   1186\u001b[0m     \u001b[38;5;66;03m# the `+` operator.\u001b[39;00m\n\u001b[1;32m   1187\u001b[0m     \u001b[38;5;66;03m# If the input is not addable, then we'll assume that we can\u001b[39;00m\n\u001b[1;32m   1188\u001b[0m     \u001b[38;5;66;03m# only operate on the last chunk,\u001b[39;00m\n\u001b[1;32m   1189\u001b[0m     \u001b[38;5;66;03m# and we'll iterate until we get to the last chunk.\u001b[39;00m\n\u001b[1;32m   1190\u001b[0m     \u001b[38;5;28;01mif\u001b[39;00m \u001b[38;5;129;01mnot\u001b[39;00m got_first_val:\n\u001b[1;32m   1191\u001b[0m         final \u001b[38;5;241m=\u001b[39m ichunk\n",
      "File \u001b[0;32m~/anaconda3/envs/climateqa_huggingface/lib/python3.12/site-packages/langchain_core/runnables/base.py:1200\u001b[0m, in \u001b[0;36mRunnable.atransform\u001b[0;34m(self, input, config, **kwargs)\u001b[0m\n\u001b[1;32m   1197\u001b[0m             final \u001b[38;5;241m=\u001b[39m ichunk\n\u001b[1;32m   1199\u001b[0m \u001b[38;5;28;01mif\u001b[39;00m got_first_val:\n\u001b[0;32m-> 1200\u001b[0m     \u001b[38;5;28;01masync\u001b[39;00m \u001b[38;5;28;01mfor\u001b[39;00m output \u001b[38;5;129;01min\u001b[39;00m \u001b[38;5;28mself\u001b[39m\u001b[38;5;241m.\u001b[39mastream(final, config, \u001b[38;5;241m*\u001b[39m\u001b[38;5;241m*\u001b[39mkwargs):\n\u001b[1;32m   1201\u001b[0m         \u001b[38;5;28;01myield\u001b[39;00m output\n",
      "File \u001b[0;32m~/anaconda3/envs/climateqa_huggingface/lib/python3.12/site-packages/langchain_core/runnables/base.py:820\u001b[0m, in \u001b[0;36mRunnable.astream\u001b[0;34m(self, input, config, **kwargs)\u001b[0m\n\u001b[1;32m    810\u001b[0m \u001b[38;5;28;01masync\u001b[39;00m \u001b[38;5;28;01mdef\u001b[39;00m \u001b[38;5;21mastream\u001b[39m(\n\u001b[1;32m    811\u001b[0m     \u001b[38;5;28mself\u001b[39m,\n\u001b[1;32m    812\u001b[0m     \u001b[38;5;28minput\u001b[39m: Input,\n\u001b[1;32m    813\u001b[0m     config: Optional[RunnableConfig] \u001b[38;5;241m=\u001b[39m \u001b[38;5;28;01mNone\u001b[39;00m,\n\u001b[1;32m    814\u001b[0m     \u001b[38;5;241m*\u001b[39m\u001b[38;5;241m*\u001b[39mkwargs: Optional[Any],\n\u001b[1;32m    815\u001b[0m ) \u001b[38;5;241m-\u001b[39m\u001b[38;5;241m>\u001b[39m AsyncIterator[Output]:\n\u001b[1;32m    816\u001b[0m \u001b[38;5;250m    \u001b[39m\u001b[38;5;124;03m\"\"\"\u001b[39;00m\n\u001b[1;32m    817\u001b[0m \u001b[38;5;124;03m    Default implementation of astream, which calls ainvoke.\u001b[39;00m\n\u001b[1;32m    818\u001b[0m \u001b[38;5;124;03m    Subclasses should override this method if they support streaming output.\u001b[39;00m\n\u001b[1;32m    819\u001b[0m \u001b[38;5;124;03m    \"\"\"\u001b[39;00m\n\u001b[0;32m--> 820\u001b[0m     \u001b[38;5;28;01myield\u001b[39;00m \u001b[38;5;28;01mawait\u001b[39;00m \u001b[38;5;28mself\u001b[39m\u001b[38;5;241m.\u001b[39mainvoke(\u001b[38;5;28minput\u001b[39m, config, \u001b[38;5;241m*\u001b[39m\u001b[38;5;241m*\u001b[39mkwargs)\n",
      "File \u001b[0;32m~/anaconda3/envs/climateqa_huggingface/lib/python3.12/site-packages/langgraph/utils.py:111\u001b[0m, in \u001b[0;36mRunnableCallable.ainvoke\u001b[0;34m(self, input, config)\u001b[0m\n\u001b[1;32m    105\u001b[0m kwargs \u001b[38;5;241m=\u001b[39m (\n\u001b[1;32m    106\u001b[0m     {\u001b[38;5;241m*\u001b[39m\u001b[38;5;241m*\u001b[39m\u001b[38;5;28mself\u001b[39m\u001b[38;5;241m.\u001b[39mkwargs, \u001b[38;5;124m\"\u001b[39m\u001b[38;5;124mconfig\u001b[39m\u001b[38;5;124m\"\u001b[39m: config}\n\u001b[1;32m    107\u001b[0m     \u001b[38;5;28;01mif\u001b[39;00m accepts_config(\u001b[38;5;28mself\u001b[39m\u001b[38;5;241m.\u001b[39mafunc)\n\u001b[1;32m    108\u001b[0m     \u001b[38;5;28;01melse\u001b[39;00m \u001b[38;5;28mself\u001b[39m\u001b[38;5;241m.\u001b[39mkwargs\n\u001b[1;32m    109\u001b[0m )\n\u001b[1;32m    110\u001b[0m \u001b[38;5;28;01mif\u001b[39;00m sys\u001b[38;5;241m.\u001b[39mversion_info \u001b[38;5;241m>\u001b[39m\u001b[38;5;241m=\u001b[39m (\u001b[38;5;241m3\u001b[39m, \u001b[38;5;241m11\u001b[39m):\n\u001b[0;32m--> 111\u001b[0m     ret \u001b[38;5;241m=\u001b[39m \u001b[38;5;28;01mawait\u001b[39;00m asyncio\u001b[38;5;241m.\u001b[39mcreate_task(\n\u001b[1;32m    112\u001b[0m         \u001b[38;5;28mself\u001b[39m\u001b[38;5;241m.\u001b[39mafunc(\u001b[38;5;28minput\u001b[39m, \u001b[38;5;241m*\u001b[39m\u001b[38;5;241m*\u001b[39mkwargs), context\u001b[38;5;241m=\u001b[39mcontext\n\u001b[1;32m    113\u001b[0m     )\n\u001b[1;32m    114\u001b[0m \u001b[38;5;28;01melse\u001b[39;00m:\n\u001b[1;32m    115\u001b[0m     ret \u001b[38;5;241m=\u001b[39m \u001b[38;5;28;01mawait\u001b[39;00m \u001b[38;5;28mself\u001b[39m\u001b[38;5;241m.\u001b[39mafunc(\u001b[38;5;28minput\u001b[39m, \u001b[38;5;241m*\u001b[39m\u001b[38;5;241m*\u001b[39mkwargs)\n",
      "File \u001b[0;32m~/anaconda3/envs/climateqa_huggingface/lib/python3.12/site-packages/langchain_core/runnables/config.py:513\u001b[0m, in \u001b[0;36mrun_in_executor\u001b[0;34m(executor_or_config, func, *args, **kwargs)\u001b[0m\n\u001b[1;32m    500\u001b[0m \u001b[38;5;250m\u001b[39m\u001b[38;5;124;03m\"\"\"Run a function in an executor.\u001b[39;00m\n\u001b[1;32m    501\u001b[0m \n\u001b[1;32m    502\u001b[0m \u001b[38;5;124;03mArgs:\u001b[39;00m\n\u001b[0;32m   (...)\u001b[0m\n\u001b[1;32m    509\u001b[0m \u001b[38;5;124;03m    Output: The output of the function.\u001b[39;00m\n\u001b[1;32m    510\u001b[0m \u001b[38;5;124;03m\"\"\"\u001b[39;00m\n\u001b[1;32m    511\u001b[0m \u001b[38;5;28;01mif\u001b[39;00m executor_or_config \u001b[38;5;129;01mis\u001b[39;00m \u001b[38;5;28;01mNone\u001b[39;00m \u001b[38;5;129;01mor\u001b[39;00m \u001b[38;5;28misinstance\u001b[39m(executor_or_config, \u001b[38;5;28mdict\u001b[39m):\n\u001b[1;32m    512\u001b[0m     \u001b[38;5;66;03m# Use default executor with context copied from current context\u001b[39;00m\n\u001b[0;32m--> 513\u001b[0m     \u001b[38;5;28;01mreturn\u001b[39;00m \u001b[38;5;28;01mawait\u001b[39;00m asyncio\u001b[38;5;241m.\u001b[39mget_running_loop()\u001b[38;5;241m.\u001b[39mrun_in_executor(\n\u001b[1;32m    514\u001b[0m         \u001b[38;5;28;01mNone\u001b[39;00m,\n\u001b[1;32m    515\u001b[0m         cast(Callable[\u001b[38;5;241m.\u001b[39m\u001b[38;5;241m.\u001b[39m\u001b[38;5;241m.\u001b[39m, T], partial(copy_context()\u001b[38;5;241m.\u001b[39mrun, func, \u001b[38;5;241m*\u001b[39margs, \u001b[38;5;241m*\u001b[39m\u001b[38;5;241m*\u001b[39mkwargs)),\n\u001b[1;32m    516\u001b[0m     )\n\u001b[1;32m    518\u001b[0m \u001b[38;5;28;01mreturn\u001b[39;00m \u001b[38;5;28;01mawait\u001b[39;00m asyncio\u001b[38;5;241m.\u001b[39mget_running_loop()\u001b[38;5;241m.\u001b[39mrun_in_executor(\n\u001b[1;32m    519\u001b[0m     executor_or_config, partial(func, \u001b[38;5;241m*\u001b[39m\u001b[38;5;241m*\u001b[39mkwargs), \u001b[38;5;241m*\u001b[39margs\n\u001b[1;32m    520\u001b[0m )\n",
      "File \u001b[0;32m~/anaconda3/envs/climateqa_huggingface/lib/python3.12/concurrent/futures/thread.py:58\u001b[0m, in \u001b[0;36m_WorkItem.run\u001b[0;34m(self)\u001b[0m\n\u001b[1;32m     55\u001b[0m     \u001b[38;5;28;01mreturn\u001b[39;00m\n\u001b[1;32m     57\u001b[0m \u001b[38;5;28;01mtry\u001b[39;00m:\n\u001b[0;32m---> 58\u001b[0m     result \u001b[38;5;241m=\u001b[39m \u001b[38;5;28;43mself\u001b[39;49m\u001b[38;5;241;43m.\u001b[39;49m\u001b[43mfn\u001b[49m\u001b[43m(\u001b[49m\u001b[38;5;241;43m*\u001b[39;49m\u001b[38;5;28;43mself\u001b[39;49m\u001b[38;5;241;43m.\u001b[39;49m\u001b[43margs\u001b[49m\u001b[43m,\u001b[49m\u001b[43m \u001b[49m\u001b[38;5;241;43m*\u001b[39;49m\u001b[38;5;241;43m*\u001b[39;49m\u001b[38;5;28;43mself\u001b[39;49m\u001b[38;5;241;43m.\u001b[39;49m\u001b[43mkwargs\u001b[49m\u001b[43m)\u001b[49m\n\u001b[1;32m     59\u001b[0m \u001b[38;5;28;01mexcept\u001b[39;00m \u001b[38;5;167;01mBaseException\u001b[39;00m \u001b[38;5;28;01mas\u001b[39;00m exc:\n\u001b[1;32m     60\u001b[0m     \u001b[38;5;28mself\u001b[39m\u001b[38;5;241m.\u001b[39mfuture\u001b[38;5;241m.\u001b[39mset_exception(exc)\n",
      "File \u001b[0;32m~/climate-question-answering/climateqa/engine/chains/retriever.py:93\u001b[0m, in \u001b[0;36mmake_retriever_node.<locals>.retrieve_documents\u001b[0;34m(state)\u001b[0m\n\u001b[1;32m     83\u001b[0m \u001b[38;5;66;03m# Search the document store using the retriever\u001b[39;00m\n\u001b[1;32m     84\u001b[0m \u001b[38;5;66;03m# Configure high top k for further reranking step\u001b[39;00m\n\u001b[1;32m     85\u001b[0m retriever \u001b[38;5;241m=\u001b[39m ClimateQARetriever(\n\u001b[1;32m     86\u001b[0m     vectorstore\u001b[38;5;241m=\u001b[39mvectorstore,\n\u001b[1;32m     87\u001b[0m     sources \u001b[38;5;241m=\u001b[39m sources,\n\u001b[0;32m   (...)\u001b[0m\n\u001b[1;32m     91\u001b[0m threshold \u001b[38;5;241m=\u001b[39m \u001b[38;5;241m0.5\u001b[39m,\n\u001b[1;32m     92\u001b[0m )\n\u001b[0;32m---> 93\u001b[0m docs_question \u001b[38;5;241m=\u001b[39m \u001b[43mretriever\u001b[49m\u001b[38;5;241;43m.\u001b[39;49m\u001b[43mget_relevant_documents\u001b[49m\u001b[43m(\u001b[49m\u001b[43mquestion\u001b[49m\u001b[43m)\u001b[49m\n\u001b[1;32m     95\u001b[0m \u001b[38;5;66;03m# Rerank\u001b[39;00m\n\u001b[1;32m     96\u001b[0m \u001b[38;5;28;01mif\u001b[39;00m reranker \u001b[38;5;129;01mis\u001b[39;00m \u001b[38;5;129;01mnot\u001b[39;00m \u001b[38;5;28;01mNone\u001b[39;00m:\n",
      "File \u001b[0;32m~/anaconda3/envs/climateqa_huggingface/lib/python3.12/site-packages/langchain_core/_api/deprecation.py:148\u001b[0m, in \u001b[0;36mdeprecated.<locals>.deprecate.<locals>.warning_emitting_wrapper\u001b[0;34m(*args, **kwargs)\u001b[0m\n\u001b[1;32m    146\u001b[0m     warned \u001b[38;5;241m=\u001b[39m \u001b[38;5;28;01mTrue\u001b[39;00m\n\u001b[1;32m    147\u001b[0m     emit_warning()\n\u001b[0;32m--> 148\u001b[0m \u001b[38;5;28;01mreturn\u001b[39;00m \u001b[43mwrapped\u001b[49m\u001b[43m(\u001b[49m\u001b[38;5;241;43m*\u001b[39;49m\u001b[43margs\u001b[49m\u001b[43m,\u001b[49m\u001b[43m \u001b[49m\u001b[38;5;241;43m*\u001b[39;49m\u001b[38;5;241;43m*\u001b[39;49m\u001b[43mkwargs\u001b[49m\u001b[43m)\u001b[49m\n",
      "File \u001b[0;32m~/anaconda3/envs/climateqa_huggingface/lib/python3.12/site-packages/langchain_core/retrievers.py:323\u001b[0m, in \u001b[0;36mBaseRetriever.get_relevant_documents\u001b[0;34m(self, query, callbacks, tags, metadata, run_name, **kwargs)\u001b[0m\n\u001b[1;32m    321\u001b[0m \u001b[38;5;28;01mexcept\u001b[39;00m \u001b[38;5;167;01mException\u001b[39;00m \u001b[38;5;28;01mas\u001b[39;00m e:\n\u001b[1;32m    322\u001b[0m     run_manager\u001b[38;5;241m.\u001b[39mon_retriever_error(e)\n\u001b[0;32m--> 323\u001b[0m     \u001b[38;5;28;01mraise\u001b[39;00m e\n\u001b[1;32m    324\u001b[0m \u001b[38;5;28;01melse\u001b[39;00m:\n\u001b[1;32m    325\u001b[0m     run_manager\u001b[38;5;241m.\u001b[39mon_retriever_end(\n\u001b[1;32m    326\u001b[0m         result,\n\u001b[1;32m    327\u001b[0m     )\n",
      "File \u001b[0;32m~/anaconda3/envs/climateqa_huggingface/lib/python3.12/site-packages/langchain_core/retrievers.py:316\u001b[0m, in \u001b[0;36mBaseRetriever.get_relevant_documents\u001b[0;34m(self, query, callbacks, tags, metadata, run_name, **kwargs)\u001b[0m\n\u001b[1;32m    314\u001b[0m _kwargs \u001b[38;5;241m=\u001b[39m kwargs \u001b[38;5;28;01mif\u001b[39;00m \u001b[38;5;28mself\u001b[39m\u001b[38;5;241m.\u001b[39m_expects_other_args \u001b[38;5;28;01melse\u001b[39;00m {}\n\u001b[1;32m    315\u001b[0m \u001b[38;5;28;01mif\u001b[39;00m \u001b[38;5;28mself\u001b[39m\u001b[38;5;241m.\u001b[39m_new_arg_supported:\n\u001b[0;32m--> 316\u001b[0m     result \u001b[38;5;241m=\u001b[39m \u001b[38;5;28;43mself\u001b[39;49m\u001b[38;5;241;43m.\u001b[39;49m\u001b[43m_get_relevant_documents\u001b[49m\u001b[43m(\u001b[49m\n\u001b[1;32m    317\u001b[0m \u001b[43m        \u001b[49m\u001b[43mquery\u001b[49m\u001b[43m,\u001b[49m\u001b[43m \u001b[49m\u001b[43mrun_manager\u001b[49m\u001b[38;5;241;43m=\u001b[39;49m\u001b[43mrun_manager\u001b[49m\u001b[43m,\u001b[49m\u001b[43m \u001b[49m\u001b[38;5;241;43m*\u001b[39;49m\u001b[38;5;241;43m*\u001b[39;49m\u001b[43m_kwargs\u001b[49m\n\u001b[1;32m    318\u001b[0m \u001b[43m    \u001b[49m\u001b[43m)\u001b[49m\n\u001b[1;32m    319\u001b[0m \u001b[38;5;28;01melse\u001b[39;00m:\n\u001b[1;32m    320\u001b[0m     result \u001b[38;5;241m=\u001b[39m \u001b[38;5;28mself\u001b[39m\u001b[38;5;241m.\u001b[39m_get_relevant_documents(query, \u001b[38;5;241m*\u001b[39m\u001b[38;5;241m*\u001b[39m_kwargs)\n",
      "File \u001b[0;32m~/climate-question-answering/climateqa/engine/retriever.py:31\u001b[0m, in \u001b[0;36mClimateQARetriever._get_relevant_documents\u001b[0;34m(self, query, run_manager)\u001b[0m\n\u001b[1;32m     25\u001b[0m \u001b[38;5;28;01mdef\u001b[39;00m \u001b[38;5;21m_get_relevant_documents\u001b[39m(\n\u001b[1;32m     26\u001b[0m     \u001b[38;5;28mself\u001b[39m, query: \u001b[38;5;28mstr\u001b[39m, \u001b[38;5;241m*\u001b[39m, run_manager: CallbackManagerForRetrieverRun\n\u001b[1;32m     27\u001b[0m ) \u001b[38;5;241m-\u001b[39m\u001b[38;5;241m>\u001b[39m List[Document]:\n\u001b[1;32m     28\u001b[0m \n\u001b[1;32m     29\u001b[0m     \u001b[38;5;66;03m# Check if all elements in the list are either IPCC or IPBES\u001b[39;00m\n\u001b[1;32m     30\u001b[0m     \u001b[38;5;28;01massert\u001b[39;00m \u001b[38;5;28misinstance\u001b[39m(\u001b[38;5;28mself\u001b[39m\u001b[38;5;241m.\u001b[39msources,\u001b[38;5;28mlist\u001b[39m)\n\u001b[0;32m---> 31\u001b[0m     \u001b[38;5;28;01massert\u001b[39;00m \u001b[38;5;28mall\u001b[39m([x \u001b[38;5;129;01min\u001b[39;00m [\u001b[38;5;124m\"\u001b[39m\u001b[38;5;124mIPCC\u001b[39m\u001b[38;5;124m\"\u001b[39m,\u001b[38;5;124m\"\u001b[39m\u001b[38;5;124mIPBES\u001b[39m\u001b[38;5;124m\"\u001b[39m,\u001b[38;5;124m\"\u001b[39m\u001b[38;5;124mIPOS\u001b[39m\u001b[38;5;124m\"\u001b[39m] \u001b[38;5;28;01mfor\u001b[39;00m x \u001b[38;5;129;01min\u001b[39;00m \u001b[38;5;28mself\u001b[39m\u001b[38;5;241m.\u001b[39msources])\n\u001b[1;32m     32\u001b[0m     \u001b[38;5;28;01massert\u001b[39;00m \u001b[38;5;28mself\u001b[39m\u001b[38;5;241m.\u001b[39mk_total \u001b[38;5;241m>\u001b[39m \u001b[38;5;28mself\u001b[39m\u001b[38;5;241m.\u001b[39mk_summary, \u001b[38;5;124m\"\u001b[39m\u001b[38;5;124mk_total should be greater than k_summary\u001b[39m\u001b[38;5;124m\"\u001b[39m\n\u001b[1;32m     34\u001b[0m     \u001b[38;5;66;03m# Prepare base search kwargs\u001b[39;00m\n",
      "\u001b[0;31mAssertionError\u001b[0m: "
     ]
    }
   ],
   "source": [
    "async for event in app.astream_events({\"user_input\": \"What are hydrogen imports?\"}, version = \"v2\"):\n",
    "    print(event)"
   ]
  },
  {
   "cell_type": "code",
   "execution_count": null,
   "metadata": {},
   "outputs": [],
   "source": []
  }
 ],
 "metadata": {
  "kernelspec": {
   "display_name": "climateqa_huggingface",
   "language": "python",
   "name": "python3"
  },
  "language_info": {
   "codemirror_mode": {
    "name": "ipython",
    "version": 3
   },
   "file_extension": ".py",
   "mimetype": "text/x-python",
   "name": "python",
   "nbconvert_exporter": "python",
   "pygments_lexer": "ipython3",
   "version": "3.12.3"
  }
 },
 "nbformat": 4,
 "nbformat_minor": 2
}
