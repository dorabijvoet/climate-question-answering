{
 "cells": [
  {
   "cell_type": "markdown",
   "metadata": {},
   "source": [
    "# ClimateQ&A\n",
    "---\n",
    "Goal of the notebook: Recommended graphs functionality\n",
    "\n",
    "Inputs of the notebook:\n",
    "\n",
    "Output of the notebook:\n",
    "\n",
    "\n",
    "Takeaways:\n",
    "\n",
    "Questions, thoughts and remarks:\n",
    "- What do I put for query instruction ?\n",
    "  - Default is \"Represent this sentence for searching relevant passages:\"\n",
    "  - embedding_function = get_embeddings_function(query_instruction=\"\")"
   ]
  },
  {
   "cell_type": "markdown",
   "metadata": {},
   "source": [
    "## Dependencies and path\n",
    "Adjust the argument in `sys.path.append` to align with your specific requirements."
   ]
  },
  {
   "cell_type": "code",
   "execution_count": 4,
   "metadata": {},
   "outputs": [
    {
     "name": "stdout",
     "output_type": "stream",
     "text": [
      "The autoreload extension is already loaded. To reload it, use:\n",
      "  %reload_ext autoreload\n"
     ]
    },
    {
     "data": {
      "text/plain": [
       "True"
      ]
     },
     "execution_count": 4,
     "metadata": {},
     "output_type": "execute_result"
    }
   ],
   "source": [
    "import pandas as pd \n",
    "import numpy as np\n",
    "import os\n",
    "from IPython.display import display, Markdown\n",
    "\n",
    "%load_ext autoreload\n",
    "%autoreload 2\n",
    "\n",
    "import sys\n",
    "sys.path.append(\"/home/dora/climate-question-answering\")\n",
    "\n",
    "from dotenv import load_dotenv\n",
    "load_dotenv()"
   ]
  },
  {
   "cell_type": "markdown",
   "metadata": {},
   "source": [
    "## 1. Import objects\n",
    "### 1.1 LLM"
   ]
  },
  {
   "cell_type": "code",
   "execution_count": 5,
   "metadata": {},
   "outputs": [],
   "source": [
    "from climateqa.engine.llm import get_llm\n",
    "llm = get_llm(provider=\"openai\")"
   ]
  },
  {
   "cell_type": "markdown",
   "metadata": {},
   "source": [
    "### 1.2 Embedding"
   ]
  },
  {
   "cell_type": "code",
   "execution_count": 6,
   "metadata": {},
   "outputs": [
    {
     "name": "stdout",
     "output_type": "stream",
     "text": [
      "Loading embeddings model:  BAAI/bge-base-en-v1.5\n"
     ]
    },
    {
     "name": "stderr",
     "output_type": "stream",
     "text": [
      "/home/dora/anaconda3/envs/climateqa_huggingface/lib/python3.12/site-packages/sentence_transformers/cross_encoder/CrossEncoder.py:11: TqdmWarning: IProgress not found. Please update jupyter and ipywidgets. See https://ipywidgets.readthedocs.io/en/stable/user_install.html\n",
      "  from tqdm.autonotebook import tqdm, trange\n",
      "/home/dora/anaconda3/envs/climateqa_huggingface/lib/python3.12/site-packages/huggingface_hub/file_download.py:1132: FutureWarning: `resume_download` is deprecated and will be removed in version 1.0.0. Downloads always resume when possible. If you want to force a new download, use `force_download=True`.\n",
      "  warnings.warn(\n"
     ]
    }
   ],
   "source": [
    "from climateqa.engine.embeddings import get_embeddings_function\n",
    "\n",
    "embeddings_function = get_embeddings_function()"
   ]
  },
  {
   "cell_type": "markdown",
   "metadata": {},
   "source": [
    "### 1.3 Reranker"
   ]
  },
  {
   "cell_type": "code",
   "execution_count": 7,
   "metadata": {},
   "outputs": [
    {
     "name": "stdout",
     "output_type": "stream",
     "text": [
      "Loading FlashRankRanker model ms-marco-TinyBERT-L-2-v2\n",
      "Loading model FlashRank model ms-marco-TinyBERT-L-2-v2...\n"
     ]
    },
    {
     "data": {
      "text/plain": [
       "<rerankers.models.flashrank_ranker.FlashRankRanker at 0x7fc212582630>"
      ]
     },
     "execution_count": 7,
     "metadata": {},
     "output_type": "execute_result"
    }
   ],
   "source": [
    "from climateqa.engine.reranker import get_reranker\n",
    "\n",
    "reranker = get_reranker(\"nano\")\n",
    "reranker"
   ]
  },
  {
   "cell_type": "markdown",
   "metadata": {},
   "source": [
    "### 1.4 IPCC vectorstore"
   ]
  },
  {
   "cell_type": "code",
   "execution_count": 8,
   "metadata": {},
   "outputs": [
    {
     "name": "stderr",
     "output_type": "stream",
     "text": [
      "/home/dora/anaconda3/envs/climateqa_huggingface/lib/python3.12/site-packages/langchain_core/_api/deprecation.py:119: LangChainDeprecationWarning: The class `Pinecone` was deprecated in LangChain 0.0.18 and will be removed in 0.3.0. An updated version of the class exists in the langchain-pinecone package and should be used instead. To use it run `pip install -U langchain-pinecone` and import as `from langchain_pinecone import Pinecone`.\n",
      "  warn_deprecated(\n"
     ]
    }
   ],
   "source": [
    "from climateqa.engine.vectorstore import get_pinecone_vectorstore\n",
    "\n",
    "vectorstore = get_pinecone_vectorstore(embeddings_function)"
   ]
  },
  {
   "cell_type": "markdown",
   "metadata": {},
   "source": [
    "## 2 Vectorstore"
   ]
  },
  {
   "cell_type": "markdown",
   "metadata": {},
   "source": [
    "### 2.1 IEA data"
   ]
  },
  {
   "cell_type": "code",
   "execution_count": 46,
   "metadata": {},
   "outputs": [
    {
     "data": {
      "text/html": [
       "<div>\n",
       "<style scoped>\n",
       "    .dataframe tbody tr th:only-of-type {\n",
       "        vertical-align: middle;\n",
       "    }\n",
       "\n",
       "    .dataframe tbody tr th {\n",
       "        vertical-align: top;\n",
       "    }\n",
       "\n",
       "    .dataframe thead th {\n",
       "        text-align: right;\n",
       "    }\n",
       "</style>\n",
       "<table border=\"1\" class=\"dataframe\">\n",
       "  <thead>\n",
       "    <tr style=\"text-align: right;\">\n",
       "      <th></th>\n",
       "      <th>title</th>\n",
       "      <th>returned_content</th>\n",
       "      <th>sources</th>\n",
       "      <th>notes</th>\n",
       "      <th>appears_in</th>\n",
       "      <th>appears_in_url</th>\n",
       "      <th>doc_id</th>\n",
       "      <th>source</th>\n",
       "    </tr>\n",
       "  </thead>\n",
       "  <tbody>\n",
       "    <tr>\n",
       "      <th>0</th>\n",
       "      <td>Capital requirements for mining to meet demand...</td>\n",
       "      <td>https://www.iea.org/data-and-statistics/charts...</td>\n",
       "      <td>IEA analysis based on data from S&amp;P Global and...</td>\n",
       "      <td>Capital requirements are calculated based on c...</td>\n",
       "      <td>Global Critical Minerals Outlook 2024</td>\n",
       "      <td>https://www.iea.org/reports/global-critical-mi...</td>\n",
       "      <td>iea_0</td>\n",
       "      <td>IEA</td>\n",
       "    </tr>\n",
       "    <tr>\n",
       "      <th>1</th>\n",
       "      <td>IEA energy transition mineral price index, Jan...</td>\n",
       "      <td>https://www.iea.org/data-and-statistics/charts...</td>\n",
       "      <td>IEA analysis based on Bloomberg and S&amp;P Global.</td>\n",
       "      <td>IEA energy transition minerals price index is ...</td>\n",
       "      <td>Global Critical Minerals Outlook 2024</td>\n",
       "      <td>https://www.iea.org/reports/global-critical-mi...</td>\n",
       "      <td>iea_1</td>\n",
       "      <td>IEA</td>\n",
       "    </tr>\n",
       "    <tr>\n",
       "      <th>2</th>\n",
       "      <td>Price developments of minerals and metals by c...</td>\n",
       "      <td>https://www.iea.org/data-and-statistics/charts...</td>\n",
       "      <td>IEA analysis based on Bloomberg and S&amp;P Global.</td>\n",
       "      <td>Base metals include iron, aluminium, zinc and ...</td>\n",
       "      <td>Global Critical Minerals Outlook 2024</td>\n",
       "      <td>https://www.iea.org/reports/global-critical-mi...</td>\n",
       "      <td>iea_2</td>\n",
       "      <td>IEA</td>\n",
       "    </tr>\n",
       "    <tr>\n",
       "      <th>3</th>\n",
       "      <td>Capital expenditure on nonferrous metal produc...</td>\n",
       "      <td>https://www.iea.org/data-and-statistics/charts...</td>\n",
       "      <td>IEA analysis based on company annual reports a...</td>\n",
       "      <td>For diversified majors, capex on the productio...</td>\n",
       "      <td>Global Critical Minerals Outlook 2024</td>\n",
       "      <td>https://www.iea.org/reports/global-critical-mi...</td>\n",
       "      <td>iea_3</td>\n",
       "      <td>IEA</td>\n",
       "    </tr>\n",
       "    <tr>\n",
       "      <th>4</th>\n",
       "      <td>Selected environmental, social and governance ...</td>\n",
       "      <td>https://www.iea.org/data-and-statistics/charts...</td>\n",
       "      <td>IEA analysis based on the latest sustainabilit...</td>\n",
       "      <td>GHG= greenhouse gas. Aggregated data for 25 ma...</td>\n",
       "      <td>Global Critical Minerals Outlook 2024</td>\n",
       "      <td>https://www.iea.org/reports/global-critical-mi...</td>\n",
       "      <td>iea_4</td>\n",
       "      <td>IEA</td>\n",
       "    </tr>\n",
       "  </tbody>\n",
       "</table>\n",
       "</div>"
      ],
      "text/plain": [
       "                                               title  \\\n",
       "0  Capital requirements for mining to meet demand...   \n",
       "1  IEA energy transition mineral price index, Jan...   \n",
       "2  Price developments of minerals and metals by c...   \n",
       "3  Capital expenditure on nonferrous metal produc...   \n",
       "4  Selected environmental, social and governance ...   \n",
       "\n",
       "                                    returned_content  \\\n",
       "0  https://www.iea.org/data-and-statistics/charts...   \n",
       "1  https://www.iea.org/data-and-statistics/charts...   \n",
       "2  https://www.iea.org/data-and-statistics/charts...   \n",
       "3  https://www.iea.org/data-and-statistics/charts...   \n",
       "4  https://www.iea.org/data-and-statistics/charts...   \n",
       "\n",
       "                                             sources  \\\n",
       "0  IEA analysis based on data from S&P Global and...   \n",
       "1    IEA analysis based on Bloomberg and S&P Global.   \n",
       "2    IEA analysis based on Bloomberg and S&P Global.   \n",
       "3  IEA analysis based on company annual reports a...   \n",
       "4  IEA analysis based on the latest sustainabilit...   \n",
       "\n",
       "                                               notes  \\\n",
       "0  Capital requirements are calculated based on c...   \n",
       "1  IEA energy transition minerals price index is ...   \n",
       "2  Base metals include iron, aluminium, zinc and ...   \n",
       "3  For diversified majors, capex on the productio...   \n",
       "4  GHG= greenhouse gas. Aggregated data for 25 ma...   \n",
       "\n",
       "                              appears_in  \\\n",
       "0  Global Critical Minerals Outlook 2024   \n",
       "1  Global Critical Minerals Outlook 2024   \n",
       "2  Global Critical Minerals Outlook 2024   \n",
       "3  Global Critical Minerals Outlook 2024   \n",
       "4  Global Critical Minerals Outlook 2024   \n",
       "\n",
       "                                      appears_in_url doc_id source  \n",
       "0  https://www.iea.org/reports/global-critical-mi...  iea_0    IEA  \n",
       "1  https://www.iea.org/reports/global-critical-mi...  iea_1    IEA  \n",
       "2  https://www.iea.org/reports/global-critical-mi...  iea_2    IEA  \n",
       "3  https://www.iea.org/reports/global-critical-mi...  iea_3    IEA  \n",
       "4  https://www.iea.org/reports/global-critical-mi...  iea_4    IEA  "
      ]
     },
     "execution_count": 46,
     "metadata": {},
     "output_type": "execute_result"
    }
   ],
   "source": [
    "from langchain_community.document_loaders import DataFrameLoader\n",
    "from langchain_chroma import Chroma\n",
    "\n",
    "df_iea = pd.read_csv(\"/home/dora/climate-question-answering/data/charts_iea.csv\")\n",
    "df_iea = df_iea.rename(columns={'url': 'returned_content'})\n",
    "df_iea[\"doc_id\"] = \"iea_\" + df_iea.index.astype(str)\n",
    "df_iea[\"source\"] = \"IEA\"\n",
    "df_iea.head()"
   ]
  },
  {
   "cell_type": "code",
   "execution_count": 47,
   "metadata": {},
   "outputs": [
    {
     "data": {
      "text/plain": [
       "5355"
      ]
     },
     "execution_count": 47,
     "metadata": {},
     "output_type": "execute_result"
    }
   ],
   "source": [
    "# Load csv file of charts\n",
    "loader_iea = DataFrameLoader(df_iea, page_content_column='title')\n",
    "documents_iea = loader_iea.load()\n",
    "len(documents_iea)"
   ]
  },
  {
   "cell_type": "markdown",
   "metadata": {},
   "source": [
    "### 2.2 OWID data"
   ]
  },
  {
   "cell_type": "code",
   "execution_count": 48,
   "metadata": {},
   "outputs": [
    {
     "data": {
      "text/html": [
       "<div>\n",
       "<style scoped>\n",
       "    .dataframe tbody tr th:only-of-type {\n",
       "        vertical-align: middle;\n",
       "    }\n",
       "\n",
       "    .dataframe tbody tr th {\n",
       "        vertical-align: top;\n",
       "    }\n",
       "\n",
       "    .dataframe thead th {\n",
       "        text-align: right;\n",
       "    }\n",
       "</style>\n",
       "<table border=\"1\" class=\"dataframe\">\n",
       "  <thead>\n",
       "    <tr style=\"text-align: right;\">\n",
       "      <th></th>\n",
       "      <th>category</th>\n",
       "      <th>title</th>\n",
       "      <th>url</th>\n",
       "      <th>returned_content</th>\n",
       "      <th>subtitle</th>\n",
       "      <th>doc_id</th>\n",
       "      <th>source</th>\n",
       "    </tr>\n",
       "  </thead>\n",
       "  <tbody>\n",
       "    <tr>\n",
       "      <th>0</th>\n",
       "      <td>Access to Energy</td>\n",
       "      <td>Number of people with and without access to cl...</td>\n",
       "      <td>https://ourworldindata.org/grapher/number-with...</td>\n",
       "      <td>&lt;iframe src=\"https://ourworldindata.org/graphe...</td>\n",
       "      <td>Clean cooking fuels and technologies represent...</td>\n",
       "      <td>owid_0</td>\n",
       "      <td>OWID</td>\n",
       "    </tr>\n",
       "    <tr>\n",
       "      <th>1</th>\n",
       "      <td>Access to Energy</td>\n",
       "      <td>Number of people without access to clean fuels...</td>\n",
       "      <td>https://ourworldindata.org/grapher/number-with...</td>\n",
       "      <td>&lt;iframe src=\"https://ourworldindata.org/graphe...</td>\n",
       "      <td>Clean cooking fuels and technologies represent...</td>\n",
       "      <td>owid_1</td>\n",
       "      <td>OWID</td>\n",
       "    </tr>\n",
       "    <tr>\n",
       "      <th>2</th>\n",
       "      <td>Access to Energy</td>\n",
       "      <td>People without clean fuels for cooking, by wor...</td>\n",
       "      <td>https://ourworldindata.org/grapher/people-with...</td>\n",
       "      <td>&lt;iframe src=\"https://ourworldindata.org/graphe...</td>\n",
       "      <td>Data source: World Bank</td>\n",
       "      <td>owid_2</td>\n",
       "      <td>OWID</td>\n",
       "    </tr>\n",
       "    <tr>\n",
       "      <th>3</th>\n",
       "      <td>Access to Energy</td>\n",
       "      <td>Share of the population without access to clea...</td>\n",
       "      <td>https://ourworldindata.org/grapher/share-of-th...</td>\n",
       "      <td>&lt;iframe src=\"https://ourworldindata.org/graphe...</td>\n",
       "      <td>Access to clean fuels or technologies such as ...</td>\n",
       "      <td>owid_3</td>\n",
       "      <td>OWID</td>\n",
       "    </tr>\n",
       "    <tr>\n",
       "      <th>4</th>\n",
       "      <td>Access to Energy</td>\n",
       "      <td>Share with access to electricity vs. per capit...</td>\n",
       "      <td>https://ourworldindata.org/grapher/share-with-...</td>\n",
       "      <td>&lt;iframe src=\"https://ourworldindata.org/graphe...</td>\n",
       "      <td>Having access to electricity is defined in int...</td>\n",
       "      <td>owid_4</td>\n",
       "      <td>OWID</td>\n",
       "    </tr>\n",
       "  </tbody>\n",
       "</table>\n",
       "</div>"
      ],
      "text/plain": [
       "           category                                              title  \\\n",
       "0  Access to Energy  Number of people with and without access to cl...   \n",
       "1  Access to Energy  Number of people without access to clean fuels...   \n",
       "2  Access to Energy  People without clean fuels for cooking, by wor...   \n",
       "3  Access to Energy  Share of the population without access to clea...   \n",
       "4  Access to Energy  Share with access to electricity vs. per capit...   \n",
       "\n",
       "                                                 url  \\\n",
       "0  https://ourworldindata.org/grapher/number-with...   \n",
       "1  https://ourworldindata.org/grapher/number-with...   \n",
       "2  https://ourworldindata.org/grapher/people-with...   \n",
       "3  https://ourworldindata.org/grapher/share-of-th...   \n",
       "4  https://ourworldindata.org/grapher/share-with-...   \n",
       "\n",
       "                                    returned_content  \\\n",
       "0  <iframe src=\"https://ourworldindata.org/graphe...   \n",
       "1  <iframe src=\"https://ourworldindata.org/graphe...   \n",
       "2  <iframe src=\"https://ourworldindata.org/graphe...   \n",
       "3  <iframe src=\"https://ourworldindata.org/graphe...   \n",
       "4  <iframe src=\"https://ourworldindata.org/graphe...   \n",
       "\n",
       "                                            subtitle  doc_id source  \n",
       "0  Clean cooking fuels and technologies represent...  owid_0   OWID  \n",
       "1  Clean cooking fuels and technologies represent...  owid_1   OWID  \n",
       "2                            Data source: World Bank  owid_2   OWID  \n",
       "3  Access to clean fuels or technologies such as ...  owid_3   OWID  \n",
       "4  Having access to electricity is defined in int...  owid_4   OWID  "
      ]
     },
     "execution_count": 48,
     "metadata": {},
     "output_type": "execute_result"
    }
   ],
   "source": [
    "df_owid = pd.read_csv(\"/home/dora/climate-question-answering/data/charts_owid.csv\")\n",
    "\n",
    "# rename column 'embedding' to 'returned_content'\n",
    "df_owid = df_owid.rename(columns={'embedding': 'returned_content'})\n",
    "df_owid.head()\n",
    "\n",
    "df_owid[\"doc_id\"] = \"owid_\" + df_owid.index.astype(str)\n",
    "df_owid[\"source\"] = \"OWID\"\n",
    "df_owid.head()"
   ]
  },
  {
   "cell_type": "code",
   "execution_count": 9,
   "metadata": {},
   "outputs": [
    {
     "data": {
      "text/plain": [
       "array(['Access to Energy', 'Agricultural Production',\n",
       "       'Agricultural Regulation & Policy', 'Air Pollution',\n",
       "       'Animal Welfare', 'Antibiotics', 'Biodiversity', 'Biofuels',\n",
       "       'Biological & Chemical Weapons', 'CO2 & Greenhouse Gas Emissions',\n",
       "       'COVID-19', 'Clean Water', 'Clean Water & Sanitation',\n",
       "       'Climate Change', 'Crop Yields', 'Diet Compositions',\n",
       "       'Electricity', 'Electricity Mix', 'Energy', 'Energy Efficiency',\n",
       "       'Energy Prices', 'Environmental Impacts of Food Production',\n",
       "       'Environmental Protection & Regulation', 'Famines', 'Farm Size',\n",
       "       'Fertilizers', 'Fish & Overfishing', 'Food Supply', 'Food Trade',\n",
       "       'Food Waste', 'Food and Agriculture', 'Forests & Deforestation',\n",
       "       'Fossil Fuels', 'Future Population Growth',\n",
       "       'Hunger & Undernourishment', 'Indoor Air Pollution', 'Land Use',\n",
       "       'Land Use & Yields in Agriculture', 'Lead Pollution',\n",
       "       'Meat & Dairy Production', 'Metals & Minerals',\n",
       "       'Natural Disasters', 'Nuclear Energy', 'Nuclear Weapons',\n",
       "       'Oil Spills', 'Outdoor Air Pollution', 'Ozone Layer', 'Pandemics',\n",
       "       'Pesticides', 'Plastic Pollution', 'Renewable Energy', 'Soil',\n",
       "       'Transport', 'Urbanization', 'Waste Management', 'Water Pollution',\n",
       "       'Water Use & Stress', 'Wildfires'], dtype=object)"
      ]
     },
     "execution_count": 9,
     "metadata": {},
     "output_type": "execute_result"
    }
   ],
   "source": [
    "df_owid.category.unique()"
   ]
  },
  {
   "cell_type": "code",
   "execution_count": 54,
   "metadata": {},
   "outputs": [
    {
     "data": {
      "text/plain": [
       "2202"
      ]
     },
     "execution_count": 54,
     "metadata": {},
     "output_type": "execute_result"
    }
   ],
   "source": [
    "loader_owid = DataFrameLoader(df_owid, page_content_column='title')\n",
    "documents_owid = loader_owid.load()\n",
    "len(documents_owid)"
   ]
  },
  {
   "cell_type": "markdown",
   "metadata": {},
   "source": [
    "### 2.3 Merged Data Loader"
   ]
  },
  {
   "cell_type": "code",
   "execution_count": 51,
   "metadata": {},
   "outputs": [
    {
     "data": {
      "text/plain": [
       "7557"
      ]
     },
     "execution_count": 51,
     "metadata": {},
     "output_type": "execute_result"
    }
   ],
   "source": [
    "from langchain_community.document_loaders.merge import MergedDataLoader\n",
    "\n",
    "loader_all = MergedDataLoader(loaders=[loader_iea, loader_owid])\n",
    "documents_all = loader_all.load()\n",
    "len(documents_all)"
   ]
  },
  {
   "cell_type": "code",
   "execution_count": 52,
   "metadata": {},
   "outputs": [
    {
     "data": {
      "text/plain": [
       "Document(page_content='Wildfire area burned by land cover type', metadata={'category': 'Wildfires', 'url': 'https://ourworldindata.org/grapher/annual-burned-area-by-landcover', 'returned_content': '<iframe src=\"https://ourworldindata.org/grapher/annual-burned-area-by-landcover?tab=map\" loading=\"lazy\" style=\"width: 100%; height: 600px; border: 0px none;\" allow=\"web-share; clipboard-write\"></iframe>', 'subtitle': 'Total area of forests, savannas, shrublands/grasslands, croplands, and other land that have been burned as a result of wildfires each year.', 'doc_id': 'owid_2201', 'source': 'OWID'})"
      ]
     },
     "execution_count": 52,
     "metadata": {},
     "output_type": "execute_result"
    }
   ],
   "source": [
    "documents_all[-1]"
   ]
  },
  {
   "cell_type": "markdown",
   "metadata": {},
   "source": [
    "### 2.4 Chroma vectorstore"
   ]
  },
  {
   "cell_type": "code",
   "execution_count": 56,
   "metadata": {},
   "outputs": [
    {
     "name": "stderr",
     "output_type": "stream",
     "text": [
      "INFO:chromadb.telemetry.posthog:Anonymized telemetry enabled. See https://docs.trychroma.com/telemetry for more information.\n"
     ]
    }
   ],
   "source": [
    "# DO NOT RUN AGAIN (persisted)\n",
    "# vectorstore_graphs = Chroma.from_documents(documents_all, embeddings_function, persist_directory=\"/home/dora/climate-question-answering/data/vectorstore\")\n",
    "# vectorstore_graphs = Chroma.from_documents(documents_owid, embeddings_function, persist_directory=\"/home/dora/climate-question-answering/data/vectorstore_owid\")"
   ]
  },
  {
   "cell_type": "code",
   "execution_count": 9,
   "metadata": {},
   "outputs": [
    {
     "name": "stderr",
     "output_type": "stream",
     "text": [
      "INFO:chromadb.telemetry.posthog:Anonymized telemetry enabled. See https://docs.trychroma.com/telemetry for more information.\n"
     ]
    }
   ],
   "source": [
    "from langchain_chroma import Chroma\n",
    "\n",
    "vectorstore_graphs = Chroma(persist_directory=\"/home/dora/climate-question-answering/data/vectorstore_owid\", embedding_function=embeddings_function)"
   ]
  },
  {
   "cell_type": "code",
   "execution_count": 10,
   "metadata": {},
   "outputs": [
    {
     "data": {
      "text/plain": [
       "[(Document(page_content='Share of water bodies with good ambient water quality', metadata={'category': 'Water Use & Stress', 'doc_id': 'owid_2184', 'returned_content': '<iframe src=\"https://ourworldindata.org/grapher/water-bodies-good-water-quality?tab=map\" loading=\"lazy\" style=\"width: 100%; height: 600px; border: 0px none;\" allow=\"web-share; clipboard-write\"></iframe>', 'source': 'OWID', 'subtitle': 'Water quality is assessed by means of core physical and chemical parameters that reflect natural water quality. A water body is classified as \"good\" quality if at least 80% of monitoring values meet target quality levels.', 'url': 'https://ourworldindata.org/grapher/water-bodies-good-water-quality'}),\n",
       "  0.46955342022080526),\n",
       " (Document(page_content='Share of water bodies with good ambient water quality', metadata={'category': 'Clean Water & Sanitation', 'doc_id': 'owid_742', 'returned_content': '<iframe src=\"https://ourworldindata.org/grapher/water-bodies-good-water-quality?tab=map\" loading=\"lazy\" style=\"width: 100%; height: 600px; border: 0px none;\" allow=\"web-share; clipboard-write\"></iframe>', 'source': 'OWID', 'subtitle': 'Water quality is assessed by means of core physical and chemical parameters that reflect natural water quality. A water body is classified as \"good\" quality if at least 80% of monitoring values meet target quality levels.', 'url': 'https://ourworldindata.org/grapher/water-bodies-good-water-quality'}),\n",
       "  0.46955342022080526),\n",
       " (Document(page_content='Share of water bodies with good ambient water quality', metadata={'category': 'Water Use & Stress', 'doc_id': 'owid_2184', 'returned_content': '<iframe src=\"https://ourworldindata.org/grapher/water-bodies-good-water-quality?tab=map\" loading=\"lazy\" style=\"width: 100%; height: 600px; border: 0px none;\" allow=\"web-share; clipboard-write\"></iframe>', 'source': 'OWID', 'subtitle': 'Water quality is assessed by means of core physical and chemical parameters that reflect natural water quality. A water body is classified as \"good\" quality if at least 80% of monitoring values meet target quality levels.', 'url': 'https://ourworldindata.org/grapher/water-bodies-good-water-quality'}),\n",
       "  0.46955342022080526),\n",
       " (Document(page_content='Share of water bodies with good ambient water quality', metadata={'category': 'Water Pollution', 'doc_id': 'owid_2151', 'returned_content': '<iframe src=\"https://ourworldindata.org/grapher/water-bodies-good-water-quality?tab=map\" loading=\"lazy\" style=\"width: 100%; height: 600px; border: 0px none;\" allow=\"web-share; clipboard-write\"></iframe>', 'source': 'OWID', 'subtitle': 'Water quality is assessed by means of core physical and chemical parameters that reflect natural water quality. A water body is classified as \"good\" quality if at least 80% of monitoring values meet target quality levels.', 'url': 'https://ourworldindata.org/grapher/water-bodies-good-water-quality'}),\n",
       "  0.46955342022080526)]"
      ]
     },
     "execution_count": 10,
     "metadata": {},
     "output_type": "execute_result"
    }
   ],
   "source": [
    "vectorstore_graphs.similarity_search_with_relevance_scores(\"What is the trend of clean water?\")"
   ]
  },
  {
   "cell_type": "markdown",
   "metadata": {},
   "source": [
    "## 3. Retriever for recommended graphs"
   ]
  },
  {
   "cell_type": "markdown",
   "metadata": {},
   "source": [
    "### 3.1 Custom retriever"
   ]
  },
  {
   "cell_type": "code",
   "execution_count": 44,
   "metadata": {},
   "outputs": [],
   "source": [
    "from langchain_core.retrievers import BaseRetriever\n",
    "from langchain_core.documents.base import Document\n",
    "from langchain_core.vectorstores import VectorStore\n",
    "from langchain_core.callbacks.manager import CallbackManagerForRetrieverRun\n",
    "\n",
    "from typing import List\n",
    "\n",
    "class GraphRetriever(BaseRetriever):\n",
    "    vectorstore:VectorStore\n",
    "    sources:list = [\"IEA\", \"OWID\"] # plus tard ajouter OurWorldInData # faudra integrate avec l'autre retriever\n",
    "    threshold:float = 0.5\n",
    "    k_total:int = 10\n",
    "\n",
    "    def _get_relevant_documents(\n",
    "        self, query: str, *, run_manager: CallbackManagerForRetrieverRun\n",
    "    ) -> List[Document]:\n",
    "\n",
    "        # Check if all elements in the list are IEA or OWID\n",
    "        assert isinstance(self.sources,list)\n",
    "        assert any([x in [\"IEA\", \"OWID\"] for x in self.sources])\n",
    "\n",
    "        # Prepare base search kwargs\n",
    "        filters = {}\n",
    "\n",
    "        filters[\"source\"] = {\"$in\": self.sources}\n",
    "\n",
    "        docs = self.vectorstore.similarity_search_with_score(query=query, filter=filters, k=self.k_total)\n",
    "        \n",
    "        # Filter if scores are below threshold\n",
    "        docs = [x for x in docs if x[1] > self.threshold]\n",
    "\n",
    "        # Add score to metadata\n",
    "        results = []\n",
    "        for i,(doc,score) in enumerate(docs):\n",
    "            doc.metadata[\"similarity_score\"] = score\n",
    "            doc.metadata[\"content\"] = doc.page_content\n",
    "            results.append(doc)\n",
    "\n",
    "        return results"
   ]
  },
  {
   "cell_type": "code",
   "execution_count": 78,
   "metadata": {},
   "outputs": [],
   "source": [
    "retriever = GraphRetriever(vectorstore=vectorstore_graphs)"
   ]
  },
  {
   "cell_type": "code",
   "execution_count": 79,
   "metadata": {},
   "outputs": [
    {
     "data": {
      "text/plain": [
       "[Document(page_content='Energy imports and exports', metadata={'category': 'Energy', 'doc_id': 'owid_969', 'returned_content': '<iframe src=\"https://ourworldindata.org/grapher/energy-imports-and-exports-energy-use?tab=map\" loading=\"lazy\" style=\"width: 100%; height: 600px; border: 0px none;\" allow=\"web-share; clipboard-write\"></iframe>', 'source': 'OWID', 'subtitle': 'Energy trade, measured as the percentage of energy use. Positive values indicate a country or region is a net importer of energy. Negative numbers indicate a country or region is a net exporter.', 'url': 'https://ourworldindata.org/grapher/energy-imports-and-exports-energy-use', 'similarity_score': 0.7722015976905823, 'content': 'Energy imports and exports'}),\n",
       " Document(page_content='Import of environmentally sound technologies', metadata={'category': 'CO2 & Greenhouse Gas Emissions', 'doc_id': 'owid_400', 'returned_content': '<iframe src=\"https://ourworldindata.org/grapher/import-of-environmentally-sound-technologies?tab=map\" loading=\"lazy\" style=\"width: 100%; height: 600px; border: 0px none;\" allow=\"web-share; clipboard-write\"></iframe>', 'source': 'OWID', 'subtitle': 'Environmentally sound technologies (ESTs) are technologies that have the potential for significantly improved environmental performance relative to other technologies. This indicator shows the value of imported ESTs in current US-$.', 'url': 'https://ourworldindata.org/grapher/import-of-environmentally-sound-technologies', 'similarity_score': 0.7829903364181519, 'content': 'Import of environmentally sound technologies'}),\n",
       " Document(page_content='Long-term energy transitions', metadata={'category': 'Energy', 'doc_id': 'owid_1013', 'returned_content': '<iframe src=\"https://ourworldindata.org/grapher/long-term-energy-transitions?tab=map\" loading=\"lazy\" style=\"width: 100%; height: 600px; border: 0px none;\" allow=\"web-share; clipboard-write\"></iframe>', 'source': 'OWID', 'subtitle': 'Share of primary energy by source over the long-term, measured as the percentage of total energy consumption. Primary electricity includes: hydropower, nuclear power, wind, photo\\xadvoltaics, tidal, wave and solar thermal and geothermal (only figures for electricity production are included).', 'url': 'https://ourworldindata.org/grapher/long-term-energy-transitions', 'similarity_score': 0.8692114353179932, 'content': 'Long-term energy transitions'}),\n",
       " Document(page_content='Imported deforestation', metadata={'category': 'Forests & Deforestation', 'doc_id': 'owid_1376', 'returned_content': '<iframe src=\"https://ourworldindata.org/grapher/imported-deforestation?tab=map\" loading=\"lazy\" style=\"width: 100%; height: 600px; border: 0px none;\" allow=\"web-share; clipboard-write\"></iframe>', 'source': 'OWID', 'subtitle': 'Imported deforestation is the amount of deforestation in other countries that is driven by the production of food and forestry products that are imported. This is measured in hectares.', 'url': 'https://ourworldindata.org/grapher/imported-deforestation', 'similarity_score': 0.8846046924591064, 'content': 'Imported deforestation'}),\n",
       " Document(page_content='Net electricity imports', metadata={'category': 'Energy', 'doc_id': 'owid_1019', 'returned_content': '<iframe src=\"https://ourworldindata.org/grapher/net-electricity-imports?tab=map\" loading=\"lazy\" style=\"width: 100%; height: 600px; border: 0px none;\" allow=\"web-share; clipboard-write\"></iframe>', 'source': 'OWID', 'subtitle': 'Net electricity imports are calculated as electricity imports minus exports. Countries with positive values are net importers of electricity; negative values are net exporters. Measured in terawatt-hours.', 'url': 'https://ourworldindata.org/grapher/net-electricity-imports', 'similarity_score': 0.8953984379768372, 'content': 'Net electricity imports'}),\n",
       " Document(page_content='Fossil fuel production over the long-term', metadata={'category': 'Fossil Fuels', 'doc_id': 'owid_1443', 'returned_content': '<iframe src=\"https://ourworldindata.org/grapher/fossil-fuel-production-over-the-long-term?tab=map\" loading=\"lazy\" style=\"width: 100%; height: 600px; border: 0px none;\" allow=\"web-share; clipboard-write\"></iframe>', 'source': 'OWID', 'subtitle': 'Total fossil fuel production - differentiated by coal, oil and natural gas - by country over the long-run, measured in terawatt-hour (TWh) equivalents per year.', 'url': 'https://ourworldindata.org/grapher/fossil-fuel-production-over-the-long-term', 'similarity_score': 0.908625602722168, 'content': 'Fossil fuel production over the long-term'}),\n",
       " Document(page_content='Export of environmentally sound technologies', metadata={'category': 'CO2 & Greenhouse Gas Emissions', 'doc_id': 'owid_379', 'returned_content': '<iframe src=\"https://ourworldindata.org/grapher/export-of-environmentally-sound-technologies?tab=map\" loading=\"lazy\" style=\"width: 100%; height: 600px; border: 0px none;\" allow=\"web-share; clipboard-write\"></iframe>', 'source': 'OWID', 'subtitle': 'Environmentally sound technologies (ESTs) are technologies that have the potential for significantly improved environmental performance relative to other technologies. This indicator shows the value of exported ESTs in current US-$.', 'url': 'https://ourworldindata.org/grapher/export-of-environmentally-sound-technologies', 'similarity_score': 0.9094709157943726, 'content': 'Export of environmentally sound technologies'}),\n",
       " Document(page_content='Net electricity imports as a share of electricity demand', metadata={'category': 'Electricity Mix', 'doc_id': 'owid_892', 'returned_content': '<iframe src=\"https://ourworldindata.org/grapher/electricity-imports-share-demand?tab=map\" loading=\"lazy\" style=\"width: 100%; height: 600px; border: 0px none;\" allow=\"web-share; clipboard-write\"></iframe>', 'source': 'OWID', 'subtitle': \"Net electricity imports are calculated as electricity imports minus exports. This is given as a share of a country's electricity demand. Countries with positive values are net importers of electricity; negative values are net exporters.\", 'url': 'https://ourworldindata.org/grapher/electricity-imports-share-demand', 'similarity_score': 0.9217978119850159, 'content': 'Net electricity imports as a share of electricity demand'})]"
      ]
     },
     "execution_count": 79,
     "metadata": {},
     "output_type": "execute_result"
    }
   ],
   "source": [
    "retriever.invoke(\"hydrogen import evolutions\")"
   ]
  },
  {
   "cell_type": "markdown",
   "metadata": {},
   "source": [
    "### 3.2 Retriever node"
   ]
  },
  {
   "cell_type": "code",
   "execution_count": 86,
   "metadata": {},
   "outputs": [],
   "source": [
    "import sys\n",
    "import os\n",
    "from contextlib import contextmanager\n",
    "\n",
    "from climateqa.engine.reranker import rerank_docs\n",
    "\n",
    "\n",
    "\n",
    "def divide_into_parts(target, parts):\n",
    "    # Base value for each part\n",
    "    base = target // parts\n",
    "    # Remainder to distribute\n",
    "    remainder = target % parts\n",
    "    # List to hold the result\n",
    "    result = []\n",
    "    \n",
    "    for i in range(parts):\n",
    "        if i < remainder:\n",
    "            # These parts get base value + 1\n",
    "            result.append(base + 1)\n",
    "        else:\n",
    "            # The rest get the base value\n",
    "            result.append(base)\n",
    "    \n",
    "    return result\n",
    "\n",
    "\n",
    "@contextmanager\n",
    "def suppress_output():\n",
    "    # Open a null device\n",
    "    with open(os.devnull, 'w') as devnull:\n",
    "        # Store the original stdout and stderr\n",
    "        old_stdout = sys.stdout\n",
    "        old_stderr = sys.stderr\n",
    "        # Redirect stdout and stderr to the null device\n",
    "        sys.stdout = devnull\n",
    "        sys.stderr = devnull\n",
    "        try:\n",
    "            yield\n",
    "        finally:\n",
    "            # Restore stdout and stderr\n",
    "            sys.stdout = old_stdout\n",
    "            sys.stderr = old_stderr\n",
    "\n",
    "\n",
    "def make_graph_retriever_node(vectorstore, reranker, rerank_by_question=True, k_final=15, k_before_reranking=100):\n",
    "\n",
    "        def retrieve_graphs(state):\n",
    "            print(\"---- Retrieving graphs ----\")\n",
    "            \n",
    "            POSSIBLE_SOURCES = [\"IEA\", \"OWID\"]\n",
    "            questions = state[\"questions\"]\n",
    "            sources_input = state[\"sources_input\"]\n",
    "\n",
    "            auto_mode = \"auto\" in sources_input\n",
    "\n",
    "            # There are several options to get the final top k\n",
    "            # Option 1 - Get 100 documents by question and rerank by question\n",
    "            # Option 2 - Get 100/n documents by question and rerank the total\n",
    "            if rerank_by_question:\n",
    "                k_by_question = divide_into_parts(k_final,len(questions))\n",
    "            \n",
    "            docs = []\n",
    "            \n",
    "            for i,q in enumerate(questions):\n",
    "                \n",
    "                question = q[\"question\"]\n",
    "                \n",
    "                print(f\"Subquestion {i}: {question}\")\n",
    "                \n",
    "                # If auto mode, we use all sources\n",
    "                if auto_mode:\n",
    "                    sources = POSSIBLE_SOURCES\n",
    "                # Otherwise, we use the config\n",
    "                else:\n",
    "                    sources = sources_input\n",
    "\n",
    "                if any([x in POSSIBLE_SOURCES for x in sources]):\n",
    "\n",
    "                    sources = [x for x in sources if x in POSSIBLE_SOURCES]\n",
    "                    \n",
    "                    # Search the document store using the retriever\n",
    "                    retriever = GraphRetriever(\n",
    "                        vectorstore = vectorstore,\n",
    "                        sources = sources,\n",
    "                        k_total = k_before_reranking,\n",
    "                        threshold = 0.5,\n",
    "                        )\n",
    "                    docs_question = retriever.get_relevant_documents(question)\n",
    "                    \n",
    "                    # Rerank\n",
    "                    if reranker is not None:\n",
    "                        with suppress_output():\n",
    "                            docs_question = rerank_docs(reranker,docs_question,question)\n",
    "                    else:\n",
    "                        # Add a default reranking score\n",
    "                        for doc in docs_question:\n",
    "                            doc.metadata[\"reranking_score\"] = doc.metadata[\"similarity_score\"]\n",
    "                        \n",
    "                    # If rerank by question we select the top documents for each question\n",
    "                    if rerank_by_question:\n",
    "                        docs_question = docs_question[:k_by_question[i]]\n",
    "                        \n",
    "                    # Add sources used in the metadata\n",
    "                    for doc in docs_question:\n",
    "                        doc.metadata[\"sources_used\"] = sources\n",
    "                    \n",
    "                    print(f\"{len(docs_question)} graphs retrieved for subquestion {i + 1}: {docs_question}\")\n",
    "                    \n",
    "                    # Add to the list of docs\n",
    "                    docs.extend(docs_question)\n",
    "\n",
    "                else:\n",
    "                    print(f\"There are no graphs which match the sources filtered on. Sources filtered on: {sources}. Sources available: {POSSIBLE_SOURCES}.\")\n",
    "                    \n",
    "                # Sorting the list in descending order by rerank_score\n",
    "                # Then select the top k\n",
    "                docs = sorted(docs, key=lambda x: x.metadata[\"reranking_score\"], reverse=True)\n",
    "                docs = docs[:k_final]\n",
    "\n",
    "            return {\"recommended_content\": docs}\n",
    "        \n",
    "        return retrieve_graphs"
   ]
  },
  {
   "cell_type": "code",
   "execution_count": 87,
   "metadata": {},
   "outputs": [],
   "source": [
    "# import sys\n",
    "# import os\n",
    "# from contextlib import contextmanager\n",
    "\n",
    "# from climateqa.engine.reranker import rerank_docs\n",
    "\n",
    "\n",
    "# def divide_into_parts(target, parts):\n",
    "#     # Base value for each part\n",
    "#     base = target // parts\n",
    "#     # Remainder to distribute\n",
    "#     remainder = target % parts\n",
    "#     # List to hold the result\n",
    "#     result = []\n",
    "    \n",
    "#     for i in range(parts):\n",
    "#         if i < remainder:\n",
    "#             # These parts get base value + 1\n",
    "#             result.append(base + 1)\n",
    "#         else:\n",
    "#             # The rest get the base value\n",
    "#             result.append(base)\n",
    "    \n",
    "#     return result\n",
    "\n",
    "\n",
    "# @contextmanager\n",
    "# def suppress_output():\n",
    "#     # Open a null device\n",
    "#     with open(os.devnull, 'w') as devnull:\n",
    "#         # Store the original stdout and stderr\n",
    "#         old_stdout = sys.stdout\n",
    "#         old_stderr = sys.stderr\n",
    "#         # Redirect stdout and stderr to the null device\n",
    "#         sys.stdout = devnull\n",
    "#         sys.stderr = devnull\n",
    "#         try:\n",
    "#             yield\n",
    "#         finally:\n",
    "#             # Restore stdout and stderr\n",
    "#             sys.stdout = old_stdout\n",
    "#             sys.stderr = old_stderr\n",
    "\n",
    "\n",
    "\n",
    "# def make_retriever_node(vectorstore, reranker, rerank_by_question=True, k_final=15, k_before_reranking=100):\n",
    "\n",
    "#     def retrieve_documents(state):\n",
    "        \n",
    "#         POSSIBLE_SOURCES = [\"IEA\",\"OWID\"]\n",
    "#         questions = state[\"questions\"]\n",
    "#         sources_input = state[\"sources_input\"]\n",
    "        \n",
    "#         # Sert à rien pour l'instant puisqu'on a des valeurs par défaut et qu'on fait pas de query transformation sur les sources de graphs\n",
    "#         # Use sources from the user input or from the LLM detection\n",
    "#         if \"sources_input\" not in state or state[\"sources_input\"] is None:\n",
    "#             sources_input = [\"auto\"]\n",
    "#         else:\n",
    "#             sources_input = state[\"sources_input\"]\n",
    "#         auto_mode = \"auto\" in sources_input\n",
    "\n",
    "#         # There are several options to get the final top k\n",
    "#         # Option 1 - Get 100 documents by question and rerank by question\n",
    "#         # Option 2 - Get 100/n documents by question and rerank the total\n",
    "#         if rerank_by_question:\n",
    "#             k_by_question = divide_into_parts(k_final,len(questions))\n",
    "        \n",
    "#         docs = []\n",
    "        \n",
    "#         for i,q in enumerate(questions):\n",
    "            \n",
    "#             sources = q[\"sources\"]\n",
    "#             question = q[\"question\"]\n",
    "            \n",
    "#             # If auto mode, we use the sources detected by the LLM\n",
    "#             if auto_mode:\n",
    "#                 sources = [x for x in sources if x in POSSIBLE_SOURCES]\n",
    "                \n",
    "#             # Otherwise, we use the config\n",
    "#             else:\n",
    "#                 sources = sources_input\n",
    "                \n",
    "#             # Search the document store using the retriever\n",
    "#             # Configure high top k for further reranking step\n",
    "#             retriever = GraphRetriever(\n",
    "#                 vectorstore=vectorstore,\n",
    "#                 sources = sources,\n",
    "#                 k_total = k_before_reranking,\n",
    "#                 threshold = 0.5,\n",
    "#                 )\n",
    "#             docs_question = retriever.get_relevant_documents(question)\n",
    "            \n",
    "#             # Rerank\n",
    "#             if reranker is not None:\n",
    "#                 with suppress_output():\n",
    "#                     docs_question = rerank_docs(reranker,docs_question,question)\n",
    "#             else:\n",
    "#                 # Add a default reranking score\n",
    "#                 for doc in docs_question:\n",
    "#                     # doc.metadata[\"reranking_score\"] = doc.metadata[\"similarity_score\"]\n",
    "#                     doc.metadata[\"reranking_score\"] = \"No reranking\"\n",
    "                \n",
    "#             # If rerank by question we select the top documents for each question\n",
    "#             if rerank_by_question:\n",
    "#                 docs_question = docs_question[:k_by_question[i]]\n",
    "                \n",
    "#             # Add sources used in the metadata\n",
    "#             for doc in docs_question:\n",
    "#                 doc.metadata[\"sources_used\"] = sources\n",
    "            \n",
    "#             # Add to the list of docs\n",
    "#             docs.extend(docs_question)\n",
    "            \n",
    "#         # Sorting the list in descending order by rerank_score\n",
    "#         # Then select the top k\n",
    "#         docs = sorted(docs, key=lambda x: x.metadata[\"reranking_score\"], reverse=True)\n",
    "#         docs = docs[:k_final]\n",
    "        \n",
    "#         new_state = {\"documents\": docs}\n",
    "#         return new_state\n",
    "    \n",
    "#     return retrieve_documents"
   ]
  },
  {
   "cell_type": "markdown",
   "metadata": {},
   "source": [
    "## 4. Node functions"
   ]
  },
  {
   "cell_type": "code",
   "execution_count": 182,
   "metadata": {},
   "outputs": [],
   "source": [
    "from operator import itemgetter\n",
    "\n",
    "from langchain_core.prompts import ChatPromptTemplate\n",
    "from langchain_core.output_parsers import StrOutputParser\n",
    "from langchain_core.prompts.prompt import PromptTemplate\n",
    "from langchain_core.prompts.base import format_document\n",
    "\n",
    "DEFAULT_DOCUMENT_PROMPT = PromptTemplate.from_template(template=\"\"\"Title: {page_content}. \\n\\n Embedding link: {returned_content}\"\"\")\n",
    "\n",
    "def _combine_recommended_content(\n",
    "    docs, document_prompt=DEFAULT_DOCUMENT_PROMPT, sep=\"\\n\\n-----------------\\n\\n\"\n",
    "):\n",
    "\n",
    "    doc_strings =  []\n",
    "\n",
    "    for i,doc in enumerate(docs):\n",
    "        # chunk_type = \"Doc\" if doc.metadata[\"chunk_type\"] == \"text\" else \"Image\"\n",
    "        chunk_type = \"Graph\"\n",
    "        if isinstance(doc,str):\n",
    "            doc_formatted = doc\n",
    "        else:\n",
    "            doc_formatted = format_document(doc, document_prompt)\n",
    "\n",
    "        doc_string = f\"{chunk_type} {i+1}: \\n\\n\" + doc_formatted\n",
    "        # doc_string = doc_string.replace(\"\\n\",\" \") \n",
    "        doc_strings.append(doc_string)\n",
    "\n",
    "    return sep.join(doc_strings)"
   ]
  },
  {
   "cell_type": "code",
   "execution_count": 183,
   "metadata": {},
   "outputs": [
    {
     "data": {
      "text/markdown": [
       "Graph 1: \n",
       "\n",
       "Title: Hydrogen use in the Sustainable Development Scenario, 2019-2050. \n",
       "\n",
       " Embedding link: https://www.iea.org/data-and-statistics/charts/hydrogen-use-in-the-sustainable-development-scenario-2019-2050\n",
       "\n",
       "-----------------\n",
       "\n",
       "Graph 2: \n",
       "\n",
       "Title: Global hydrogen demand by sector in the Sustainable Development Scenario, 2019-2070. \n",
       "\n",
       " Embedding link: https://www.iea.org/data-and-statistics/charts/global-hydrogen-demand-by-sector-in-the-sustainable-development-scenario-2019-2070\n",
       "\n",
       "-----------------\n",
       "\n",
       "Graph 3: \n",
       "\n",
       "Title: Role of north-western Europe in the European hydrogen landscape, 2020. \n",
       "\n",
       " Embedding link: https://www.iea.org/data-and-statistics/charts/role-of-north-western-europe-in-the-european-hydrogen-landscape-2020\n",
       "\n",
       "-----------------\n",
       "\n",
       "Graph 4: \n",
       "\n",
       "Title: Reduction in global hydrogen demand by sector in the Reduced Innovation Case, relative to the Sustainable Development Scenario, 2030-2040. \n",
       "\n",
       " Embedding link: https://www.iea.org/data-and-statistics/charts/reduction-in-global-hydrogen-demand-by-sector-in-the-reduced-innovation-case-relative-to-the-sustainable-development-scenario-2030-2040\n",
       "\n",
       "-----------------\n",
       "\n",
       "Graph 5: \n",
       "\n",
       "Title: Global power sector demand for hydrogen and hydrogen-based fuels in the Net Zero Scenario. \n",
       "\n",
       " Embedding link: https://www.iea.org/data-and-statistics/charts/global-power-sector-demand-for-hydrogen-and-hydrogen-based-fuels-in-the-net-zero-scenario\n",
       "\n",
       "-----------------\n",
       "\n",
       "Graph 6: \n",
       "\n",
       "Title: Energy imports and exports. \n",
       "\n",
       " Embedding link: <iframe src=\"https://ourworldindata.org/grapher/energy-imports-and-exports-energy-use?tab=map\" loading=\"lazy\" style=\"width: 100%; height: 600px; border: 0px none;\" allow=\"web-share; clipboard-write\"></iframe>\n",
       "\n",
       "-----------------\n",
       "\n",
       "Graph 7: \n",
       "\n",
       "Title: Hydrogen demand in industry, 2020. \n",
       "\n",
       " Embedding link: https://www.iea.org/data-and-statistics/charts/hydrogen-demand-in-industry-2020\n",
       "\n",
       "-----------------\n",
       "\n",
       "Graph 8: \n",
       "\n",
       "Title: Low-emissions hydrogen imports into Northwest Europe by status, based on announced projects, 2030-2040. \n",
       "\n",
       " Embedding link: https://www.iea.org/data-and-statistics/charts/low-emissions-hydrogen-imports-into-northwest-europe-by-status-based-on-announced-projects-2030-2040\n",
       "\n",
       "-----------------\n",
       "\n",
       "Graph 9: \n",
       "\n",
       "Title: Top five countries by total energy supply by energy source, 2018. \n",
       "\n",
       " Embedding link: https://www.iea.org/data-and-statistics/charts/top-five-countries-by-total-energy-supply-by-energy-source-2018\n",
       "\n",
       "-----------------\n",
       "\n",
       "Graph 10: \n",
       "\n",
       "Title: Global demand for pure hydrogen, 1975-2018. \n",
       "\n",
       " Embedding link: https://www.iea.org/data-and-statistics/charts/global-demand-for-pure-hydrogen-1975-2018\n",
       "\n",
       "-----------------\n",
       "\n",
       "Graph 11: \n",
       "\n",
       "Title: Top five countries by total energy supply by energy source, 2019. \n",
       "\n",
       " Embedding link: https://www.iea.org/data-and-statistics/charts/top-five-countries-by-total-energy-supply-by-energy-source-2019"
      ],
      "text/plain": [
       "<IPython.core.display.Markdown object>"
      ]
     },
     "metadata": {},
     "output_type": "display_data"
    }
   ],
   "source": [
    "display(Markdown(_combine_recommended_content(output[\"recommended_content\"])))"
   ]
  },
  {
   "cell_type": "code",
   "execution_count": 16,
   "metadata": {},
   "outputs": [],
   "source": [
    "from langchain_core.output_parsers import JsonOutputParser\n",
    "from langchain_core.prompts import PromptTemplate\n",
    "from langchain_core.pydantic_v1 import BaseModel, Field\n",
    "from langchain_openai import ChatOpenAI\n",
    "\n",
    "from climateqa.engine.chains.prompts import answer_prompt_graph_template\n",
    "\n",
    "class RecommendedGraph(BaseModel):\n",
    "    title: str = Field(description=\"Title of the graph\")\n",
    "    embedding: str = Field(description=\"Embedding link of the graph\")\n",
    "\n",
    "# class RecommendedGraphs(BaseModel):\n",
    "#     recommended_content: List[RecommendedGraph] = Field(description=\"List of recommended graphs\")\n",
    "\n",
    "def make_rag_graph_chain(llm):\n",
    "    parser = JsonOutputParser(pydantic_object=RecommendedGraph)\n",
    "    prompt = PromptTemplate(\n",
    "        template=answer_prompt_graph_template,\n",
    "        input_variables=[\"query\", \"recommended_content\"],\n",
    "        partial_variables={\"format_instructions\": parser.get_format_instructions()},\n",
    "    )\n",
    "\n",
    "    chain = prompt | llm | parser\n",
    "    return chain\n",
    "\n",
    "def make_rag_graph_node(llm):\n",
    "    chain = make_rag_graph_chain(llm)\n",
    "\n",
    "    def answer_rag_graph(state):\n",
    "        output = chain.invoke(state)\n",
    "        return {\"graph_returned\": output}\n",
    "\n",
    "    return answer_rag_graph"
   ]
  },
  {
   "cell_type": "markdown",
   "metadata": {},
   "source": [
    "## 5. Graph"
   ]
  },
  {
   "cell_type": "markdown",
   "metadata": {},
   "source": [
    "### 5.1 Make graph agent"
   ]
  },
  {
   "cell_type": "code",
   "execution_count": 11,
   "metadata": {},
   "outputs": [],
   "source": [
    "import sys\n",
    "import os\n",
    "from contextlib import contextmanager\n",
    "\n",
    "from langchain.schema import Document\n",
    "from langgraph.graph import END, StateGraph\n",
    "from langchain_core.runnables.graph import CurveStyle, NodeColors, MermaidDrawMethod\n",
    "\n",
    "from typing_extensions import TypedDict\n",
    "from typing import List, Dict\n",
    "\n",
    "from IPython.display import display, HTML, Image\n",
    "\n",
    "from climateqa.engine.chains.answer_chitchat import make_chitchat_node\n",
    "from climateqa.engine.chains.answer_ai_impact import make_ai_impact_node\n",
    "from climateqa.engine.chains.query_transformation import make_query_transform_node\n",
    "from climateqa.engine.chains.translation import make_translation_node\n",
    "from climateqa.engine.chains.intent_categorization import make_intent_categorization_node\n",
    "from climateqa.engine.chains.retriever import make_retriever_node\n",
    "from climateqa.engine.chains.answer_rag import make_rag_node\n",
    "from climateqa.engine.chains.set_defaults import set_defaults\n",
    "from climateqa.engine.chains.graph_retriever import make_graph_retriever_node\n",
    "\n",
    "\n",
    "class GraphState(TypedDict):\n",
    "    \"\"\"\n",
    "    Represents the state of our graph.\n",
    "    \"\"\"\n",
    "    user_input : str\n",
    "    language : str\n",
    "    intent : str\n",
    "    query: str\n",
    "    questions : List[dict]\n",
    "    answer: str\n",
    "    audience: str\n",
    "    sources_input: List[str]\n",
    "    documents: List[Document]\n",
    "    recommended_content : List[Document]\n",
    "    graph_returned: Dict[str,str]\n",
    "\n",
    "def search(state):\n",
    "    return {}\n",
    "\n",
    "def route_intent(state):\n",
    "    intent = state[\"intent\"]\n",
    "    if intent in [\"chitchat\",\"esg\"]:\n",
    "        return \"answer_chitchat\"\n",
    "    elif intent == \"ai_impact\":\n",
    "        return \"answer_ai_impact\"\n",
    "    else:\n",
    "        # Search route\n",
    "        return \"search\"\n",
    "    \n",
    "def route_translation(state):\n",
    "    if state[\"language\"].lower() == \"english\":\n",
    "        return \"transform_query\"\n",
    "    else:\n",
    "        return \"translate_query\"\n",
    "    \n",
    "def route_based_on_relevant_docs(state,threshold_docs=0.2):\n",
    "    docs = [x for x in state[\"documents\"] if x.metadata[\"reranking_score\"] > threshold_docs]\n",
    "    if len(docs) > 0:\n",
    "        return \"answer_rag\"\n",
    "    else:\n",
    "        return \"answer_rag_no_docs\"\n",
    "    \n",
    "\n",
    "def make_id_dict(values):\n",
    "    return {k:k for k in values}\n",
    "\n",
    "def make_graph_agent(llm, vectorstore_ipcc, vectorstore_graphs, reranker, threshold_docs=0.2):\n",
    "    \n",
    "    workflow = StateGraph(GraphState)\n",
    "\n",
    "    # Define the node functions\n",
    "    categorize_intent = make_intent_categorization_node(llm)\n",
    "    transform_query = make_query_transform_node(llm)\n",
    "    translate_query = make_translation_node(llm)\n",
    "    answer_chitchat = make_chitchat_node(llm)\n",
    "    answer_ai_impact = make_ai_impact_node(llm)\n",
    "    retrieve_documents = make_retriever_node(vectorstore_ipcc, reranker)\n",
    "    retrieve_graphs = make_graph_retriever_node(vectorstore_graphs, reranker)\n",
    "    answer_rag_graph = make_rag_graph_node(llm)\n",
    "    answer_rag = make_rag_node(llm, with_docs=True)\n",
    "    answer_rag_no_docs = make_rag_node(llm, with_docs=False)\n",
    "\n",
    "    # Define the nodes\n",
    "    workflow.add_node(\"set_defaults\", set_defaults)\n",
    "    workflow.add_node(\"categorize_intent\", categorize_intent)\n",
    "    workflow.add_node(\"search\", search)\n",
    "    workflow.add_node(\"transform_query\", transform_query)\n",
    "    workflow.add_node(\"translate_query\", translate_query)\n",
    "    workflow.add_node(\"answer_chitchat\", answer_chitchat)\n",
    "    workflow.add_node(\"answer_ai_impact\", answer_ai_impact)\n",
    "    workflow.add_node(\"retrieve_graphs\", retrieve_graphs)\n",
    "    workflow.add_node(\"answer_rag_graph\", answer_rag_graph)\n",
    "    workflow.add_node(\"retrieve_documents\", retrieve_documents)\n",
    "    workflow.add_node(\"answer_rag\", answer_rag)\n",
    "    workflow.add_node(\"answer_rag_no_docs\", answer_rag_no_docs)\n",
    "\n",
    "    # Entry point\n",
    "    workflow.set_entry_point(\"set_defaults\")\n",
    "\n",
    "    # CONDITIONAL EDGES\n",
    "    workflow.add_conditional_edges(\n",
    "        \"categorize_intent\",\n",
    "        route_intent,\n",
    "        make_id_dict([\"answer_chitchat\",\"answer_ai_impact\",\"search\"])\n",
    "    )\n",
    "\n",
    "    workflow.add_conditional_edges(\n",
    "        \"search\",\n",
    "        route_translation,\n",
    "        make_id_dict([\"translate_query\",\"transform_query\"])\n",
    "    )\n",
    "\n",
    "    workflow.add_conditional_edges(\n",
    "        \"retrieve_documents\",\n",
    "        lambda x : route_based_on_relevant_docs(x,threshold_docs=threshold_docs),\n",
    "        make_id_dict([\"answer_rag\",\"answer_rag_no_docs\"])\n",
    "    )\n",
    "\n",
    "    # Define the edges\n",
    "    workflow.add_edge(\"set_defaults\", \"categorize_intent\")\n",
    "    workflow.add_edge(\"translate_query\", \"transform_query\")\n",
    "    workflow.add_edge(\"transform_query\", \"retrieve_graphs\")\n",
    "    workflow.add_edge(\"retrieve_graphs\", \"answer_rag_graph\")\n",
    "    workflow.add_edge(\"answer_rag_graph\", \"retrieve_documents\")\n",
    "    workflow.add_edge(\"answer_rag\", END)\n",
    "    workflow.add_edge(\"answer_rag_no_docs\", END)\n",
    "    workflow.add_edge(\"answer_chitchat\", END)\n",
    "    workflow.add_edge(\"answer_ai_impact\", END)\n",
    "\n",
    "    # Compile\n",
    "    app = workflow.compile()\n",
    "    return app\n",
    "\n",
    "\n",
    "\n",
    "\n",
    "def display_graph(app):\n",
    "\n",
    "    display(\n",
    "        Image(\n",
    "            app.get_graph(xray = True).draw_mermaid_png(\n",
    "                draw_method=MermaidDrawMethod.API,\n",
    "            )\n",
    "        )\n",
    "    )"
   ]
  },
  {
   "cell_type": "code",
   "execution_count": 14,
   "metadata": {},
   "outputs": [
    {
     "data": {
      "image/jpeg": "[encoded data removed]",
      "text/plain": [
       "<IPython.core.display.Image object>"
      ]
     },
     "metadata": {},
     "output_type": "display_data"
    }
   ],
   "source": [
    "app = make_graph_agent(llm=llm, vectorstore_ipcc=vectorstore, vectorstore_graphs=vectorstore_graphs, reranker=reranker)\n",
    "display_graph(app)"
   ]
  },
  {
   "cell_type": "markdown",
   "metadata": {},
   "source": [
    "### 5.2 Testing graph agent"
   ]
  },
  {
   "cell_type": "code",
   "execution_count": 11,
   "metadata": {},
   "outputs": [
    {
     "data": {
      "image/jpeg": "[encoded data removed]",
      "text/plain": [
       "<IPython.core.display.Image object>"
      ]
     },
     "metadata": {},
     "output_type": "display_data"
    }
   ],
   "source": [
    "from climateqa.engine.graph import make_graph_agent, display_graph\n",
    "\n",
    "app = make_graph_agent(llm=llm, vectorstore_ipcc=vectorstore, vectorstore_graphs=vectorstore_graphs, reranker=reranker)\n",
    "display_graph(app)"
   ]
  },
  {
   "cell_type": "code",
   "execution_count": 32,
   "metadata": {},
   "outputs": [
    {
     "ename": "NameError",
     "evalue": "name 'history' is not defined",
     "output_type": "error",
     "traceback": [
      "\u001b[0;31m---------------------------------------------------------------------------\u001b[0m",
      "\u001b[0;31mNameError\u001b[0m                                 Traceback (most recent call last)",
      "Cell \u001b[0;32mIn[32], line 141\u001b[0m\n\u001b[1;32m    118\u001b[0m             history[\u001b[38;5;241m-\u001b[39m\u001b[38;5;241m1\u001b[39m] \u001b[38;5;241m=\u001b[39m (query,answer_yet)\n\u001b[1;32m    119\u001b[0m         \u001b[38;5;66;03m# elif event[\"event\"] == \"on_chain_end\":\u001b[39;00m\n\u001b[1;32m    120\u001b[0m         \u001b[38;5;66;03m#     answer_yet = \"\"\u001b[39;00m\n\u001b[1;32m    121\u001b[0m         \u001b[38;5;66;03m#     history[-1] = (query,answer_yet)\u001b[39;00m\n\u001b[0;32m   (...)\u001b[0m\n\u001b[1;32m    136\u001b[0m \u001b[38;5;66;03m#     except Exception as e:\u001b[39;00m\n\u001b[1;32m    137\u001b[0m \u001b[38;5;66;03m#         pass\u001b[39;00m\n\u001b[0;32m--> 141\u001b[0m history \u001b[38;5;241m=\u001b[39m [\u001b[38;5;28mtuple\u001b[39m(x) \u001b[38;5;28;01mfor\u001b[39;00m x \u001b[38;5;129;01min\u001b[39;00m \u001b[43mhistory\u001b[49m]\n",
      "\u001b[0;31mNameError\u001b[0m: name 'history' is not defined"
     ]
    },
    {
     "name": "stdout",
     "output_type": "stream",
     "text": [
      "---- Setting defaults ----\n"
     ]
    },
    {
     "name": "stderr",
     "output_type": "stream",
     "text": [
      "INFO:httpx:HTTP Request: POST https://api.openai.com/v1/chat/completions \"HTTP/1.1 200 OK\"\n",
      "INFO:httpx:HTTP Request: POST https://api.openai.com/v1/chat/completions \"HTTP/1.1 200 OK\"\n",
      "INFO:httpx:HTTP Request: POST https://api.openai.com/v1/chat/completions \"HTTP/1.1 200 OK\"\n",
      "INFO:httpx:HTTP Request: POST https://api.openai.com/v1/chat/completions \"HTTP/1.1 200 OK\"\n"
     ]
    },
    {
     "name": "stdout",
     "output_type": "stream",
     "text": [
      "---- Retrieving graphs ----\n",
      "Subquestion 0: What is radiative forcing?\n",
      "8 graphs retrieved for subquestion 1: [Document(page_content='Energy intensity', metadata={'category': 'Energy', 'doc_id': 'owid_971', 'returned_content': '<iframe src=\"https://ourworldindata.org/grapher/energy-intensity?tab=map\" loading=\"lazy\" style=\"width: 100%; height: 600px; border: 0px none;\" allow=\"web-share; clipboard-write\"></iframe>', 'source': 'OWID', 'subtitle': 'Energy intensity is measured as primary energy consumption per unit of gross domestic product (GDP), in kilowatt-hours per dollar. GDP is adjusted for inflation and differences in the cost of living between countries.', 'url': 'https://ourworldindata.org/grapher/energy-intensity', 'similarity_score': 0.9688451886177063, 'content': 'Energy intensity', 'reranking_score': 2.152034176106099e-05, 'query_used_for_retrieval': 'What is radiative forcing?', 'sources_used': ['IEA', 'OWID']}), Document(page_content='Carbon dioxide emissions factors', metadata={'category': 'CO2 & Greenhouse Gas Emissions', 'doc_id': 'owid_342', 'returned_content': '<iframe src=\"https://ourworldindata.org/grapher/carbon-dioxide-emissions-factor?tab=map\" loading=\"lazy\" style=\"width: 100%; height: 600px; border: 0px none;\" allow=\"web-share; clipboard-write\"></iframe>', 'source': 'OWID', 'subtitle': 'Emissions factors quantify the average CO₂ output per unit of energy. They are measured in kilograms of CO₂ per megawatt-hour (MWh) of energy from various fossil fuel sources.', 'url': 'https://ourworldindata.org/grapher/carbon-dioxide-emissions-factor', 'similarity_score': 1.0487806797027588, 'content': 'Carbon dioxide emissions factors', 'reranking_score': 2.109580054820981e-05, 'query_used_for_retrieval': 'What is radiative forcing?', 'sources_used': ['IEA', 'OWID']}), Document(page_content='Ozone-depleting substance emissions', metadata={'category': 'Ozone Layer', 'doc_id': 'owid_1847', 'returned_content': '<iframe src=\"https://ourworldindata.org/grapher/ozone-depleting-substance-emissions?tab=map\" loading=\"lazy\" style=\"width: 100%; height: 600px; border: 0px none;\" allow=\"web-share; clipboard-write\"></iframe>', 'source': 'OWID', 'subtitle': 'Ozone-depleting substance emissions are measured in ODP tonnes.', 'url': 'https://ourworldindata.org/grapher/ozone-depleting-substance-emissions', 'similarity_score': 1.067753553390503, 'content': 'Ozone-depleting substance emissions', 'reranking_score': 2.0987541574868374e-05, 'query_used_for_retrieval': 'What is radiative forcing?', 'sources_used': ['IEA', 'OWID']}), Document(page_content='Carbon intensity of energy production', metadata={'category': 'CO2 & Greenhouse Gas Emissions', 'doc_id': 'owid_345', 'returned_content': '<iframe src=\"https://ourworldindata.org/grapher/co2-per-unit-energy?tab=map\" loading=\"lazy\" style=\"width: 100%; height: 600px; border: 0px none;\" allow=\"web-share; clipboard-write\"></iframe>', 'source': 'OWID', 'subtitle': 'Amount of carbon dioxide emitted per unit of energy production, measured in kilograms of CO₂ per kilowatt-hour.', 'url': 'https://ourworldindata.org/grapher/co2-per-unit-energy', 'similarity_score': 1.0721089839935303, 'content': 'Carbon intensity of energy production', 'reranking_score': 2.0985278752050363e-05, 'query_used_for_retrieval': 'What is radiative forcing?', 'sources_used': ['IEA', 'OWID']}), Document(page_content='Long-term energy transitions', metadata={'category': 'Energy', 'doc_id': 'owid_1013', 'returned_content': '<iframe src=\"https://ourworldindata.org/grapher/long-term-energy-transitions?tab=map\" loading=\"lazy\" style=\"width: 100%; height: 600px; border: 0px none;\" allow=\"web-share; clipboard-write\"></iframe>', 'source': 'OWID', 'subtitle': 'Share of primary energy by source over the long-term, measured as the percentage of total energy consumption. Primary electricity includes: hydropower, nuclear power, wind, photo\\xadvoltaics, tidal, wave and solar thermal and geothermal (only figures for electricity production are included).', 'url': 'https://ourworldindata.org/grapher/long-term-energy-transitions', 'similarity_score': 1.0745375156402588, 'content': 'Long-term energy transitions', 'reranking_score': 2.085221785819158e-05, 'query_used_for_retrieval': 'What is radiative forcing?', 'sources_used': ['IEA', 'OWID']}), Document(page_content='Renewable and nuclear energy: direct vs. substituted energy', metadata={'category': 'Energy', 'doc_id': 'owid_1082', 'returned_content': '<iframe src=\"https://ourworldindata.org/grapher/renewable-nuclear-direct-substitution?tab=map\" loading=\"lazy\" style=\"width: 100%; height: 600px; border: 0px none;\" allow=\"web-share; clipboard-write\"></iframe>', 'source': 'OWID', 'subtitle': 'Direct primary energy measures the amount of electricity generated from power plants. Substituted primary energy estimates the amount of energy required by power plants if these sources had the same inefficiencies as fossil fuels. Measured in terawatt-hours.', 'url': 'https://ourworldindata.org/grapher/renewable-nuclear-direct-substitution', 'similarity_score': 1.0793505907058716, 'content': 'Renewable and nuclear energy: direct vs. substituted energy', 'reranking_score': 2.085221785819158e-05, 'query_used_for_retrieval': 'What is radiative forcing?', 'sources_used': ['IEA', 'OWID']}), Document(page_content='Accumulated cyclone energy of North Atlantic hurricanes', metadata={'category': 'Natural Disasters', 'doc_id': 'owid_1728', 'returned_content': '<iframe src=\"https://ourworldindata.org/grapher/ace-north-atlantic-hurricanes?tab=map\" loading=\"lazy\" style=\"width: 100%; height: 600px; border: 0px none;\" allow=\"web-share; clipboard-write\"></iframe>', 'source': 'OWID', 'subtitle': 'Accumulated cyclone energy (ACE) is an index used to measure the activity of a cyclone/hurricane season. It combines the number of hurricane systems, how long they existed and how intense they became.', 'url': 'https://ourworldindata.org/grapher/ace-north-atlantic-hurricanes', 'similarity_score': 1.0885957479476929, 'content': 'Accumulated cyclone energy of North Atlantic hurricanes', 'reranking_score': 2.071472590614576e-05, 'query_used_for_retrieval': 'What is radiative forcing?', 'sources_used': ['IEA', 'OWID']}), Document(page_content='Solar energy generation vs. capacity', metadata={'category': 'Energy', 'doc_id': 'owid_1136', 'returned_content': '<iframe src=\"https://ourworldindata.org/grapher/solar-pv-energy-consumption-vs-solar-pv-capacity?tab=map\" loading=\"lazy\" style=\"width: 100%; height: 600px; border: 0px none;\" allow=\"web-share; clipboard-write\"></iframe>', 'source': 'OWID', 'subtitle': 'Solar energy generation, measured in gigawatt-hours (GWh) versus installed solar capacity, measured in gigawatts (GW).', 'url': 'https://ourworldindata.org/grapher/solar-pv-energy-consumption-vs-solar-pv-capacity', 'similarity_score': 1.1006488800048828, 'content': 'Solar energy generation vs. capacity', 'reranking_score': 2.0698907974292524e-05, 'query_used_for_retrieval': 'What is radiative forcing?', 'sources_used': ['IEA', 'OWID']})]\n",
      "Subquestion 1: How does radiative forcing impact the climate?\n",
      "7 graphs retrieved for subquestion 2: [Document(page_content='Global warming: Contributions to the change in global mean surface temperature', metadata={'category': 'CO2 & Greenhouse Gas Emissions', 'doc_id': 'owid_386', 'returned_content': '<iframe src=\"https://ourworldindata.org/grapher/contributions-global-temp-change?tab=map\" loading=\"lazy\" style=\"width: 100%; height: 600px; border: 0px none;\" allow=\"web-share; clipboard-write\"></iframe>', 'source': 'OWID', 'subtitle': \"This is shown as a country or region's share of the global mean surface temperature change as a result of its cumulative emissions of three gases – carbon dioxide, methane, and nitrous oxide.\", 'url': 'https://ourworldindata.org/grapher/contributions-global-temp-change', 'similarity_score': 0.819640040397644, 'content': 'Global warming: Contributions to the change in global mean surface temperature', 'reranking_score': 3.529732930473983e-05, 'query_used_for_retrieval': 'How does radiative forcing impact the climate?', 'sources_used': ['IEA', 'OWID']}), Document(page_content='Contribution to global mean surface temperature rise by gas', metadata={'category': 'CO2 & Greenhouse Gas Emissions', 'doc_id': 'owid_358', 'returned_content': '<iframe src=\"https://ourworldindata.org/grapher/contribution-to-temp-rise-by-gas?tab=map\" loading=\"lazy\" style=\"width: 100%; height: 600px; border: 0px none;\" allow=\"web-share; clipboard-write\"></iframe>', 'source': 'OWID', 'subtitle': \"The global mean surface temperature change as a result of a country or region's cumulative emissions of three gases – carbon dioxide, methane, and nitrous oxide.\", 'url': 'https://ourworldindata.org/grapher/contribution-to-temp-rise-by-gas', 'similarity_score': 0.8219074606895447, 'content': 'Contribution to global mean surface temperature rise by gas', 'reranking_score': 3.2611642382107675e-05, 'query_used_for_retrieval': 'How does radiative forcing impact the climate?', 'sources_used': ['IEA', 'OWID']}), Document(page_content='Contribution to global mean surface temperature rise', metadata={'category': 'CO2 & Greenhouse Gas Emissions', 'doc_id': 'owid_357', 'returned_content': '<iframe src=\"https://ourworldindata.org/grapher/contribution-temp-rise-degrees?tab=map\" loading=\"lazy\" style=\"width: 100%; height: 600px; border: 0px none;\" allow=\"web-share; clipboard-write\"></iframe>', 'source': 'OWID', 'subtitle': \"The global mean surface temperature change as a result of a country or region's cumulative emissions of three gases – carbon dioxide, methane, and nitrous oxide.\", 'url': 'https://ourworldindata.org/grapher/contribution-temp-rise-degrees', 'similarity_score': 0.8240867853164673, 'content': 'Contribution to global mean surface temperature rise', 'reranking_score': 3.1018946174299344e-05, 'query_used_for_retrieval': 'How does radiative forcing impact the climate?', 'sources_used': ['IEA', 'OWID']}), Document(page_content='Nationally determined contributions to climate change', metadata={'category': 'Climate Change', 'doc_id': 'owid_780', 'returned_content': '<iframe src=\"https://ourworldindata.org/grapher/nationally-determined-contributions?tab=map\" loading=\"lazy\" style=\"width: 100%; height: 600px; border: 0px none;\" allow=\"web-share; clipboard-write\"></iframe>', 'source': 'OWID', 'subtitle': 'Nationally determined contributions (NDCs) embody efforts by each country to reduce national emissions and adapt to the impacts of climate change. The Paris Agreement requires each of the 193 Parties to prepare, communicate and maintain NDCs outlining what they intend to achieve. NDCs must be updated every five years.', 'url': 'https://ourworldindata.org/grapher/nationally-determined-contributions', 'similarity_score': 0.8318947553634644, 'content': 'Nationally determined contributions to climate change', 'reranking_score': 2.488470090611372e-05, 'query_used_for_retrieval': 'How does radiative forcing impact the climate?', 'sources_used': ['IEA', 'OWID']}), Document(page_content='Carbon dioxide emissions factors', metadata={'category': 'CO2 & Greenhouse Gas Emissions', 'doc_id': 'owid_342', 'returned_content': '<iframe src=\"https://ourworldindata.org/grapher/carbon-dioxide-emissions-factor?tab=map\" loading=\"lazy\" style=\"width: 100%; height: 600px; border: 0px none;\" allow=\"web-share; clipboard-write\"></iframe>', 'source': 'OWID', 'subtitle': 'Emissions factors quantify the average CO₂ output per unit of energy. They are measured in kilograms of CO₂ per megawatt-hour (MWh) of energy from various fossil fuel sources.', 'url': 'https://ourworldindata.org/grapher/carbon-dioxide-emissions-factor', 'similarity_score': 0.8357298970222473, 'content': 'Carbon dioxide emissions factors', 'reranking_score': 2.46217314270325e-05, 'query_used_for_retrieval': 'How does radiative forcing impact the climate?', 'sources_used': ['IEA', 'OWID']}), Document(page_content='Global warming contributions by gas and source', metadata={'category': 'CO2 & Greenhouse Gas Emissions', 'doc_id': 'owid_383', 'returned_content': '<iframe src=\"https://ourworldindata.org/grapher/global-warming-by-gas-and-source?tab=map\" loading=\"lazy\" style=\"width: 100%; height: 600px; border: 0px none;\" allow=\"web-share; clipboard-write\"></iframe>', 'source': 'OWID', 'subtitle': 'The global mean surface temperature change as a result of the cumulative emissions of three gases – carbon dioxide, methane, and nitrous oxide.', 'url': 'https://ourworldindata.org/grapher/global-warming-by-gas-and-source', 'similarity_score': 0.8357741832733154, 'content': 'Global warming contributions by gas and source', 'reranking_score': 2.433718509564642e-05, 'query_used_for_retrieval': 'How does radiative forcing impact the climate?', 'sources_used': ['IEA', 'OWID']}), Document(page_content='Global yearly surface temperature anomalies', metadata={'category': 'Climate Change', 'doc_id': 'owid_768', 'returned_content': '<iframe src=\"https://ourworldindata.org/grapher/global-yearly-surface-temperature-anomalies?tab=map\" loading=\"lazy\" style=\"width: 100%; height: 600px; border: 0px none;\" allow=\"web-share; clipboard-write\"></iframe>', 'source': 'OWID', 'subtitle': \"The deviation of a specific year's average surface temperature from the 1991-2020 mean, in degrees Celsius.\", 'url': 'https://ourworldindata.org/grapher/global-yearly-surface-temperature-anomalies', 'similarity_score': 0.85450679063797, 'content': 'Global yearly surface temperature anomalies', 'reranking_score': 2.2832264221506193e-05, 'query_used_for_retrieval': 'How does radiative forcing impact the climate?', 'sources_used': ['IEA', 'OWID']})]\n"
     ]
    },
    {
     "name": "stderr",
     "output_type": "stream",
     "text": [
      "INFO:httpx:HTTP Request: POST https://api.openai.com/v1/chat/completions \"HTTP/1.1 200 OK\"\n"
     ]
    },
    {
     "name": "stdout",
     "output_type": "stream",
     "text": [
      "\n",
      "\n",
      "Answer:\n",
      "Radiative forcing is a key concept in understanding climate change. It refers to the energy imbalance caused by external factors that influence the Earth's temperature. When there is a positive radiative forcing, it leads to warming, while a negative radiative forcing results in cooling. This imbalance causes the Earth's system to either warm or cool in order to restore balance by adjusting the amount of outgoing thermal radiation.\n",
      "\n",
      "The main contributors to radiative forcing are human activities, particularly the increase in greenhouse gas (GHG) concentrations and aerosols in the atmosphere. The human-caused radiative forcing has significantly warmed the climate system over the past century, with most of the warming attributed to GHGs. This warming effect has been partly offset by cooling due to increased aerosol concentrations.\n",
      "\n",
      "The observed increase in radiative forcing has led to an accumulation of additional energy in the climate system, resulting in heating. Ocean warming has accounted for a significant portion of this heating, highlighting the impact of radiative forcing on different components of the Earth's system.\n",
      "\n",
      "It is important to note that radiative forcing is a complex process influenced by various factors, including changes in GHG concentrations, aerosols, land-use changes, and natural phenomena like volcanic eruptions. Understanding these factors and their impact on radiative forcing is crucial in comprehending the mechanisms driving climate change.\n",
      "\n",
      "In summary, radiative forcing plays a critical role in shaping the Earth's climate by influencing the energy balance of the planet. By reducing human-induced factors contributing to radiative forcing, such as GHG emissions, we can mitigate the warming effect on the climate system and work towards a more sustainable future. [Doc 1, Doc 5, Doc 12]\n"
     ]
    }
   ],
   "source": [
    "from climateqa.engine.chains.prompts import audience_prompts\n",
    "from front.utils import make_html_source,parse_output_llm_with_sources,serialize_docs,make_toolbox,generate_html_graphs\n",
    "\n",
    "docs = []\n",
    "docs_used = True\n",
    "docs_html = \"\"\n",
    "current_graphs = []\n",
    "output_query = \"\"\n",
    "output_language = \"\"\n",
    "output_keywords = \"\"\n",
    "gallery = []\n",
    "updates = []\n",
    "start_streaming = False\n",
    "\n",
    "steps_display = {\n",
    "    \"categorize_intent\":(\"🔄️ Analyzing user message\",True),\n",
    "    \"transform_query\":(\"🔄️ Thinking step by step to answer the question\",True),\n",
    "    \"retrieve_documents\":(\"🔄️ Searching in the knowledge base\",False),\n",
    "}\n",
    "query = \"what is the impact of radiative forcing\"\n",
    "inputs = {\"user_input\": query,\"audience\": audience_prompts[\"general\"] ,\"sources\": [\"IPCC\", \"IPBES\", \"IPOS\"]}\n",
    "\n",
    "result = app.astream_events(inputs,version = \"v1\") #{\"callbacks\":[MyCustomAsyncHandler()]})\n",
    "\n",
    "async for event in result:\n",
    "    if event[\"event\"] == \"on_chat_model_stream\" and event[\"metadata\"][\"langgraph_node\"] in [\"answer_rag\", \"answer_rag_no_docs\", \"answer_chitchat\", \"answer_ai_impact\"]:\n",
    "        if start_streaming == False:\n",
    "            start_streaming = True\n",
    "            history[-1] = (query,\"\")\n",
    "\n",
    "        new_token = event[\"data\"][\"chunk\"].content\n",
    "        # time.sleep(0.01)\n",
    "        previous_answer = history[-1][1]\n",
    "        previous_answer = previous_answer if previous_answer is not None else \"\"\n",
    "        answer_yet = previous_answer + new_token\n",
    "        answer_yet = parse_output_llm_with_sources(answer_yet)\n",
    "        history[-1] = (query,answer_yet)\n",
    "\n",
    "        if docs_used is True and event[\"metadata\"][\"langgraph_node\"] in [\"answer_rag_no_docs\", \"answer_chitchat\", \"answer_ai_impact\"]:\n",
    "            docs_used = False\n",
    "    \n",
    "    elif docs_used is True and event[\"name\"] == \"retrieve_documents\" and event[\"event\"] == \"on_chain_end\":\n",
    "        try:\n",
    "            docs = event[\"data\"][\"output\"][\"documents\"]\n",
    "            docs_html = []\n",
    "            for i, d in enumerate(docs, 1):\n",
    "                docs_html.append(make_html_source(d, i))\n",
    "            docs_html = \"\".join(docs_html)\n",
    "\n",
    "        except Exception as e:\n",
    "            print(f\"Error getting documents: {e}\")\n",
    "            print(event)\n",
    "\n",
    "    # elif event[\"name\"] == \"retrieve_documents\" and event[\"event\"] == \"on_chain_start\":\n",
    "    #     print(event)\n",
    "    #     questions = event[\"data\"][\"input\"][\"questions\"]\n",
    "    #     questions = \"\\n\".join([f\"{i+1}. {q['question']} ({q['source']})\" for i,q in enumerate(questions)])\n",
    "    #     answer_yet = \"🔄️ Searching in the knowledge base\\n{questions}\"\n",
    "    #     history[-1] = (query,answer_yet)\n",
    "\n",
    "    elif event[\"name\"] in [\"retrieve_graphs\", \"retrieve_graphs_ai\"] and event[\"event\"] == \"on_chain_end\":\n",
    "        try:\n",
    "            recommended_content = event[\"data\"][\"output\"][\"recommended_content\"]\n",
    "            # graphs = [\n",
    "            #     {\n",
    "            #         \"embedding\": x.metadata[\"returned_content\"],\n",
    "            #         \"metadata\": {\n",
    "            #             \"source\": x.metadata[\"source\"],\n",
    "            #             \"category\": x.metadata[\"category\"]\n",
    "            #             }\n",
    "            #             } for x in recommended_content if x.metadata[\"source\"] == \"OWID\"\n",
    "            #             ]\n",
    "            \n",
    "            unique_graphs = []\n",
    "            seen_embeddings = set()\n",
    "\n",
    "            for x in recommended_content:\n",
    "                embedding = x.metadata[\"returned_content\"]\n",
    "                \n",
    "                # Check if the embedding has already been seen\n",
    "                if embedding not in seen_embeddings:\n",
    "                    unique_graphs.append({\n",
    "                        \"embedding\": embedding,\n",
    "                        \"metadata\": {\n",
    "                            \"source\": x.metadata[\"source\"],\n",
    "                            \"category\": x.metadata[\"category\"]\n",
    "                        }\n",
    "                    })\n",
    "                    # Add the embedding to the seen set\n",
    "                    seen_embeddings.add(embedding)\n",
    "\n",
    "\n",
    "            categories = {}\n",
    "            for graph in unique_graphs:\n",
    "                category = graph['metadata']['category']\n",
    "                if category not in categories:\n",
    "                    categories[category] = []\n",
    "                categories[category].append(graph['embedding'])\n",
    "\n",
    "            # graphs_html = \"\"\n",
    "            for category, embeddings in categories.items():\n",
    "                # graphs_html += f\"<h3>{category}</h3>\"\n",
    "                # current_graphs.append(f\"<h3>{category}</h3>\")\n",
    "                for embedding in embeddings:\n",
    "                    current_graphs.append([embedding, category])\n",
    "                    # graphs_html += f\"<div>{embedding}</div>\"\n",
    "                                        \n",
    "        except Exception as e:\n",
    "            print(f\"Error getting graphs: {e}\")\n",
    "\n",
    "    for event_name,(event_description,display_output) in steps_display.items():\n",
    "        if event[\"name\"] == event_name:\n",
    "            if event[\"event\"] == \"on_chain_start\":\n",
    "                # answer_yet = f\"<p><span class='loader'></span>{event_description}</p>\"\n",
    "                # answer_yet = make_toolbox(event_description, \"\", checked = False)\n",
    "                answer_yet = event_description\n",
    "\n",
    "                history[-1] = (query,answer_yet)\n",
    "            # elif event[\"event\"] == \"on_chain_end\":\n",
    "            #     answer_yet = \"\"\n",
    "            #     history[-1] = (query,answer_yet)\n",
    "                # if display_output:\n",
    "                #     print(event[\"data\"][\"output\"])\n",
    "\n",
    "    # if op['path'] == path_reformulation: # reforulated question\n",
    "    #     try:\n",
    "    #         output_language = op['value'][\"language\"] # str\n",
    "    #         output_query = op[\"value\"][\"question\"]\n",
    "    #     except Exception as e:\n",
    "    #         raise gr.Error(f\"ClimateQ&A Error: {e} - The error has been noted, try another question and if the error remains, you can contact us :)\")\n",
    "    \n",
    "    # if op[\"path\"] == path_keywords:\n",
    "    #     try:\n",
    "    #         output_keywords = op['value'][\"keywords\"] # str\n",
    "    #         output_keywords = \" AND \".join(output_keywords)\n",
    "    #     except Exception as e:\n",
    "    #         pass\n",
    "\n",
    "\n",
    "\n",
    "    history = [tuple(x) for x in history]"
   ]
  },
  {
   "cell_type": "code",
   "execution_count": 12,
   "metadata": {},
   "outputs": [
    {
     "name": "stdout",
     "output_type": "stream",
     "text": [
      "---- Setting defaults ----\n"
     ]
    },
    {
     "name": "stderr",
     "output_type": "stream",
     "text": [
      "INFO:httpx:HTTP Request: POST https://api.openai.com/v1/chat/completions \"HTTP/1.1 200 OK\"\n"
     ]
    },
    {
     "name": "stdout",
     "output_type": "stream",
     "text": [
      "\n",
      "\n",
      "Output intent categorization: {'intent': 'search'}\n",
      "\n"
     ]
    },
    {
     "name": "stderr",
     "output_type": "stream",
     "text": [
      "INFO:httpx:HTTP Request: POST https://api.openai.com/v1/chat/completions \"HTTP/1.1 200 OK\"\n",
      "INFO:httpx:HTTP Request: POST https://api.openai.com/v1/chat/completions \"HTTP/1.1 200 OK\"\n",
      "INFO:httpx:HTTP Request: POST https://api.openai.com/v1/chat/completions \"HTTP/1.1 200 OK\"\n",
      "INFO:httpx:HTTP Request: POST https://api.openai.com/v1/chat/completions \"HTTP/1.1 200 OK\"\n",
      "/home/dora/anaconda3/envs/climateqa_huggingface/lib/python3.12/site-packages/langchain_core/_api/deprecation.py:119: LangChainDeprecationWarning: The method `BaseRetriever.get_relevant_documents` was deprecated in langchain-core 0.1.46 and will be removed in 0.3.0. Use invoke instead.\n",
      "  warn_deprecated(\n"
     ]
    },
    {
     "name": "stdout",
     "output_type": "stream",
     "text": [
      "---- Retrieving graphs ----\n",
      "Subquestion 0: What are the environmental impacts of being a vegetarian?\n",
      "5 graphs retrieved for subquestion 1: [Document(page_content='Environmental footprints of dairy and plant-based milks', metadata={'category': 'Environmental Impacts of Food Production', 'doc_id': 'owid_1158', 'returned_content': '<iframe src=\"https://ourworldindata.org/grapher/environmental-footprint-milks?tab=map\" loading=\"lazy\" style=\"width: 100%; height: 600px; border: 0px none;\" allow=\"web-share; clipboard-write\"></iframe>', 'source': 'OWID', 'subtitle': 'Impacts are measured per liter of milk. These are based on a meta-analysis of food system impact studies across the supply chain which includes land use change, on-farm production, processing, transport, and packaging.', 'url': 'https://ourworldindata.org/grapher/environmental-footprint-milks', 'similarity_score': 0.6826346516609192, 'content': 'Environmental footprints of dairy and plant-based milks', 'reranking_score': 0.031040672212839127, 'query_used_for_retrieval': 'What are the environmental impacts of being a vegetarian?', 'sources_used': ['IEA', 'OWID']}), Document(page_content='Vegans, vegetarians and meat-eaters: self-reported dietary choices, United Kingdom', metadata={'category': 'Animal Welfare', 'doc_id': 'owid_174', 'returned_content': '<iframe src=\"https://ourworldindata.org/grapher/dietary-choices-uk?tab=map\" loading=\"lazy\" style=\"width: 100%; height: 600px; border: 0px none;\" allow=\"web-share; clipboard-write\"></iframe>', 'source': 'OWID', 'subtitle': '– Flexitarian: mainly vegetarian, but occasionally eat meat or fish. – Pescetarian: eat fish but do not eat meat or poultry. – Vegetarian: do not eat any meat, poultry, game, fish, or shellfish. – Plant-based / Vegan: do not eat dairy products, eggs, or any other animal product.', 'url': 'https://ourworldindata.org/grapher/dietary-choices-uk', 'similarity_score': 0.7348634004592896, 'content': 'Vegans, vegetarians and meat-eaters: self-reported dietary choices, United Kingdom', 'reranking_score': 0.0002468016464263201, 'query_used_for_retrieval': 'What are the environmental impacts of being a vegetarian?', 'sources_used': ['IEA', 'OWID']}), Document(page_content='Global meat consumption', metadata={'category': 'Meat & Dairy Production', 'doc_id': 'owid_1688', 'returned_content': '<iframe src=\"https://ourworldindata.org/grapher/global-meat-projections-to-2050?tab=map\" loading=\"lazy\" style=\"width: 100%; height: 600px; border: 0px none;\" allow=\"web-share; clipboard-write\"></iframe>', 'source': 'OWID', 'subtitle': 'Expressed in tonnes of meat. Data from 1961-2013 is based on published FAO estimates; from 2013-2050 based on FAO projections. Projections are based on future population projections and the expected impacts of regional and national economic growth trends on meat consumption.', 'url': 'https://ourworldindata.org/grapher/global-meat-projections-to-2050', 'similarity_score': 0.7610722184181213, 'content': 'Global meat consumption', 'reranking_score': 6.103218765929341e-05, 'query_used_for_retrieval': 'What are the environmental impacts of being a vegetarian?', 'sources_used': ['IEA', 'OWID']}), Document(page_content='Global emissions from food by life-cycle stage', metadata={'category': 'CO2 & Greenhouse Gas Emissions', 'doc_id': 'owid_382', 'returned_content': '<iframe src=\"https://ourworldindata.org/grapher/food-emissions-life-cycle?tab=map\" loading=\"lazy\" style=\"width: 100%; height: 600px; border: 0px none;\" allow=\"web-share; clipboard-write\"></iframe>', 'source': 'OWID', 'subtitle': 'Emissions from the food system are broken down by their stage in the life-cycle, from land use and on-farm production through to consumer waste. Emissions are measured in tonnes of carbon dioxide-equivalents.', 'url': 'https://ourworldindata.org/grapher/food-emissions-life-cycle', 'similarity_score': 0.7992910146713257, 'content': 'Global emissions from food by life-cycle stage', 'reranking_score': 2.927189962065313e-05, 'query_used_for_retrieval': 'What are the environmental impacts of being a vegetarian?', 'sources_used': ['IEA', 'OWID']}), Document(page_content='Environmental impacts of different types of grocery bags', metadata={'category': 'Plastic Pollution', 'doc_id': 'owid_1889', 'returned_content': '<iframe src=\"https://ourworldindata.org/grapher/grocery-bag-environmental-impact?tab=map\" loading=\"lazy\" style=\"width: 100%; height: 600px; border: 0px none;\" allow=\"web-share; clipboard-write\"></iframe>', 'source': 'OWID', 'subtitle': 'Number of times a given grocery bag type would have to be reused to have an environmental impact as low as a standard single-use plastic bag.', 'url': 'https://ourworldindata.org/grapher/grocery-bag-environmental-impact', 'similarity_score': 0.8245543241500854, 'content': 'Environmental impacts of different types of grocery bags', 'reranking_score': 2.6729740056907758e-05, 'query_used_for_retrieval': 'What are the environmental impacts of being a vegetarian?', 'sources_used': ['IEA', 'OWID']})]\n",
      "Subquestion 1: What are the health benefits of being a vegetarian?\n",
      "5 graphs retrieved for subquestion 2: [Document(page_content='Vegans, vegetarians and meat-eaters: self-reported dietary choices, United Kingdom', metadata={'category': 'Animal Welfare', 'doc_id': 'owid_174', 'returned_content': '<iframe src=\"https://ourworldindata.org/grapher/dietary-choices-uk?tab=map\" loading=\"lazy\" style=\"width: 100%; height: 600px; border: 0px none;\" allow=\"web-share; clipboard-write\"></iframe>', 'source': 'OWID', 'subtitle': '– Flexitarian: mainly vegetarian, but occasionally eat meat or fish. – Pescetarian: eat fish but do not eat meat or poultry. – Vegetarian: do not eat any meat, poultry, game, fish, or shellfish. – Plant-based / Vegan: do not eat dairy products, eggs, or any other animal product.', 'url': 'https://ourworldindata.org/grapher/dietary-choices-uk', 'similarity_score': 0.7397673726081848, 'content': 'Vegans, vegetarians and meat-eaters: self-reported dietary choices, United Kingdom', 'reranking_score': 0.0009852690855041146, 'query_used_for_retrieval': 'What are the health benefits of being a vegetarian?', 'sources_used': ['IEA', 'OWID']}), Document(page_content='Global meat consumption', metadata={'category': 'Meat & Dairy Production', 'doc_id': 'owid_1688', 'returned_content': '<iframe src=\"https://ourworldindata.org/grapher/global-meat-projections-to-2050?tab=map\" loading=\"lazy\" style=\"width: 100%; height: 600px; border: 0px none;\" allow=\"web-share; clipboard-write\"></iframe>', 'source': 'OWID', 'subtitle': 'Expressed in tonnes of meat. Data from 1961-2013 is based on published FAO estimates; from 2013-2050 based on FAO projections. Projections are based on future population projections and the expected impacts of regional and national economic growth trends on meat consumption.', 'url': 'https://ourworldindata.org/grapher/global-meat-projections-to-2050', 'similarity_score': 0.8430064916610718, 'content': 'Global meat consumption', 'reranking_score': 4.879236439592205e-05, 'query_used_for_retrieval': 'What are the health benefits of being a vegetarian?', 'sources_used': ['IEA', 'OWID']}), Document(page_content='Public attitudes to dietary choices and meat-eating in the United States', metadata={'category': 'Animal Welfare', 'doc_id': 'owid_168', 'returned_content': '<iframe src=\"https://ourworldindata.org/grapher/survey-dietary-choices-sentience?tab=map\" loading=\"lazy\" style=\"width: 100%; height: 600px; border: 0px none;\" allow=\"web-share; clipboard-write\"></iframe>', 'source': 'OWID', 'subtitle': 'The survey measured attitudes towards animal farming with around 1,500 adults in the United States, census-balanced to be representative of age, gender, region, ethnicity, and income.', 'url': 'https://ourworldindata.org/grapher/survey-dietary-choices-sentience', 'similarity_score': 0.8580012917518616, 'content': 'Public attitudes to dietary choices and meat-eating in the United States', 'reranking_score': 2.5419842131668702e-05, 'query_used_for_retrieval': 'What are the health benefits of being a vegetarian?', 'sources_used': ['IEA', 'OWID']}), Document(page_content='Consumption of animal products in the EAT-Lancet diet', metadata={'category': 'Diet Compositions', 'doc_id': 'owid_849', 'returned_content': '<iframe src=\"https://ourworldindata.org/grapher/eat-lancet-diet-animal-products?tab=map\" loading=\"lazy\" style=\"width: 100%; height: 600px; border: 0px none;\" allow=\"web-share; clipboard-write\"></iframe>', 'source': 'OWID', 'subtitle': 'Recommended intakes of animal products in the EAT-Lancet diet are shown relative to average daily per capita supply by country. The EAT-Lancet diet is a diet recommended to balance the goals of healthy nutrition and environmental sustainability for a global population.', 'url': 'https://ourworldindata.org/grapher/eat-lancet-diet-animal-products', 'similarity_score': 0.8636230826377869, 'content': 'Consumption of animal products in the EAT-Lancet diet', 'reranking_score': 2.408661566732917e-05, 'query_used_for_retrieval': 'What are the health benefits of being a vegetarian?', 'sources_used': ['IEA', 'OWID']}), Document(page_content='Daily meat consumption per person', metadata={'category': 'Food Supply', 'doc_id': 'owid_1310', 'returned_content': '<iframe src=\"https://ourworldindata.org/grapher/daily-meat-consumption-per-person?tab=map\" loading=\"lazy\" style=\"width: 100%; height: 600px; border: 0px none;\" allow=\"web-share; clipboard-write\"></iframe>', 'source': 'OWID', 'subtitle': 'Daily meat consumption is shown relative to the expected EU average of 165g per person in 2030. This projection comes from the livestock antibiotic scenarios from Van Boeckel et al. (2017).', 'url': 'https://ourworldindata.org/grapher/daily-meat-consumption-per-person', 'similarity_score': 0.8769153952598572, 'content': 'Daily meat consumption per person', 'reranking_score': 2.3410288122249767e-05, 'query_used_for_retrieval': 'What are the health benefits of being a vegetarian?', 'sources_used': ['IEA', 'OWID']})]\n",
      "Subquestion 2: How does being a vegetarian contribute to reducing greenhouse gas emissions?\n",
      "5 graphs retrieved for subquestion 3: [Document(page_content='Share of global greenhouse gas emissions from food', metadata={'category': 'CO2 & Greenhouse Gas Emissions', 'doc_id': 'owid_483', 'returned_content': '<iframe src=\"https://ourworldindata.org/grapher/share-global-food-emissions?tab=map\" loading=\"lazy\" style=\"width: 100%; height: 600px; border: 0px none;\" allow=\"web-share; clipboard-write\"></iframe>', 'source': 'OWID', 'subtitle': 'Food system emissions include agriculture, land-use change, and supply chain emissions (transport, packaging, food processing, retail, cooking, and waste). Emissions are quantified based on food production, not consumption. This means they do not account for international trade.', 'url': 'https://ourworldindata.org/grapher/share-global-food-emissions', 'similarity_score': 0.6410879492759705, 'content': 'Share of global greenhouse gas emissions from food', 'reranking_score': 0.8769780993461609, 'query_used_for_retrieval': 'How does being a vegetarian contribute to reducing greenhouse gas emissions?', 'sources_used': ['IEA', 'OWID']}), Document(page_content='Greenhouse gas emissions from food systems', metadata={'category': 'CO2 & Greenhouse Gas Emissions', 'doc_id': 'owid_391', 'returned_content': '<iframe src=\"https://ourworldindata.org/grapher/emissions-from-food?tab=map\" loading=\"lazy\" style=\"width: 100%; height: 600px; border: 0px none;\" allow=\"web-share; clipboard-write\"></iframe>', 'source': 'OWID', 'subtitle': 'Emissions are measured in tonnes of carbon dioxide-equivalents.', 'url': 'https://ourworldindata.org/grapher/emissions-from-food', 'similarity_score': 0.6502971649169922, 'content': 'Greenhouse gas emissions from food systems', 'reranking_score': 0.6416043043136597, 'query_used_for_retrieval': 'How does being a vegetarian contribute to reducing greenhouse gas emissions?', 'sources_used': ['IEA', 'OWID']}), Document(page_content='Share of national greenhouse gas emissions that come from food', metadata={'category': 'CO2 & Greenhouse Gas Emissions', 'doc_id': 'owid_486', 'returned_content': '<iframe src=\"https://ourworldindata.org/grapher/food-share-total-emissions?tab=map\" loading=\"lazy\" style=\"width: 100%; height: 600px; border: 0px none;\" allow=\"web-share; clipboard-write\"></iframe>', 'source': 'OWID', 'subtitle': 'Food system emissions include agriculture, land-use change, and supply chain emissions (transport, packaging, food processing, retail, cooking, and waste). Emissions are quantified based on food production, not consumption. This means they do not account for international trade.', 'url': 'https://ourworldindata.org/grapher/food-share-total-emissions', 'similarity_score': 0.666145384311676, 'content': 'Share of national greenhouse gas emissions that come from food', 'reranking_score': 0.5758704543113708, 'query_used_for_retrieval': 'How does being a vegetarian contribute to reducing greenhouse gas emissions?', 'sources_used': ['IEA', 'OWID']}), Document(page_content=\"Transport's share of global greenhouse gas emissions from food\", metadata={'category': 'CO2 & Greenhouse Gas Emissions', 'doc_id': 'owid_494', 'returned_content': '<iframe src=\"https://ourworldindata.org/grapher/food-transport-emissions?tab=map\" loading=\"lazy\" style=\"width: 100%; height: 600px; border: 0px none;\" allow=\"web-share; clipboard-write\"></iframe>', 'source': 'OWID', 'subtitle': 'Transport is responsible for 4.8% of global greenhouse gas emissions from the food system. Shown is the breakdown by transport type in 2015.', 'url': 'https://ourworldindata.org/grapher/food-transport-emissions', 'similarity_score': 0.6914961338043213, 'content': \"Transport's share of global greenhouse gas emissions from food\", 'reranking_score': 0.4578125476837158, 'query_used_for_retrieval': 'How does being a vegetarian contribute to reducing greenhouse gas emissions?', 'sources_used': ['IEA', 'OWID']}), Document(page_content='Greenhouse gas emissions', metadata={'category': 'CO2 & Greenhouse Gas Emissions', 'doc_id': 'owid_387', 'returned_content': '<iframe src=\"https://ourworldindata.org/grapher/total-ghg-emissions?tab=map\" loading=\"lazy\" style=\"width: 100%; height: 600px; border: 0px none;\" allow=\"web-share; clipboard-write\"></iframe>', 'source': 'OWID', 'subtitle': 'Greenhouse gas emissions include carbon dioxide, methane and nitrous oxide from all sources, including land-use change. They are measured in tonnes of carbon dioxide-equivalents over a 100-year timescale.', 'url': 'https://ourworldindata.org/grapher/total-ghg-emissions', 'similarity_score': 0.7324714064598083, 'content': 'Greenhouse gas emissions', 'reranking_score': 0.210241436958313, 'query_used_for_retrieval': 'How does being a vegetarian contribute to reducing greenhouse gas emissions?', 'sources_used': ['IEA', 'OWID']})]\n"
     ]
    },
    {
     "name": "stderr",
     "output_type": "stream",
     "text": [
      "INFO:httpx:HTTP Request: POST https://api.openai.com/v1/chat/completions \"HTTP/1.1 200 OK\"\n"
     ]
    },
    {
     "name": "stdout",
     "output_type": "stream",
     "text": [
      "\n",
      "\n",
      "Answer:\n",
      "Based on the information provided in the IPCC and IPBES reports, transitioning towards a more plant-based diet, such as being a vegetarian, can have several benefits for both the environment and human health:\n",
      "\n",
      "- Plant-based diets, featuring foods like coarse grains, legumes, fruits, vegetables, nuts, and seeds, produced in sustainable systems, present major opportunities for adaptation and mitigation of climate change [Doc 3].\n",
      "- Shifting towards a diversity of foods, including fish, fruit, nuts, and vegetables, significantly reduces the risk of certain preventable non-communicable diseases, which are responsible for a significant portion of premature mortality globally [Doc 11].\n",
      "- A transition towards more plant-based consumption and reduced consumption of animal-based foods, particularly from ruminant animals, could reduce pressure on forests and land used for feed, support biodiversity preservation, and contribute to preventing forms of malnutrition in developing countries [Doc 15].\n",
      "\n",
      "Furthermore, reducing the demand for animal products that are produced unsustainably, such as through overconsumption and food waste, can have synergistic benefits for human health [Doc 12].\n",
      "\n",
      "In conclusion, while the decision to become a vegetarian is a personal choice, adopting a plant-based diet can have positive impacts on both the environment and human health based on the evidence provided in the reports.\n"
     ]
    },
    {
     "data": {
      "text/plain": [
       "{'user_input': 'should I be a vegetarian ?',\n",
       " 'language': 'English',\n",
       " 'intent': 'search',\n",
       " 'query': 'should I be a vegetarian ?',\n",
       " 'questions': [{'question': 'What are the environmental impacts of being a vegetarian?',\n",
       "   'sources': ['IPCC', 'IPBES', 'IPOS']},\n",
       "  {'question': 'What are the health benefits of being a vegetarian?',\n",
       "   'sources': ['IPCC', 'IPBES', 'IPOS']},\n",
       "  {'question': 'How does being a vegetarian contribute to reducing greenhouse gas emissions?',\n",
       "   'sources': ['IPCC']}],\n",
       " 'answer': 'Based on the information provided in the IPCC and IPBES reports, transitioning towards a more plant-based diet, such as being a vegetarian, can have several benefits for both the environment and human health:\\n\\n- Plant-based diets, featuring foods like coarse grains, legumes, fruits, vegetables, nuts, and seeds, produced in sustainable systems, present major opportunities for adaptation and mitigation of climate change [Doc 3].\\n- Shifting towards a diversity of foods, including fish, fruit, nuts, and vegetables, significantly reduces the risk of certain preventable non-communicable diseases, which are responsible for a significant portion of premature mortality globally [Doc 11].\\n- A transition towards more plant-based consumption and reduced consumption of animal-based foods, particularly from ruminant animals, could reduce pressure on forests and land used for feed, support biodiversity preservation, and contribute to preventing forms of malnutrition in developing countries [Doc 15].\\n\\nFurthermore, reducing the demand for animal products that are produced unsustainably, such as through overconsumption and food waste, can have synergistic benefits for human health [Doc 12].\\n\\nIn conclusion, while the decision to become a vegetarian is a personal choice, adopting a plant-based diet can have positive impacts on both the environment and human health based on the evidence provided in the reports.',\n",
       " 'audience': 'experts',\n",
       " 'sources_input': ['auto'],\n",
       " 'documents': [Document(page_content='lifespan. An estimated 76-79 per cent of poultry and pork \\r\\nare fully raised in intensive systems {3.3.2}. While intensive \\r\\nlivestock systems often reduce greenhouse gas emissions \\r\\nper unit of protein produced, they can have multiple negative \\r\\nindirect and off-site impacts on ecosystem services if not \\r\\nproperly managed {2.2.1.3}, including the transformation of \\r\\nnatural ecosystems into feed-producing croplands. The \\r\\nwaste streams from intensive production systems can result \\r\\nin air pollution, water contamination, human health impacts \\r\\nand eutrophication of freshwater ecosystems {4.3.2.2, \\r\\n5.4.4, 5.8.2.2}.', metadata={'chunk_type': 'text', 'document_id': 'document36', 'document_number': 36.0, 'element_id': 'N/A', 'figure_code': 'N/A', 'file_size': 'N/A', 'image_path': 'N/A', 'n_pages': 48.0, 'name': 'Summary for Policymakers. Assessment Report on Land Degradation and Restoration', 'num_characters': 621.0, 'num_tokens': 149.0, 'num_tokens_approx': 169.0, 'num_words': 127.0, 'page_number': 29, 'release_date': 2018.0, 'report_type': 'SPM', 'section_header': 'Figure SPM 9 Land degradation affects countries of all income levels and at all levels of human \\r\\ndevelopment. ', 'short_name': 'IPBES AR LDR SPM', 'source': 'IPBES', 'toc_level0': 'N/A', 'toc_level1': 'N/A', 'toc_level2': 'N/A', 'toc_level3': 'N/A', 'url': 'https://zenodo.org/records/3237411/files/ipbes_assessment_spm_ldra_EN.pdf?download=1', 'similarity_score': 0.639116168, 'content': 'lifespan. An estimated 76-79 per cent of poultry and pork \\r\\nare fully raised in intensive systems {3.3.2}. While intensive \\r\\nlivestock systems often reduce greenhouse gas emissions \\r\\nper unit of protein produced, they can have multiple negative \\r\\nindirect and off-site impacts on ecosystem services if not \\r\\nproperly managed {2.2.1.3}, including the transformation of \\r\\nnatural ecosystems into feed-producing croplands. The \\r\\nwaste streams from intensive production systems can result \\r\\nin air pollution, water contamination, human health impacts \\r\\nand eutrophication of freshwater ecosystems {4.3.2.2, \\r\\n5.4.4, 5.8.2.2}.', 'reranking_score': 0.9968042373657227, 'query_used_for_retrieval': 'What are the environmental impacts of being a vegetarian?', 'sources_used': ['IPCC', 'IPBES', 'IPOS']}),\n",
       "  Document(page_content='(B.2.10) Urbanization is a dominant global trend \\r\\nwhich has negative impacts or indirect positive \\r\\ninfluences on sustainable use (well established)\\r\\n{4.2.3.3.4}. The shift from rural to urban lifestyles can \\r\\nreduce the use of some wild species, notably those \\r\\nlinked to subsistence livelihoods, but this effect varies \\r\\namong contexts and interacts with other factors, such \\r\\nas infrastructure development and cultural and economic \\r\\nconditions (established but incomplete) {4.2.3.2, 4.2.3.3.4}. \\r\\nFurthermore, this transition is often characterized by the \\r\\ngrowth of peri-urban areas. In such areas, densities are \\r\\nurban, but economic infrastructure and services are still \\r\\nrural-oriented, resulting in ongoing demand for wild species \\r\\nthat leads to overexploitation and unsustainable use. \\r\\nSimilarly, urbanization and development are associated \\r\\nwith increased demand for some wild species, such as wild \\r\\nmeat and seafood products (established but incomplete)', metadata={'chunk_type': 'text', 'document_id': 'document26', 'document_number': 26.0, 'element_id': 'N/A', 'figure_code': 'N/A', 'file_size': 'N/A', 'image_path': 'N/A', 'n_pages': 44.0, 'name': 'Summary for Policymakers. Summary for policymakers of the thematic assessment of the sustainable use of wild species of the IPBES', 'num_characters': 972.0, 'num_tokens': 210.0, 'num_tokens_approx': 245.0, 'num_words': 184.0, 'page_number': 24, 'release_date': 2022.0, 'report_type': 'SPM', 'section_header': '(B.2.7) Land tenure and resource rights can contribute \\r\\nto sustainable use (well established) {4.2.2.6}. ', 'short_name': 'IPBES TAM SW SPM', 'source': 'IPBES', 'toc_level0': 'Table of Contents', 'toc_level1': 'N/A', 'toc_level2': 'N/A', 'toc_level3': 'N/A', 'url': 'https://zenodo.org/record/7411847/files/EN_SPM_SUSTAINABLE%20USE%20OF%20WILD%20SPECIES.pdf', 'similarity_score': 0.638875961, 'content': '(B.2.10) Urbanization is a dominant global trend \\r\\nwhich has negative impacts or indirect positive \\r\\ninfluences on sustainable use (well established)\\r\\n{4.2.3.3.4}. The shift from rural to urban lifestyles can \\r\\nreduce the use of some wild species, notably those \\r\\nlinked to subsistence livelihoods, but this effect varies \\r\\namong contexts and interacts with other factors, such \\r\\nas infrastructure development and cultural and economic \\r\\nconditions (established but incomplete) {4.2.3.2, 4.2.3.3.4}. \\r\\nFurthermore, this transition is often characterized by the \\r\\ngrowth of peri-urban areas. In such areas, densities are \\r\\nurban, but economic infrastructure and services are still \\r\\nrural-oriented, resulting in ongoing demand for wild species \\r\\nthat leads to overexploitation and unsustainable use. \\r\\nSimilarly, urbanization and development are associated \\r\\nwith increased demand for some wild species, such as wild \\r\\nmeat and seafood products (established but incomplete)', 'reranking_score': 0.9927443265914917, 'query_used_for_retrieval': 'What are the environmental impacts of being a vegetarian?', 'sources_used': ['IPCC', 'IPBES', 'IPOS']}),\n",
       "  Document(page_content='B.6.2 Diversification in the food system (e.g., implementation of integrated production systems, broad-based genetic resources, \\r\\nand diets) can reduce risks from climate change (medium confidence). Balanced diets, featuring plant-based foods, such as \\r\\nthose based on coarse grains, legumes, fruits and vegetables, nuts and seeds, and animal-sourced food produced in resilient, \\r\\nsustainable and low-GHG emission systems, present major opportunities for adaptation and mitigation while generating \\r\\nsignificant co-benefits in terms of human health (high confidence). By 2050, dietary changes could free several million km2\\r\\n(medium confidence) of land and provide a technical mitigation potential of 0.7 to 8.0 GtCO2\\r\\neq yr-1, relative to business \\r\\nas usual projections (high confidence). Transitions towards low-GHG emission diets may be influenced by local production \\r\\npractices, technical and financial barriers and associated livelihoods and cultural habits (high confidence). {5.3, 5.5.2, 5.5, 5.6}', metadata={'chunk_type': 'text', 'document_id': 'document12', 'document_number': 12.0, 'element_id': 'N/A', 'figure_code': 'N/A', 'file_size': 'N/A', 'image_path': 'N/A', 'n_pages': 36.0, 'name': 'Summary for Policymakers. In: Climate Change and Land: an IPCC special report on climate change, desertification, land degradation, sustainable land management, food security, and greenhouse gas fluxes in terrestrial ecosystems', 'num_characters': 1006.0, 'num_tokens': 224.0, 'num_tokens_approx': 266.0, 'num_words': 200.0, 'page_number': 24, 'release_date': 2019.0, 'report_type': 'SPM', 'section_header': 'Summary for Policymakers', 'short_name': 'IPCC SR CCL SPM', 'source': 'IPCC', 'toc_level0': 'N/A', 'toc_level1': 'N/A', 'toc_level2': 'N/A', 'toc_level3': 'N/A', 'url': 'https://www.ipcc.ch/site/assets/uploads/sites/4/2022/11/SRCCL_SPM.pdf', 'similarity_score': 0.659950495, 'content': 'B.6.2 Diversification in the food system (e.g., implementation of integrated production systems, broad-based genetic resources, \\r\\nand diets) can reduce risks from climate change (medium confidence). Balanced diets, featuring plant-based foods, such as \\r\\nthose based on coarse grains, legumes, fruits and vegetables, nuts and seeds, and animal-sourced food produced in resilient, \\r\\nsustainable and low-GHG emission systems, present major opportunities for adaptation and mitigation while generating \\r\\nsignificant co-benefits in terms of human health (high confidence). By 2050, dietary changes could free several million km2\\r\\n(medium confidence) of land and provide a technical mitigation potential of 0.7 to 8.0 GtCO2\\r\\neq yr-1, relative to business \\r\\nas usual projections (high confidence). Transitions towards low-GHG emission diets may be influenced by local production \\r\\npractices, technical and financial barriers and associated livelihoods and cultural habits (high confidence). {5.3, 5.5.2, 5.5, 5.6}', 'reranking_score': 0.9279362559318542, 'query_used_for_retrieval': 'How does being a vegetarian contribute to reducing greenhouse gas emissions?', 'sources_used': ['IPCC']}),\n",
       "  Document(page_content='Summary for Policymakers\\nB.6.1 Practices that contribute to climate change adaptation and mitigation in cropland include increasing soil organic matter, \\r\\nerosion control, improved fertiliser management, improved crop management, for example paddy rice management, and \\r\\nuse of varieties and genetic improvements for heat and drought tolerance. For livestock, options include better grazing land \\r\\nmanagement, improved manure management, higher-quality feed, and use of breeds and genetic improvement. Different \\r\\nfarming and pastoral systems can achieve reductions in the emissions intensity of livestock products. Depending on the \\r\\nfarming and pastoral systems and level of development, reductions in the emissions intensity of livestock products may lead \\r\\nto absolute reductions in GHG emissions (medium confidence). Many livestock related options can enhance the adaptive \\r\\ncapacity of rural communities, in particular, of smallholders and pastoralists. Significant synergies exist between adaptation \\r\\nand mitigation, for example through sustainable land management approaches (high confidence). {4.8, 5.3.3, 5.5.1, 5.6}', metadata={'chunk_type': 'text', 'document_id': 'document12', 'document_number': 12.0, 'element_id': 'N/A', 'figure_code': 'N/A', 'file_size': 'N/A', 'image_path': 'N/A', 'n_pages': 36.0, 'name': 'Summary for Policymakers. In: Climate Change and Land: an IPCC special report on climate change, desertification, land degradation, sustainable land management, food security, and greenhouse gas fluxes in terrestrial ecosystems', 'num_characters': 1127.0, 'num_tokens': 216.0, 'num_tokens_approx': 254.0, 'num_words': 191.0, 'page_number': 24, 'release_date': 2019.0, 'report_type': 'SPM', 'section_header': 'Summary for Policymakers', 'short_name': 'IPCC SR CCL SPM', 'source': 'IPCC', 'toc_level0': 'N/A', 'toc_level1': 'N/A', 'toc_level2': 'N/A', 'toc_level3': 'N/A', 'url': 'https://www.ipcc.ch/site/assets/uploads/sites/4/2022/11/SRCCL_SPM.pdf', 'similarity_score': 0.656760156, 'content': 'Summary for Policymakers\\nB.6.1 Practices that contribute to climate change adaptation and mitigation in cropland include increasing soil organic matter, \\r\\nerosion control, improved fertiliser management, improved crop management, for example paddy rice management, and \\r\\nuse of varieties and genetic improvements for heat and drought tolerance. For livestock, options include better grazing land \\r\\nmanagement, improved manure management, higher-quality feed, and use of breeds and genetic improvement. Different \\r\\nfarming and pastoral systems can achieve reductions in the emissions intensity of livestock products. Depending on the \\r\\nfarming and pastoral systems and level of development, reductions in the emissions intensity of livestock products may lead \\r\\nto absolute reductions in GHG emissions (medium confidence). Many livestock related options can enhance the adaptive \\r\\ncapacity of rural communities, in particular, of smallholders and pastoralists. Significant synergies exist between adaptation \\r\\nand mitigation, for example through sustainable land management approaches (high confidence). {4.8, 5.3.3, 5.5.1, 5.6}', 'reranking_score': 0.6752036809921265, 'query_used_for_retrieval': 'How does being a vegetarian contribute to reducing greenhouse gas emissions?', 'sources_used': ['IPCC']}),\n",
       "  Document(page_content='B.6.3 Reduction of food loss and waste can lower GHG emissions and contribute to adaptation through reduction in the land area \\r\\nneeded for food production (medium confidence). During 2010-2016, global food loss and waste contributed 8 -10% of total \\r\\nanthropogenic GHG emissions (medium confidence). Currently, 25 -30% of total food produced is lost or wasted (medium \\r\\nconfidence). Technical options such as improved harvesting techniques, on-farm storage, infrastructure, transport, packaging, \\r\\nretail and education can reduce food loss and waste across the supply chain. Causes of food loss and waste differ substantially \\r\\nbetween developed and developing countries, as well as between regions (medium confidence). By 2050, reduced food loss \\r\\nand waste can free several million km2\\r\\n of land (low confidence). {5.5.2, 6.3.6}', metadata={'chunk_type': 'text', 'document_id': 'document12', 'document_number': 12.0, 'element_id': 'N/A', 'figure_code': 'N/A', 'file_size': 'N/A', 'image_path': 'N/A', 'n_pages': 36.0, 'name': 'Summary for Policymakers. In: Climate Change and Land: an IPCC special report on climate change, desertification, land degradation, sustainable land management, food security, and greenhouse gas fluxes in terrestrial ecosystems', 'num_characters': 831.0, 'num_tokens': 184.0, 'num_tokens_approx': 217.0, 'num_words': 163.0, 'page_number': 24, 'release_date': 2019.0, 'report_type': 'SPM', 'section_header': 'Summary for Policymakers', 'short_name': 'IPCC SR CCL SPM', 'source': 'IPCC', 'toc_level0': 'N/A', 'toc_level1': 'N/A', 'toc_level2': 'N/A', 'toc_level3': 'N/A', 'url': 'https://www.ipcc.ch/site/assets/uploads/sites/4/2022/11/SRCCL_SPM.pdf', 'similarity_score': 0.648130536, 'content': 'B.6.3 Reduction of food loss and waste can lower GHG emissions and contribute to adaptation through reduction in the land area \\r\\nneeded for food production (medium confidence). During 2010-2016, global food loss and waste contributed 8 -10% of total \\r\\nanthropogenic GHG emissions (medium confidence). Currently, 25 -30% of total food produced is lost or wasted (medium \\r\\nconfidence). Technical options such as improved harvesting techniques, on-farm storage, infrastructure, transport, packaging, \\r\\nretail and education can reduce food loss and waste across the supply chain. Causes of food loss and waste differ substantially \\r\\nbetween developed and developing countries, as well as between regions (medium confidence). By 2050, reduced food loss \\r\\nand waste can free several million km2\\r\\n of land (low confidence). {5.5.2, 6.3.6}', 'reranking_score': 0.35982799530029297, 'query_used_for_retrieval': 'How does being a vegetarian contribute to reducing greenhouse gas emissions?', 'sources_used': ['IPCC']}),\n",
       "  Document(page_content='Terrestrial animal harvesting\\n* Information on harvest and trade of edible insects {3.3.3, 3.5}\\r\\n* Information on wild meat harvesting from understudied areas, especially from the Asian tropics {3.2.1, 3.3.3}\\r\\n* Information on the impacts of various forms of terrestrial animal harvesting in conjunction with other pressures on \\r\\nwild populations {3.3.3.2.4}\\r\\n* Empirical evidence for the link between hunting and conservation of landscapes {3.3.3.2.4}\\r\\n* Analyses of the identity and location of harvesting in the trade of wild reptiles {3.3.5}\\r\\n* Impacts and role of green hunting and trophy hunting on the sustainable use and conservation of wild species {3.3.3}\\r\\n* Scenarios related to environmental changes, particularly climate change {5.4.4}\\n <Section-header> Terrestrial animal harvesting </Section-header>', metadata={'chunk_type': 'text', 'document_id': 'document26', 'document_number': 26.0, 'element_id': 'N/A', 'figure_code': 'N/A', 'file_size': 'N/A', 'image_path': 'N/A', 'n_pages': 44.0, 'name': 'Summary for Policymakers. Summary for policymakers of the thematic assessment of the sustainable use of wild species of the IPBES', 'num_characters': 814.0, 'num_tokens': 195.0, 'num_tokens_approx': 244.0, 'num_words': 183.0, 'page_number': 41, 'release_date': 2022.0, 'report_type': 'SPM', 'section_header': 'Terrestrial animal harvesting', 'short_name': 'IPBES TAM SW SPM', 'source': 'IPBES', 'toc_level0': 'Table of Contents', 'toc_level1': 'N/A', 'toc_level2': 'N/A', 'toc_level3': 'N/A', 'url': 'https://zenodo.org/record/7411847/files/EN_SPM_SUSTAINABLE%20USE%20OF%20WILD%20SPECIES.pdf', 'similarity_score': 0.633412302, 'content': 'Terrestrial animal harvesting\\n* Information on harvest and trade of edible insects {3.3.3, 3.5}\\r\\n* Information on wild meat harvesting from understudied areas, especially from the Asian tropics {3.2.1, 3.3.3}\\r\\n* Information on the impacts of various forms of terrestrial animal harvesting in conjunction with other pressures on \\r\\nwild populations {3.3.3.2.4}\\r\\n* Empirical evidence for the link between hunting and conservation of landscapes {3.3.3.2.4}\\r\\n* Analyses of the identity and location of harvesting in the trade of wild reptiles {3.3.5}\\r\\n* Impacts and role of green hunting and trophy hunting on the sustainable use and conservation of wild species {3.3.3}\\r\\n* Scenarios related to environmental changes, particularly climate change {5.4.4}\\n <Section-header> Terrestrial animal harvesting </Section-header>', 'reranking_score': 0.35299158096313477, 'query_used_for_retrieval': 'What are the environmental impacts of being a vegetarian?', 'sources_used': ['IPCC', 'IPBES', 'IPOS']}),\n",
       "  Document(page_content='Despite the development of more sustainable agricultural \\r\\npolicies and practices in recent years in some countries, \\r\\nsuch as organic farming, conventional intensive agriculture, \\r\\nespecially related to the excessive use of agrochemicals \\r\\n{4.5.1.1} reduces natural and semi-natural habitats, with \\r\\nsevere negative impacts on biodiversity and ecosystem \\r\\nfunction (well established) {4.5.1, 4.5.2, 4.5.5}. This \\r\\njeopardizes the sustainable management of land and food \\r\\nproduction (established but incomplete) (Figure SPM.8) \\n{4.5.1, 4.5.2}. Agri-environmental schemes, ecological \\r\\nrestoration and sustainable approaches to agriculture, \\r\\nsuch as agroecology and agroforestry, mitigate some of \\r\\nthe adverse effects of intensive agriculture (established \\r\\nbut incomplete) {4.5.1, 4.5.2}. The efficiency of such \\r\\nmeasures depends also on the inclusion of traditional and \\r\\nlocal knowledge, and the consideration of biophysical and', metadata={'chunk_type': 'text', 'document_id': 'document34', 'document_number': 34.0, 'element_id': 'N/A', 'figure_code': 'N/A', 'file_size': 'N/A', 'image_path': 'N/A', 'n_pages': 52.0, 'name': 'Summary for Policymakers. Regional Assessment Report on Biodiversity and Ecosystem Services for Europe and Central Asia', 'num_characters': 934.0, 'num_tokens': 225.0, 'num_tokens_approx': 246.0, 'num_words': 185.0, 'page_number': 28, 'release_date': 2018.0, 'report_type': 'SPM', 'section_header': \"C. Drivers of change\\r\\nin biodiversity and nature's \\r\\ncontributions to people in Europe \\r\\nand Central Asia \", 'short_name': 'IPBES RAR ECA SPM', 'source': 'IPBES', 'toc_level0': 'N/A', 'toc_level1': 'N/A', 'toc_level2': 'N/A', 'toc_level3': 'N/A', 'url': 'https://zenodo.org/record/3237468/files/ipbes_assessment_spm_eca_EN.pdf', 'similarity_score': 0.631491244, 'content': 'Despite the development of more sustainable agricultural \\r\\npolicies and practices in recent years in some countries, \\r\\nsuch as organic farming, conventional intensive agriculture, \\r\\nespecially related to the excessive use of agrochemicals \\r\\n{4.5.1.1} reduces natural and semi-natural habitats, with \\r\\nsevere negative impacts on biodiversity and ecosystem \\r\\nfunction (well established) {4.5.1, 4.5.2, 4.5.5}. This \\r\\njeopardizes the sustainable management of land and food \\r\\nproduction (established but incomplete) (Figure SPM.8) \\n{4.5.1, 4.5.2}. Agri-environmental schemes, ecological \\r\\nrestoration and sustainable approaches to agriculture, \\r\\nsuch as agroecology and agroforestry, mitigate some of \\r\\nthe adverse effects of intensive agriculture (established \\r\\nbut incomplete) {4.5.1, 4.5.2}. The efficiency of such \\r\\nmeasures depends also on the inclusion of traditional and \\r\\nlocal knowledge, and the consideration of biophysical and', 'reranking_score': 0.32519838213920593, 'query_used_for_retrieval': 'What are the environmental impacts of being a vegetarian?', 'sources_used': ['IPCC', 'IPBES', 'IPOS']}),\n",
       "  Document(page_content='C.1.2 Modelled pathways that limit global warming to 1.5degC with no or limited overshoot involve deep reductions in emissions \\r\\nof methane and black carbon (35% or more of both by 2050 relative to 2010). These pathways also reduce most of the \\r\\ncooling aerosols, which partially offsets mitigation effects for two to three decades. Non-CO2 emissions12 can be reduced \\r\\nas a result of broad mitigation measures in the energy sector. In addition, targeted non-CO2 mitigation measures can \\r\\nreduce nitrous oxide and methane from agriculture, methane from the waste sector, some sources of black carbon, and \\r\\nhydrofluorocarbons. High bioenergy demand can increase emissions of nitrous oxide in some 1.5degC pathways, highlighting \\r\\nthe importance of appropriate management approaches. Improved air quality resulting from projected reductions in many \\r\\nnon-CO2 emissions provide direct and immediate population health benefits in all 1.5degC model pathways. (high confidence)', metadata={'chunk_type': 'text', 'document_id': 'document11', 'document_number': 11.0, 'element_id': 'N/A', 'figure_code': 'N/A', 'file_size': 'N/A', 'image_path': 'N/A', 'n_pages': 24.0, 'name': 'Summary for Policymakers. In: Global Warming of 1.5°C. An IPCC Special Report on the impacts of global warming of 1.5°C above pre-industrial levels and related global greenhouse gas emission pathways, in the context of strengthening the global response to the threat of climate change, sustainable development, and efforts to eradicate poverty', 'num_characters': 972.0, 'num_tokens': 208.0, 'num_tokens_approx': 229.0, 'num_words': 172.0, 'page_number': 12, 'release_date': 2018.0, 'report_type': 'SPM', 'section_header': 'B. Projected Climate Change, Potential Impacts and Associated Risks', 'short_name': 'IPCC SR GW SPM', 'source': 'IPCC', 'toc_level0': 'N/A', 'toc_level1': 'N/A', 'toc_level2': 'N/A', 'toc_level3': 'N/A', 'url': 'https://www.ipcc.ch/site/assets/uploads/sites/2/2022/06/SPM_version_report_LR.pdf', 'similarity_score': 0.629899085, 'content': 'C.1.2 Modelled pathways that limit global warming to 1.5degC with no or limited overshoot involve deep reductions in emissions \\r\\nof methane and black carbon (35% or more of both by 2050 relative to 2010). These pathways also reduce most of the \\r\\ncooling aerosols, which partially offsets mitigation effects for two to three decades. Non-CO2 emissions12 can be reduced \\r\\nas a result of broad mitigation measures in the energy sector. In addition, targeted non-CO2 mitigation measures can \\r\\nreduce nitrous oxide and methane from agriculture, methane from the waste sector, some sources of black carbon, and \\r\\nhydrofluorocarbons. High bioenergy demand can increase emissions of nitrous oxide in some 1.5degC pathways, highlighting \\r\\nthe importance of appropriate management approaches. Improved air quality resulting from projected reductions in many \\r\\nnon-CO2 emissions provide direct and immediate population health benefits in all 1.5degC model pathways. (high confidence)', 'reranking_score': 0.2803552746772766, 'query_used_for_retrieval': 'How does being a vegetarian contribute to reducing greenhouse gas emissions?', 'sources_used': ['IPCC']}),\n",
       "  Document(page_content=\"C2 Rapid economic growth, globalization, \\r\\nurbanization and infrastructure development are \\r\\nprofoundly modifying consumption and production \\r\\npatterns and adversely impacting biodiversity and \\r\\nnature's contributions to people (well established). The \\r\\nAsia-Pacific region is undergoing one of the fastest rates of \\r\\nurbanization (2-3 per cent per year) in the world. Rapid \\r\\neconomic development coupled with growth in international \\r\\ntrade, combined with large rural out-migration, are changing \\r\\nlifestyles and dietary habits (well established). This has \\r\\nreduced the consumption of traditional foods, with mixed \\r\\ncropping shifting towards commercial high-yielding crops, \\r\\nand a decline in inhabited production landscapes (or \\r\\nbiodiversity-rich cultural ecosystems) in most of the \\r\\nAsia-Pacific subregions (well established) {2.1.5, 3.2.1, \\r\\n3.3.6, 4.2.1.4, 4.2.2, 4.2.3, 4.4.5}. The integration of many \\r\\nrural societies into regional and global consumption markets\", metadata={'chunk_type': 'text', 'document_id': 'document32', 'document_number': 32.0, 'element_id': 'N/A', 'figure_code': 'N/A', 'file_size': 'N/A', 'image_path': 'N/A', 'n_pages': 44.0, 'name': 'Summary for Policymakers. Regional Assessment Report on Biodiversity and Ecosystem Services for Asia and the Pacific', 'num_characters': 975.0, 'num_tokens': 221.0, 'num_tokens_approx': 256.0, 'num_words': 192.0, 'page_number': 30, 'release_date': 2018.0, 'report_type': 'SPM', 'section_header': 'regional and subregional levels {4.1.5, 4.2.5, 4.3, 4.6, 5.5, \\r\\n6.4.2.8, 6.4.3}.9', 'short_name': 'IPBES RAR AP SPM', 'source': 'IPBES', 'toc_level0': 'N/A', 'toc_level1': 'N/A', 'toc_level2': 'N/A', 'toc_level3': 'N/A', 'url': 'https://zenodo.org/record/3237383/files/ipbes_assessment_spm_ap_EN.pdf', 'similarity_score': 0.627848864, 'content': \"C2 Rapid economic growth, globalization, \\r\\nurbanization and infrastructure development are \\r\\nprofoundly modifying consumption and production \\r\\npatterns and adversely impacting biodiversity and \\r\\nnature's contributions to people (well established). The \\r\\nAsia-Pacific region is undergoing one of the fastest rates of \\r\\nurbanization (2-3 per cent per year) in the world. Rapid \\r\\neconomic development coupled with growth in international \\r\\ntrade, combined with large rural out-migration, are changing \\r\\nlifestyles and dietary habits (well established). This has \\r\\nreduced the consumption of traditional foods, with mixed \\r\\ncropping shifting towards commercial high-yielding crops, \\r\\nand a decline in inhabited production landscapes (or \\r\\nbiodiversity-rich cultural ecosystems) in most of the \\r\\nAsia-Pacific subregions (well established) {2.1.5, 3.2.1, \\r\\n3.3.6, 4.2.1.4, 4.2.2, 4.2.3, 4.4.5}. The integration of many \\r\\nrural societies into regional and global consumption markets\", 'reranking_score': 0.26911190152168274, 'query_used_for_retrieval': 'What are the environmental impacts of being a vegetarian?', 'sources_used': ['IPCC', 'IPBES', 'IPOS']}),\n",
       "  Document(page_content='A.3.6 Total net GHG emissions from AFOLU emissions represent 12.0 +- 2.9 GtCO2\\r\\neq yr-1 during 2007-2016. This represents 23% \\r\\nof total net anthropogenic emissions {Table SPM.1}.24 Other approaches, such as global food system, include agricultural \\r\\nemissions and land use change (i.e., deforestation and peatland degradation), as well as outside farm gate emissions from \\r\\nenergy, transport and industry sectors for food production. Emissions within farm gate and from agricultural land expansion \\r\\ncontributing to the global food system represent 16-27% of total anthropogenic emissions (medium confidence). Emissions \\r\\noutside the farm gate represent 5-10% of total anthropogenic emissions (medium confidence). Given the diversity of food \\r\\nsystems, there are large regional differences in the contributions from different components of the food system (very high \\r\\nconfidence). Emissions from agricultural production are projected to increase (high confidence), driven by population and \\r\\nincome growth and changes in consumption patterns (medium confidence). {5.5, Table 5.4}', metadata={'chunk_type': 'text', 'document_id': 'document12', 'document_number': 12.0, 'element_id': 'N/A', 'figure_code': 'N/A', 'file_size': 'N/A', 'image_path': 'N/A', 'n_pages': 36.0, 'name': 'Summary for Policymakers. In: Climate Change and Land: an IPCC special report on climate change, desertification, land degradation, sustainable land management, food security, and greenhouse gas fluxes in terrestrial ecosystems', 'num_characters': 1081.0, 'num_tokens': 235.0, 'num_tokens_approx': 266.0, 'num_words': 200.0, 'page_number': 13, 'release_date': 2019.0, 'report_type': 'SPM', 'section_header': 'Table SPM.1 | Data sources and notes: ', 'short_name': 'IPCC SR CCL SPM', 'source': 'IPCC', 'toc_level0': 'N/A', 'toc_level1': 'N/A', 'toc_level2': 'N/A', 'toc_level3': 'N/A', 'url': 'https://www.ipcc.ch/site/assets/uploads/sites/4/2022/11/SRCCL_SPM.pdf', 'similarity_score': 0.62740761, 'content': 'A.3.6 Total net GHG emissions from AFOLU emissions represent 12.0 +- 2.9 GtCO2\\r\\neq yr-1 during 2007-2016. This represents 23% \\r\\nof total net anthropogenic emissions {Table SPM.1}.24 Other approaches, such as global food system, include agricultural \\r\\nemissions and land use change (i.e., deforestation and peatland degradation), as well as outside farm gate emissions from \\r\\nenergy, transport and industry sectors for food production. Emissions within farm gate and from agricultural land expansion \\r\\ncontributing to the global food system represent 16-27% of total anthropogenic emissions (medium confidence). Emissions \\r\\noutside the farm gate represent 5-10% of total anthropogenic emissions (medium confidence). Given the diversity of food \\r\\nsystems, there are large regional differences in the contributions from different components of the food system (very high \\r\\nconfidence). Emissions from agricultural production are projected to increase (high confidence), driven by population and \\r\\nincome growth and changes in consumption patterns (medium confidence). {5.5, Table 5.4}', 'reranking_score': 0.11830437183380127, 'query_used_for_retrieval': 'How does being a vegetarian contribute to reducing greenhouse gas emissions?', 'sources_used': ['IPCC']}),\n",
       "  Document(page_content='healthy diets (established but incomplete) {2.3.4.2}. Shifting \\r\\ndiets towards a diversity of foods, including fish, fruit, nuts \\r\\nand vegetables, significantly reduces the risk of certain \\r\\npreventable non-communicable diseases, which are \\r\\ncurrently responsible for 20 per cent of premature mortality \\r\\nglobally (well established) {2.3.4.2, 2.3.5.2 (NCP 2 and 12)}.', metadata={'chunk_type': 'text', 'document_id': 'document24', 'document_number': 24.0, 'element_id': 'N/A', 'figure_code': 'N/A', 'file_size': 'N/A', 'image_path': 'N/A', 'n_pages': 60.0, 'name': 'Summary for Policymakers. Global assessment report on biodiversity and ecosystem services of the IPBES (Version 1)', 'num_characters': 367.0, 'num_tokens': 99.0, 'num_tokens_approx': 110.0, 'num_words': 83.0, 'page_number': 24, 'release_date': 2019.0, 'report_type': 'SPM', 'section_header': 'BACKGROUND', 'short_name': 'IPBES GAR SPM', 'source': 'IPBES', 'toc_level0': 'N/A', 'toc_level1': 'N/A', 'toc_level2': 'N/A', 'toc_level3': 'N/A', 'url': 'https://zenodo.org/record/3553579/files/ipbes_global_assessment_report_summary_for_policymakers.pdf', 'similarity_score': 0.626915693, 'content': 'healthy diets (established but incomplete) {2.3.4.2}. Shifting \\r\\ndiets towards a diversity of foods, including fish, fruit, nuts \\r\\nand vegetables, significantly reduces the risk of certain \\r\\npreventable non-communicable diseases, which are \\r\\ncurrently responsible for 20 per cent of premature mortality \\r\\nglobally (well established) {2.3.4.2, 2.3.5.2 (NCP 2 and 12)}.', 'reranking_score': 0.051252659410238266, 'query_used_for_retrieval': 'What are the health benefits of being a vegetarian?', 'sources_used': ['IPCC', 'IPBES', 'IPOS']}),\n",
       "  Document(page_content='reduce food waste, overconsumption, and the demand for \\r\\nanimal products that are produced unsustainably, which \\r\\ncould have synergistic benefits for human health \\r\\n(established but incomplete) {5.3.2.1, 6.3.2.1}.', metadata={'chunk_type': 'text', 'document_id': 'document24', 'document_number': 24.0, 'element_id': 'N/A', 'figure_code': 'N/A', 'file_size': 'N/A', 'image_path': 'N/A', 'n_pages': 60.0, 'name': 'Summary for Policymakers. Global assessment report on biodiversity and ecosystem services of the IPBES (Version 1)', 'num_characters': 213.0, 'num_tokens': 57.0, 'num_tokens_approx': 62.0, 'num_words': 47.0, 'page_number': 44, 'release_date': 2019.0, 'report_type': 'SPM', 'section_header': 'interventions, or levers, and eight leverage points that \\r\\nare key for achieving transformative change (Figure ', 'short_name': 'IPBES GAR SPM', 'source': 'IPBES', 'toc_level0': 'N/A', 'toc_level1': 'N/A', 'toc_level2': 'N/A', 'toc_level3': 'N/A', 'url': 'https://zenodo.org/record/3553579/files/ipbes_global_assessment_report_summary_for_policymakers.pdf', 'similarity_score': 0.615192115, 'content': 'reduce food waste, overconsumption, and the demand for \\r\\nanimal products that are produced unsustainably, which \\r\\ncould have synergistic benefits for human health \\r\\n(established but incomplete) {5.3.2.1, 6.3.2.1}.', 'reranking_score': 0.02474428527057171, 'query_used_for_retrieval': 'What are the health benefits of being a vegetarian?', 'sources_used': ['IPCC', 'IPBES', 'IPOS']}),\n",
       "  Document(page_content=\"2 Many of nature's contributions to people are \\r\\nessential for human health (well established) and their \\r\\ndecline thus threatens a good quality of life \\r\\n(established but incomplete) {2.3.4}. Nature provides a \\r\\nbroad diversity of nutritious foods, medicines and clean \\r\\nwater (well established) {2.3.5.2, 3.3.2.1, 3.3.2.2 \\r\\n(Sustainable Development Goal 3)}; can help to regulate \\r\\ndisease and the immune system {2.3.4.2}; can reduce levels \\r\\nof certain air pollutants (established but incomplete) {2.3.4.2, \\r\\n3.3.2.2}; and can improve mental and physical health \\r\\nthrough exposure to natural areas (inconclusive), among \\r\\nother contributions {2.3.2.2, 2.3.4.2, 3.3.2.2 (Sustainable\", metadata={'chunk_type': 'text', 'document_id': 'document24', 'document_number': 24.0, 'element_id': 'N/A', 'figure_code': 'N/A', 'file_size': 'N/A', 'image_path': 'N/A', 'n_pages': 60.0, 'name': 'Summary for Policymakers. Global assessment report on biodiversity and ecosystem services of the IPBES (Version 1)', 'num_characters': 684.0, 'num_tokens': 202.0, 'num_tokens_approx': 237.0, 'num_words': 178.0, 'page_number': 24, 'release_date': 2019.0, 'report_type': 'SPM', 'section_header': 'BACKGROUND', 'short_name': 'IPBES GAR SPM', 'source': 'IPBES', 'toc_level0': 'N/A', 'toc_level1': 'N/A', 'toc_level2': 'N/A', 'toc_level3': 'N/A', 'url': 'https://zenodo.org/record/3553579/files/ipbes_global_assessment_report_summary_for_policymakers.pdf', 'similarity_score': 0.600361705, 'content': \"2 Many of nature's contributions to people are \\r\\nessential for human health (well established) and their \\r\\ndecline thus threatens a good quality of life \\r\\n(established but incomplete) {2.3.4}. Nature provides a \\r\\nbroad diversity of nutritious foods, medicines and clean \\r\\nwater (well established) {2.3.5.2, 3.3.2.1, 3.3.2.2 \\r\\n(Sustainable Development Goal 3)}; can help to regulate \\r\\ndisease and the immune system {2.3.4.2}; can reduce levels \\r\\nof certain air pollutants (established but incomplete) {2.3.4.2, \\r\\n3.3.2.2}; and can improve mental and physical health \\r\\nthrough exposure to natural areas (inconclusive), among \\r\\nother contributions {2.3.2.2, 2.3.4.2, 3.3.2.2 (Sustainable\", 'reranking_score': 0.015893954783678055, 'query_used_for_retrieval': 'What are the health benefits of being a vegetarian?', 'sources_used': ['IPCC', 'IPBES', 'IPOS']}),\n",
       "  Document(page_content='Human health depends directly and indirectly on \\r\\nnature. Biodiversity is a source of medicines and other \\r\\nproducts that contribute to human health and have \\r\\nhigh potential for the development of pharmacological \\r\\nproducts (well established) {2.2.4, 2.4}. In some areas \\r\\noutside of North America, the commercial development of \\r\\nmedicinal products has been weak. In the Americas, many \\r\\nopportunities remain for further development of products \\r\\nfrom nature that can contribute to human health, including \\r\\nthrough bioprospecting, in accordance with national \\r\\nlegislation {2.2.4, 2.4}.\\nHealth benefits from biodiversity and access to \\r\\nnature are well documented (established but \\r\\nincomplete). Examples include diets based on diverse \\r\\nnatural products improve health and nearness to green \\r\\nspace has been linked to reduced childhood obesity \\r\\nin some urban areas {1.3.2, 2.3.4}. On the other hand, \\r\\necosystem contaminants and pollutants transferred to \\r\\nhumans via food supplies have been linked to widespread', metadata={'chunk_type': 'text', 'document_id': 'document30', 'document_number': 30.0, 'element_id': 'N/A', 'figure_code': 'N/A', 'file_size': 'N/A', 'image_path': 'N/A', 'n_pages': 44.0, 'name': 'Summary for Policymakers. Regional Assessment Report on Biodiversity and Ecosystem Services for the Americas', 'num_characters': 1017.0, 'num_tokens': 219.0, 'num_tokens_approx': 242.0, 'num_words': 182.0, 'page_number': 26, 'release_date': 2018.0, 'report_type': 'SPM', 'section_header': '* The Delphi method is a structured and iterative evaluation process that uses expert panels to establish consensus regarding the assessment of a specifi c topic.', 'short_name': 'IPBES RAR AM SPM', 'source': 'IPBES', 'toc_level0': 'N/A', 'toc_level1': 'N/A', 'toc_level2': 'N/A', 'toc_level3': 'N/A', 'url': 'https://zenodo.org/record/3236292/files/ipbes_assessment_spm_americas_EN.pdf', 'similarity_score': 0.5930686, 'content': 'Human health depends directly and indirectly on \\r\\nnature. Biodiversity is a source of medicines and other \\r\\nproducts that contribute to human health and have \\r\\nhigh potential for the development of pharmacological \\r\\nproducts (well established) {2.2.4, 2.4}. In some areas \\r\\noutside of North America, the commercial development of \\r\\nmedicinal products has been weak. In the Americas, many \\r\\nopportunities remain for further development of products \\r\\nfrom nature that can contribute to human health, including \\r\\nthrough bioprospecting, in accordance with national \\r\\nlegislation {2.2.4, 2.4}.\\nHealth benefits from biodiversity and access to \\r\\nnature are well documented (established but \\r\\nincomplete). Examples include diets based on diverse \\r\\nnatural products improve health and nearness to green \\r\\nspace has been linked to reduced childhood obesity \\r\\nin some urban areas {1.3.2, 2.3.4}. On the other hand, \\r\\necosystem contaminants and pollutants transferred to \\r\\nhumans via food supplies have been linked to widespread', 'reranking_score': 0.013691847212612629, 'query_used_for_retrieval': 'What are the health benefits of being a vegetarian?', 'sources_used': ['IPCC', 'IPBES', 'IPOS']}),\n",
       "  Document(page_content='a  transition towards more plant-based consumption and reduced \\r\\nconsumption of animal-based foods, particularly from ruminant \\r\\nanimals, could reduce pressure on forests and land used for feed, \\r\\nsupport the preservation of biodiversity and planetary health (FAO \\r\\n2018c; Theurl et al. 2020), and contribute to preventing forms of \\r\\nmalnutrition (i.e.,  undernutrition, micronutrient deficiency, and \\r\\nobesity) in developing countries (Section  12.4). Other co-benefits \\r\\ninclude lowering the risk of cardiovascular disease, type 2 diabetes, \\r\\nand reducing mortality from diet-related non-communicable diseases \\r\\n(Toumpanakis et al. 2018; Satija and Hu 2018; Faber et al. 2020; \\r\\nMagkos et al. 2020). However, transition towards sustainable healthy \\r\\ndiets could have adverse impacts on the economic stability of the \\r\\nagricultural sector (MacDiarmid 2013; Aschemann-Witzel 2015;', metadata={'chunk_type': 'text', 'document_id': 'document9', 'document_number': 9.0, 'element_id': 'N/A', 'figure_code': 'N/A', 'file_size': 'N/A', 'image_path': 'N/A', 'n_pages': 2258.0, 'name': 'Full Report. In: Climate Change 2022: Mitigation of Climate Change. Contribution of the WGIII to the AR6 of the IPCC', 'num_characters': 880.0, 'num_tokens': 215.0, 'num_tokens_approx': 212.0, 'num_words': 159.0, 'page_number': 816, 'release_date': 2022.0, 'report_type': 'Full Report', 'section_header': 'Agriculture, Forestry and Other Land Uses (AFOLU) ', 'short_name': 'IPCC AR6 WGIII FR', 'source': 'IPCC', 'toc_level0': '7.4 Assessment of AFOLU Mitigation Measures Including Trade-offs and Synergies', 'toc_level1': '7.4.5 Demand-side Measures', 'toc_level2': 'N/A', 'toc_level3': 'N/A', 'url': 'https://www.ipcc.ch/report/ar6/wg3/downloads/report/IPCC_AR6_WGIII_FullReport.pdf', 'similarity_score': 0.694380879, 'content': 'a  transition towards more plant-based consumption and reduced \\r\\nconsumption of animal-based foods, particularly from ruminant \\r\\nanimals, could reduce pressure on forests and land used for feed, \\r\\nsupport the preservation of biodiversity and planetary health (FAO \\r\\n2018c; Theurl et al. 2020), and contribute to preventing forms of \\r\\nmalnutrition (i.e.,  undernutrition, micronutrient deficiency, and \\r\\nobesity) in developing countries (Section  12.4). Other co-benefits \\r\\ninclude lowering the risk of cardiovascular disease, type 2 diabetes, \\r\\nand reducing mortality from diet-related non-communicable diseases \\r\\n(Toumpanakis et al. 2018; Satija and Hu 2018; Faber et al. 2020; \\r\\nMagkos et al. 2020). However, transition towards sustainable healthy \\r\\ndiets could have adverse impacts on the economic stability of the \\r\\nagricultural sector (MacDiarmid 2013; Aschemann-Witzel 2015;', 'reranking_score': 0.012536046095192432, 'query_used_for_retrieval': 'What are the health benefits of being a vegetarian?', 'sources_used': ['IPCC', 'IPBES', 'IPOS']})],\n",
       " 'recommended_content': [Document(page_content='Share of global greenhouse gas emissions from food', metadata={'category': 'CO2 & Greenhouse Gas Emissions', 'doc_id': 'owid_483', 'returned_content': '<iframe src=\"https://ourworldindata.org/grapher/share-global-food-emissions?tab=map\" loading=\"lazy\" style=\"width: 100%; height: 600px; border: 0px none;\" allow=\"web-share; clipboard-write\"></iframe>', 'source': 'OWID', 'subtitle': 'Food system emissions include agriculture, land-use change, and supply chain emissions (transport, packaging, food processing, retail, cooking, and waste). Emissions are quantified based on food production, not consumption. This means they do not account for international trade.', 'url': 'https://ourworldindata.org/grapher/share-global-food-emissions', 'similarity_score': 0.6410879492759705, 'content': 'Share of global greenhouse gas emissions from food', 'reranking_score': 0.8769780993461609, 'query_used_for_retrieval': 'How does being a vegetarian contribute to reducing greenhouse gas emissions?', 'sources_used': ['IEA', 'OWID']}),\n",
       "  Document(page_content='Greenhouse gas emissions from food systems', metadata={'category': 'CO2 & Greenhouse Gas Emissions', 'doc_id': 'owid_391', 'returned_content': '<iframe src=\"https://ourworldindata.org/grapher/emissions-from-food?tab=map\" loading=\"lazy\" style=\"width: 100%; height: 600px; border: 0px none;\" allow=\"web-share; clipboard-write\"></iframe>', 'source': 'OWID', 'subtitle': 'Emissions are measured in tonnes of carbon dioxide-equivalents.', 'url': 'https://ourworldindata.org/grapher/emissions-from-food', 'similarity_score': 0.6502971649169922, 'content': 'Greenhouse gas emissions from food systems', 'reranking_score': 0.6416043043136597, 'query_used_for_retrieval': 'How does being a vegetarian contribute to reducing greenhouse gas emissions?', 'sources_used': ['IEA', 'OWID']}),\n",
       "  Document(page_content='Share of national greenhouse gas emissions that come from food', metadata={'category': 'CO2 & Greenhouse Gas Emissions', 'doc_id': 'owid_486', 'returned_content': '<iframe src=\"https://ourworldindata.org/grapher/food-share-total-emissions?tab=map\" loading=\"lazy\" style=\"width: 100%; height: 600px; border: 0px none;\" allow=\"web-share; clipboard-write\"></iframe>', 'source': 'OWID', 'subtitle': 'Food system emissions include agriculture, land-use change, and supply chain emissions (transport, packaging, food processing, retail, cooking, and waste). Emissions are quantified based on food production, not consumption. This means they do not account for international trade.', 'url': 'https://ourworldindata.org/grapher/food-share-total-emissions', 'similarity_score': 0.666145384311676, 'content': 'Share of national greenhouse gas emissions that come from food', 'reranking_score': 0.5758704543113708, 'query_used_for_retrieval': 'How does being a vegetarian contribute to reducing greenhouse gas emissions?', 'sources_used': ['IEA', 'OWID']}),\n",
       "  Document(page_content=\"Transport's share of global greenhouse gas emissions from food\", metadata={'category': 'CO2 & Greenhouse Gas Emissions', 'doc_id': 'owid_494', 'returned_content': '<iframe src=\"https://ourworldindata.org/grapher/food-transport-emissions?tab=map\" loading=\"lazy\" style=\"width: 100%; height: 600px; border: 0px none;\" allow=\"web-share; clipboard-write\"></iframe>', 'source': 'OWID', 'subtitle': 'Transport is responsible for 4.8% of global greenhouse gas emissions from the food system. Shown is the breakdown by transport type in 2015.', 'url': 'https://ourworldindata.org/grapher/food-transport-emissions', 'similarity_score': 0.6914961338043213, 'content': \"Transport's share of global greenhouse gas emissions from food\", 'reranking_score': 0.4578125476837158, 'query_used_for_retrieval': 'How does being a vegetarian contribute to reducing greenhouse gas emissions?', 'sources_used': ['IEA', 'OWID']}),\n",
       "  Document(page_content='Greenhouse gas emissions', metadata={'category': 'CO2 & Greenhouse Gas Emissions', 'doc_id': 'owid_387', 'returned_content': '<iframe src=\"https://ourworldindata.org/grapher/total-ghg-emissions?tab=map\" loading=\"lazy\" style=\"width: 100%; height: 600px; border: 0px none;\" allow=\"web-share; clipboard-write\"></iframe>', 'source': 'OWID', 'subtitle': 'Greenhouse gas emissions include carbon dioxide, methane and nitrous oxide from all sources, including land-use change. They are measured in tonnes of carbon dioxide-equivalents over a 100-year timescale.', 'url': 'https://ourworldindata.org/grapher/total-ghg-emissions', 'similarity_score': 0.7324714064598083, 'content': 'Greenhouse gas emissions', 'reranking_score': 0.210241436958313, 'query_used_for_retrieval': 'How does being a vegetarian contribute to reducing greenhouse gas emissions?', 'sources_used': ['IEA', 'OWID']}),\n",
       "  Document(page_content='Environmental footprints of dairy and plant-based milks', metadata={'category': 'Environmental Impacts of Food Production', 'doc_id': 'owid_1158', 'returned_content': '<iframe src=\"https://ourworldindata.org/grapher/environmental-footprint-milks?tab=map\" loading=\"lazy\" style=\"width: 100%; height: 600px; border: 0px none;\" allow=\"web-share; clipboard-write\"></iframe>', 'source': 'OWID', 'subtitle': 'Impacts are measured per liter of milk. These are based on a meta-analysis of food system impact studies across the supply chain which includes land use change, on-farm production, processing, transport, and packaging.', 'url': 'https://ourworldindata.org/grapher/environmental-footprint-milks', 'similarity_score': 0.6826346516609192, 'content': 'Environmental footprints of dairy and plant-based milks', 'reranking_score': 0.031040672212839127, 'query_used_for_retrieval': 'What are the environmental impacts of being a vegetarian?', 'sources_used': ['IEA', 'OWID']}),\n",
       "  Document(page_content='Vegans, vegetarians and meat-eaters: self-reported dietary choices, United Kingdom', metadata={'category': 'Animal Welfare', 'doc_id': 'owid_174', 'returned_content': '<iframe src=\"https://ourworldindata.org/grapher/dietary-choices-uk?tab=map\" loading=\"lazy\" style=\"width: 100%; height: 600px; border: 0px none;\" allow=\"web-share; clipboard-write\"></iframe>', 'source': 'OWID', 'subtitle': '– Flexitarian: mainly vegetarian, but occasionally eat meat or fish. – Pescetarian: eat fish but do not eat meat or poultry. – Vegetarian: do not eat any meat, poultry, game, fish, or shellfish. – Plant-based / Vegan: do not eat dairy products, eggs, or any other animal product.', 'url': 'https://ourworldindata.org/grapher/dietary-choices-uk', 'similarity_score': 0.7397673726081848, 'content': 'Vegans, vegetarians and meat-eaters: self-reported dietary choices, United Kingdom', 'reranking_score': 0.0009852690855041146, 'query_used_for_retrieval': 'What are the health benefits of being a vegetarian?', 'sources_used': ['IEA', 'OWID']}),\n",
       "  Document(page_content='Global meat consumption', metadata={'category': 'Meat & Dairy Production', 'doc_id': 'owid_1688', 'returned_content': '<iframe src=\"https://ourworldindata.org/grapher/global-meat-projections-to-2050?tab=map\" loading=\"lazy\" style=\"width: 100%; height: 600px; border: 0px none;\" allow=\"web-share; clipboard-write\"></iframe>', 'source': 'OWID', 'subtitle': 'Expressed in tonnes of meat. Data from 1961-2013 is based on published FAO estimates; from 2013-2050 based on FAO projections. Projections are based on future population projections and the expected impacts of regional and national economic growth trends on meat consumption.', 'url': 'https://ourworldindata.org/grapher/global-meat-projections-to-2050', 'similarity_score': 0.7610722184181213, 'content': 'Global meat consumption', 'reranking_score': 6.103218765929341e-05, 'query_used_for_retrieval': 'What are the environmental impacts of being a vegetarian?', 'sources_used': ['IEA', 'OWID']}),\n",
       "  Document(page_content='Global emissions from food by life-cycle stage', metadata={'category': 'CO2 & Greenhouse Gas Emissions', 'doc_id': 'owid_382', 'returned_content': '<iframe src=\"https://ourworldindata.org/grapher/food-emissions-life-cycle?tab=map\" loading=\"lazy\" style=\"width: 100%; height: 600px; border: 0px none;\" allow=\"web-share; clipboard-write\"></iframe>', 'source': 'OWID', 'subtitle': 'Emissions from the food system are broken down by their stage in the life-cycle, from land use and on-farm production through to consumer waste. Emissions are measured in tonnes of carbon dioxide-equivalents.', 'url': 'https://ourworldindata.org/grapher/food-emissions-life-cycle', 'similarity_score': 0.7992910146713257, 'content': 'Global emissions from food by life-cycle stage', 'reranking_score': 2.927189962065313e-05, 'query_used_for_retrieval': 'What are the environmental impacts of being a vegetarian?', 'sources_used': ['IEA', 'OWID']}),\n",
       "  Document(page_content='Environmental impacts of different types of grocery bags', metadata={'category': 'Plastic Pollution', 'doc_id': 'owid_1889', 'returned_content': '<iframe src=\"https://ourworldindata.org/grapher/grocery-bag-environmental-impact?tab=map\" loading=\"lazy\" style=\"width: 100%; height: 600px; border: 0px none;\" allow=\"web-share; clipboard-write\"></iframe>', 'source': 'OWID', 'subtitle': 'Number of times a given grocery bag type would have to be reused to have an environmental impact as low as a standard single-use plastic bag.', 'url': 'https://ourworldindata.org/grapher/grocery-bag-environmental-impact', 'similarity_score': 0.8245543241500854, 'content': 'Environmental impacts of different types of grocery bags', 'reranking_score': 2.6729740056907758e-05, 'query_used_for_retrieval': 'What are the environmental impacts of being a vegetarian?', 'sources_used': ['IEA', 'OWID']}),\n",
       "  Document(page_content='Public attitudes to dietary choices and meat-eating in the United States', metadata={'category': 'Animal Welfare', 'doc_id': 'owid_168', 'returned_content': '<iframe src=\"https://ourworldindata.org/grapher/survey-dietary-choices-sentience?tab=map\" loading=\"lazy\" style=\"width: 100%; height: 600px; border: 0px none;\" allow=\"web-share; clipboard-write\"></iframe>', 'source': 'OWID', 'subtitle': 'The survey measured attitudes towards animal farming with around 1,500 adults in the United States, census-balanced to be representative of age, gender, region, ethnicity, and income.', 'url': 'https://ourworldindata.org/grapher/survey-dietary-choices-sentience', 'similarity_score': 0.8580012917518616, 'content': 'Public attitudes to dietary choices and meat-eating in the United States', 'reranking_score': 2.5419842131668702e-05, 'query_used_for_retrieval': 'What are the health benefits of being a vegetarian?', 'sources_used': ['IEA', 'OWID']}),\n",
       "  Document(page_content='Consumption of animal products in the EAT-Lancet diet', metadata={'category': 'Diet Compositions', 'doc_id': 'owid_849', 'returned_content': '<iframe src=\"https://ourworldindata.org/grapher/eat-lancet-diet-animal-products?tab=map\" loading=\"lazy\" style=\"width: 100%; height: 600px; border: 0px none;\" allow=\"web-share; clipboard-write\"></iframe>', 'source': 'OWID', 'subtitle': 'Recommended intakes of animal products in the EAT-Lancet diet are shown relative to average daily per capita supply by country. The EAT-Lancet diet is a diet recommended to balance the goals of healthy nutrition and environmental sustainability for a global population.', 'url': 'https://ourworldindata.org/grapher/eat-lancet-diet-animal-products', 'similarity_score': 0.8636230826377869, 'content': 'Consumption of animal products in the EAT-Lancet diet', 'reranking_score': 2.408661566732917e-05, 'query_used_for_retrieval': 'What are the health benefits of being a vegetarian?', 'sources_used': ['IEA', 'OWID']}),\n",
       "  Document(page_content='Daily meat consumption per person', metadata={'category': 'Food Supply', 'doc_id': 'owid_1310', 'returned_content': '<iframe src=\"https://ourworldindata.org/grapher/daily-meat-consumption-per-person?tab=map\" loading=\"lazy\" style=\"width: 100%; height: 600px; border: 0px none;\" allow=\"web-share; clipboard-write\"></iframe>', 'source': 'OWID', 'subtitle': 'Daily meat consumption is shown relative to the expected EU average of 165g per person in 2030. This projection comes from the livestock antibiotic scenarios from Van Boeckel et al. (2017).', 'url': 'https://ourworldindata.org/grapher/daily-meat-consumption-per-person', 'similarity_score': 0.8769153952598572, 'content': 'Daily meat consumption per person', 'reranking_score': 2.3410288122249767e-05, 'query_used_for_retrieval': 'What are the health benefits of being a vegetarian?', 'sources_used': ['IEA', 'OWID']})]}"
      ]
     },
     "execution_count": 12,
     "metadata": {},
     "output_type": "execute_result"
    }
   ],
   "source": [
    "output = await app.ainvoke({\"user_input\": \"should I be a vegetarian ?\"})\n",
    "output"
   ]
  },
  {
   "cell_type": "code",
   "execution_count": 25,
   "metadata": {},
   "outputs": [
    {
     "data": {
      "text/plain": [
       "[Document(page_content='Global warming: Contributions to the change in global mean surface temperature', metadata={'category': 'CO2 & Greenhouse Gas Emissions', 'doc_id': 'owid_386', 'returned_content': '<iframe src=\"https://ourworldindata.org/grapher/contributions-global-temp-change?tab=map\" loading=\"lazy\" style=\"width: 100%; height: 600px; border: 0px none;\" allow=\"web-share; clipboard-write\"></iframe>', 'source': 'OWID', 'subtitle': \"This is shown as a country or region's share of the global mean surface temperature change as a result of its cumulative emissions of three gases – carbon dioxide, methane, and nitrous oxide.\", 'url': 'https://ourworldindata.org/grapher/contributions-global-temp-change', 'similarity_score': 0.819640040397644, 'content': 'Global warming: Contributions to the change in global mean surface temperature', 'reranking_score': 3.529732930473983e-05, 'query_used_for_retrieval': 'How does radiative forcing impact the climate?', 'sources_used': ['IEA', 'OWID']}),\n",
       " Document(page_content='Contribution to global mean surface temperature rise by gas', metadata={'category': 'CO2 & Greenhouse Gas Emissions', 'doc_id': 'owid_358', 'returned_content': '<iframe src=\"https://ourworldindata.org/grapher/contribution-to-temp-rise-by-gas?tab=map\" loading=\"lazy\" style=\"width: 100%; height: 600px; border: 0px none;\" allow=\"web-share; clipboard-write\"></iframe>', 'source': 'OWID', 'subtitle': \"The global mean surface temperature change as a result of a country or region's cumulative emissions of three gases – carbon dioxide, methane, and nitrous oxide.\", 'url': 'https://ourworldindata.org/grapher/contribution-to-temp-rise-by-gas', 'similarity_score': 0.8219074606895447, 'content': 'Contribution to global mean surface temperature rise by gas', 'reranking_score': 3.2611642382107675e-05, 'query_used_for_retrieval': 'How does radiative forcing impact the climate?', 'sources_used': ['IEA', 'OWID']}),\n",
       " Document(page_content='Contribution to global mean surface temperature rise', metadata={'category': 'CO2 & Greenhouse Gas Emissions', 'doc_id': 'owid_357', 'returned_content': '<iframe src=\"https://ourworldindata.org/grapher/contribution-temp-rise-degrees?tab=map\" loading=\"lazy\" style=\"width: 100%; height: 600px; border: 0px none;\" allow=\"web-share; clipboard-write\"></iframe>', 'source': 'OWID', 'subtitle': \"The global mean surface temperature change as a result of a country or region's cumulative emissions of three gases – carbon dioxide, methane, and nitrous oxide.\", 'url': 'https://ourworldindata.org/grapher/contribution-temp-rise-degrees', 'similarity_score': 0.8240867853164673, 'content': 'Contribution to global mean surface temperature rise', 'reranking_score': 3.1018946174299344e-05, 'query_used_for_retrieval': 'How does radiative forcing impact the climate?', 'sources_used': ['IEA', 'OWID']}),\n",
       " Document(page_content='Nationally determined contributions to climate change', metadata={'category': 'Climate Change', 'doc_id': 'owid_780', 'returned_content': '<iframe src=\"https://ourworldindata.org/grapher/nationally-determined-contributions?tab=map\" loading=\"lazy\" style=\"width: 100%; height: 600px; border: 0px none;\" allow=\"web-share; clipboard-write\"></iframe>', 'source': 'OWID', 'subtitle': 'Nationally determined contributions (NDCs) embody efforts by each country to reduce national emissions and adapt to the impacts of climate change. The Paris Agreement requires each of the 193 Parties to prepare, communicate and maintain NDCs outlining what they intend to achieve. NDCs must be updated every five years.', 'url': 'https://ourworldindata.org/grapher/nationally-determined-contributions', 'similarity_score': 0.8318947553634644, 'content': 'Nationally determined contributions to climate change', 'reranking_score': 2.488470090611372e-05, 'query_used_for_retrieval': 'How does radiative forcing impact the climate?', 'sources_used': ['IEA', 'OWID']}),\n",
       " Document(page_content='Carbon dioxide emissions factors', metadata={'category': 'CO2 & Greenhouse Gas Emissions', 'doc_id': 'owid_342', 'returned_content': '<iframe src=\"https://ourworldindata.org/grapher/carbon-dioxide-emissions-factor?tab=map\" loading=\"lazy\" style=\"width: 100%; height: 600px; border: 0px none;\" allow=\"web-share; clipboard-write\"></iframe>', 'source': 'OWID', 'subtitle': 'Emissions factors quantify the average CO₂ output per unit of energy. They are measured in kilograms of CO₂ per megawatt-hour (MWh) of energy from various fossil fuel sources.', 'url': 'https://ourworldindata.org/grapher/carbon-dioxide-emissions-factor', 'similarity_score': 0.8357298970222473, 'content': 'Carbon dioxide emissions factors', 'reranking_score': 2.46217314270325e-05, 'query_used_for_retrieval': 'How does radiative forcing impact the climate?', 'sources_used': ['IEA', 'OWID']}),\n",
       " Document(page_content='Global warming contributions by gas and source', metadata={'category': 'CO2 & Greenhouse Gas Emissions', 'doc_id': 'owid_383', 'returned_content': '<iframe src=\"https://ourworldindata.org/grapher/global-warming-by-gas-and-source?tab=map\" loading=\"lazy\" style=\"width: 100%; height: 600px; border: 0px none;\" allow=\"web-share; clipboard-write\"></iframe>', 'source': 'OWID', 'subtitle': 'The global mean surface temperature change as a result of the cumulative emissions of three gases – carbon dioxide, methane, and nitrous oxide.', 'url': 'https://ourworldindata.org/grapher/global-warming-by-gas-and-source', 'similarity_score': 0.8357741832733154, 'content': 'Global warming contributions by gas and source', 'reranking_score': 2.433718509564642e-05, 'query_used_for_retrieval': 'How does radiative forcing impact the climate?', 'sources_used': ['IEA', 'OWID']}),\n",
       " Document(page_content='Global yearly surface temperature anomalies', metadata={'category': 'Climate Change', 'doc_id': 'owid_768', 'returned_content': '<iframe src=\"https://ourworldindata.org/grapher/global-yearly-surface-temperature-anomalies?tab=map\" loading=\"lazy\" style=\"width: 100%; height: 600px; border: 0px none;\" allow=\"web-share; clipboard-write\"></iframe>', 'source': 'OWID', 'subtitle': \"The deviation of a specific year's average surface temperature from the 1991-2020 mean, in degrees Celsius.\", 'url': 'https://ourworldindata.org/grapher/global-yearly-surface-temperature-anomalies', 'similarity_score': 0.85450679063797, 'content': 'Global yearly surface temperature anomalies', 'reranking_score': 2.2832264221506193e-05, 'query_used_for_retrieval': 'How does radiative forcing impact the climate?', 'sources_used': ['IEA', 'OWID']}),\n",
       " Document(page_content='Energy intensity', metadata={'category': 'Energy', 'doc_id': 'owid_971', 'returned_content': '<iframe src=\"https://ourworldindata.org/grapher/energy-intensity?tab=map\" loading=\"lazy\" style=\"width: 100%; height: 600px; border: 0px none;\" allow=\"web-share; clipboard-write\"></iframe>', 'source': 'OWID', 'subtitle': 'Energy intensity is measured as primary energy consumption per unit of gross domestic product (GDP), in kilowatt-hours per dollar. GDP is adjusted for inflation and differences in the cost of living between countries.', 'url': 'https://ourworldindata.org/grapher/energy-intensity', 'similarity_score': 0.9688451886177063, 'content': 'Energy intensity', 'reranking_score': 2.152034176106099e-05, 'query_used_for_retrieval': 'What is radiative forcing?', 'sources_used': ['IEA', 'OWID']}),\n",
       " Document(page_content='Ozone-depleting substance emissions', metadata={'category': 'Ozone Layer', 'doc_id': 'owid_1847', 'returned_content': '<iframe src=\"https://ourworldindata.org/grapher/ozone-depleting-substance-emissions?tab=map\" loading=\"lazy\" style=\"width: 100%; height: 600px; border: 0px none;\" allow=\"web-share; clipboard-write\"></iframe>', 'source': 'OWID', 'subtitle': 'Ozone-depleting substance emissions are measured in ODP tonnes.', 'url': 'https://ourworldindata.org/grapher/ozone-depleting-substance-emissions', 'similarity_score': 1.067753553390503, 'content': 'Ozone-depleting substance emissions', 'reranking_score': 2.0987541574868374e-05, 'query_used_for_retrieval': 'What is radiative forcing?', 'sources_used': ['IEA', 'OWID']}),\n",
       " Document(page_content='Carbon intensity of energy production', metadata={'category': 'CO2 & Greenhouse Gas Emissions', 'doc_id': 'owid_345', 'returned_content': '<iframe src=\"https://ourworldindata.org/grapher/co2-per-unit-energy?tab=map\" loading=\"lazy\" style=\"width: 100%; height: 600px; border: 0px none;\" allow=\"web-share; clipboard-write\"></iframe>', 'source': 'OWID', 'subtitle': 'Amount of carbon dioxide emitted per unit of energy production, measured in kilograms of CO₂ per kilowatt-hour.', 'url': 'https://ourworldindata.org/grapher/co2-per-unit-energy', 'similarity_score': 1.0721089839935303, 'content': 'Carbon intensity of energy production', 'reranking_score': 2.0985278752050363e-05, 'query_used_for_retrieval': 'What is radiative forcing?', 'sources_used': ['IEA', 'OWID']}),\n",
       " Document(page_content='Long-term energy transitions', metadata={'category': 'Energy', 'doc_id': 'owid_1013', 'returned_content': '<iframe src=\"https://ourworldindata.org/grapher/long-term-energy-transitions?tab=map\" loading=\"lazy\" style=\"width: 100%; height: 600px; border: 0px none;\" allow=\"web-share; clipboard-write\"></iframe>', 'source': 'OWID', 'subtitle': 'Share of primary energy by source over the long-term, measured as the percentage of total energy consumption. Primary electricity includes: hydropower, nuclear power, wind, photo\\xadvoltaics, tidal, wave and solar thermal and geothermal (only figures for electricity production are included).', 'url': 'https://ourworldindata.org/grapher/long-term-energy-transitions', 'similarity_score': 1.0745375156402588, 'content': 'Long-term energy transitions', 'reranking_score': 2.085221785819158e-05, 'query_used_for_retrieval': 'What is radiative forcing?', 'sources_used': ['IEA', 'OWID']}),\n",
       " Document(page_content='Renewable and nuclear energy: direct vs. substituted energy', metadata={'category': 'Energy', 'doc_id': 'owid_1082', 'returned_content': '<iframe src=\"https://ourworldindata.org/grapher/renewable-nuclear-direct-substitution?tab=map\" loading=\"lazy\" style=\"width: 100%; height: 600px; border: 0px none;\" allow=\"web-share; clipboard-write\"></iframe>', 'source': 'OWID', 'subtitle': 'Direct primary energy measures the amount of electricity generated from power plants. Substituted primary energy estimates the amount of energy required by power plants if these sources had the same inefficiencies as fossil fuels. Measured in terawatt-hours.', 'url': 'https://ourworldindata.org/grapher/renewable-nuclear-direct-substitution', 'similarity_score': 1.0793505907058716, 'content': 'Renewable and nuclear energy: direct vs. substituted energy', 'reranking_score': 2.085221785819158e-05, 'query_used_for_retrieval': 'What is radiative forcing?', 'sources_used': ['IEA', 'OWID']}),\n",
       " Document(page_content='Accumulated cyclone energy of North Atlantic hurricanes', metadata={'category': 'Natural Disasters', 'doc_id': 'owid_1728', 'returned_content': '<iframe src=\"https://ourworldindata.org/grapher/ace-north-atlantic-hurricanes?tab=map\" loading=\"lazy\" style=\"width: 100%; height: 600px; border: 0px none;\" allow=\"web-share; clipboard-write\"></iframe>', 'source': 'OWID', 'subtitle': 'Accumulated cyclone energy (ACE) is an index used to measure the activity of a cyclone/hurricane season. It combines the number of hurricane systems, how long they existed and how intense they became.', 'url': 'https://ourworldindata.org/grapher/ace-north-atlantic-hurricanes', 'similarity_score': 1.0885957479476929, 'content': 'Accumulated cyclone energy of North Atlantic hurricanes', 'reranking_score': 2.071472590614576e-05, 'query_used_for_retrieval': 'What is radiative forcing?', 'sources_used': ['IEA', 'OWID']}),\n",
       " Document(page_content='Solar energy generation vs. capacity', metadata={'category': 'Energy', 'doc_id': 'owid_1136', 'returned_content': '<iframe src=\"https://ourworldindata.org/grapher/solar-pv-energy-consumption-vs-solar-pv-capacity?tab=map\" loading=\"lazy\" style=\"width: 100%; height: 600px; border: 0px none;\" allow=\"web-share; clipboard-write\"></iframe>', 'source': 'OWID', 'subtitle': 'Solar energy generation, measured in gigawatt-hours (GWh) versus installed solar capacity, measured in gigawatts (GW).', 'url': 'https://ourworldindata.org/grapher/solar-pv-energy-consumption-vs-solar-pv-capacity', 'similarity_score': 1.1006488800048828, 'content': 'Solar energy generation vs. capacity', 'reranking_score': 2.0698907974292524e-05, 'query_used_for_retrieval': 'What is radiative forcing?', 'sources_used': ['IEA', 'OWID']})]"
      ]
     },
     "execution_count": 25,
     "metadata": {},
     "output_type": "execute_result"
    }
   ],
   "source": [
    "output[\"recommended_content\"]"
   ]
  },
  {
   "cell_type": "code",
   "execution_count": 27,
   "metadata": {},
   "outputs": [
    {
     "name": "stderr",
     "output_type": "stream",
     "text": [
      "INFO:httpx:HTTP Request: POST https://api.openai.com/v1/chat/completions \"HTTP/1.1 200 OK\"\n"
     ]
    },
    {
     "data": {
      "text/plain": [
       "{'graphs': [{'embedding': '<iframe src=\"https://ourworldindata.org/grapher/fruit-consumption-by-fruit-type?tab=map\" loading=\"lazy\" style=\"width: 100%; height: 600px; border: 0px none;\" allow=\"web-share; clipboard-write\"></iframe>',\n",
       "   'category': 'Diet Compositions',\n",
       "   'source': 'OWID'},\n",
       "  {'embedding': '<iframe src=\"https://ourworldindata.org/grapher/fruit-consumption-per-capita?tab=map\" loading=\"lazy\" style=\"width: 100%; height: 600px; border: 0px none;\" allow=\"web-share; clipboard-write\"></iframe>',\n",
       "   'category': 'Diet Compositions',\n",
       "   'source': 'OWID'},\n",
       "  {'embedding': '<iframe src=\"https://ourworldindata.org/grapher/average-per-capita-fruit-intake-vs-minimum-recommended-guidelines?tab=map\" loading=\"lazy\" style=\"width: 100%; height: 600px; border: 0px none;\" allow=\"web-share; clipboard-write\"></iframe>',\n",
       "   'category': 'Diet Compositions',\n",
       "   'source': 'OWID'}]}"
      ]
     },
     "execution_count": 27,
     "metadata": {},
     "output_type": "execute_result"
    },
    {
     "ename": "",
     "evalue": "",
     "output_type": "error",
     "traceback": [
      "\u001b[1;31mThe Kernel crashed while executing code in the current cell or a previous cell. \n",
      "\u001b[1;31mPlease review the code in the cell(s) to identify a possible cause of the failure. \n",
      "\u001b[1;31mClick <a href='https://aka.ms/vscodeJupyterKernelCrash'>here</a> for more info. \n",
      "\u001b[1;31mView Jupyter <a href='command:jupyter.viewOutput'>log</a> for further details."
     ]
    }
   ],
   "source": [
    "from climateqa.engine.chains.answer_rag_graph import make_rag_graph_chain, _format_graphs\n",
    "\n",
    "chain = make_rag_graph_chain(llm)\n",
    "chain.invoke({\"query\": \"salade de fruits\", \"recommended_content\": output[\"recommended_content\"]})"
   ]
  },
  {
   "cell_type": "code",
   "execution_count": 19,
   "metadata": {},
   "outputs": [
    {
     "data": {
      "text/plain": [
       "'Title: Nationally determined contributions to climate change\\nEmbedding: <iframe src=\"https://ourworldindata.org/grapher/nationally-determined-contributions?tab=map\" loading=\"lazy\" style=\"width: 100%; height: 600px; border: 0px none;\" allow=\"web-share; clipboard-write\"></iframe>\\nSource: OWID\\nCategory: Climate Change\\n\\nTitle: Contribution to global mean surface temperature rise from fossil sources\\nEmbedding: <iframe src=\"https://ourworldindata.org/grapher/global-warming-fossil?tab=map\" loading=\"lazy\" style=\"width: 100%; height: 600px; border: 0px none;\" allow=\"web-share; clipboard-write\"></iframe>\\nSource: OWID\\nCategory: CO2 & Greenhouse Gas Emissions\\n\\nTitle: Global warming contributions by gas and source\\nEmbedding: <iframe src=\"https://ourworldindata.org/grapher/global-warming-by-gas-and-source?tab=map\" loading=\"lazy\" style=\"width: 100%; height: 600px; border: 0px none;\" allow=\"web-share; clipboard-write\"></iframe>\\nSource: OWID\\nCategory: CO2 & Greenhouse Gas Emissions\\n\\nTitle: Share of people who believe in climate change and think it\\'s a serious threat to humanity\\nEmbedding: <iframe src=\"https://ourworldindata.org/grapher/share-believe-climate?tab=map\" loading=\"lazy\" style=\"width: 100%; height: 600px; border: 0px none;\" allow=\"web-share; clipboard-write\"></iframe>\\nSource: OWID\\nCategory: Climate Change\\n\\nTitle: Global warming contributions from fossil fuels and land use\\nEmbedding: <iframe src=\"https://ourworldindata.org/grapher/warming-fossil-fuels-land-use?tab=map\" loading=\"lazy\" style=\"width: 100%; height: 600px; border: 0px none;\" allow=\"web-share; clipboard-write\"></iframe>\\nSource: OWID\\nCategory: CO2 & Greenhouse Gas Emissions\\n\\nTitle: Opinions of young people on the threats of climate change\\nEmbedding: <iframe src=\"https://ourworldindata.org/grapher/opinions-young-people-climate?tab=map\" loading=\"lazy\" style=\"width: 100%; height: 600px; border: 0px none;\" allow=\"web-share; clipboard-write\"></iframe>\\nSource: OWID\\nCategory: Climate Change\\n\\nTitle: Global warming: Contributions to the change in global mean surface temperature\\nEmbedding: <iframe src=\"https://ourworldindata.org/grapher/contributions-global-temp-change?tab=map\" loading=\"lazy\" style=\"width: 100%; height: 600px; border: 0px none;\" allow=\"web-share; clipboard-write\"></iframe>\\nSource: OWID\\nCategory: CO2 & Greenhouse Gas Emissions\\n\\nTitle: People underestimate others\\' willingness to take climate action\\nEmbedding: <iframe src=\"https://ourworldindata.org/grapher/willingness-climate-action?tab=map\" loading=\"lazy\" style=\"width: 100%; height: 600px; border: 0px none;\" allow=\"web-share; clipboard-write\"></iframe>\\nSource: OWID\\nCategory: Climate Change\\n\\nTitle: Share of people who support policies to tackle climate change\\nEmbedding: <iframe src=\"https://ourworldindata.org/grapher/support-policies-climate?tab=map\" loading=\"lazy\" style=\"width: 100%; height: 600px; border: 0px none;\" allow=\"web-share; clipboard-write\"></iframe>\\nSource: OWID\\nCategory: Climate Change\\n\\nTitle: Decadal temperature anomalies\\nEmbedding: <iframe src=\"https://ourworldindata.org/grapher/decadal-temperature-anomaly?tab=map\" loading=\"lazy\" style=\"width: 100%; height: 600px; border: 0px none;\" allow=\"web-share; clipboard-write\"></iframe>\\nSource: OWID\\nCategory: Climate Change\\n'"
      ]
     },
     "execution_count": 19,
     "metadata": {},
     "output_type": "execute_result"
    }
   ],
   "source": [
    "graphs = []\n",
    "for x in output[\"recommended_content\"]:\n",
    "    embedding = x.metadata[\"returned_content\"]\n",
    "    \n",
    "    # Check if the embedding has already been seen\n",
    "    graphs.append({\n",
    "        \"title\": x.page_content,\n",
    "        \"embedding\": embedding,\n",
    "        \"metadata\": {\n",
    "            \"source\": x.metadata[\"source\"],\n",
    "            \"category\": x.metadata[\"category\"]\n",
    "        }\n",
    "    })\n",
    "format_data(graphs)"
   ]
  },
  {
   "cell_type": "code",
   "execution_count": 17,
   "metadata": {},
   "outputs": [
    {
     "name": "stdout",
     "output_type": "stream",
     "text": [
      "---- Setting defaults ----\n"
     ]
    },
    {
     "name": "stderr",
     "output_type": "stream",
     "text": [
      "INFO:httpx:HTTP Request: POST https://api.openai.com/v1/chat/completions \"HTTP/1.1 200 OK\"\n",
      "INFO:httpx:HTTP Request: POST https://api.openai.com/v1/chat/completions \"HTTP/1.1 200 OK\"\n",
      "INFO:httpx:HTTP Request: POST https://api.openai.com/v1/chat/completions \"HTTP/1.1 200 OK\"\n",
      "INFO:httpx:HTTP Request: POST https://api.openai.com/v1/chat/completions \"HTTP/1.1 200 OK\"\n",
      "INFO:httpx:HTTP Request: POST https://api.openai.com/v1/chat/completions \"HTTP/1.1 200 OK\"\n"
     ]
    },
    {
     "name": "stdout",
     "output_type": "stream",
     "text": [
      "---- Retrieving graphs ----\n",
      "Subquestion 0: What are the ingredients of a fruit salad?\n",
      "8 graphs retrieved for subquestion 1: [Document(page_content='Fruit consumption by type', metadata={'category': 'Diet Compositions', 'doc_id': 'owid_854', 'returned_content': '<iframe src=\"https://ourworldindata.org/grapher/fruit-consumption-by-fruit-type?tab=map\" loading=\"lazy\" style=\"width: 100%; height: 600px; border: 0px none;\" allow=\"web-share; clipboard-write\"></iframe>', 'source': 'OWID', 'subtitle': 'Average fruit consumption per person, differentiated by fruit types, measured in kilograms per year.', 'url': 'https://ourworldindata.org/grapher/fruit-consumption-by-fruit-type', 'similarity_score': 0.8464472889900208, 'content': 'Fruit consumption by type', 'reranking_score': 3.988455864600837e-05, 'query_used_for_retrieval': 'What are the ingredients of a fruit salad?', 'sources_used': ['IEA', 'OWID']}), Document(page_content='Dietary compositions by commodity group', metadata={'category': 'Diet Compositions', 'doc_id': 'owid_852', 'returned_content': '<iframe src=\"https://ourworldindata.org/grapher/dietary-compositions-by-commodity-group?tab=map\" loading=\"lazy\" style=\"width: 100%; height: 600px; border: 0px none;\" allow=\"web-share; clipboard-write\"></iframe>', 'source': 'OWID', 'subtitle': 'Average per capita dietary energy supply by commodity groups, measured in kilocalories per person per day.', 'url': 'https://ourworldindata.org/grapher/dietary-compositions-by-commodity-group', 'similarity_score': 0.8874290585517883, 'content': 'Dietary compositions by commodity group', 'reranking_score': 3.573522553779185e-05, 'query_used_for_retrieval': 'What are the ingredients of a fruit salad?', 'sources_used': ['IEA', 'OWID']}), Document(page_content='Dietary composition by country', metadata={'category': 'Diet Compositions', 'doc_id': 'owid_851', 'returned_content': '<iframe src=\"https://ourworldindata.org/grapher/dietary-composition-by-country?tab=map\" loading=\"lazy\" style=\"width: 100%; height: 600px; border: 0px none;\" allow=\"web-share; clipboard-write\"></iframe>', 'source': 'OWID', 'subtitle': \"Share of dietary energy supplied by food commodity types in the average individual's diet in a given country, measured in kilocalories per person per day.\", 'url': 'https://ourworldindata.org/grapher/dietary-composition-by-country', 'similarity_score': 0.947216272354126, 'content': 'Dietary composition by country', 'reranking_score': 3.129038304905407e-05, 'query_used_for_retrieval': 'What are the ingredients of a fruit salad?', 'sources_used': ['IEA', 'OWID']}), Document(page_content='Fruit consumption per capita', metadata={'category': 'Diet Compositions', 'doc_id': 'owid_855', 'returned_content': '<iframe src=\"https://ourworldindata.org/grapher/fruit-consumption-per-capita?tab=map\" loading=\"lazy\" style=\"width: 100%; height: 600px; border: 0px none;\" allow=\"web-share; clipboard-write\"></iframe>', 'source': 'OWID', 'subtitle': 'Average fruit consumption per person, measured in kilograms per year.', 'url': 'https://ourworldindata.org/grapher/fruit-consumption-per-capita', 'similarity_score': 0.9761286973953247, 'content': 'Fruit consumption per capita', 'reranking_score': 2.5951983843697235e-05, 'query_used_for_retrieval': 'What are the ingredients of a fruit salad?', 'sources_used': ['IEA', 'OWID']}), Document(page_content='Average per capita fruit intake vs. minimum recommended guidelines', metadata={'category': 'Diet Compositions', 'doc_id': 'owid_845', 'returned_content': '<iframe src=\"https://ourworldindata.org/grapher/average-per-capita-fruit-intake-vs-minimum-recommended-guidelines?tab=map\" loading=\"lazy\" style=\"width: 100%; height: 600px; border: 0px none;\" allow=\"web-share; clipboard-write\"></iframe>', 'source': 'OWID', 'subtitle': 'Countries shown in blue have an average per capita intake below 200g per person per day; countries in green are greater than 200g. National and World Health Organization (WHO) typically set a guideline of 200g per day.', 'url': 'https://ourworldindata.org/grapher/average-per-capita-fruit-intake-vs-minimum-recommended-guidelines', 'similarity_score': 0.9765768051147461, 'content': 'Average per capita fruit intake vs. minimum recommended guidelines', 'reranking_score': 2.5002520487760194e-05, 'query_used_for_retrieval': 'What are the ingredients of a fruit salad?', 'sources_used': ['IEA', 'OWID']}), Document(page_content='Cashew nut yields', metadata={'category': 'Crop Yields', 'doc_id': 'owid_802', 'returned_content': '<iframe src=\"https://ourworldindata.org/grapher/cashew-nut-yields?tab=map\" loading=\"lazy\" style=\"width: 100%; height: 600px; border: 0px none;\" allow=\"web-share; clipboard-write\"></iframe>', 'source': 'OWID', 'subtitle': 'Yields are measured in tonnes per hectare.', 'url': 'https://ourworldindata.org/grapher/cashew-nut-yields', 'similarity_score': 1.038257122039795, 'content': 'Cashew nut yields', 'reranking_score': 2.4257407858385704e-05, 'query_used_for_retrieval': 'What are the ingredients of a fruit salad?', 'sources_used': ['IEA', 'OWID']}), Document(page_content='Daily protein supply from animal and plant-based foods', metadata={'category': 'Food Supply', 'doc_id': 'owid_1316', 'returned_content': '<iframe src=\"https://ourworldindata.org/grapher/daily-protein-supply-from-animal-and-plant-based-foods?tab=map\" loading=\"lazy\" style=\"width: 100%; height: 600px; border: 0px none;\" allow=\"web-share; clipboard-write\"></iframe>', 'source': 'OWID', 'subtitle': 'Daily per capita protein supply is measured in grams per person per day. Protein of animal origin includes protein from all meat commodities, eggs and dairy products, and fish & seafood.', 'url': 'https://ourworldindata.org/grapher/daily-protein-supply-from-animal-and-plant-based-foods', 'similarity_score': 1.039305329322815, 'content': 'Daily protein supply from animal and plant-based foods', 'reranking_score': 2.3620234060217626e-05, 'query_used_for_retrieval': 'What are the ingredients of a fruit salad?', 'sources_used': ['IEA', 'OWID']}), Document(page_content='Daily caloric supply derived from carbohydrates, protein and fat', metadata={'category': 'Diet Compositions', 'doc_id': 'owid_850', 'returned_content': '<iframe src=\"https://ourworldindata.org/grapher/daily-caloric-supply-derived-from-carbohydrates-protein-and-fat?tab=map\" loading=\"lazy\" style=\"width: 100%; height: 600px; border: 0px none;\" allow=\"web-share; clipboard-write\"></iframe>', 'source': 'OWID', 'subtitle': 'The average per capita supply of calories derived from carbohydrates, protein and fat, all measured in kilocalories per person per day.', 'url': 'https://ourworldindata.org/grapher/daily-caloric-supply-derived-from-carbohydrates-protein-and-fat', 'similarity_score': 1.0418040752410889, 'content': 'Daily caloric supply derived from carbohydrates, protein and fat', 'reranking_score': 2.3583004804095253e-05, 'query_used_for_retrieval': 'What are the ingredients of a fruit salad?', 'sources_used': ['IEA', 'OWID']})]\n",
      "Subquestion 1: How to make a fruit salad?\n",
      "7 graphs retrieved for subquestion 2: [Document(page_content='Fruit consumption by type', metadata={'category': 'Diet Compositions', 'doc_id': 'owid_854', 'returned_content': '<iframe src=\"https://ourworldindata.org/grapher/fruit-consumption-by-fruit-type?tab=map\" loading=\"lazy\" style=\"width: 100%; height: 600px; border: 0px none;\" allow=\"web-share; clipboard-write\"></iframe>', 'source': 'OWID', 'subtitle': 'Average fruit consumption per person, differentiated by fruit types, measured in kilograms per year.', 'url': 'https://ourworldindata.org/grapher/fruit-consumption-by-fruit-type', 'similarity_score': 0.8765200972557068, 'content': 'Fruit consumption by type', 'reranking_score': 3.0426110242842697e-05, 'query_used_for_retrieval': 'How to make a fruit salad?', 'sources_used': ['IEA', 'OWID']}), Document(page_content='Average per capita fruit intake vs. minimum recommended guidelines', metadata={'category': 'Diet Compositions', 'doc_id': 'owid_845', 'returned_content': '<iframe src=\"https://ourworldindata.org/grapher/average-per-capita-fruit-intake-vs-minimum-recommended-guidelines?tab=map\" loading=\"lazy\" style=\"width: 100%; height: 600px; border: 0px none;\" allow=\"web-share; clipboard-write\"></iframe>', 'source': 'OWID', 'subtitle': 'Countries shown in blue have an average per capita intake below 200g per person per day; countries in green are greater than 200g. National and World Health Organization (WHO) typically set a guideline of 200g per day.', 'url': 'https://ourworldindata.org/grapher/average-per-capita-fruit-intake-vs-minimum-recommended-guidelines', 'similarity_score': 0.9526513814926147, 'content': 'Average per capita fruit intake vs. minimum recommended guidelines', 'reranking_score': 2.9851042199879885e-05, 'query_used_for_retrieval': 'How to make a fruit salad?', 'sources_used': ['IEA', 'OWID']}), Document(page_content='Cashew nut production', metadata={'category': 'Agricultural Production', 'doc_id': 'owid_21', 'returned_content': '<iframe src=\"https://ourworldindata.org/grapher/cashew-nut-production?tab=map\" loading=\"lazy\" style=\"width: 100%; height: 600px; border: 0px none;\" allow=\"web-share; clipboard-write\"></iframe>', 'source': 'OWID', 'subtitle': 'Cashew nut production is measured in tonnes.', 'url': 'https://ourworldindata.org/grapher/cashew-nut-production', 'similarity_score': 0.9603457450866699, 'content': 'Cashew nut production', 'reranking_score': 2.8193233447382227e-05, 'query_used_for_retrieval': 'How to make a fruit salad?', 'sources_used': ['IEA', 'OWID']}), Document(page_content='Fruit consumption per capita', metadata={'category': 'Diet Compositions', 'doc_id': 'owid_855', 'returned_content': '<iframe src=\"https://ourworldindata.org/grapher/fruit-consumption-per-capita?tab=map\" loading=\"lazy\" style=\"width: 100%; height: 600px; border: 0px none;\" allow=\"web-share; clipboard-write\"></iframe>', 'source': 'OWID', 'subtitle': 'Average fruit consumption per person, measured in kilograms per year.', 'url': 'https://ourworldindata.org/grapher/fruit-consumption-per-capita', 'similarity_score': 0.9623799920082092, 'content': 'Fruit consumption per capita', 'reranking_score': 2.4916422262322158e-05, 'query_used_for_retrieval': 'How to make a fruit salad?', 'sources_used': ['IEA', 'OWID']}), Document(page_content='Avocado production', metadata={'category': 'Agricultural Production', 'doc_id': 'owid_15', 'returned_content': '<iframe src=\"https://ourworldindata.org/grapher/avocado-production?tab=map\" loading=\"lazy\" style=\"width: 100%; height: 600px; border: 0px none;\" allow=\"web-share; clipboard-write\"></iframe>', 'source': 'OWID', 'subtitle': 'Avocado production is measured in tonnes.', 'url': 'https://ourworldindata.org/grapher/avocado-production', 'similarity_score': 0.96598219871521, 'content': 'Avocado production', 'reranking_score': 2.4747036150074564e-05, 'query_used_for_retrieval': 'How to make a fruit salad?', 'sources_used': ['IEA', 'OWID']}), Document(page_content='Banana production', metadata={'category': 'Agricultural Production', 'doc_id': 'owid_16', 'returned_content': '<iframe src=\"https://ourworldindata.org/grapher/banana-production?tab=map\" loading=\"lazy\" style=\"width: 100%; height: 600px; border: 0px none;\" allow=\"web-share; clipboard-write\"></iframe>', 'source': 'OWID', 'subtitle': 'Data source: Food and Agriculture Organization of the United Nations (2023)', 'url': 'https://ourworldindata.org/grapher/banana-production', 'similarity_score': 0.9927387237548828, 'content': 'Banana production', 'reranking_score': 2.4040627977228723e-05, 'query_used_for_retrieval': 'How to make a fruit salad?', 'sources_used': ['IEA', 'OWID']}), Document(page_content='Orange production', metadata={'category': 'Agricultural Production', 'doc_id': 'owid_57', 'returned_content': '<iframe src=\"https://ourworldindata.org/grapher/orange-production?tab=map\" loading=\"lazy\" style=\"width: 100%; height: 600px; border: 0px none;\" allow=\"web-share; clipboard-write\"></iframe>', 'source': 'OWID', 'subtitle': 'Orange production is measured in tonnes.', 'url': 'https://ourworldindata.org/grapher/orange-production', 'similarity_score': 1.0025488138198853, 'content': 'Orange production', 'reranking_score': 2.3612847144249827e-05, 'query_used_for_retrieval': 'How to make a fruit salad?', 'sources_used': ['IEA', 'OWID']})]\n"
     ]
    },
    {
     "name": "stderr",
     "output_type": "stream",
     "text": [
      "INFO:httpx:HTTP Request: POST https://api.openai.com/v1/chat/completions \"HTTP/1.1 200 OK\"\n"
     ]
    },
    {
     "name": "stdout",
     "output_type": "stream",
     "text": [
      "\n",
      "DOCS USED: False\n",
      "\n"
     ]
    },
    {
     "name": "stderr",
     "output_type": "stream",
     "text": [
      "INFO:httpx:HTTP Request: POST https://api.openai.com/v1/chat/completions \"HTTP/1.1 200 OK\"\n"
     ]
    },
    {
     "name": "stdout",
     "output_type": "stream",
     "text": [
      "\n",
      "\n",
      "Answer:\n",
      "Ce n'est pas lié aux questions environnementales, ce n'est pas de mon ressort.\n"
     ]
    }
   ],
   "source": [
    "docs_used = True\n",
    "\n",
    "async for event in app.astream_events({\"user_input\": \"salade de fruits\"}, version = \"v1\"):\n",
    "    if docs_used is True and \"metadata\" in event and \"langgraph_node\" in event[\"metadata\"]:\n",
    "        if event[\"metadata\"][\"langgraph_node\"] in [\"answer_rag_no_docs\", \"answer_chitchat\", \"answer_ai_impact\"]:\n",
    "            docs_used = False\n",
    "            print(f\"\\nDOCS USED: {docs_used}\\n\")\n",
    "    # if event[\"name\"] == \"retrieve_documents\" and event[\"event\"] == \"on_chain_end\":\n",
    "        # print(event)\n",
    "    # print(event)"
   ]
  },
  {
   "cell_type": "code",
   "execution_count": 13,
   "metadata": {},
   "outputs": [
    {
     "name": "stderr",
     "output_type": "stream",
     "text": [
      "/home/dora/anaconda3/envs/climateqa_huggingface/lib/python3.12/site-packages/langchain_core/_api/beta_decorator.py:87: LangChainBetaWarning: This API is in beta and may change in the future.\n",
      "  warn_beta(\n"
     ]
    }
   ],
   "source": [
    "inputs = {'user_input': 'impact of ai?', 'audience': 'expert and climate scientists that are not afraid of technical terms', 'sources': ['IPCC']}\n",
    "result = app.astream_events(inputs,version = \"v1\")"
   ]
  },
  {
   "cell_type": "code",
   "execution_count": 35,
   "metadata": {},
   "outputs": [
    {
     "name": "stdout",
     "output_type": "stream",
     "text": [
      "{'event': 'on_chain_start', 'run_id': 'da753bb9-2339-4fc0-b1d7-86443019c4df', 'name': 'LangGraph', 'tags': [], 'metadata': {}, 'data': {'input': {'user_input': 'impact of ai?', 'audience': 'expert and climate scientists that are not afraid of technical terms', 'sources': ['IPCC']}}}\n",
      "{'event': 'on_chain_start', 'name': '__start__', 'run_id': '07d726da-2d7c-48a3-ad2b-5c28e29729a9', 'tags': ['graph:step:0', 'langsmith:hidden'], 'metadata': {'langgraph_step': 0, 'langgraph_node': '__start__'}, 'data': {'input': {'user_input': 'impact of ai?', 'audience': 'expert and climate scientists that are not afraid of technical terms', 'sources': ['IPCC']}}}\n",
      "{'event': 'on_chain_end', 'name': '__start__', 'run_id': '07d726da-2d7c-48a3-ad2b-5c28e29729a9', 'tags': ['graph:step:0', 'langsmith:hidden'], 'metadata': {'langgraph_step': 0, 'langgraph_node': '__start__'}, 'data': {'input': {'user_input': 'impact of ai?', 'audience': 'expert and climate scientists that are not afraid of technical terms', 'sources': ['IPCC']}, 'output': {'user_input': 'impact of ai?', 'audience': 'expert and climate scientists that are not afraid of technical terms', 'sources': ['IPCC']}}}\n",
      "{'event': 'on_chain_start', 'name': 'set_defaults', 'run_id': '2f946975-07d9-403b-b617-7bca602d4419', 'tags': ['graph:step:1'], 'metadata': {'langgraph_step': 1, 'langgraph_node': 'set_defaults'}, 'data': {}}\n",
      "---- Setting defaults ----\n",
      "{'event': 'on_chain_start', 'name': 'ChannelWrite<set_defaults,user_input,language,intent,query,questions,answer,audience,sources_input,documents,recommended_content,graph_returned>', 'run_id': '22442e33-6cb8-4796-8224-fb3107783979', 'tags': ['seq:step:2', 'langsmith:hidden'], 'metadata': {'langgraph_step': 1, 'langgraph_node': 'set_defaults'}, 'data': {'input': {'user_input': 'impact of ai?', 'language': None, 'intent': None, 'query': None, 'questions': None, 'answer': None, 'audience': 'expert and climate scientists that are not afraid of technical terms', 'sources_input': ['auto'], 'documents': None, 'recommended_content': None, 'graph_returned': None}}}\n",
      "{'event': 'on_chain_end', 'name': 'ChannelWrite<set_defaults,user_input,language,intent,query,questions,answer,audience,sources_input,documents,recommended_content,graph_returned>', 'run_id': '22442e33-6cb8-4796-8224-fb3107783979', 'tags': ['seq:step:2', 'langsmith:hidden'], 'metadata': {'langgraph_step': 1, 'langgraph_node': 'set_defaults'}, 'data': {'input': {'user_input': 'impact of ai?', 'language': None, 'intent': None, 'query': None, 'questions': None, 'answer': None, 'audience': 'expert and climate scientists that are not afraid of technical terms', 'sources_input': ['auto'], 'documents': None, 'recommended_content': None, 'graph_returned': None}, 'output': {'user_input': 'impact of ai?', 'language': None, 'intent': None, 'query': None, 'questions': None, 'answer': None, 'audience': 'expert and climate scientists that are not afraid of technical terms', 'sources_input': ['auto'], 'documents': None, 'recommended_content': None, 'graph_returned': None}}}\n",
      "{'event': 'on_chain_stream', 'name': 'set_defaults', 'run_id': '2f946975-07d9-403b-b617-7bca602d4419', 'tags': ['graph:step:1'], 'metadata': {'langgraph_step': 1, 'langgraph_node': 'set_defaults'}, 'data': {'chunk': {'user_input': 'impact of ai?', 'language': None, 'intent': None, 'query': None, 'questions': None, 'answer': None, 'audience': 'expert and climate scientists that are not afraid of technical terms', 'sources_input': ['auto'], 'documents': None, 'recommended_content': None, 'graph_returned': None}}}\n",
      "{'event': 'on_chain_end', 'name': 'set_defaults', 'run_id': '2f946975-07d9-403b-b617-7bca602d4419', 'tags': ['graph:step:1'], 'metadata': {'langgraph_step': 1, 'langgraph_node': 'set_defaults'}, 'data': {'input': {'user_input': 'impact of ai?', 'language': None, 'intent': None, 'query': None, 'questions': None, 'answer': None, 'audience': 'expert and climate scientists that are not afraid of technical terms', 'sources_input': ['auto'], 'documents': None, 'recommended_content': None, 'graph_returned': None}, 'output': {'user_input': 'impact of ai?', 'language': None, 'intent': None, 'query': None, 'questions': None, 'answer': None, 'audience': 'expert and climate scientists that are not afraid of technical terms', 'sources_input': ['auto'], 'documents': None, 'recommended_content': None, 'graph_returned': None}}}\n",
      "{'event': 'on_chain_stream', 'run_id': 'da753bb9-2339-4fc0-b1d7-86443019c4df', 'tags': [], 'metadata': {}, 'name': 'LangGraph', 'data': {'chunk': {'set_defaults': {'user_input': 'impact of ai?', 'language': None, 'intent': None, 'query': None, 'questions': None, 'answer': None, 'audience': 'expert and climate scientists that are not afraid of technical terms', 'sources_input': ['auto'], 'documents': None, 'recommended_content': None, 'graph_returned': None}}}}\n",
      "{'event': 'on_chain_start', 'name': 'categorize_intent', 'run_id': '66f31c85-1a4b-48b4-9e4f-ad884263809c', 'tags': ['graph:step:2'], 'metadata': {'langgraph_step': 2, 'langgraph_node': 'categorize_intent'}, 'data': {}}\n",
      "{'event': 'on_chain_start', 'name': 'RunnableSequence', 'run_id': 'e5b8bbe4-eeb1-478a-a105-254d4f4a516b', 'tags': ['seq:step:1'], 'metadata': {'langgraph_step': 2, 'langgraph_node': 'categorize_intent'}, 'data': {'input': {'input': 'impact of ai?'}}}\n",
      "{'event': 'on_prompt_start', 'name': 'ChatPromptTemplate', 'run_id': '6fda6f8f-64ba-4b08-8c16-d7f77390f671', 'tags': ['seq:step:1'], 'metadata': {'langgraph_step': 2, 'langgraph_node': 'categorize_intent'}, 'data': {'input': {'input': 'impact of ai?'}}}\n",
      "{'event': 'on_prompt_end', 'name': 'ChatPromptTemplate', 'run_id': '6fda6f8f-64ba-4b08-8c16-d7f77390f671', 'tags': ['seq:step:1'], 'metadata': {'langgraph_step': 2, 'langgraph_node': 'categorize_intent'}, 'data': {'input': {'input': 'impact of ai?'}, 'output': ChatPromptValue(messages=[SystemMessage(content='You are a helpful assistant, you will analyze, translate and reformulate the user input message using the function provided'), HumanMessage(content='input: impact of ai?')])}}\n",
      "{'event': 'on_chat_model_start', 'name': 'ChatOpenAI', 'run_id': '2d9ccf59-3d78-42b1-8458-83a9c3479ef8', 'tags': ['seq:step:2'], 'metadata': {'langgraph_step': 2, 'langgraph_node': 'categorize_intent', 'ls_model_type': 'chat'}, 'data': {'input': {'messages': [[SystemMessage(content='You are a helpful assistant, you will analyze, translate and reformulate the user input message using the function provided'), HumanMessage(content='input: impact of ai?')]]}}}\n"
     ]
    },
    {
     "name": "stderr",
     "output_type": "stream",
     "text": [
      "INFO:httpx:HTTP Request: POST https://api.openai.com/v1/chat/completions \"HTTP/1.1 200 OK\"\n"
     ]
    },
    {
     "name": "stdout",
     "output_type": "stream",
     "text": [
      "{'event': 'on_chat_model_stream', 'name': 'ChatOpenAI', 'run_id': '2d9ccf59-3d78-42b1-8458-83a9c3479ef8', 'tags': ['seq:step:2'], 'metadata': {'langgraph_step': 2, 'langgraph_node': 'categorize_intent', 'ls_model_type': 'chat'}, 'data': {'chunk': AIMessageChunk(content='', additional_kwargs={'function_call': {'arguments': '', 'name': 'IntentCategorizer'}}, id='run-2d9ccf59-3d78-42b1-8458-83a9c3479ef8')}}\n",
      "{'event': 'on_chat_model_stream', 'name': 'ChatOpenAI', 'run_id': '2d9ccf59-3d78-42b1-8458-83a9c3479ef8', 'tags': ['seq:step:2'], 'metadata': {'langgraph_step': 2, 'langgraph_node': 'categorize_intent', 'ls_model_type': 'chat'}, 'data': {'chunk': AIMessageChunk(content='', additional_kwargs={'function_call': {'arguments': '{\"', 'name': ''}}, id='run-2d9ccf59-3d78-42b1-8458-83a9c3479ef8')}}\n",
      "{'event': 'on_chat_model_stream', 'name': 'ChatOpenAI', 'run_id': '2d9ccf59-3d78-42b1-8458-83a9c3479ef8', 'tags': ['seq:step:2'], 'metadata': {'langgraph_step': 2, 'langgraph_node': 'categorize_intent', 'ls_model_type': 'chat'}, 'data': {'chunk': AIMessageChunk(content='', additional_kwargs={'function_call': {'arguments': 'intent', 'name': ''}}, id='run-2d9ccf59-3d78-42b1-8458-83a9c3479ef8')}}\n",
      "{'event': 'on_chat_model_stream', 'name': 'ChatOpenAI', 'run_id': '2d9ccf59-3d78-42b1-8458-83a9c3479ef8', 'tags': ['seq:step:2'], 'metadata': {'langgraph_step': 2, 'langgraph_node': 'categorize_intent', 'ls_model_type': 'chat'}, 'data': {'chunk': AIMessageChunk(content='', additional_kwargs={'function_call': {'arguments': '\":\"', 'name': ''}}, id='run-2d9ccf59-3d78-42b1-8458-83a9c3479ef8')}}\n",
      "{'event': 'on_chat_model_stream', 'name': 'ChatOpenAI', 'run_id': '2d9ccf59-3d78-42b1-8458-83a9c3479ef8', 'tags': ['seq:step:2'], 'metadata': {'langgraph_step': 2, 'langgraph_node': 'categorize_intent', 'ls_model_type': 'chat'}, 'data': {'chunk': AIMessageChunk(content='', additional_kwargs={'function_call': {'arguments': 'ai', 'name': ''}}, id='run-2d9ccf59-3d78-42b1-8458-83a9c3479ef8')}}\n",
      "{'event': 'on_chat_model_stream', 'name': 'ChatOpenAI', 'run_id': '2d9ccf59-3d78-42b1-8458-83a9c3479ef8', 'tags': ['seq:step:2'], 'metadata': {'langgraph_step': 2, 'langgraph_node': 'categorize_intent', 'ls_model_type': 'chat'}, 'data': {'chunk': AIMessageChunk(content='', additional_kwargs={'function_call': {'arguments': '_imp', 'name': ''}}, id='run-2d9ccf59-3d78-42b1-8458-83a9c3479ef8')}}\n",
      "{'event': 'on_chat_model_stream', 'name': 'ChatOpenAI', 'run_id': '2d9ccf59-3d78-42b1-8458-83a9c3479ef8', 'tags': ['seq:step:2'], 'metadata': {'langgraph_step': 2, 'langgraph_node': 'categorize_intent', 'ls_model_type': 'chat'}, 'data': {'chunk': AIMessageChunk(content='', additional_kwargs={'function_call': {'arguments': 'act', 'name': ''}}, id='run-2d9ccf59-3d78-42b1-8458-83a9c3479ef8')}}\n",
      "{'event': 'on_chat_model_stream', 'name': 'ChatOpenAI', 'run_id': '2d9ccf59-3d78-42b1-8458-83a9c3479ef8', 'tags': ['seq:step:2'], 'metadata': {'langgraph_step': 2, 'langgraph_node': 'categorize_intent', 'ls_model_type': 'chat'}, 'data': {'chunk': AIMessageChunk(content='', additional_kwargs={'function_call': {'arguments': '\"}', 'name': ''}}, id='run-2d9ccf59-3d78-42b1-8458-83a9c3479ef8')}}\n",
      "{'event': 'on_chat_model_stream', 'name': 'ChatOpenAI', 'run_id': '2d9ccf59-3d78-42b1-8458-83a9c3479ef8', 'tags': ['seq:step:2'], 'metadata': {'langgraph_step': 2, 'langgraph_node': 'categorize_intent', 'ls_model_type': 'chat'}, 'data': {'chunk': AIMessageChunk(content='', response_metadata={'finish_reason': 'stop'}, id='run-2d9ccf59-3d78-42b1-8458-83a9c3479ef8')}}\n",
      "{'event': 'on_chat_model_end', 'name': 'ChatOpenAI', 'run_id': '2d9ccf59-3d78-42b1-8458-83a9c3479ef8', 'tags': ['seq:step:2'], 'metadata': {'langgraph_step': 2, 'langgraph_node': 'categorize_intent', 'ls_model_type': 'chat'}, 'data': {'input': {'messages': [[SystemMessage(content='You are a helpful assistant, you will analyze, translate and reformulate the user input message using the function provided'), HumanMessage(content='input: impact of ai?')]]}, 'output': {'generations': [[{'text': '', 'generation_info': {'finish_reason': 'stop'}, 'type': 'ChatGeneration', 'message': AIMessage(content='', additional_kwargs={'function_call': {'arguments': '{\"intent\":\"ai_impact\"}', 'name': 'IntentCategorizer'}}, response_metadata={'finish_reason': 'stop'}, id='run-2d9ccf59-3d78-42b1-8458-83a9c3479ef8')}]], 'llm_output': None, 'run': None}}}\n",
      "{'event': 'on_parser_start', 'name': 'JsonOutputFunctionsParser', 'run_id': 'bca6f5e6-2496-46bb-b94c-397c844977a0', 'tags': ['seq:step:3'], 'metadata': {'langgraph_step': 2, 'langgraph_node': 'categorize_intent'}, 'data': {'input': AIMessage(content='', additional_kwargs={'function_call': {'arguments': '{\"intent\":\"ai_impact\"}', 'name': 'IntentCategorizer'}}, response_metadata={'finish_reason': 'stop'}, id='run-2d9ccf59-3d78-42b1-8458-83a9c3479ef8')}}\n",
      "{'event': 'on_parser_end', 'name': 'JsonOutputFunctionsParser', 'run_id': 'bca6f5e6-2496-46bb-b94c-397c844977a0', 'tags': ['seq:step:3'], 'metadata': {'langgraph_step': 2, 'langgraph_node': 'categorize_intent'}, 'data': {'input': AIMessage(content='', additional_kwargs={'function_call': {'arguments': '{\"intent\":\"ai_impact\"}', 'name': 'IntentCategorizer'}}, response_metadata={'finish_reason': 'stop'}, id='run-2d9ccf59-3d78-42b1-8458-83a9c3479ef8'), 'output': {'intent': 'ai_impact'}}}\n",
      "{'event': 'on_chain_end', 'name': 'RunnableSequence', 'run_id': 'e5b8bbe4-eeb1-478a-a105-254d4f4a516b', 'tags': ['seq:step:1'], 'metadata': {'langgraph_step': 2, 'langgraph_node': 'categorize_intent'}, 'data': {'input': {'input': 'impact of ai?'}, 'output': {'intent': 'ai_impact'}}}\n",
      "{'event': 'on_chain_start', 'name': 'ChannelWrite<categorize_intent,user_input,language,intent,query,questions,answer,audience,sources_input,documents,recommended_content,graph_returned>', 'run_id': 'e89033a5-67a4-4ec1-813a-484d9192de38', 'tags': ['seq:step:2', 'langsmith:hidden'], 'metadata': {'langgraph_step': 2, 'langgraph_node': 'categorize_intent'}, 'data': {'input': {'intent': 'ai_impact', 'language': 'English', 'query': 'impact of ai?'}}}\n",
      "{'event': 'on_chain_end', 'name': 'ChannelWrite<categorize_intent,user_input,language,intent,query,questions,answer,audience,sources_input,documents,recommended_content,graph_returned>', 'run_id': 'e89033a5-67a4-4ec1-813a-484d9192de38', 'tags': ['seq:step:2', 'langsmith:hidden'], 'metadata': {'langgraph_step': 2, 'langgraph_node': 'categorize_intent'}, 'data': {'input': {'intent': 'ai_impact', 'language': 'English', 'query': 'impact of ai?'}, 'output': {'intent': 'ai_impact', 'language': 'English', 'query': 'impact of ai?'}}}\n",
      "{'event': 'on_chain_start', 'name': 'route_intent', 'run_id': '824d4a79-cc72-4068-ad0f-d0723e49af5d', 'tags': ['seq:step:3'], 'metadata': {'langgraph_step': 2, 'langgraph_node': 'categorize_intent'}, 'data': {'input': {'user_input': 'impact of ai?', 'language': 'English', 'intent': 'ai_impact', 'query': 'impact of ai?', 'audience': 'expert and climate scientists that are not afraid of technical terms', 'sources_input': ['auto']}}}\n",
      "{'event': 'on_chain_end', 'name': 'route_intent', 'run_id': '824d4a79-cc72-4068-ad0f-d0723e49af5d', 'tags': ['seq:step:3'], 'metadata': {'langgraph_step': 2, 'langgraph_node': 'categorize_intent'}, 'data': {'input': {'user_input': 'impact of ai?', 'language': 'English', 'intent': 'ai_impact', 'query': 'impact of ai?', 'audience': 'expert and climate scientists that are not afraid of technical terms', 'sources_input': ['auto']}, 'output': 'answer_ai_impact'}}\n",
      "{'event': 'on_chain_start', 'name': 'ChannelWrite<branch:categorize_intent:route_intent:answer_ai_impact>', 'run_id': '107efbf2-bde3-4722-83f6-cdba0b3efaf4', 'tags': ['seq:step:3', 'langsmith:hidden'], 'metadata': {'langgraph_step': 2, 'langgraph_node': 'categorize_intent'}, 'data': {'input': {'intent': 'ai_impact', 'language': 'English', 'query': 'impact of ai?'}}}\n",
      "{'event': 'on_chain_end', 'name': 'ChannelWrite<branch:categorize_intent:route_intent:answer_ai_impact>', 'run_id': '107efbf2-bde3-4722-83f6-cdba0b3efaf4', 'tags': ['seq:step:3', 'langsmith:hidden'], 'metadata': {'langgraph_step': 2, 'langgraph_node': 'categorize_intent'}, 'data': {'input': {'intent': 'ai_impact', 'language': 'English', 'query': 'impact of ai?'}, 'output': {'intent': 'ai_impact', 'language': 'English', 'query': 'impact of ai?'}}}\n",
      "{'event': 'on_chain_stream', 'name': 'categorize_intent', 'run_id': '66f31c85-1a4b-48b4-9e4f-ad884263809c', 'tags': ['graph:step:2'], 'metadata': {'langgraph_step': 2, 'langgraph_node': 'categorize_intent'}, 'data': {'chunk': {'intent': 'ai_impact', 'language': 'English', 'query': 'impact of ai?'}}}\n",
      "{'event': 'on_chain_end', 'name': 'categorize_intent', 'run_id': '66f31c85-1a4b-48b4-9e4f-ad884263809c', 'tags': ['graph:step:2'], 'metadata': {'langgraph_step': 2, 'langgraph_node': 'categorize_intent'}, 'data': {'input': {'user_input': 'impact of ai?', 'language': None, 'intent': None, 'query': None, 'questions': None, 'answer': None, 'audience': 'expert and climate scientists that are not afraid of technical terms', 'sources_input': ['auto'], 'documents': None, 'recommended_content': None, 'graph_returned': None}, 'output': {'intent': 'ai_impact', 'language': 'English', 'query': 'impact of ai?'}}}\n",
      "{'event': 'on_chain_stream', 'run_id': 'da753bb9-2339-4fc0-b1d7-86443019c4df', 'tags': [], 'metadata': {}, 'name': 'LangGraph', 'data': {'chunk': {'categorize_intent': {'language': 'English', 'intent': 'ai_impact', 'query': 'impact of ai?'}}}}\n",
      "{'event': 'on_chain_start', 'name': 'answer_ai_impact', 'run_id': '07ee7e5d-b2a1-4149-a7ee-8512df8fe31f', 'tags': ['graph:step:3'], 'metadata': {'langgraph_step': 3, 'langgraph_node': 'answer_ai_impact'}, 'data': {}}\n",
      "{'event': 'on_chain_start', 'name': 'ai_impact_chain', 'run_id': '421aeadf-3c89-4fde-95c1-fe5967773978', 'tags': ['seq:step:1'], 'metadata': {'langgraph_step': 3, 'langgraph_node': 'answer_ai_impact'}, 'data': {'input': {'question': 'impact of ai?'}}}\n",
      "{'event': 'on_prompt_start', 'name': 'ChatPromptTemplate', 'run_id': '113204c2-80d8-4e39-9397-3b7845991f57', 'tags': ['seq:step:1'], 'metadata': {'langgraph_step': 3, 'langgraph_node': 'answer_ai_impact'}, 'data': {'input': {'question': 'impact of ai?'}}}\n",
      "{'event': 'on_prompt_end', 'name': 'ChatPromptTemplate', 'run_id': '113204c2-80d8-4e39-9397-3b7845991f57', 'tags': ['seq:step:1'], 'metadata': {'langgraph_step': 3, 'langgraph_node': 'answer_ai_impact'}, 'data': {'input': {'question': 'impact of ai?'}, 'output': ChatPromptValue(messages=[SystemMessage(content=\"\\nYou are ClimateQ&A, an helpful AI Assistant specialized in answering climate-related questions using info from the IPCC and/or IPBES reports. \\nAlways stay true to climate and nature science and do not make up information. \\nIf you do not know the answer, just say you do not know.\\n\\n## Guidelines\\n- Explain that the environmental impact of AI is not covered by the IPCC or IPBES reports, but you can recommend info based on the sources below\\n- Answer the question in the original language of the question\\n\\n## Sources\\n- You can propose to visit this page https://climateqa.com/docs/carbon-footprint/ to learn more about ClimateQ&A's own carbon footprint\\n- You can recommend to look at the work of the AI & climate expert scientist Sasha Luccioni with in in particular those papers\\n    - Power Hungry Processing: Watts Driving the Cost of AI Deployment? - https://arxiv.org/abs/2311.16863 - about the carbon footprint at the inference stage of AI models\\n    - Counting Carbon: A Survey of Factors Influencing the Emissions of Machine Learning - https://arxiv.org/abs/2302.08476\\n    - Estimating the Carbon Footprint of BLOOM, a 176B Parameter Language Model - https://arxiv.org/abs/2211.02001 - about the carbon footprint of training a large language model \\n- You can also recommend the following tools to calculate the carbon footprint of AI models\\n    - CodeCarbon - https://github.com/mlco2/codecarbon to measure the carbon footprint of your code\\n    - Ecologits - https://ecologits.ai/ to measure the carbon footprint of using LLMs APIs such\\n\"), HumanMessage(content='impact of ai?')])}}\n",
      "{'event': 'on_chat_model_start', 'name': 'ChatOpenAI', 'run_id': 'db848c5f-43af-45e1-8b97-345044f399d6', 'tags': ['seq:step:2'], 'metadata': {'langgraph_step': 3, 'langgraph_node': 'answer_ai_impact', 'ls_model_type': 'chat'}, 'data': {'input': {'messages': [[SystemMessage(content=\"\\nYou are ClimateQ&A, an helpful AI Assistant specialized in answering climate-related questions using info from the IPCC and/or IPBES reports. \\nAlways stay true to climate and nature science and do not make up information. \\nIf you do not know the answer, just say you do not know.\\n\\n## Guidelines\\n- Explain that the environmental impact of AI is not covered by the IPCC or IPBES reports, but you can recommend info based on the sources below\\n- Answer the question in the original language of the question\\n\\n## Sources\\n- You can propose to visit this page https://climateqa.com/docs/carbon-footprint/ to learn more about ClimateQ&A's own carbon footprint\\n- You can recommend to look at the work of the AI & climate expert scientist Sasha Luccioni with in in particular those papers\\n    - Power Hungry Processing: Watts Driving the Cost of AI Deployment? - https://arxiv.org/abs/2311.16863 - about the carbon footprint at the inference stage of AI models\\n    - Counting Carbon: A Survey of Factors Influencing the Emissions of Machine Learning - https://arxiv.org/abs/2302.08476\\n    - Estimating the Carbon Footprint of BLOOM, a 176B Parameter Language Model - https://arxiv.org/abs/2211.02001 - about the carbon footprint of training a large language model \\n- You can also recommend the following tools to calculate the carbon footprint of AI models\\n    - CodeCarbon - https://github.com/mlco2/codecarbon to measure the carbon footprint of your code\\n    - Ecologits - https://ecologits.ai/ to measure the carbon footprint of using LLMs APIs such\\n\"), HumanMessage(content='impact of ai?')]]}}}\n"
     ]
    },
    {
     "name": "stderr",
     "output_type": "stream",
     "text": [
      "INFO:httpx:HTTP Request: POST https://api.openai.com/v1/chat/completions \"HTTP/1.1 200 OK\"\n"
     ]
    },
    {
     "name": "stdout",
     "output_type": "stream",
     "text": [
      "{'event': 'on_chat_model_stream', 'name': 'ChatOpenAI', 'run_id': 'db848c5f-43af-45e1-8b97-345044f399d6', 'tags': ['seq:step:2'], 'metadata': {'langgraph_step': 3, 'langgraph_node': 'answer_ai_impact', 'ls_model_type': 'chat'}, 'data': {'chunk': AIMessageChunk(content='', id='run-db848c5f-43af-45e1-8b97-345044f399d6')}}\n",
      "{'event': 'on_chat_model_stream', 'name': 'ChatOpenAI', 'run_id': 'db848c5f-43af-45e1-8b97-345044f399d6', 'tags': ['seq:step:2'], 'metadata': {'langgraph_step': 3, 'langgraph_node': 'answer_ai_impact', 'ls_model_type': 'chat'}, 'data': {'chunk': AIMessageChunk(content='The', id='run-db848c5f-43af-45e1-8b97-345044f399d6')}}\n",
      "{'event': 'on_chat_model_stream', 'name': 'ChatOpenAI', 'run_id': 'db848c5f-43af-45e1-8b97-345044f399d6', 'tags': ['seq:step:2'], 'metadata': {'langgraph_step': 3, 'langgraph_node': 'answer_ai_impact', 'ls_model_type': 'chat'}, 'data': {'chunk': AIMessageChunk(content=' environmental', id='run-db848c5f-43af-45e1-8b97-345044f399d6')}}\n",
      "{'event': 'on_chat_model_stream', 'name': 'ChatOpenAI', 'run_id': 'db848c5f-43af-45e1-8b97-345044f399d6', 'tags': ['seq:step:2'], 'metadata': {'langgraph_step': 3, 'langgraph_node': 'answer_ai_impact', 'ls_model_type': 'chat'}, 'data': {'chunk': AIMessageChunk(content=' impact', id='run-db848c5f-43af-45e1-8b97-345044f399d6')}}\n",
      "{'event': 'on_chat_model_stream', 'name': 'ChatOpenAI', 'run_id': 'db848c5f-43af-45e1-8b97-345044f399d6', 'tags': ['seq:step:2'], 'metadata': {'langgraph_step': 3, 'langgraph_node': 'answer_ai_impact', 'ls_model_type': 'chat'}, 'data': {'chunk': AIMessageChunk(content=' of', id='run-db848c5f-43af-45e1-8b97-345044f399d6')}}\n",
      "{'event': 'on_chat_model_stream', 'name': 'ChatOpenAI', 'run_id': 'db848c5f-43af-45e1-8b97-345044f399d6', 'tags': ['seq:step:2'], 'metadata': {'langgraph_step': 3, 'langgraph_node': 'answer_ai_impact', 'ls_model_type': 'chat'}, 'data': {'chunk': AIMessageChunk(content=' AI', id='run-db848c5f-43af-45e1-8b97-345044f399d6')}}\n",
      "{'event': 'on_chat_model_stream', 'name': 'ChatOpenAI', 'run_id': 'db848c5f-43af-45e1-8b97-345044f399d6', 'tags': ['seq:step:2'], 'metadata': {'langgraph_step': 3, 'langgraph_node': 'answer_ai_impact', 'ls_model_type': 'chat'}, 'data': {'chunk': AIMessageChunk(content=' is', id='run-db848c5f-43af-45e1-8b97-345044f399d6')}}\n",
      "{'event': 'on_chat_model_stream', 'name': 'ChatOpenAI', 'run_id': 'db848c5f-43af-45e1-8b97-345044f399d6', 'tags': ['seq:step:2'], 'metadata': {'langgraph_step': 3, 'langgraph_node': 'answer_ai_impact', 'ls_model_type': 'chat'}, 'data': {'chunk': AIMessageChunk(content=' not', id='run-db848c5f-43af-45e1-8b97-345044f399d6')}}\n",
      "{'event': 'on_chat_model_stream', 'name': 'ChatOpenAI', 'run_id': 'db848c5f-43af-45e1-8b97-345044f399d6', 'tags': ['seq:step:2'], 'metadata': {'langgraph_step': 3, 'langgraph_node': 'answer_ai_impact', 'ls_model_type': 'chat'}, 'data': {'chunk': AIMessageChunk(content=' covered', id='run-db848c5f-43af-45e1-8b97-345044f399d6')}}\n",
      "{'event': 'on_chat_model_stream', 'name': 'ChatOpenAI', 'run_id': 'db848c5f-43af-45e1-8b97-345044f399d6', 'tags': ['seq:step:2'], 'metadata': {'langgraph_step': 3, 'langgraph_node': 'answer_ai_impact', 'ls_model_type': 'chat'}, 'data': {'chunk': AIMessageChunk(content=' by', id='run-db848c5f-43af-45e1-8b97-345044f399d6')}}\n",
      "{'event': 'on_chat_model_stream', 'name': 'ChatOpenAI', 'run_id': 'db848c5f-43af-45e1-8b97-345044f399d6', 'tags': ['seq:step:2'], 'metadata': {'langgraph_step': 3, 'langgraph_node': 'answer_ai_impact', 'ls_model_type': 'chat'}, 'data': {'chunk': AIMessageChunk(content=' the', id='run-db848c5f-43af-45e1-8b97-345044f399d6')}}\n",
      "{'event': 'on_chat_model_stream', 'name': 'ChatOpenAI', 'run_id': 'db848c5f-43af-45e1-8b97-345044f399d6', 'tags': ['seq:step:2'], 'metadata': {'langgraph_step': 3, 'langgraph_node': 'answer_ai_impact', 'ls_model_type': 'chat'}, 'data': {'chunk': AIMessageChunk(content=' IPCC', id='run-db848c5f-43af-45e1-8b97-345044f399d6')}}\n",
      "{'event': 'on_chat_model_stream', 'name': 'ChatOpenAI', 'run_id': 'db848c5f-43af-45e1-8b97-345044f399d6', 'tags': ['seq:step:2'], 'metadata': {'langgraph_step': 3, 'langgraph_node': 'answer_ai_impact', 'ls_model_type': 'chat'}, 'data': {'chunk': AIMessageChunk(content=' or', id='run-db848c5f-43af-45e1-8b97-345044f399d6')}}\n",
      "{'event': 'on_chat_model_stream', 'name': 'ChatOpenAI', 'run_id': 'db848c5f-43af-45e1-8b97-345044f399d6', 'tags': ['seq:step:2'], 'metadata': {'langgraph_step': 3, 'langgraph_node': 'answer_ai_impact', 'ls_model_type': 'chat'}, 'data': {'chunk': AIMessageChunk(content=' IP', id='run-db848c5f-43af-45e1-8b97-345044f399d6')}}\n",
      "{'event': 'on_chat_model_stream', 'name': 'ChatOpenAI', 'run_id': 'db848c5f-43af-45e1-8b97-345044f399d6', 'tags': ['seq:step:2'], 'metadata': {'langgraph_step': 3, 'langgraph_node': 'answer_ai_impact', 'ls_model_type': 'chat'}, 'data': {'chunk': AIMessageChunk(content='B', id='run-db848c5f-43af-45e1-8b97-345044f399d6')}}\n",
      "{'event': 'on_chat_model_stream', 'name': 'ChatOpenAI', 'run_id': 'db848c5f-43af-45e1-8b97-345044f399d6', 'tags': ['seq:step:2'], 'metadata': {'langgraph_step': 3, 'langgraph_node': 'answer_ai_impact', 'ls_model_type': 'chat'}, 'data': {'chunk': AIMessageChunk(content='ES', id='run-db848c5f-43af-45e1-8b97-345044f399d6')}}\n",
      "{'event': 'on_chat_model_stream', 'name': 'ChatOpenAI', 'run_id': 'db848c5f-43af-45e1-8b97-345044f399d6', 'tags': ['seq:step:2'], 'metadata': {'langgraph_step': 3, 'langgraph_node': 'answer_ai_impact', 'ls_model_type': 'chat'}, 'data': {'chunk': AIMessageChunk(content=' reports', id='run-db848c5f-43af-45e1-8b97-345044f399d6')}}\n",
      "{'event': 'on_chat_model_stream', 'name': 'ChatOpenAI', 'run_id': 'db848c5f-43af-45e1-8b97-345044f399d6', 'tags': ['seq:step:2'], 'metadata': {'langgraph_step': 3, 'langgraph_node': 'answer_ai_impact', 'ls_model_type': 'chat'}, 'data': {'chunk': AIMessageChunk(content='.', id='run-db848c5f-43af-45e1-8b97-345044f399d6')}}\n",
      "{'event': 'on_chat_model_stream', 'name': 'ChatOpenAI', 'run_id': 'db848c5f-43af-45e1-8b97-345044f399d6', 'tags': ['seq:step:2'], 'metadata': {'langgraph_step': 3, 'langgraph_node': 'answer_ai_impact', 'ls_model_type': 'chat'}, 'data': {'chunk': AIMessageChunk(content=' However', id='run-db848c5f-43af-45e1-8b97-345044f399d6')}}\n",
      "{'event': 'on_chat_model_stream', 'name': 'ChatOpenAI', 'run_id': 'db848c5f-43af-45e1-8b97-345044f399d6', 'tags': ['seq:step:2'], 'metadata': {'langgraph_step': 3, 'langgraph_node': 'answer_ai_impact', 'ls_model_type': 'chat'}, 'data': {'chunk': AIMessageChunk(content=',', id='run-db848c5f-43af-45e1-8b97-345044f399d6')}}\n",
      "{'event': 'on_chat_model_stream', 'name': 'ChatOpenAI', 'run_id': 'db848c5f-43af-45e1-8b97-345044f399d6', 'tags': ['seq:step:2'], 'metadata': {'langgraph_step': 3, 'langgraph_node': 'answer_ai_impact', 'ls_model_type': 'chat'}, 'data': {'chunk': AIMessageChunk(content=' there', id='run-db848c5f-43af-45e1-8b97-345044f399d6')}}\n",
      "{'event': 'on_chat_model_stream', 'name': 'ChatOpenAI', 'run_id': 'db848c5f-43af-45e1-8b97-345044f399d6', 'tags': ['seq:step:2'], 'metadata': {'langgraph_step': 3, 'langgraph_node': 'answer_ai_impact', 'ls_model_type': 'chat'}, 'data': {'chunk': AIMessageChunk(content=' are', id='run-db848c5f-43af-45e1-8b97-345044f399d6')}}\n",
      "{'event': 'on_chat_model_stream', 'name': 'ChatOpenAI', 'run_id': 'db848c5f-43af-45e1-8b97-345044f399d6', 'tags': ['seq:step:2'], 'metadata': {'langgraph_step': 3, 'langgraph_node': 'answer_ai_impact', 'ls_model_type': 'chat'}, 'data': {'chunk': AIMessageChunk(content=' studies', id='run-db848c5f-43af-45e1-8b97-345044f399d6')}}\n",
      "{'event': 'on_chat_model_stream', 'name': 'ChatOpenAI', 'run_id': 'db848c5f-43af-45e1-8b97-345044f399d6', 'tags': ['seq:step:2'], 'metadata': {'langgraph_step': 3, 'langgraph_node': 'answer_ai_impact', 'ls_model_type': 'chat'}, 'data': {'chunk': AIMessageChunk(content=' and', id='run-db848c5f-43af-45e1-8b97-345044f399d6')}}\n",
      "{'event': 'on_chat_model_stream', 'name': 'ChatOpenAI', 'run_id': 'db848c5f-43af-45e1-8b97-345044f399d6', 'tags': ['seq:step:2'], 'metadata': {'langgraph_step': 3, 'langgraph_node': 'answer_ai_impact', 'ls_model_type': 'chat'}, 'data': {'chunk': AIMessageChunk(content=' tools', id='run-db848c5f-43af-45e1-8b97-345044f399d6')}}\n",
      "{'event': 'on_chat_model_stream', 'name': 'ChatOpenAI', 'run_id': 'db848c5f-43af-45e1-8b97-345044f399d6', 'tags': ['seq:step:2'], 'metadata': {'langgraph_step': 3, 'langgraph_node': 'answer_ai_impact', 'ls_model_type': 'chat'}, 'data': {'chunk': AIMessageChunk(content=' available', id='run-db848c5f-43af-45e1-8b97-345044f399d6')}}\n",
      "{'event': 'on_chat_model_stream', 'name': 'ChatOpenAI', 'run_id': 'db848c5f-43af-45e1-8b97-345044f399d6', 'tags': ['seq:step:2'], 'metadata': {'langgraph_step': 3, 'langgraph_node': 'answer_ai_impact', 'ls_model_type': 'chat'}, 'data': {'chunk': AIMessageChunk(content=' that', id='run-db848c5f-43af-45e1-8b97-345044f399d6')}}\n",
      "{'event': 'on_chat_model_stream', 'name': 'ChatOpenAI', 'run_id': 'db848c5f-43af-45e1-8b97-345044f399d6', 'tags': ['seq:step:2'], 'metadata': {'langgraph_step': 3, 'langgraph_node': 'answer_ai_impact', 'ls_model_type': 'chat'}, 'data': {'chunk': AIMessageChunk(content=' can', id='run-db848c5f-43af-45e1-8b97-345044f399d6')}}\n",
      "{'event': 'on_chat_model_stream', 'name': 'ChatOpenAI', 'run_id': 'db848c5f-43af-45e1-8b97-345044f399d6', 'tags': ['seq:step:2'], 'metadata': {'langgraph_step': 3, 'langgraph_node': 'answer_ai_impact', 'ls_model_type': 'chat'}, 'data': {'chunk': AIMessageChunk(content=' help', id='run-db848c5f-43af-45e1-8b97-345044f399d6')}}\n",
      "{'event': 'on_chat_model_stream', 'name': 'ChatOpenAI', 'run_id': 'db848c5f-43af-45e1-8b97-345044f399d6', 'tags': ['seq:step:2'], 'metadata': {'langgraph_step': 3, 'langgraph_node': 'answer_ai_impact', 'ls_model_type': 'chat'}, 'data': {'chunk': AIMessageChunk(content=' understand', id='run-db848c5f-43af-45e1-8b97-345044f399d6')}}\n",
      "{'event': 'on_chat_model_stream', 'name': 'ChatOpenAI', 'run_id': 'db848c5f-43af-45e1-8b97-345044f399d6', 'tags': ['seq:step:2'], 'metadata': {'langgraph_step': 3, 'langgraph_node': 'answer_ai_impact', 'ls_model_type': 'chat'}, 'data': {'chunk': AIMessageChunk(content=' the', id='run-db848c5f-43af-45e1-8b97-345044f399d6')}}\n",
      "{'event': 'on_chat_model_stream', 'name': 'ChatOpenAI', 'run_id': 'db848c5f-43af-45e1-8b97-345044f399d6', 'tags': ['seq:step:2'], 'metadata': {'langgraph_step': 3, 'langgraph_node': 'answer_ai_impact', 'ls_model_type': 'chat'}, 'data': {'chunk': AIMessageChunk(content=' carbon', id='run-db848c5f-43af-45e1-8b97-345044f399d6')}}\n",
      "{'event': 'on_chat_model_stream', 'name': 'ChatOpenAI', 'run_id': 'db848c5f-43af-45e1-8b97-345044f399d6', 'tags': ['seq:step:2'], 'metadata': {'langgraph_step': 3, 'langgraph_node': 'answer_ai_impact', 'ls_model_type': 'chat'}, 'data': {'chunk': AIMessageChunk(content=' footprint', id='run-db848c5f-43af-45e1-8b97-345044f399d6')}}\n",
      "{'event': 'on_chat_model_stream', 'name': 'ChatOpenAI', 'run_id': 'db848c5f-43af-45e1-8b97-345044f399d6', 'tags': ['seq:step:2'], 'metadata': {'langgraph_step': 3, 'langgraph_node': 'answer_ai_impact', 'ls_model_type': 'chat'}, 'data': {'chunk': AIMessageChunk(content=' of', id='run-db848c5f-43af-45e1-8b97-345044f399d6')}}\n",
      "{'event': 'on_chat_model_stream', 'name': 'ChatOpenAI', 'run_id': 'db848c5f-43af-45e1-8b97-345044f399d6', 'tags': ['seq:step:2'], 'metadata': {'langgraph_step': 3, 'langgraph_node': 'answer_ai_impact', 'ls_model_type': 'chat'}, 'data': {'chunk': AIMessageChunk(content=' AI', id='run-db848c5f-43af-45e1-8b97-345044f399d6')}}\n",
      "{'event': 'on_chat_model_stream', 'name': 'ChatOpenAI', 'run_id': 'db848c5f-43af-45e1-8b97-345044f399d6', 'tags': ['seq:step:2'], 'metadata': {'langgraph_step': 3, 'langgraph_node': 'answer_ai_impact', 'ls_model_type': 'chat'}, 'data': {'chunk': AIMessageChunk(content=' models', id='run-db848c5f-43af-45e1-8b97-345044f399d6')}}\n",
      "{'event': 'on_chat_model_stream', 'name': 'ChatOpenAI', 'run_id': 'db848c5f-43af-45e1-8b97-345044f399d6', 'tags': ['seq:step:2'], 'metadata': {'langgraph_step': 3, 'langgraph_node': 'answer_ai_impact', 'ls_model_type': 'chat'}, 'data': {'chunk': AIMessageChunk(content='.', id='run-db848c5f-43af-45e1-8b97-345044f399d6')}}\n",
      "{'event': 'on_chat_model_stream', 'name': 'ChatOpenAI', 'run_id': 'db848c5f-43af-45e1-8b97-345044f399d6', 'tags': ['seq:step:2'], 'metadata': {'langgraph_step': 3, 'langgraph_node': 'answer_ai_impact', 'ls_model_type': 'chat'}, 'data': {'chunk': AIMessageChunk(content=' \\n\\n', id='run-db848c5f-43af-45e1-8b97-345044f399d6')}}\n",
      "{'event': 'on_chat_model_stream', 'name': 'ChatOpenAI', 'run_id': 'db848c5f-43af-45e1-8b97-345044f399d6', 'tags': ['seq:step:2'], 'metadata': {'langgraph_step': 3, 'langgraph_node': 'answer_ai_impact', 'ls_model_type': 'chat'}, 'data': {'chunk': AIMessageChunk(content='For', id='run-db848c5f-43af-45e1-8b97-345044f399d6')}}\n",
      "{'event': 'on_chat_model_stream', 'name': 'ChatOpenAI', 'run_id': 'db848c5f-43af-45e1-8b97-345044f399d6', 'tags': ['seq:step:2'], 'metadata': {'langgraph_step': 3, 'langgraph_node': 'answer_ai_impact', 'ls_model_type': 'chat'}, 'data': {'chunk': AIMessageChunk(content=' more', id='run-db848c5f-43af-45e1-8b97-345044f399d6')}}\n",
      "{'event': 'on_chat_model_stream', 'name': 'ChatOpenAI', 'run_id': 'db848c5f-43af-45e1-8b97-345044f399d6', 'tags': ['seq:step:2'], 'metadata': {'langgraph_step': 3, 'langgraph_node': 'answer_ai_impact', 'ls_model_type': 'chat'}, 'data': {'chunk': AIMessageChunk(content=' information', id='run-db848c5f-43af-45e1-8b97-345044f399d6')}}\n",
      "{'event': 'on_chat_model_stream', 'name': 'ChatOpenAI', 'run_id': 'db848c5f-43af-45e1-8b97-345044f399d6', 'tags': ['seq:step:2'], 'metadata': {'langgraph_step': 3, 'langgraph_node': 'answer_ai_impact', 'ls_model_type': 'chat'}, 'data': {'chunk': AIMessageChunk(content=' on', id='run-db848c5f-43af-45e1-8b97-345044f399d6')}}\n",
      "{'event': 'on_chat_model_stream', 'name': 'ChatOpenAI', 'run_id': 'db848c5f-43af-45e1-8b97-345044f399d6', 'tags': ['seq:step:2'], 'metadata': {'langgraph_step': 3, 'langgraph_node': 'answer_ai_impact', 'ls_model_type': 'chat'}, 'data': {'chunk': AIMessageChunk(content=' the', id='run-db848c5f-43af-45e1-8b97-345044f399d6')}}\n",
      "{'event': 'on_chat_model_stream', 'name': 'ChatOpenAI', 'run_id': 'db848c5f-43af-45e1-8b97-345044f399d6', 'tags': ['seq:step:2'], 'metadata': {'langgraph_step': 3, 'langgraph_node': 'answer_ai_impact', 'ls_model_type': 'chat'}, 'data': {'chunk': AIMessageChunk(content=' carbon', id='run-db848c5f-43af-45e1-8b97-345044f399d6')}}\n",
      "{'event': 'on_chat_model_stream', 'name': 'ChatOpenAI', 'run_id': 'db848c5f-43af-45e1-8b97-345044f399d6', 'tags': ['seq:step:2'], 'metadata': {'langgraph_step': 3, 'langgraph_node': 'answer_ai_impact', 'ls_model_type': 'chat'}, 'data': {'chunk': AIMessageChunk(content=' footprint', id='run-db848c5f-43af-45e1-8b97-345044f399d6')}}\n",
      "{'event': 'on_chat_model_stream', 'name': 'ChatOpenAI', 'run_id': 'db848c5f-43af-45e1-8b97-345044f399d6', 'tags': ['seq:step:2'], 'metadata': {'langgraph_step': 3, 'langgraph_node': 'answer_ai_impact', 'ls_model_type': 'chat'}, 'data': {'chunk': AIMessageChunk(content=' of', id='run-db848c5f-43af-45e1-8b97-345044f399d6')}}\n",
      "{'event': 'on_chat_model_stream', 'name': 'ChatOpenAI', 'run_id': 'db848c5f-43af-45e1-8b97-345044f399d6', 'tags': ['seq:step:2'], 'metadata': {'langgraph_step': 3, 'langgraph_node': 'answer_ai_impact', 'ls_model_type': 'chat'}, 'data': {'chunk': AIMessageChunk(content=' AI', id='run-db848c5f-43af-45e1-8b97-345044f399d6')}}\n",
      "{'event': 'on_chat_model_stream', 'name': 'ChatOpenAI', 'run_id': 'db848c5f-43af-45e1-8b97-345044f399d6', 'tags': ['seq:step:2'], 'metadata': {'langgraph_step': 3, 'langgraph_node': 'answer_ai_impact', 'ls_model_type': 'chat'}, 'data': {'chunk': AIMessageChunk(content=' models', id='run-db848c5f-43af-45e1-8b97-345044f399d6')}}\n",
      "{'event': 'on_chat_model_stream', 'name': 'ChatOpenAI', 'run_id': 'db848c5f-43af-45e1-8b97-345044f399d6', 'tags': ['seq:step:2'], 'metadata': {'langgraph_step': 3, 'langgraph_node': 'answer_ai_impact', 'ls_model_type': 'chat'}, 'data': {'chunk': AIMessageChunk(content=',', id='run-db848c5f-43af-45e1-8b97-345044f399d6')}}\n",
      "{'event': 'on_chat_model_stream', 'name': 'ChatOpenAI', 'run_id': 'db848c5f-43af-45e1-8b97-345044f399d6', 'tags': ['seq:step:2'], 'metadata': {'langgraph_step': 3, 'langgraph_node': 'answer_ai_impact', 'ls_model_type': 'chat'}, 'data': {'chunk': AIMessageChunk(content=' you', id='run-db848c5f-43af-45e1-8b97-345044f399d6')}}\n",
      "{'event': 'on_chat_model_stream', 'name': 'ChatOpenAI', 'run_id': 'db848c5f-43af-45e1-8b97-345044f399d6', 'tags': ['seq:step:2'], 'metadata': {'langgraph_step': 3, 'langgraph_node': 'answer_ai_impact', 'ls_model_type': 'chat'}, 'data': {'chunk': AIMessageChunk(content=' can', id='run-db848c5f-43af-45e1-8b97-345044f399d6')}}\n",
      "{'event': 'on_chat_model_stream', 'name': 'ChatOpenAI', 'run_id': 'db848c5f-43af-45e1-8b97-345044f399d6', 'tags': ['seq:step:2'], 'metadata': {'langgraph_step': 3, 'langgraph_node': 'answer_ai_impact', 'ls_model_type': 'chat'}, 'data': {'chunk': AIMessageChunk(content=' visit', id='run-db848c5f-43af-45e1-8b97-345044f399d6')}}\n",
      "{'event': 'on_chat_model_stream', 'name': 'ChatOpenAI', 'run_id': 'db848c5f-43af-45e1-8b97-345044f399d6', 'tags': ['seq:step:2'], 'metadata': {'langgraph_step': 3, 'langgraph_node': 'answer_ai_impact', 'ls_model_type': 'chat'}, 'data': {'chunk': AIMessageChunk(content=' this', id='run-db848c5f-43af-45e1-8b97-345044f399d6')}}\n",
      "{'event': 'on_chat_model_stream', 'name': 'ChatOpenAI', 'run_id': 'db848c5f-43af-45e1-8b97-345044f399d6', 'tags': ['seq:step:2'], 'metadata': {'langgraph_step': 3, 'langgraph_node': 'answer_ai_impact', 'ls_model_type': 'chat'}, 'data': {'chunk': AIMessageChunk(content=' page', id='run-db848c5f-43af-45e1-8b97-345044f399d6')}}\n",
      "{'event': 'on_chat_model_stream', 'name': 'ChatOpenAI', 'run_id': 'db848c5f-43af-45e1-8b97-345044f399d6', 'tags': ['seq:step:2'], 'metadata': {'langgraph_step': 3, 'langgraph_node': 'answer_ai_impact', 'ls_model_type': 'chat'}, 'data': {'chunk': AIMessageChunk(content=':', id='run-db848c5f-43af-45e1-8b97-345044f399d6')}}\n",
      "{'event': 'on_chat_model_stream', 'name': 'ChatOpenAI', 'run_id': 'db848c5f-43af-45e1-8b97-345044f399d6', 'tags': ['seq:step:2'], 'metadata': {'langgraph_step': 3, 'langgraph_node': 'answer_ai_impact', 'ls_model_type': 'chat'}, 'data': {'chunk': AIMessageChunk(content=' [', id='run-db848c5f-43af-45e1-8b97-345044f399d6')}}\n",
      "{'event': 'on_chat_model_stream', 'name': 'ChatOpenAI', 'run_id': 'db848c5f-43af-45e1-8b97-345044f399d6', 'tags': ['seq:step:2'], 'metadata': {'langgraph_step': 3, 'langgraph_node': 'answer_ai_impact', 'ls_model_type': 'chat'}, 'data': {'chunk': AIMessageChunk(content='Climate', id='run-db848c5f-43af-45e1-8b97-345044f399d6')}}\n",
      "{'event': 'on_chat_model_stream', 'name': 'ChatOpenAI', 'run_id': 'db848c5f-43af-45e1-8b97-345044f399d6', 'tags': ['seq:step:2'], 'metadata': {'langgraph_step': 3, 'langgraph_node': 'answer_ai_impact', 'ls_model_type': 'chat'}, 'data': {'chunk': AIMessageChunk(content='Q', id='run-db848c5f-43af-45e1-8b97-345044f399d6')}}\n",
      "{'event': 'on_chat_model_stream', 'name': 'ChatOpenAI', 'run_id': 'db848c5f-43af-45e1-8b97-345044f399d6', 'tags': ['seq:step:2'], 'metadata': {'langgraph_step': 3, 'langgraph_node': 'answer_ai_impact', 'ls_model_type': 'chat'}, 'data': {'chunk': AIMessageChunk(content='&A', id='run-db848c5f-43af-45e1-8b97-345044f399d6')}}\n",
      "{'event': 'on_chat_model_stream', 'name': 'ChatOpenAI', 'run_id': 'db848c5f-43af-45e1-8b97-345044f399d6', 'tags': ['seq:step:2'], 'metadata': {'langgraph_step': 3, 'langgraph_node': 'answer_ai_impact', 'ls_model_type': 'chat'}, 'data': {'chunk': AIMessageChunk(content=\"'s\", id='run-db848c5f-43af-45e1-8b97-345044f399d6')}}\n",
      "{'event': 'on_chat_model_stream', 'name': 'ChatOpenAI', 'run_id': 'db848c5f-43af-45e1-8b97-345044f399d6', 'tags': ['seq:step:2'], 'metadata': {'langgraph_step': 3, 'langgraph_node': 'answer_ai_impact', 'ls_model_type': 'chat'}, 'data': {'chunk': AIMessageChunk(content=' own', id='run-db848c5f-43af-45e1-8b97-345044f399d6')}}\n",
      "{'event': 'on_chat_model_stream', 'name': 'ChatOpenAI', 'run_id': 'db848c5f-43af-45e1-8b97-345044f399d6', 'tags': ['seq:step:2'], 'metadata': {'langgraph_step': 3, 'langgraph_node': 'answer_ai_impact', 'ls_model_type': 'chat'}, 'data': {'chunk': AIMessageChunk(content=' carbon', id='run-db848c5f-43af-45e1-8b97-345044f399d6')}}\n",
      "{'event': 'on_chat_model_stream', 'name': 'ChatOpenAI', 'run_id': 'db848c5f-43af-45e1-8b97-345044f399d6', 'tags': ['seq:step:2'], 'metadata': {'langgraph_step': 3, 'langgraph_node': 'answer_ai_impact', 'ls_model_type': 'chat'}, 'data': {'chunk': AIMessageChunk(content=' footprint', id='run-db848c5f-43af-45e1-8b97-345044f399d6')}}\n",
      "{'event': 'on_chat_model_stream', 'name': 'ChatOpenAI', 'run_id': 'db848c5f-43af-45e1-8b97-345044f399d6', 'tags': ['seq:step:2'], 'metadata': {'langgraph_step': 3, 'langgraph_node': 'answer_ai_impact', 'ls_model_type': 'chat'}, 'data': {'chunk': AIMessageChunk(content='](', id='run-db848c5f-43af-45e1-8b97-345044f399d6')}}\n",
      "{'event': 'on_chat_model_stream', 'name': 'ChatOpenAI', 'run_id': 'db848c5f-43af-45e1-8b97-345044f399d6', 'tags': ['seq:step:2'], 'metadata': {'langgraph_step': 3, 'langgraph_node': 'answer_ai_impact', 'ls_model_type': 'chat'}, 'data': {'chunk': AIMessageChunk(content='https', id='run-db848c5f-43af-45e1-8b97-345044f399d6')}}\n",
      "{'event': 'on_chat_model_stream', 'name': 'ChatOpenAI', 'run_id': 'db848c5f-43af-45e1-8b97-345044f399d6', 'tags': ['seq:step:2'], 'metadata': {'langgraph_step': 3, 'langgraph_node': 'answer_ai_impact', 'ls_model_type': 'chat'}, 'data': {'chunk': AIMessageChunk(content='://', id='run-db848c5f-43af-45e1-8b97-345044f399d6')}}\n",
      "{'event': 'on_chat_model_stream', 'name': 'ChatOpenAI', 'run_id': 'db848c5f-43af-45e1-8b97-345044f399d6', 'tags': ['seq:step:2'], 'metadata': {'langgraph_step': 3, 'langgraph_node': 'answer_ai_impact', 'ls_model_type': 'chat'}, 'data': {'chunk': AIMessageChunk(content='climate', id='run-db848c5f-43af-45e1-8b97-345044f399d6')}}\n",
      "{'event': 'on_chat_model_stream', 'name': 'ChatOpenAI', 'run_id': 'db848c5f-43af-45e1-8b97-345044f399d6', 'tags': ['seq:step:2'], 'metadata': {'langgraph_step': 3, 'langgraph_node': 'answer_ai_impact', 'ls_model_type': 'chat'}, 'data': {'chunk': AIMessageChunk(content='qa', id='run-db848c5f-43af-45e1-8b97-345044f399d6')}}\n",
      "{'event': 'on_chat_model_stream', 'name': 'ChatOpenAI', 'run_id': 'db848c5f-43af-45e1-8b97-345044f399d6', 'tags': ['seq:step:2'], 'metadata': {'langgraph_step': 3, 'langgraph_node': 'answer_ai_impact', 'ls_model_type': 'chat'}, 'data': {'chunk': AIMessageChunk(content='.com', id='run-db848c5f-43af-45e1-8b97-345044f399d6')}}\n",
      "{'event': 'on_chat_model_stream', 'name': 'ChatOpenAI', 'run_id': 'db848c5f-43af-45e1-8b97-345044f399d6', 'tags': ['seq:step:2'], 'metadata': {'langgraph_step': 3, 'langgraph_node': 'answer_ai_impact', 'ls_model_type': 'chat'}, 'data': {'chunk': AIMessageChunk(content='/docs', id='run-db848c5f-43af-45e1-8b97-345044f399d6')}}\n",
      "{'event': 'on_chat_model_stream', 'name': 'ChatOpenAI', 'run_id': 'db848c5f-43af-45e1-8b97-345044f399d6', 'tags': ['seq:step:2'], 'metadata': {'langgraph_step': 3, 'langgraph_node': 'answer_ai_impact', 'ls_model_type': 'chat'}, 'data': {'chunk': AIMessageChunk(content='/c', id='run-db848c5f-43af-45e1-8b97-345044f399d6')}}\n",
      "{'event': 'on_chat_model_stream', 'name': 'ChatOpenAI', 'run_id': 'db848c5f-43af-45e1-8b97-345044f399d6', 'tags': ['seq:step:2'], 'metadata': {'langgraph_step': 3, 'langgraph_node': 'answer_ai_impact', 'ls_model_type': 'chat'}, 'data': {'chunk': AIMessageChunk(content='arbon', id='run-db848c5f-43af-45e1-8b97-345044f399d6')}}\n",
      "{'event': 'on_chat_model_stream', 'name': 'ChatOpenAI', 'run_id': 'db848c5f-43af-45e1-8b97-345044f399d6', 'tags': ['seq:step:2'], 'metadata': {'langgraph_step': 3, 'langgraph_node': 'answer_ai_impact', 'ls_model_type': 'chat'}, 'data': {'chunk': AIMessageChunk(content='-foot', id='run-db848c5f-43af-45e1-8b97-345044f399d6')}}\n",
      "{'event': 'on_chat_model_stream', 'name': 'ChatOpenAI', 'run_id': 'db848c5f-43af-45e1-8b97-345044f399d6', 'tags': ['seq:step:2'], 'metadata': {'langgraph_step': 3, 'langgraph_node': 'answer_ai_impact', 'ls_model_type': 'chat'}, 'data': {'chunk': AIMessageChunk(content='print', id='run-db848c5f-43af-45e1-8b97-345044f399d6')}}\n",
      "{'event': 'on_chat_model_stream', 'name': 'ChatOpenAI', 'run_id': 'db848c5f-43af-45e1-8b97-345044f399d6', 'tags': ['seq:step:2'], 'metadata': {'langgraph_step': 3, 'langgraph_node': 'answer_ai_impact', 'ls_model_type': 'chat'}, 'data': {'chunk': AIMessageChunk(content='/', id='run-db848c5f-43af-45e1-8b97-345044f399d6')}}\n",
      "{'event': 'on_chat_model_stream', 'name': 'ChatOpenAI', 'run_id': 'db848c5f-43af-45e1-8b97-345044f399d6', 'tags': ['seq:step:2'], 'metadata': {'langgraph_step': 3, 'langgraph_node': 'answer_ai_impact', 'ls_model_type': 'chat'}, 'data': {'chunk': AIMessageChunk(content=').\\n\\n', id='run-db848c5f-43af-45e1-8b97-345044f399d6')}}\n",
      "{'event': 'on_chat_model_stream', 'name': 'ChatOpenAI', 'run_id': 'db848c5f-43af-45e1-8b97-345044f399d6', 'tags': ['seq:step:2'], 'metadata': {'langgraph_step': 3, 'langgraph_node': 'answer_ai_impact', 'ls_model_type': 'chat'}, 'data': {'chunk': AIMessageChunk(content='Additionally', id='run-db848c5f-43af-45e1-8b97-345044f399d6')}}\n",
      "{'event': 'on_chat_model_stream', 'name': 'ChatOpenAI', 'run_id': 'db848c5f-43af-45e1-8b97-345044f399d6', 'tags': ['seq:step:2'], 'metadata': {'langgraph_step': 3, 'langgraph_node': 'answer_ai_impact', 'ls_model_type': 'chat'}, 'data': {'chunk': AIMessageChunk(content=',', id='run-db848c5f-43af-45e1-8b97-345044f399d6')}}\n",
      "{'event': 'on_chat_model_stream', 'name': 'ChatOpenAI', 'run_id': 'db848c5f-43af-45e1-8b97-345044f399d6', 'tags': ['seq:step:2'], 'metadata': {'langgraph_step': 3, 'langgraph_node': 'answer_ai_impact', 'ls_model_type': 'chat'}, 'data': {'chunk': AIMessageChunk(content=' you', id='run-db848c5f-43af-45e1-8b97-345044f399d6')}}\n",
      "{'event': 'on_chat_model_stream', 'name': 'ChatOpenAI', 'run_id': 'db848c5f-43af-45e1-8b97-345044f399d6', 'tags': ['seq:step:2'], 'metadata': {'langgraph_step': 3, 'langgraph_node': 'answer_ai_impact', 'ls_model_type': 'chat'}, 'data': {'chunk': AIMessageChunk(content=' may', id='run-db848c5f-43af-45e1-8b97-345044f399d6')}}\n",
      "{'event': 'on_chat_model_stream', 'name': 'ChatOpenAI', 'run_id': 'db848c5f-43af-45e1-8b97-345044f399d6', 'tags': ['seq:step:2'], 'metadata': {'langgraph_step': 3, 'langgraph_node': 'answer_ai_impact', 'ls_model_type': 'chat'}, 'data': {'chunk': AIMessageChunk(content=' want', id='run-db848c5f-43af-45e1-8b97-345044f399d6')}}\n",
      "{'event': 'on_chat_model_stream', 'name': 'ChatOpenAI', 'run_id': 'db848c5f-43af-45e1-8b97-345044f399d6', 'tags': ['seq:step:2'], 'metadata': {'langgraph_step': 3, 'langgraph_node': 'answer_ai_impact', 'ls_model_type': 'chat'}, 'data': {'chunk': AIMessageChunk(content=' to', id='run-db848c5f-43af-45e1-8b97-345044f399d6')}}\n",
      "{'event': 'on_chat_model_stream', 'name': 'ChatOpenAI', 'run_id': 'db848c5f-43af-45e1-8b97-345044f399d6', 'tags': ['seq:step:2'], 'metadata': {'langgraph_step': 3, 'langgraph_node': 'answer_ai_impact', 'ls_model_type': 'chat'}, 'data': {'chunk': AIMessageChunk(content=' look', id='run-db848c5f-43af-45e1-8b97-345044f399d6')}}\n",
      "{'event': 'on_chat_model_stream', 'name': 'ChatOpenAI', 'run_id': 'db848c5f-43af-45e1-8b97-345044f399d6', 'tags': ['seq:step:2'], 'metadata': {'langgraph_step': 3, 'langgraph_node': 'answer_ai_impact', 'ls_model_type': 'chat'}, 'data': {'chunk': AIMessageChunk(content=' into', id='run-db848c5f-43af-45e1-8b97-345044f399d6')}}\n",
      "{'event': 'on_chat_model_stream', 'name': 'ChatOpenAI', 'run_id': 'db848c5f-43af-45e1-8b97-345044f399d6', 'tags': ['seq:step:2'], 'metadata': {'langgraph_step': 3, 'langgraph_node': 'answer_ai_impact', 'ls_model_type': 'chat'}, 'data': {'chunk': AIMessageChunk(content=' the', id='run-db848c5f-43af-45e1-8b97-345044f399d6')}}\n",
      "{'event': 'on_chat_model_stream', 'name': 'ChatOpenAI', 'run_id': 'db848c5f-43af-45e1-8b97-345044f399d6', 'tags': ['seq:step:2'], 'metadata': {'langgraph_step': 3, 'langgraph_node': 'answer_ai_impact', 'ls_model_type': 'chat'}, 'data': {'chunk': AIMessageChunk(content=' work', id='run-db848c5f-43af-45e1-8b97-345044f399d6')}}\n",
      "{'event': 'on_chat_model_stream', 'name': 'ChatOpenAI', 'run_id': 'db848c5f-43af-45e1-8b97-345044f399d6', 'tags': ['seq:step:2'], 'metadata': {'langgraph_step': 3, 'langgraph_node': 'answer_ai_impact', 'ls_model_type': 'chat'}, 'data': {'chunk': AIMessageChunk(content=' of', id='run-db848c5f-43af-45e1-8b97-345044f399d6')}}\n",
      "{'event': 'on_chat_model_stream', 'name': 'ChatOpenAI', 'run_id': 'db848c5f-43af-45e1-8b97-345044f399d6', 'tags': ['seq:step:2'], 'metadata': {'langgraph_step': 3, 'langgraph_node': 'answer_ai_impact', 'ls_model_type': 'chat'}, 'data': {'chunk': AIMessageChunk(content=' AI', id='run-db848c5f-43af-45e1-8b97-345044f399d6')}}\n",
      "{'event': 'on_chat_model_stream', 'name': 'ChatOpenAI', 'run_id': 'db848c5f-43af-45e1-8b97-345044f399d6', 'tags': ['seq:step:2'], 'metadata': {'langgraph_step': 3, 'langgraph_node': 'answer_ai_impact', 'ls_model_type': 'chat'}, 'data': {'chunk': AIMessageChunk(content=' &', id='run-db848c5f-43af-45e1-8b97-345044f399d6')}}\n",
      "{'event': 'on_chat_model_stream', 'name': 'ChatOpenAI', 'run_id': 'db848c5f-43af-45e1-8b97-345044f399d6', 'tags': ['seq:step:2'], 'metadata': {'langgraph_step': 3, 'langgraph_node': 'answer_ai_impact', 'ls_model_type': 'chat'}, 'data': {'chunk': AIMessageChunk(content=' climate', id='run-db848c5f-43af-45e1-8b97-345044f399d6')}}\n",
      "{'event': 'on_chat_model_stream', 'name': 'ChatOpenAI', 'run_id': 'db848c5f-43af-45e1-8b97-345044f399d6', 'tags': ['seq:step:2'], 'metadata': {'langgraph_step': 3, 'langgraph_node': 'answer_ai_impact', 'ls_model_type': 'chat'}, 'data': {'chunk': AIMessageChunk(content=' expert', id='run-db848c5f-43af-45e1-8b97-345044f399d6')}}\n",
      "{'event': 'on_chat_model_stream', 'name': 'ChatOpenAI', 'run_id': 'db848c5f-43af-45e1-8b97-345044f399d6', 'tags': ['seq:step:2'], 'metadata': {'langgraph_step': 3, 'langgraph_node': 'answer_ai_impact', 'ls_model_type': 'chat'}, 'data': {'chunk': AIMessageChunk(content=' scientist', id='run-db848c5f-43af-45e1-8b97-345044f399d6')}}\n",
      "{'event': 'on_chat_model_stream', 'name': 'ChatOpenAI', 'run_id': 'db848c5f-43af-45e1-8b97-345044f399d6', 'tags': ['seq:step:2'], 'metadata': {'langgraph_step': 3, 'langgraph_node': 'answer_ai_impact', 'ls_model_type': 'chat'}, 'data': {'chunk': AIMessageChunk(content=' Sasha', id='run-db848c5f-43af-45e1-8b97-345044f399d6')}}\n",
      "{'event': 'on_chat_model_stream', 'name': 'ChatOpenAI', 'run_id': 'db848c5f-43af-45e1-8b97-345044f399d6', 'tags': ['seq:step:2'], 'metadata': {'langgraph_step': 3, 'langgraph_node': 'answer_ai_impact', 'ls_model_type': 'chat'}, 'data': {'chunk': AIMessageChunk(content=' Lu', id='run-db848c5f-43af-45e1-8b97-345044f399d6')}}\n",
      "{'event': 'on_chat_model_stream', 'name': 'ChatOpenAI', 'run_id': 'db848c5f-43af-45e1-8b97-345044f399d6', 'tags': ['seq:step:2'], 'metadata': {'langgraph_step': 3, 'langgraph_node': 'answer_ai_impact', 'ls_model_type': 'chat'}, 'data': {'chunk': AIMessageChunk(content='ccion', id='run-db848c5f-43af-45e1-8b97-345044f399d6')}}\n",
      "{'event': 'on_chat_model_stream', 'name': 'ChatOpenAI', 'run_id': 'db848c5f-43af-45e1-8b97-345044f399d6', 'tags': ['seq:step:2'], 'metadata': {'langgraph_step': 3, 'langgraph_node': 'answer_ai_impact', 'ls_model_type': 'chat'}, 'data': {'chunk': AIMessageChunk(content='i', id='run-db848c5f-43af-45e1-8b97-345044f399d6')}}\n",
      "{'event': 'on_chat_model_stream', 'name': 'ChatOpenAI', 'run_id': 'db848c5f-43af-45e1-8b97-345044f399d6', 'tags': ['seq:step:2'], 'metadata': {'langgraph_step': 3, 'langgraph_node': 'answer_ai_impact', 'ls_model_type': 'chat'}, 'data': {'chunk': AIMessageChunk(content='.', id='run-db848c5f-43af-45e1-8b97-345044f399d6')}}\n",
      "{'event': 'on_chat_model_stream', 'name': 'ChatOpenAI', 'run_id': 'db848c5f-43af-45e1-8b97-345044f399d6', 'tags': ['seq:step:2'], 'metadata': {'langgraph_step': 3, 'langgraph_node': 'answer_ai_impact', 'ls_model_type': 'chat'}, 'data': {'chunk': AIMessageChunk(content=' Some', id='run-db848c5f-43af-45e1-8b97-345044f399d6')}}\n",
      "{'event': 'on_chat_model_stream', 'name': 'ChatOpenAI', 'run_id': 'db848c5f-43af-45e1-8b97-345044f399d6', 'tags': ['seq:step:2'], 'metadata': {'langgraph_step': 3, 'langgraph_node': 'answer_ai_impact', 'ls_model_type': 'chat'}, 'data': {'chunk': AIMessageChunk(content=' of', id='run-db848c5f-43af-45e1-8b97-345044f399d6')}}\n",
      "{'event': 'on_chat_model_stream', 'name': 'ChatOpenAI', 'run_id': 'db848c5f-43af-45e1-8b97-345044f399d6', 'tags': ['seq:step:2'], 'metadata': {'langgraph_step': 3, 'langgraph_node': 'answer_ai_impact', 'ls_model_type': 'chat'}, 'data': {'chunk': AIMessageChunk(content=' their', id='run-db848c5f-43af-45e1-8b97-345044f399d6')}}\n",
      "{'event': 'on_chat_model_stream', 'name': 'ChatOpenAI', 'run_id': 'db848c5f-43af-45e1-8b97-345044f399d6', 'tags': ['seq:step:2'], 'metadata': {'langgraph_step': 3, 'langgraph_node': 'answer_ai_impact', 'ls_model_type': 'chat'}, 'data': {'chunk': AIMessageChunk(content=' papers', id='run-db848c5f-43af-45e1-8b97-345044f399d6')}}\n",
      "{'event': 'on_chat_model_stream', 'name': 'ChatOpenAI', 'run_id': 'db848c5f-43af-45e1-8b97-345044f399d6', 'tags': ['seq:step:2'], 'metadata': {'langgraph_step': 3, 'langgraph_node': 'answer_ai_impact', 'ls_model_type': 'chat'}, 'data': {'chunk': AIMessageChunk(content=',', id='run-db848c5f-43af-45e1-8b97-345044f399d6')}}\n",
      "{'event': 'on_chat_model_stream', 'name': 'ChatOpenAI', 'run_id': 'db848c5f-43af-45e1-8b97-345044f399d6', 'tags': ['seq:step:2'], 'metadata': {'langgraph_step': 3, 'langgraph_node': 'answer_ai_impact', 'ls_model_type': 'chat'}, 'data': {'chunk': AIMessageChunk(content=' such', id='run-db848c5f-43af-45e1-8b97-345044f399d6')}}\n",
      "{'event': 'on_chat_model_stream', 'name': 'ChatOpenAI', 'run_id': 'db848c5f-43af-45e1-8b97-345044f399d6', 'tags': ['seq:step:2'], 'metadata': {'langgraph_step': 3, 'langgraph_node': 'answer_ai_impact', 'ls_model_type': 'chat'}, 'data': {'chunk': AIMessageChunk(content=' as', id='run-db848c5f-43af-45e1-8b97-345044f399d6')}}\n",
      "{'event': 'on_chat_model_stream', 'name': 'ChatOpenAI', 'run_id': 'db848c5f-43af-45e1-8b97-345044f399d6', 'tags': ['seq:step:2'], 'metadata': {'langgraph_step': 3, 'langgraph_node': 'answer_ai_impact', 'ls_model_type': 'chat'}, 'data': {'chunk': AIMessageChunk(content=' \"', id='run-db848c5f-43af-45e1-8b97-345044f399d6')}}\n",
      "{'event': 'on_chat_model_stream', 'name': 'ChatOpenAI', 'run_id': 'db848c5f-43af-45e1-8b97-345044f399d6', 'tags': ['seq:step:2'], 'metadata': {'langgraph_step': 3, 'langgraph_node': 'answer_ai_impact', 'ls_model_type': 'chat'}, 'data': {'chunk': AIMessageChunk(content='Power', id='run-db848c5f-43af-45e1-8b97-345044f399d6')}}\n",
      "{'event': 'on_chat_model_stream', 'name': 'ChatOpenAI', 'run_id': 'db848c5f-43af-45e1-8b97-345044f399d6', 'tags': ['seq:step:2'], 'metadata': {'langgraph_step': 3, 'langgraph_node': 'answer_ai_impact', 'ls_model_type': 'chat'}, 'data': {'chunk': AIMessageChunk(content=' Hung', id='run-db848c5f-43af-45e1-8b97-345044f399d6')}}\n",
      "{'event': 'on_chat_model_stream', 'name': 'ChatOpenAI', 'run_id': 'db848c5f-43af-45e1-8b97-345044f399d6', 'tags': ['seq:step:2'], 'metadata': {'langgraph_step': 3, 'langgraph_node': 'answer_ai_impact', 'ls_model_type': 'chat'}, 'data': {'chunk': AIMessageChunk(content='ry', id='run-db848c5f-43af-45e1-8b97-345044f399d6')}}\n",
      "{'event': 'on_chat_model_stream', 'name': 'ChatOpenAI', 'run_id': 'db848c5f-43af-45e1-8b97-345044f399d6', 'tags': ['seq:step:2'], 'metadata': {'langgraph_step': 3, 'langgraph_node': 'answer_ai_impact', 'ls_model_type': 'chat'}, 'data': {'chunk': AIMessageChunk(content=' Processing', id='run-db848c5f-43af-45e1-8b97-345044f399d6')}}\n",
      "{'event': 'on_chat_model_stream', 'name': 'ChatOpenAI', 'run_id': 'db848c5f-43af-45e1-8b97-345044f399d6', 'tags': ['seq:step:2'], 'metadata': {'langgraph_step': 3, 'langgraph_node': 'answer_ai_impact', 'ls_model_type': 'chat'}, 'data': {'chunk': AIMessageChunk(content=':', id='run-db848c5f-43af-45e1-8b97-345044f399d6')}}\n",
      "{'event': 'on_chat_model_stream', 'name': 'ChatOpenAI', 'run_id': 'db848c5f-43af-45e1-8b97-345044f399d6', 'tags': ['seq:step:2'], 'metadata': {'langgraph_step': 3, 'langgraph_node': 'answer_ai_impact', 'ls_model_type': 'chat'}, 'data': {'chunk': AIMessageChunk(content=' Watts', id='run-db848c5f-43af-45e1-8b97-345044f399d6')}}\n",
      "{'event': 'on_chat_model_stream', 'name': 'ChatOpenAI', 'run_id': 'db848c5f-43af-45e1-8b97-345044f399d6', 'tags': ['seq:step:2'], 'metadata': {'langgraph_step': 3, 'langgraph_node': 'answer_ai_impact', 'ls_model_type': 'chat'}, 'data': {'chunk': AIMessageChunk(content=' Driving', id='run-db848c5f-43af-45e1-8b97-345044f399d6')}}\n",
      "{'event': 'on_chat_model_stream', 'name': 'ChatOpenAI', 'run_id': 'db848c5f-43af-45e1-8b97-345044f399d6', 'tags': ['seq:step:2'], 'metadata': {'langgraph_step': 3, 'langgraph_node': 'answer_ai_impact', 'ls_model_type': 'chat'}, 'data': {'chunk': AIMessageChunk(content=' the', id='run-db848c5f-43af-45e1-8b97-345044f399d6')}}\n",
      "{'event': 'on_chat_model_stream', 'name': 'ChatOpenAI', 'run_id': 'db848c5f-43af-45e1-8b97-345044f399d6', 'tags': ['seq:step:2'], 'metadata': {'langgraph_step': 3, 'langgraph_node': 'answer_ai_impact', 'ls_model_type': 'chat'}, 'data': {'chunk': AIMessageChunk(content=' Cost', id='run-db848c5f-43af-45e1-8b97-345044f399d6')}}\n",
      "{'event': 'on_chat_model_stream', 'name': 'ChatOpenAI', 'run_id': 'db848c5f-43af-45e1-8b97-345044f399d6', 'tags': ['seq:step:2'], 'metadata': {'langgraph_step': 3, 'langgraph_node': 'answer_ai_impact', 'ls_model_type': 'chat'}, 'data': {'chunk': AIMessageChunk(content=' of', id='run-db848c5f-43af-45e1-8b97-345044f399d6')}}\n",
      "{'event': 'on_chat_model_stream', 'name': 'ChatOpenAI', 'run_id': 'db848c5f-43af-45e1-8b97-345044f399d6', 'tags': ['seq:step:2'], 'metadata': {'langgraph_step': 3, 'langgraph_node': 'answer_ai_impact', 'ls_model_type': 'chat'}, 'data': {'chunk': AIMessageChunk(content=' AI', id='run-db848c5f-43af-45e1-8b97-345044f399d6')}}\n",
      "{'event': 'on_chat_model_stream', 'name': 'ChatOpenAI', 'run_id': 'db848c5f-43af-45e1-8b97-345044f399d6', 'tags': ['seq:step:2'], 'metadata': {'langgraph_step': 3, 'langgraph_node': 'answer_ai_impact', 'ls_model_type': 'chat'}, 'data': {'chunk': AIMessageChunk(content=' Deployment', id='run-db848c5f-43af-45e1-8b97-345044f399d6')}}\n",
      "{'event': 'on_chat_model_stream', 'name': 'ChatOpenAI', 'run_id': 'db848c5f-43af-45e1-8b97-345044f399d6', 'tags': ['seq:step:2'], 'metadata': {'langgraph_step': 3, 'langgraph_node': 'answer_ai_impact', 'ls_model_type': 'chat'}, 'data': {'chunk': AIMessageChunk(content='?\"', id='run-db848c5f-43af-45e1-8b97-345044f399d6')}}\n",
      "{'event': 'on_chat_model_stream', 'name': 'ChatOpenAI', 'run_id': 'db848c5f-43af-45e1-8b97-345044f399d6', 'tags': ['seq:step:2'], 'metadata': {'langgraph_step': 3, 'langgraph_node': 'answer_ai_impact', 'ls_model_type': 'chat'}, 'data': {'chunk': AIMessageChunk(content=' and', id='run-db848c5f-43af-45e1-8b97-345044f399d6')}}\n",
      "{'event': 'on_chat_model_stream', 'name': 'ChatOpenAI', 'run_id': 'db848c5f-43af-45e1-8b97-345044f399d6', 'tags': ['seq:step:2'], 'metadata': {'langgraph_step': 3, 'langgraph_node': 'answer_ai_impact', 'ls_model_type': 'chat'}, 'data': {'chunk': AIMessageChunk(content=' \"', id='run-db848c5f-43af-45e1-8b97-345044f399d6')}}\n",
      "{'event': 'on_chat_model_stream', 'name': 'ChatOpenAI', 'run_id': 'db848c5f-43af-45e1-8b97-345044f399d6', 'tags': ['seq:step:2'], 'metadata': {'langgraph_step': 3, 'langgraph_node': 'answer_ai_impact', 'ls_model_type': 'chat'}, 'data': {'chunk': AIMessageChunk(content='Est', id='run-db848c5f-43af-45e1-8b97-345044f399d6')}}\n",
      "{'event': 'on_chat_model_stream', 'name': 'ChatOpenAI', 'run_id': 'db848c5f-43af-45e1-8b97-345044f399d6', 'tags': ['seq:step:2'], 'metadata': {'langgraph_step': 3, 'langgraph_node': 'answer_ai_impact', 'ls_model_type': 'chat'}, 'data': {'chunk': AIMessageChunk(content='imating', id='run-db848c5f-43af-45e1-8b97-345044f399d6')}}\n",
      "{'event': 'on_chat_model_stream', 'name': 'ChatOpenAI', 'run_id': 'db848c5f-43af-45e1-8b97-345044f399d6', 'tags': ['seq:step:2'], 'metadata': {'langgraph_step': 3, 'langgraph_node': 'answer_ai_impact', 'ls_model_type': 'chat'}, 'data': {'chunk': AIMessageChunk(content=' the', id='run-db848c5f-43af-45e1-8b97-345044f399d6')}}\n",
      "{'event': 'on_chat_model_stream', 'name': 'ChatOpenAI', 'run_id': 'db848c5f-43af-45e1-8b97-345044f399d6', 'tags': ['seq:step:2'], 'metadata': {'langgraph_step': 3, 'langgraph_node': 'answer_ai_impact', 'ls_model_type': 'chat'}, 'data': {'chunk': AIMessageChunk(content=' Carbon', id='run-db848c5f-43af-45e1-8b97-345044f399d6')}}\n",
      "{'event': 'on_chat_model_stream', 'name': 'ChatOpenAI', 'run_id': 'db848c5f-43af-45e1-8b97-345044f399d6', 'tags': ['seq:step:2'], 'metadata': {'langgraph_step': 3, 'langgraph_node': 'answer_ai_impact', 'ls_model_type': 'chat'}, 'data': {'chunk': AIMessageChunk(content=' Foot', id='run-db848c5f-43af-45e1-8b97-345044f399d6')}}\n",
      "{'event': 'on_chat_model_stream', 'name': 'ChatOpenAI', 'run_id': 'db848c5f-43af-45e1-8b97-345044f399d6', 'tags': ['seq:step:2'], 'metadata': {'langgraph_step': 3, 'langgraph_node': 'answer_ai_impact', 'ls_model_type': 'chat'}, 'data': {'chunk': AIMessageChunk(content='print', id='run-db848c5f-43af-45e1-8b97-345044f399d6')}}\n",
      "{'event': 'on_chat_model_stream', 'name': 'ChatOpenAI', 'run_id': 'db848c5f-43af-45e1-8b97-345044f399d6', 'tags': ['seq:step:2'], 'metadata': {'langgraph_step': 3, 'langgraph_node': 'answer_ai_impact', 'ls_model_type': 'chat'}, 'data': {'chunk': AIMessageChunk(content=' of', id='run-db848c5f-43af-45e1-8b97-345044f399d6')}}\n",
      "{'event': 'on_chat_model_stream', 'name': 'ChatOpenAI', 'run_id': 'db848c5f-43af-45e1-8b97-345044f399d6', 'tags': ['seq:step:2'], 'metadata': {'langgraph_step': 3, 'langgraph_node': 'answer_ai_impact', 'ls_model_type': 'chat'}, 'data': {'chunk': AIMessageChunk(content=' B', id='run-db848c5f-43af-45e1-8b97-345044f399d6')}}\n",
      "{'event': 'on_chat_model_stream', 'name': 'ChatOpenAI', 'run_id': 'db848c5f-43af-45e1-8b97-345044f399d6', 'tags': ['seq:step:2'], 'metadata': {'langgraph_step': 3, 'langgraph_node': 'answer_ai_impact', 'ls_model_type': 'chat'}, 'data': {'chunk': AIMessageChunk(content='LO', id='run-db848c5f-43af-45e1-8b97-345044f399d6')}}\n",
      "{'event': 'on_chat_model_stream', 'name': 'ChatOpenAI', 'run_id': 'db848c5f-43af-45e1-8b97-345044f399d6', 'tags': ['seq:step:2'], 'metadata': {'langgraph_step': 3, 'langgraph_node': 'answer_ai_impact', 'ls_model_type': 'chat'}, 'data': {'chunk': AIMessageChunk(content='OM', id='run-db848c5f-43af-45e1-8b97-345044f399d6')}}\n",
      "{'event': 'on_chat_model_stream', 'name': 'ChatOpenAI', 'run_id': 'db848c5f-43af-45e1-8b97-345044f399d6', 'tags': ['seq:step:2'], 'metadata': {'langgraph_step': 3, 'langgraph_node': 'answer_ai_impact', 'ls_model_type': 'chat'}, 'data': {'chunk': AIMessageChunk(content=',', id='run-db848c5f-43af-45e1-8b97-345044f399d6')}}\n",
      "{'event': 'on_chat_model_stream', 'name': 'ChatOpenAI', 'run_id': 'db848c5f-43af-45e1-8b97-345044f399d6', 'tags': ['seq:step:2'], 'metadata': {'langgraph_step': 3, 'langgraph_node': 'answer_ai_impact', 'ls_model_type': 'chat'}, 'data': {'chunk': AIMessageChunk(content=' a', id='run-db848c5f-43af-45e1-8b97-345044f399d6')}}\n",
      "{'event': 'on_chat_model_stream', 'name': 'ChatOpenAI', 'run_id': 'db848c5f-43af-45e1-8b97-345044f399d6', 'tags': ['seq:step:2'], 'metadata': {'langgraph_step': 3, 'langgraph_node': 'answer_ai_impact', 'ls_model_type': 'chat'}, 'data': {'chunk': AIMessageChunk(content=' ', id='run-db848c5f-43af-45e1-8b97-345044f399d6')}}\n",
      "{'event': 'on_chat_model_stream', 'name': 'ChatOpenAI', 'run_id': 'db848c5f-43af-45e1-8b97-345044f399d6', 'tags': ['seq:step:2'], 'metadata': {'langgraph_step': 3, 'langgraph_node': 'answer_ai_impact', 'ls_model_type': 'chat'}, 'data': {'chunk': AIMessageChunk(content='176', id='run-db848c5f-43af-45e1-8b97-345044f399d6')}}\n",
      "{'event': 'on_chat_model_stream', 'name': 'ChatOpenAI', 'run_id': 'db848c5f-43af-45e1-8b97-345044f399d6', 'tags': ['seq:step:2'], 'metadata': {'langgraph_step': 3, 'langgraph_node': 'answer_ai_impact', 'ls_model_type': 'chat'}, 'data': {'chunk': AIMessageChunk(content='B', id='run-db848c5f-43af-45e1-8b97-345044f399d6')}}\n",
      "{'event': 'on_chat_model_stream', 'name': 'ChatOpenAI', 'run_id': 'db848c5f-43af-45e1-8b97-345044f399d6', 'tags': ['seq:step:2'], 'metadata': {'langgraph_step': 3, 'langgraph_node': 'answer_ai_impact', 'ls_model_type': 'chat'}, 'data': {'chunk': AIMessageChunk(content=' Parameter', id='run-db848c5f-43af-45e1-8b97-345044f399d6')}}\n",
      "{'event': 'on_chat_model_stream', 'name': 'ChatOpenAI', 'run_id': 'db848c5f-43af-45e1-8b97-345044f399d6', 'tags': ['seq:step:2'], 'metadata': {'langgraph_step': 3, 'langgraph_node': 'answer_ai_impact', 'ls_model_type': 'chat'}, 'data': {'chunk': AIMessageChunk(content=' Language', id='run-db848c5f-43af-45e1-8b97-345044f399d6')}}\n",
      "{'event': 'on_chat_model_stream', 'name': 'ChatOpenAI', 'run_id': 'db848c5f-43af-45e1-8b97-345044f399d6', 'tags': ['seq:step:2'], 'metadata': {'langgraph_step': 3, 'langgraph_node': 'answer_ai_impact', 'ls_model_type': 'chat'}, 'data': {'chunk': AIMessageChunk(content=' Model', id='run-db848c5f-43af-45e1-8b97-345044f399d6')}}\n",
      "{'event': 'on_chat_model_stream', 'name': 'ChatOpenAI', 'run_id': 'db848c5f-43af-45e1-8b97-345044f399d6', 'tags': ['seq:step:2'], 'metadata': {'langgraph_step': 3, 'langgraph_node': 'answer_ai_impact', 'ls_model_type': 'chat'}, 'data': {'chunk': AIMessageChunk(content=',\"', id='run-db848c5f-43af-45e1-8b97-345044f399d6')}}\n",
      "{'event': 'on_chat_model_stream', 'name': 'ChatOpenAI', 'run_id': 'db848c5f-43af-45e1-8b97-345044f399d6', 'tags': ['seq:step:2'], 'metadata': {'langgraph_step': 3, 'langgraph_node': 'answer_ai_impact', 'ls_model_type': 'chat'}, 'data': {'chunk': AIMessageChunk(content=' provide', id='run-db848c5f-43af-45e1-8b97-345044f399d6')}}\n",
      "{'event': 'on_chat_model_stream', 'name': 'ChatOpenAI', 'run_id': 'db848c5f-43af-45e1-8b97-345044f399d6', 'tags': ['seq:step:2'], 'metadata': {'langgraph_step': 3, 'langgraph_node': 'answer_ai_impact', 'ls_model_type': 'chat'}, 'data': {'chunk': AIMessageChunk(content=' insights', id='run-db848c5f-43af-45e1-8b97-345044f399d6')}}\n",
      "{'event': 'on_chat_model_stream', 'name': 'ChatOpenAI', 'run_id': 'db848c5f-43af-45e1-8b97-345044f399d6', 'tags': ['seq:step:2'], 'metadata': {'langgraph_step': 3, 'langgraph_node': 'answer_ai_impact', 'ls_model_type': 'chat'}, 'data': {'chunk': AIMessageChunk(content=' into', id='run-db848c5f-43af-45e1-8b97-345044f399d6')}}\n",
      "{'event': 'on_chat_model_stream', 'name': 'ChatOpenAI', 'run_id': 'db848c5f-43af-45e1-8b97-345044f399d6', 'tags': ['seq:step:2'], 'metadata': {'langgraph_step': 3, 'langgraph_node': 'answer_ai_impact', 'ls_model_type': 'chat'}, 'data': {'chunk': AIMessageChunk(content=' the', id='run-db848c5f-43af-45e1-8b97-345044f399d6')}}\n",
      "{'event': 'on_chat_model_stream', 'name': 'ChatOpenAI', 'run_id': 'db848c5f-43af-45e1-8b97-345044f399d6', 'tags': ['seq:step:2'], 'metadata': {'langgraph_step': 3, 'langgraph_node': 'answer_ai_impact', 'ls_model_type': 'chat'}, 'data': {'chunk': AIMessageChunk(content=' carbon', id='run-db848c5f-43af-45e1-8b97-345044f399d6')}}\n",
      "{'event': 'on_chat_model_stream', 'name': 'ChatOpenAI', 'run_id': 'db848c5f-43af-45e1-8b97-345044f399d6', 'tags': ['seq:step:2'], 'metadata': {'langgraph_step': 3, 'langgraph_node': 'answer_ai_impact', 'ls_model_type': 'chat'}, 'data': {'chunk': AIMessageChunk(content=' footprint', id='run-db848c5f-43af-45e1-8b97-345044f399d6')}}\n",
      "{'event': 'on_chat_model_stream', 'name': 'ChatOpenAI', 'run_id': 'db848c5f-43af-45e1-8b97-345044f399d6', 'tags': ['seq:step:2'], 'metadata': {'langgraph_step': 3, 'langgraph_node': 'answer_ai_impact', 'ls_model_type': 'chat'}, 'data': {'chunk': AIMessageChunk(content=' of', id='run-db848c5f-43af-45e1-8b97-345044f399d6')}}\n",
      "{'event': 'on_chat_model_stream', 'name': 'ChatOpenAI', 'run_id': 'db848c5f-43af-45e1-8b97-345044f399d6', 'tags': ['seq:step:2'], 'metadata': {'langgraph_step': 3, 'langgraph_node': 'answer_ai_impact', 'ls_model_type': 'chat'}, 'data': {'chunk': AIMessageChunk(content=' AI', id='run-db848c5f-43af-45e1-8b97-345044f399d6')}}\n",
      "{'event': 'on_chat_model_stream', 'name': 'ChatOpenAI', 'run_id': 'db848c5f-43af-45e1-8b97-345044f399d6', 'tags': ['seq:step:2'], 'metadata': {'langgraph_step': 3, 'langgraph_node': 'answer_ai_impact', 'ls_model_type': 'chat'}, 'data': {'chunk': AIMessageChunk(content=' models', id='run-db848c5f-43af-45e1-8b97-345044f399d6')}}\n",
      "{'event': 'on_chat_model_stream', 'name': 'ChatOpenAI', 'run_id': 'db848c5f-43af-45e1-8b97-345044f399d6', 'tags': ['seq:step:2'], 'metadata': {'langgraph_step': 3, 'langgraph_node': 'answer_ai_impact', 'ls_model_type': 'chat'}, 'data': {'chunk': AIMessageChunk(content='.\\n\\n', id='run-db848c5f-43af-45e1-8b97-345044f399d6')}}\n",
      "{'event': 'on_chat_model_stream', 'name': 'ChatOpenAI', 'run_id': 'db848c5f-43af-45e1-8b97-345044f399d6', 'tags': ['seq:step:2'], 'metadata': {'langgraph_step': 3, 'langgraph_node': 'answer_ai_impact', 'ls_model_type': 'chat'}, 'data': {'chunk': AIMessageChunk(content='To', id='run-db848c5f-43af-45e1-8b97-345044f399d6')}}\n",
      "{'event': 'on_chat_model_stream', 'name': 'ChatOpenAI', 'run_id': 'db848c5f-43af-45e1-8b97-345044f399d6', 'tags': ['seq:step:2'], 'metadata': {'langgraph_step': 3, 'langgraph_node': 'answer_ai_impact', 'ls_model_type': 'chat'}, 'data': {'chunk': AIMessageChunk(content=' calculate', id='run-db848c5f-43af-45e1-8b97-345044f399d6')}}\n",
      "{'event': 'on_chat_model_stream', 'name': 'ChatOpenAI', 'run_id': 'db848c5f-43af-45e1-8b97-345044f399d6', 'tags': ['seq:step:2'], 'metadata': {'langgraph_step': 3, 'langgraph_node': 'answer_ai_impact', 'ls_model_type': 'chat'}, 'data': {'chunk': AIMessageChunk(content=' the', id='run-db848c5f-43af-45e1-8b97-345044f399d6')}}\n",
      "{'event': 'on_chat_model_stream', 'name': 'ChatOpenAI', 'run_id': 'db848c5f-43af-45e1-8b97-345044f399d6', 'tags': ['seq:step:2'], 'metadata': {'langgraph_step': 3, 'langgraph_node': 'answer_ai_impact', 'ls_model_type': 'chat'}, 'data': {'chunk': AIMessageChunk(content=' carbon', id='run-db848c5f-43af-45e1-8b97-345044f399d6')}}\n",
      "{'event': 'on_chat_model_stream', 'name': 'ChatOpenAI', 'run_id': 'db848c5f-43af-45e1-8b97-345044f399d6', 'tags': ['seq:step:2'], 'metadata': {'langgraph_step': 3, 'langgraph_node': 'answer_ai_impact', 'ls_model_type': 'chat'}, 'data': {'chunk': AIMessageChunk(content=' footprint', id='run-db848c5f-43af-45e1-8b97-345044f399d6')}}\n",
      "{'event': 'on_chat_model_stream', 'name': 'ChatOpenAI', 'run_id': 'db848c5f-43af-45e1-8b97-345044f399d6', 'tags': ['seq:step:2'], 'metadata': {'langgraph_step': 3, 'langgraph_node': 'answer_ai_impact', 'ls_model_type': 'chat'}, 'data': {'chunk': AIMessageChunk(content=' of', id='run-db848c5f-43af-45e1-8b97-345044f399d6')}}\n",
      "{'event': 'on_chat_model_stream', 'name': 'ChatOpenAI', 'run_id': 'db848c5f-43af-45e1-8b97-345044f399d6', 'tags': ['seq:step:2'], 'metadata': {'langgraph_step': 3, 'langgraph_node': 'answer_ai_impact', 'ls_model_type': 'chat'}, 'data': {'chunk': AIMessageChunk(content=' AI', id='run-db848c5f-43af-45e1-8b97-345044f399d6')}}\n",
      "{'event': 'on_chat_model_stream', 'name': 'ChatOpenAI', 'run_id': 'db848c5f-43af-45e1-8b97-345044f399d6', 'tags': ['seq:step:2'], 'metadata': {'langgraph_step': 3, 'langgraph_node': 'answer_ai_impact', 'ls_model_type': 'chat'}, 'data': {'chunk': AIMessageChunk(content=' models', id='run-db848c5f-43af-45e1-8b97-345044f399d6')}}\n",
      "{'event': 'on_chat_model_stream', 'name': 'ChatOpenAI', 'run_id': 'db848c5f-43af-45e1-8b97-345044f399d6', 'tags': ['seq:step:2'], 'metadata': {'langgraph_step': 3, 'langgraph_node': 'answer_ai_impact', 'ls_model_type': 'chat'}, 'data': {'chunk': AIMessageChunk(content=',', id='run-db848c5f-43af-45e1-8b97-345044f399d6')}}\n",
      "{'event': 'on_chat_model_stream', 'name': 'ChatOpenAI', 'run_id': 'db848c5f-43af-45e1-8b97-345044f399d6', 'tags': ['seq:step:2'], 'metadata': {'langgraph_step': 3, 'langgraph_node': 'answer_ai_impact', 'ls_model_type': 'chat'}, 'data': {'chunk': AIMessageChunk(content=' tools', id='run-db848c5f-43af-45e1-8b97-345044f399d6')}}\n",
      "{'event': 'on_chat_model_stream', 'name': 'ChatOpenAI', 'run_id': 'db848c5f-43af-45e1-8b97-345044f399d6', 'tags': ['seq:step:2'], 'metadata': {'langgraph_step': 3, 'langgraph_node': 'answer_ai_impact', 'ls_model_type': 'chat'}, 'data': {'chunk': AIMessageChunk(content=' like', id='run-db848c5f-43af-45e1-8b97-345044f399d6')}}\n",
      "{'event': 'on_chat_model_stream', 'name': 'ChatOpenAI', 'run_id': 'db848c5f-43af-45e1-8b97-345044f399d6', 'tags': ['seq:step:2'], 'metadata': {'langgraph_step': 3, 'langgraph_node': 'answer_ai_impact', 'ls_model_type': 'chat'}, 'data': {'chunk': AIMessageChunk(content=' Code', id='run-db848c5f-43af-45e1-8b97-345044f399d6')}}\n",
      "{'event': 'on_chat_model_stream', 'name': 'ChatOpenAI', 'run_id': 'db848c5f-43af-45e1-8b97-345044f399d6', 'tags': ['seq:step:2'], 'metadata': {'langgraph_step': 3, 'langgraph_node': 'answer_ai_impact', 'ls_model_type': 'chat'}, 'data': {'chunk': AIMessageChunk(content='Carbon', id='run-db848c5f-43af-45e1-8b97-345044f399d6')}}\n",
      "{'event': 'on_chat_model_stream', 'name': 'ChatOpenAI', 'run_id': 'db848c5f-43af-45e1-8b97-345044f399d6', 'tags': ['seq:step:2'], 'metadata': {'langgraph_step': 3, 'langgraph_node': 'answer_ai_impact', 'ls_model_type': 'chat'}, 'data': {'chunk': AIMessageChunk(content=' and', id='run-db848c5f-43af-45e1-8b97-345044f399d6')}}\n",
      "{'event': 'on_chat_model_stream', 'name': 'ChatOpenAI', 'run_id': 'db848c5f-43af-45e1-8b97-345044f399d6', 'tags': ['seq:step:2'], 'metadata': {'langgraph_step': 3, 'langgraph_node': 'answer_ai_impact', 'ls_model_type': 'chat'}, 'data': {'chunk': AIMessageChunk(content=' Ec', id='run-db848c5f-43af-45e1-8b97-345044f399d6')}}\n",
      "{'event': 'on_chat_model_stream', 'name': 'ChatOpenAI', 'run_id': 'db848c5f-43af-45e1-8b97-345044f399d6', 'tags': ['seq:step:2'], 'metadata': {'langgraph_step': 3, 'langgraph_node': 'answer_ai_impact', 'ls_model_type': 'chat'}, 'data': {'chunk': AIMessageChunk(content='olog', id='run-db848c5f-43af-45e1-8b97-345044f399d6')}}\n",
      "{'event': 'on_chat_model_stream', 'name': 'ChatOpenAI', 'run_id': 'db848c5f-43af-45e1-8b97-345044f399d6', 'tags': ['seq:step:2'], 'metadata': {'langgraph_step': 3, 'langgraph_node': 'answer_ai_impact', 'ls_model_type': 'chat'}, 'data': {'chunk': AIMessageChunk(content='its', id='run-db848c5f-43af-45e1-8b97-345044f399d6')}}\n",
      "{'event': 'on_chat_model_stream', 'name': 'ChatOpenAI', 'run_id': 'db848c5f-43af-45e1-8b97-345044f399d6', 'tags': ['seq:step:2'], 'metadata': {'langgraph_step': 3, 'langgraph_node': 'answer_ai_impact', 'ls_model_type': 'chat'}, 'data': {'chunk': AIMessageChunk(content=' can', id='run-db848c5f-43af-45e1-8b97-345044f399d6')}}\n",
      "{'event': 'on_chat_model_stream', 'name': 'ChatOpenAI', 'run_id': 'db848c5f-43af-45e1-8b97-345044f399d6', 'tags': ['seq:step:2'], 'metadata': {'langgraph_step': 3, 'langgraph_node': 'answer_ai_impact', 'ls_model_type': 'chat'}, 'data': {'chunk': AIMessageChunk(content=' be', id='run-db848c5f-43af-45e1-8b97-345044f399d6')}}\n",
      "{'event': 'on_chat_model_stream', 'name': 'ChatOpenAI', 'run_id': 'db848c5f-43af-45e1-8b97-345044f399d6', 'tags': ['seq:step:2'], 'metadata': {'langgraph_step': 3, 'langgraph_node': 'answer_ai_impact', 'ls_model_type': 'chat'}, 'data': {'chunk': AIMessageChunk(content=' used', id='run-db848c5f-43af-45e1-8b97-345044f399d6')}}\n",
      "{'event': 'on_chat_model_stream', 'name': 'ChatOpenAI', 'run_id': 'db848c5f-43af-45e1-8b97-345044f399d6', 'tags': ['seq:step:2'], 'metadata': {'langgraph_step': 3, 'langgraph_node': 'answer_ai_impact', 'ls_model_type': 'chat'}, 'data': {'chunk': AIMessageChunk(content='.', id='run-db848c5f-43af-45e1-8b97-345044f399d6')}}\n",
      "{'event': 'on_chat_model_stream', 'name': 'ChatOpenAI', 'run_id': 'db848c5f-43af-45e1-8b97-345044f399d6', 'tags': ['seq:step:2'], 'metadata': {'langgraph_step': 3, 'langgraph_node': 'answer_ai_impact', 'ls_model_type': 'chat'}, 'data': {'chunk': AIMessageChunk(content=' Code', id='run-db848c5f-43af-45e1-8b97-345044f399d6')}}\n",
      "{'event': 'on_chat_model_stream', 'name': 'ChatOpenAI', 'run_id': 'db848c5f-43af-45e1-8b97-345044f399d6', 'tags': ['seq:step:2'], 'metadata': {'langgraph_step': 3, 'langgraph_node': 'answer_ai_impact', 'ls_model_type': 'chat'}, 'data': {'chunk': AIMessageChunk(content='Carbon', id='run-db848c5f-43af-45e1-8b97-345044f399d6')}}\n",
      "{'event': 'on_chat_model_stream', 'name': 'ChatOpenAI', 'run_id': 'db848c5f-43af-45e1-8b97-345044f399d6', 'tags': ['seq:step:2'], 'metadata': {'langgraph_step': 3, 'langgraph_node': 'answer_ai_impact', 'ls_model_type': 'chat'}, 'data': {'chunk': AIMessageChunk(content=' helps', id='run-db848c5f-43af-45e1-8b97-345044f399d6')}}\n",
      "{'event': 'on_chat_model_stream', 'name': 'ChatOpenAI', 'run_id': 'db848c5f-43af-45e1-8b97-345044f399d6', 'tags': ['seq:step:2'], 'metadata': {'langgraph_step': 3, 'langgraph_node': 'answer_ai_impact', 'ls_model_type': 'chat'}, 'data': {'chunk': AIMessageChunk(content=' measure', id='run-db848c5f-43af-45e1-8b97-345044f399d6')}}\n",
      "{'event': 'on_chat_model_stream', 'name': 'ChatOpenAI', 'run_id': 'db848c5f-43af-45e1-8b97-345044f399d6', 'tags': ['seq:step:2'], 'metadata': {'langgraph_step': 3, 'langgraph_node': 'answer_ai_impact', 'ls_model_type': 'chat'}, 'data': {'chunk': AIMessageChunk(content=' the', id='run-db848c5f-43af-45e1-8b97-345044f399d6')}}\n",
      "{'event': 'on_chat_model_stream', 'name': 'ChatOpenAI', 'run_id': 'db848c5f-43af-45e1-8b97-345044f399d6', 'tags': ['seq:step:2'], 'metadata': {'langgraph_step': 3, 'langgraph_node': 'answer_ai_impact', 'ls_model_type': 'chat'}, 'data': {'chunk': AIMessageChunk(content=' carbon', id='run-db848c5f-43af-45e1-8b97-345044f399d6')}}\n",
      "{'event': 'on_chat_model_stream', 'name': 'ChatOpenAI', 'run_id': 'db848c5f-43af-45e1-8b97-345044f399d6', 'tags': ['seq:step:2'], 'metadata': {'langgraph_step': 3, 'langgraph_node': 'answer_ai_impact', 'ls_model_type': 'chat'}, 'data': {'chunk': AIMessageChunk(content=' footprint', id='run-db848c5f-43af-45e1-8b97-345044f399d6')}}\n",
      "{'event': 'on_chat_model_stream', 'name': 'ChatOpenAI', 'run_id': 'db848c5f-43af-45e1-8b97-345044f399d6', 'tags': ['seq:step:2'], 'metadata': {'langgraph_step': 3, 'langgraph_node': 'answer_ai_impact', 'ls_model_type': 'chat'}, 'data': {'chunk': AIMessageChunk(content=' of', id='run-db848c5f-43af-45e1-8b97-345044f399d6')}}\n",
      "{'event': 'on_chat_model_stream', 'name': 'ChatOpenAI', 'run_id': 'db848c5f-43af-45e1-8b97-345044f399d6', 'tags': ['seq:step:2'], 'metadata': {'langgraph_step': 3, 'langgraph_node': 'answer_ai_impact', 'ls_model_type': 'chat'}, 'data': {'chunk': AIMessageChunk(content=' your', id='run-db848c5f-43af-45e1-8b97-345044f399d6')}}\n",
      "{'event': 'on_chat_model_stream', 'name': 'ChatOpenAI', 'run_id': 'db848c5f-43af-45e1-8b97-345044f399d6', 'tags': ['seq:step:2'], 'metadata': {'langgraph_step': 3, 'langgraph_node': 'answer_ai_impact', 'ls_model_type': 'chat'}, 'data': {'chunk': AIMessageChunk(content=' code', id='run-db848c5f-43af-45e1-8b97-345044f399d6')}}\n",
      "{'event': 'on_chat_model_stream', 'name': 'ChatOpenAI', 'run_id': 'db848c5f-43af-45e1-8b97-345044f399d6', 'tags': ['seq:step:2'], 'metadata': {'langgraph_step': 3, 'langgraph_node': 'answer_ai_impact', 'ls_model_type': 'chat'}, 'data': {'chunk': AIMessageChunk(content=',', id='run-db848c5f-43af-45e1-8b97-345044f399d6')}}\n",
      "{'event': 'on_chat_model_stream', 'name': 'ChatOpenAI', 'run_id': 'db848c5f-43af-45e1-8b97-345044f399d6', 'tags': ['seq:step:2'], 'metadata': {'langgraph_step': 3, 'langgraph_node': 'answer_ai_impact', 'ls_model_type': 'chat'}, 'data': {'chunk': AIMessageChunk(content=' while', id='run-db848c5f-43af-45e1-8b97-345044f399d6')}}\n",
      "{'event': 'on_chat_model_stream', 'name': 'ChatOpenAI', 'run_id': 'db848c5f-43af-45e1-8b97-345044f399d6', 'tags': ['seq:step:2'], 'metadata': {'langgraph_step': 3, 'langgraph_node': 'answer_ai_impact', 'ls_model_type': 'chat'}, 'data': {'chunk': AIMessageChunk(content=' Ec', id='run-db848c5f-43af-45e1-8b97-345044f399d6')}}\n",
      "{'event': 'on_chat_model_stream', 'name': 'ChatOpenAI', 'run_id': 'db848c5f-43af-45e1-8b97-345044f399d6', 'tags': ['seq:step:2'], 'metadata': {'langgraph_step': 3, 'langgraph_node': 'answer_ai_impact', 'ls_model_type': 'chat'}, 'data': {'chunk': AIMessageChunk(content='olog', id='run-db848c5f-43af-45e1-8b97-345044f399d6')}}\n",
      "{'event': 'on_chat_model_stream', 'name': 'ChatOpenAI', 'run_id': 'db848c5f-43af-45e1-8b97-345044f399d6', 'tags': ['seq:step:2'], 'metadata': {'langgraph_step': 3, 'langgraph_node': 'answer_ai_impact', 'ls_model_type': 'chat'}, 'data': {'chunk': AIMessageChunk(content='its', id='run-db848c5f-43af-45e1-8b97-345044f399d6')}}\n",
      "{'event': 'on_chat_model_stream', 'name': 'ChatOpenAI', 'run_id': 'db848c5f-43af-45e1-8b97-345044f399d6', 'tags': ['seq:step:2'], 'metadata': {'langgraph_step': 3, 'langgraph_node': 'answer_ai_impact', 'ls_model_type': 'chat'}, 'data': {'chunk': AIMessageChunk(content=' can', id='run-db848c5f-43af-45e1-8b97-345044f399d6')}}\n",
      "{'event': 'on_chat_model_stream', 'name': 'ChatOpenAI', 'run_id': 'db848c5f-43af-45e1-8b97-345044f399d6', 'tags': ['seq:step:2'], 'metadata': {'langgraph_step': 3, 'langgraph_node': 'answer_ai_impact', 'ls_model_type': 'chat'}, 'data': {'chunk': AIMessageChunk(content=' measure', id='run-db848c5f-43af-45e1-8b97-345044f399d6')}}\n",
      "{'event': 'on_chat_model_stream', 'name': 'ChatOpenAI', 'run_id': 'db848c5f-43af-45e1-8b97-345044f399d6', 'tags': ['seq:step:2'], 'metadata': {'langgraph_step': 3, 'langgraph_node': 'answer_ai_impact', 'ls_model_type': 'chat'}, 'data': {'chunk': AIMessageChunk(content=' the', id='run-db848c5f-43af-45e1-8b97-345044f399d6')}}\n",
      "{'event': 'on_chat_model_stream', 'name': 'ChatOpenAI', 'run_id': 'db848c5f-43af-45e1-8b97-345044f399d6', 'tags': ['seq:step:2'], 'metadata': {'langgraph_step': 3, 'langgraph_node': 'answer_ai_impact', 'ls_model_type': 'chat'}, 'data': {'chunk': AIMessageChunk(content=' carbon', id='run-db848c5f-43af-45e1-8b97-345044f399d6')}}\n",
      "{'event': 'on_chat_model_stream', 'name': 'ChatOpenAI', 'run_id': 'db848c5f-43af-45e1-8b97-345044f399d6', 'tags': ['seq:step:2'], 'metadata': {'langgraph_step': 3, 'langgraph_node': 'answer_ai_impact', 'ls_model_type': 'chat'}, 'data': {'chunk': AIMessageChunk(content=' footprint', id='run-db848c5f-43af-45e1-8b97-345044f399d6')}}\n",
      "{'event': 'on_chat_model_stream', 'name': 'ChatOpenAI', 'run_id': 'db848c5f-43af-45e1-8b97-345044f399d6', 'tags': ['seq:step:2'], 'metadata': {'langgraph_step': 3, 'langgraph_node': 'answer_ai_impact', 'ls_model_type': 'chat'}, 'data': {'chunk': AIMessageChunk(content=' of', id='run-db848c5f-43af-45e1-8b97-345044f399d6')}}\n",
      "{'event': 'on_chat_model_stream', 'name': 'ChatOpenAI', 'run_id': 'db848c5f-43af-45e1-8b97-345044f399d6', 'tags': ['seq:step:2'], 'metadata': {'langgraph_step': 3, 'langgraph_node': 'answer_ai_impact', 'ls_model_type': 'chat'}, 'data': {'chunk': AIMessageChunk(content=' using', id='run-db848c5f-43af-45e1-8b97-345044f399d6')}}\n",
      "{'event': 'on_chat_model_stream', 'name': 'ChatOpenAI', 'run_id': 'db848c5f-43af-45e1-8b97-345044f399d6', 'tags': ['seq:step:2'], 'metadata': {'langgraph_step': 3, 'langgraph_node': 'answer_ai_impact', 'ls_model_type': 'chat'}, 'data': {'chunk': AIMessageChunk(content=' Large', id='run-db848c5f-43af-45e1-8b97-345044f399d6')}}\n",
      "{'event': 'on_chat_model_stream', 'name': 'ChatOpenAI', 'run_id': 'db848c5f-43af-45e1-8b97-345044f399d6', 'tags': ['seq:step:2'], 'metadata': {'langgraph_step': 3, 'langgraph_node': 'answer_ai_impact', 'ls_model_type': 'chat'}, 'data': {'chunk': AIMessageChunk(content=' Language', id='run-db848c5f-43af-45e1-8b97-345044f399d6')}}\n",
      "{'event': 'on_chat_model_stream', 'name': 'ChatOpenAI', 'run_id': 'db848c5f-43af-45e1-8b97-345044f399d6', 'tags': ['seq:step:2'], 'metadata': {'langgraph_step': 3, 'langgraph_node': 'answer_ai_impact', 'ls_model_type': 'chat'}, 'data': {'chunk': AIMessageChunk(content=' Models', id='run-db848c5f-43af-45e1-8b97-345044f399d6')}}\n",
      "{'event': 'on_chat_model_stream', 'name': 'ChatOpenAI', 'run_id': 'db848c5f-43af-45e1-8b97-345044f399d6', 'tags': ['seq:step:2'], 'metadata': {'langgraph_step': 3, 'langgraph_node': 'answer_ai_impact', 'ls_model_type': 'chat'}, 'data': {'chunk': AIMessageChunk(content=' (', id='run-db848c5f-43af-45e1-8b97-345044f399d6')}}\n",
      "{'event': 'on_chat_model_stream', 'name': 'ChatOpenAI', 'run_id': 'db848c5f-43af-45e1-8b97-345044f399d6', 'tags': ['seq:step:2'], 'metadata': {'langgraph_step': 3, 'langgraph_node': 'answer_ai_impact', 'ls_model_type': 'chat'}, 'data': {'chunk': AIMessageChunk(content='LL', id='run-db848c5f-43af-45e1-8b97-345044f399d6')}}\n",
      "{'event': 'on_chat_model_stream', 'name': 'ChatOpenAI', 'run_id': 'db848c5f-43af-45e1-8b97-345044f399d6', 'tags': ['seq:step:2'], 'metadata': {'langgraph_step': 3, 'langgraph_node': 'answer_ai_impact', 'ls_model_type': 'chat'}, 'data': {'chunk': AIMessageChunk(content='Ms', id='run-db848c5f-43af-45e1-8b97-345044f399d6')}}\n",
      "{'event': 'on_chat_model_stream', 'name': 'ChatOpenAI', 'run_id': 'db848c5f-43af-45e1-8b97-345044f399d6', 'tags': ['seq:step:2'], 'metadata': {'langgraph_step': 3, 'langgraph_node': 'answer_ai_impact', 'ls_model_type': 'chat'}, 'data': {'chunk': AIMessageChunk(content=')', id='run-db848c5f-43af-45e1-8b97-345044f399d6')}}\n",
      "{'event': 'on_chat_model_stream', 'name': 'ChatOpenAI', 'run_id': 'db848c5f-43af-45e1-8b97-345044f399d6', 'tags': ['seq:step:2'], 'metadata': {'langgraph_step': 3, 'langgraph_node': 'answer_ai_impact', 'ls_model_type': 'chat'}, 'data': {'chunk': AIMessageChunk(content=' APIs', id='run-db848c5f-43af-45e1-8b97-345044f399d6')}}\n",
      "{'event': 'on_chat_model_stream', 'name': 'ChatOpenAI', 'run_id': 'db848c5f-43af-45e1-8b97-345044f399d6', 'tags': ['seq:step:2'], 'metadata': {'langgraph_step': 3, 'langgraph_node': 'answer_ai_impact', 'ls_model_type': 'chat'}, 'data': {'chunk': AIMessageChunk(content='.', id='run-db848c5f-43af-45e1-8b97-345044f399d6')}}\n",
      "{'event': 'on_chat_model_stream', 'name': 'ChatOpenAI', 'run_id': 'db848c5f-43af-45e1-8b97-345044f399d6', 'tags': ['seq:step:2'], 'metadata': {'langgraph_step': 3, 'langgraph_node': 'answer_ai_impact', 'ls_model_type': 'chat'}, 'data': {'chunk': AIMessageChunk(content='', response_metadata={'finish_reason': 'stop'}, id='run-db848c5f-43af-45e1-8b97-345044f399d6')}}\n",
      "{'event': 'on_chat_model_end', 'name': 'ChatOpenAI', 'run_id': 'db848c5f-43af-45e1-8b97-345044f399d6', 'tags': ['seq:step:2'], 'metadata': {'langgraph_step': 3, 'langgraph_node': 'answer_ai_impact', 'ls_model_type': 'chat'}, 'data': {'input': {'messages': [[SystemMessage(content=\"\\nYou are ClimateQ&A, an helpful AI Assistant specialized in answering climate-related questions using info from the IPCC and/or IPBES reports. \\nAlways stay true to climate and nature science and do not make up information. \\nIf you do not know the answer, just say you do not know.\\n\\n## Guidelines\\n- Explain that the environmental impact of AI is not covered by the IPCC or IPBES reports, but you can recommend info based on the sources below\\n- Answer the question in the original language of the question\\n\\n## Sources\\n- You can propose to visit this page https://climateqa.com/docs/carbon-footprint/ to learn more about ClimateQ&A's own carbon footprint\\n- You can recommend to look at the work of the AI & climate expert scientist Sasha Luccioni with in in particular those papers\\n    - Power Hungry Processing: Watts Driving the Cost of AI Deployment? - https://arxiv.org/abs/2311.16863 - about the carbon footprint at the inference stage of AI models\\n    - Counting Carbon: A Survey of Factors Influencing the Emissions of Machine Learning - https://arxiv.org/abs/2302.08476\\n    - Estimating the Carbon Footprint of BLOOM, a 176B Parameter Language Model - https://arxiv.org/abs/2211.02001 - about the carbon footprint of training a large language model \\n- You can also recommend the following tools to calculate the carbon footprint of AI models\\n    - CodeCarbon - https://github.com/mlco2/codecarbon to measure the carbon footprint of your code\\n    - Ecologits - https://ecologits.ai/ to measure the carbon footprint of using LLMs APIs such\\n\"), HumanMessage(content='impact of ai?')]]}, 'output': {'generations': [[{'text': 'The environmental impact of AI is not covered by the IPCC or IPBES reports. However, there are studies and tools available that can help understand the carbon footprint of AI models. \\n\\nFor more information on the carbon footprint of AI models, you can visit this page: [ClimateQ&A\\'s own carbon footprint](https://climateqa.com/docs/carbon-footprint/).\\n\\nAdditionally, you may want to look into the work of AI & climate expert scientist Sasha Luccioni. Some of their papers, such as \"Power Hungry Processing: Watts Driving the Cost of AI Deployment?\" and \"Estimating the Carbon Footprint of BLOOM, a 176B Parameter Language Model,\" provide insights into the carbon footprint of AI models.\\n\\nTo calculate the carbon footprint of AI models, tools like CodeCarbon and Ecologits can be used. CodeCarbon helps measure the carbon footprint of your code, while Ecologits can measure the carbon footprint of using Large Language Models (LLMs) APIs.', 'generation_info': {'finish_reason': 'stop'}, 'type': 'ChatGeneration', 'message': AIMessage(content='The environmental impact of AI is not covered by the IPCC or IPBES reports. However, there are studies and tools available that can help understand the carbon footprint of AI models. \\n\\nFor more information on the carbon footprint of AI models, you can visit this page: [ClimateQ&A\\'s own carbon footprint](https://climateqa.com/docs/carbon-footprint/).\\n\\nAdditionally, you may want to look into the work of AI & climate expert scientist Sasha Luccioni. Some of their papers, such as \"Power Hungry Processing: Watts Driving the Cost of AI Deployment?\" and \"Estimating the Carbon Footprint of BLOOM, a 176B Parameter Language Model,\" provide insights into the carbon footprint of AI models.\\n\\nTo calculate the carbon footprint of AI models, tools like CodeCarbon and Ecologits can be used. CodeCarbon helps measure the carbon footprint of your code, while Ecologits can measure the carbon footprint of using Large Language Models (LLMs) APIs.', response_metadata={'finish_reason': 'stop'}, id='run-db848c5f-43af-45e1-8b97-345044f399d6')}]], 'llm_output': None, 'run': None}}}\n",
      "{'event': 'on_parser_start', 'name': 'StrOutputParser', 'run_id': 'bd6980fe-1dc1-4733-a38e-a461801250a8', 'tags': ['seq:step:3'], 'metadata': {'langgraph_step': 3, 'langgraph_node': 'answer_ai_impact'}, 'data': {'input': AIMessage(content='The environmental impact of AI is not covered by the IPCC or IPBES reports. However, there are studies and tools available that can help understand the carbon footprint of AI models. \\n\\nFor more information on the carbon footprint of AI models, you can visit this page: [ClimateQ&A\\'s own carbon footprint](https://climateqa.com/docs/carbon-footprint/).\\n\\nAdditionally, you may want to look into the work of AI & climate expert scientist Sasha Luccioni. Some of their papers, such as \"Power Hungry Processing: Watts Driving the Cost of AI Deployment?\" and \"Estimating the Carbon Footprint of BLOOM, a 176B Parameter Language Model,\" provide insights into the carbon footprint of AI models.\\n\\nTo calculate the carbon footprint of AI models, tools like CodeCarbon and Ecologits can be used. CodeCarbon helps measure the carbon footprint of your code, while Ecologits can measure the carbon footprint of using Large Language Models (LLMs) APIs.', response_metadata={'finish_reason': 'stop'}, id='run-db848c5f-43af-45e1-8b97-345044f399d6')}}\n",
      "{'event': 'on_parser_end', 'name': 'StrOutputParser', 'run_id': 'bd6980fe-1dc1-4733-a38e-a461801250a8', 'tags': ['seq:step:3'], 'metadata': {'langgraph_step': 3, 'langgraph_node': 'answer_ai_impact'}, 'data': {'input': AIMessage(content='The environmental impact of AI is not covered by the IPCC or IPBES reports. However, there are studies and tools available that can help understand the carbon footprint of AI models. \\n\\nFor more information on the carbon footprint of AI models, you can visit this page: [ClimateQ&A\\'s own carbon footprint](https://climateqa.com/docs/carbon-footprint/).\\n\\nAdditionally, you may want to look into the work of AI & climate expert scientist Sasha Luccioni. Some of their papers, such as \"Power Hungry Processing: Watts Driving the Cost of AI Deployment?\" and \"Estimating the Carbon Footprint of BLOOM, a 176B Parameter Language Model,\" provide insights into the carbon footprint of AI models.\\n\\nTo calculate the carbon footprint of AI models, tools like CodeCarbon and Ecologits can be used. CodeCarbon helps measure the carbon footprint of your code, while Ecologits can measure the carbon footprint of using Large Language Models (LLMs) APIs.', response_metadata={'finish_reason': 'stop'}, id='run-db848c5f-43af-45e1-8b97-345044f399d6'), 'output': 'The environmental impact of AI is not covered by the IPCC or IPBES reports. However, there are studies and tools available that can help understand the carbon footprint of AI models. \\n\\nFor more information on the carbon footprint of AI models, you can visit this page: [ClimateQ&A\\'s own carbon footprint](https://climateqa.com/docs/carbon-footprint/).\\n\\nAdditionally, you may want to look into the work of AI & climate expert scientist Sasha Luccioni. Some of their papers, such as \"Power Hungry Processing: Watts Driving the Cost of AI Deployment?\" and \"Estimating the Carbon Footprint of BLOOM, a 176B Parameter Language Model,\" provide insights into the carbon footprint of AI models.\\n\\nTo calculate the carbon footprint of AI models, tools like CodeCarbon and Ecologits can be used. CodeCarbon helps measure the carbon footprint of your code, while Ecologits can measure the carbon footprint of using Large Language Models (LLMs) APIs.'}}\n",
      "{'event': 'on_chain_end', 'name': 'ai_impact_chain', 'run_id': '421aeadf-3c89-4fde-95c1-fe5967773978', 'tags': ['seq:step:1'], 'metadata': {'langgraph_step': 3, 'langgraph_node': 'answer_ai_impact'}, 'data': {'input': {'question': 'impact of ai?'}, 'output': 'The environmental impact of AI is not covered by the IPCC or IPBES reports. However, there are studies and tools available that can help understand the carbon footprint of AI models. \\n\\nFor more information on the carbon footprint of AI models, you can visit this page: [ClimateQ&A\\'s own carbon footprint](https://climateqa.com/docs/carbon-footprint/).\\n\\nAdditionally, you may want to look into the work of AI & climate expert scientist Sasha Luccioni. Some of their papers, such as \"Power Hungry Processing: Watts Driving the Cost of AI Deployment?\" and \"Estimating the Carbon Footprint of BLOOM, a 176B Parameter Language Model,\" provide insights into the carbon footprint of AI models.\\n\\nTo calculate the carbon footprint of AI models, tools like CodeCarbon and Ecologits can be used. CodeCarbon helps measure the carbon footprint of your code, while Ecologits can measure the carbon footprint of using Large Language Models (LLMs) APIs.'}}\n",
      "{'event': 'on_chain_start', 'name': 'ChannelWrite<answer_ai_impact,user_input,language,intent,query,questions,answer,audience,sources_input,documents,recommended_content,graph_returned>', 'run_id': 'c3f2dc9c-e005-436a-91ff-6236b9359548', 'tags': ['seq:step:2', 'langsmith:hidden'], 'metadata': {'langgraph_step': 3, 'langgraph_node': 'answer_ai_impact'}, 'data': {'input': {'answer': 'The environmental impact of AI is not covered by the IPCC or IPBES reports. However, there are studies and tools available that can help understand the carbon footprint of AI models. \\n\\nFor more information on the carbon footprint of AI models, you can visit this page: [ClimateQ&A\\'s own carbon footprint](https://climateqa.com/docs/carbon-footprint/).\\n\\nAdditionally, you may want to look into the work of AI & climate expert scientist Sasha Luccioni. Some of their papers, such as \"Power Hungry Processing: Watts Driving the Cost of AI Deployment?\" and \"Estimating the Carbon Footprint of BLOOM, a 176B Parameter Language Model,\" provide insights into the carbon footprint of AI models.\\n\\nTo calculate the carbon footprint of AI models, tools like CodeCarbon and Ecologits can be used. CodeCarbon helps measure the carbon footprint of your code, while Ecologits can measure the carbon footprint of using Large Language Models (LLMs) APIs.'}}}\n",
      "{'event': 'on_chain_end', 'name': 'ChannelWrite<answer_ai_impact,user_input,language,intent,query,questions,answer,audience,sources_input,documents,recommended_content,graph_returned>', 'run_id': 'c3f2dc9c-e005-436a-91ff-6236b9359548', 'tags': ['seq:step:2', 'langsmith:hidden'], 'metadata': {'langgraph_step': 3, 'langgraph_node': 'answer_ai_impact'}, 'data': {'input': {'answer': 'The environmental impact of AI is not covered by the IPCC or IPBES reports. However, there are studies and tools available that can help understand the carbon footprint of AI models. \\n\\nFor more information on the carbon footprint of AI models, you can visit this page: [ClimateQ&A\\'s own carbon footprint](https://climateqa.com/docs/carbon-footprint/).\\n\\nAdditionally, you may want to look into the work of AI & climate expert scientist Sasha Luccioni. Some of their papers, such as \"Power Hungry Processing: Watts Driving the Cost of AI Deployment?\" and \"Estimating the Carbon Footprint of BLOOM, a 176B Parameter Language Model,\" provide insights into the carbon footprint of AI models.\\n\\nTo calculate the carbon footprint of AI models, tools like CodeCarbon and Ecologits can be used. CodeCarbon helps measure the carbon footprint of your code, while Ecologits can measure the carbon footprint of using Large Language Models (LLMs) APIs.'}, 'output': {'answer': 'The environmental impact of AI is not covered by the IPCC or IPBES reports. However, there are studies and tools available that can help understand the carbon footprint of AI models. \\n\\nFor more information on the carbon footprint of AI models, you can visit this page: [ClimateQ&A\\'s own carbon footprint](https://climateqa.com/docs/carbon-footprint/).\\n\\nAdditionally, you may want to look into the work of AI & climate expert scientist Sasha Luccioni. Some of their papers, such as \"Power Hungry Processing: Watts Driving the Cost of AI Deployment?\" and \"Estimating the Carbon Footprint of BLOOM, a 176B Parameter Language Model,\" provide insights into the carbon footprint of AI models.\\n\\nTo calculate the carbon footprint of AI models, tools like CodeCarbon and Ecologits can be used. CodeCarbon helps measure the carbon footprint of your code, while Ecologits can measure the carbon footprint of using Large Language Models (LLMs) APIs.'}}}\n",
      "{'event': 'on_chain_stream', 'name': 'answer_ai_impact', 'run_id': '07ee7e5d-b2a1-4149-a7ee-8512df8fe31f', 'tags': ['graph:step:3'], 'metadata': {'langgraph_step': 3, 'langgraph_node': 'answer_ai_impact'}, 'data': {'chunk': {'answer': 'The environmental impact of AI is not covered by the IPCC or IPBES reports. However, there are studies and tools available that can help understand the carbon footprint of AI models. \\n\\nFor more information on the carbon footprint of AI models, you can visit this page: [ClimateQ&A\\'s own carbon footprint](https://climateqa.com/docs/carbon-footprint/).\\n\\nAdditionally, you may want to look into the work of AI & climate expert scientist Sasha Luccioni. Some of their papers, such as \"Power Hungry Processing: Watts Driving the Cost of AI Deployment?\" and \"Estimating the Carbon Footprint of BLOOM, a 176B Parameter Language Model,\" provide insights into the carbon footprint of AI models.\\n\\nTo calculate the carbon footprint of AI models, tools like CodeCarbon and Ecologits can be used. CodeCarbon helps measure the carbon footprint of your code, while Ecologits can measure the carbon footprint of using Large Language Models (LLMs) APIs.'}}}\n",
      "{'event': 'on_chain_end', 'name': 'answer_ai_impact', 'run_id': '07ee7e5d-b2a1-4149-a7ee-8512df8fe31f', 'tags': ['graph:step:3'], 'metadata': {'langgraph_step': 3, 'langgraph_node': 'answer_ai_impact'}, 'data': {'input': {'user_input': 'impact of ai?', 'language': 'English', 'intent': 'ai_impact', 'query': 'impact of ai?', 'questions': None, 'answer': None, 'audience': 'expert and climate scientists that are not afraid of technical terms', 'sources_input': ['auto'], 'documents': None, 'recommended_content': None, 'graph_returned': None}, 'output': {'answer': 'The environmental impact of AI is not covered by the IPCC or IPBES reports. However, there are studies and tools available that can help understand the carbon footprint of AI models. \\n\\nFor more information on the carbon footprint of AI models, you can visit this page: [ClimateQ&A\\'s own carbon footprint](https://climateqa.com/docs/carbon-footprint/).\\n\\nAdditionally, you may want to look into the work of AI & climate expert scientist Sasha Luccioni. Some of their papers, such as \"Power Hungry Processing: Watts Driving the Cost of AI Deployment?\" and \"Estimating the Carbon Footprint of BLOOM, a 176B Parameter Language Model,\" provide insights into the carbon footprint of AI models.\\n\\nTo calculate the carbon footprint of AI models, tools like CodeCarbon and Ecologits can be used. CodeCarbon helps measure the carbon footprint of your code, while Ecologits can measure the carbon footprint of using Large Language Models (LLMs) APIs.'}}}\n",
      "{'event': 'on_chain_stream', 'run_id': 'da753bb9-2339-4fc0-b1d7-86443019c4df', 'tags': [], 'metadata': {}, 'name': 'LangGraph', 'data': {'chunk': {'answer_ai_impact': {'answer': 'The environmental impact of AI is not covered by the IPCC or IPBES reports. However, there are studies and tools available that can help understand the carbon footprint of AI models. \\n\\nFor more information on the carbon footprint of AI models, you can visit this page: [ClimateQ&A\\'s own carbon footprint](https://climateqa.com/docs/carbon-footprint/).\\n\\nAdditionally, you may want to look into the work of AI & climate expert scientist Sasha Luccioni. Some of their papers, such as \"Power Hungry Processing: Watts Driving the Cost of AI Deployment?\" and \"Estimating the Carbon Footprint of BLOOM, a 176B Parameter Language Model,\" provide insights into the carbon footprint of AI models.\\n\\nTo calculate the carbon footprint of AI models, tools like CodeCarbon and Ecologits can be used. CodeCarbon helps measure the carbon footprint of your code, while Ecologits can measure the carbon footprint of using Large Language Models (LLMs) APIs.'}}}}\n",
      "{'event': 'on_chain_end', 'name': 'LangGraph', 'run_id': 'da753bb9-2339-4fc0-b1d7-86443019c4df', 'tags': [], 'metadata': {}, 'data': {'output': {'answer_ai_impact': {'answer': 'The environmental impact of AI is not covered by the IPCC or IPBES reports. However, there are studies and tools available that can help understand the carbon footprint of AI models. \\n\\nFor more information on the carbon footprint of AI models, you can visit this page: [ClimateQ&A\\'s own carbon footprint](https://climateqa.com/docs/carbon-footprint/).\\n\\nAdditionally, you may want to look into the work of AI & climate expert scientist Sasha Luccioni. Some of their papers, such as \"Power Hungry Processing: Watts Driving the Cost of AI Deployment?\" and \"Estimating the Carbon Footprint of BLOOM, a 176B Parameter Language Model,\" provide insights into the carbon footprint of AI models.\\n\\nTo calculate the carbon footprint of AI models, tools like CodeCarbon and Ecologits can be used. CodeCarbon helps measure the carbon footprint of your code, while Ecologits can measure the carbon footprint of using Large Language Models (LLMs) APIs.'}}}}\n"
     ]
    },
    {
     "ename": "",
     "evalue": "",
     "output_type": "error",
     "traceback": [
      "\u001b[1;31mThe Kernel crashed while executing code in the current cell or a previous cell. \n",
      "\u001b[1;31mPlease review the code in the cell(s) to identify a possible cause of the failure. \n",
      "\u001b[1;31mClick <a href='https://aka.ms/vscodeJupyterKernelCrash'>here</a> for more info. \n",
      "\u001b[1;31mView Jupyter <a href='command:jupyter.viewOutput'>log</a> for further details."
     ]
    }
   ],
   "source": [
    "async for event in result:\n",
    "    print(event)"
   ]
  },
  {
   "cell_type": "markdown",
   "metadata": {},
   "source": [
    "## 6. Gradio"
   ]
  },
  {
   "cell_type": "code",
   "execution_count": 31,
   "metadata": {},
   "outputs": [],
   "source": [
    "from front.utils import make_html_source,parse_output_llm_with_sources,serialize_docs,make_toolbox\n",
    "query = inputs[\"user_input\"]\n",
    "steps_display = {\n",
    "\"categorize_intent\":(\"🔄️ Analyzing user message\",True),\n",
    "\"transform_query\":(\"🔄️ Thinking step by step to answer the question\",True),\n",
    "\"retrieve_documents\":(\"🔄️ Searching in the knowledge base\",False),\n",
    "}\n",
    "history = [(query,None)]\n",
    "start_streaming = False\n",
    "intent = None\n",
    "\n",
    "\n",
    "async for event in result:\n",
    "\n",
    "    if event[\"event\"] == \"on_chat_model_stream\" and event[\"metadata\"][\"langgraph_node\"] in [\"answer_rag\", \"answer_chitchat\", \"answer_ai_impact\"]:\n",
    "        if start_streaming == False:\n",
    "            start_streaming = True\n",
    "            history[-1] = (query,\"\")\n",
    "\n",
    "        new_token = event[\"data\"][\"chunk\"].content\n",
    "        # time.sleep(0.01)\n",
    "        previous_answer = history[-1][1]\n",
    "        previous_answer = previous_answer if previous_answer is not None else \"\"\n",
    "        answer_yet = previous_answer + new_token\n",
    "        answer_yet = parse_output_llm_with_sources(answer_yet)\n",
    "        history[-1] = (query,answer_yet)\n",
    "\n",
    "    \n",
    "    elif event[\"name\"] == \"retrieve_documents\" and event[\"event\"] == \"on_chain_end\":\n",
    "        try:\n",
    "            docs = event[\"data\"][\"output\"][\"documents\"]\n",
    "            docs_html = []\n",
    "            for i, d in enumerate(docs, 1):\n",
    "                docs_html.append(make_html_source(d, i))\n",
    "            docs_html = \"\".join(docs_html)\n",
    "        except Exception as e:\n",
    "            print(f\"Error getting documents: {e}\")\n",
    "            print(event)\n",
    "\n",
    "    # elif event[\"name\"] == \"retrieve_documents\" and event[\"event\"] == \"on_chain_start\":\n",
    "    #     print(event)\n",
    "    #     questions = event[\"data\"][\"input\"][\"questions\"]\n",
    "    #     questions = \"\\n\".join([f\"{i+1}. {q['question']} ({q['source']})\" for i,q in enumerate(questions)])\n",
    "    #     answer_yet = \"🔄️ Searching in the knowledge base\\n{questions}\"\n",
    "    #     history[-1] = (query,answer_yet)\n",
    "\n",
    "    elif event[\"name\"] == \"retrieve_graphs\" and event[\"event\"] == \"on_chain_end\":\n",
    "        try:\n",
    "            graphs = event[\"data\"][\"output\"][\"recommended_content\"]\n",
    "        except Exception as e:\n",
    "            print(f\"Error getting graphs: {e}\")\n",
    "            print(event)\n",
    "\n",
    "\n",
    "    for event_name,(event_description,display_output) in steps_display.items():\n",
    "        if event[\"name\"] == event_name:\n",
    "            if event[\"event\"] == \"on_chain_start\":\n",
    "                # answer_yet = f\"<p><span class='loader'></span>{event_description}</p>\"\n",
    "                # answer_yet = make_toolbox(event_description, \"\", checked = False)\n",
    "                answer_yet = event_description\n",
    "                history[-1] = (query,answer_yet)\n",
    "            # elif event[\"event\"] == \"on_chain_end\":\n",
    "            #     answer_yet = \"\"\n",
    "            #     history[-1] = (query,answer_yet)\n",
    "                # if display_output:\n",
    "                #     print(event[\"data\"][\"output\"])\n",
    "\n",
    "    # if op['path'] == path_reformulation: # reforulated question\n",
    "    #     try:\n",
    "    #         output_language = op['value'][\"language\"] # str\n",
    "    #         output_query = op[\"value\"][\"question\"]\n",
    "    #     except Exception as e:\n",
    "    #         raise gr.Error(f\"ClimateQ&A Error: {e} - The error has been noted, try another question and if the error remains, you can contact us :)\")\n",
    "    \n",
    "    # if op[\"path\"] == path_keywords:\n",
    "    #     try:\n",
    "    #         output_keywords = op['value'][\"keywords\"] # str\n",
    "    #         output_keywords = \" AND \".join(output_keywords)\n",
    "    #     except Exception as e:\n",
    "    #         pass\n",
    "\n",
    "\n",
    "\n",
    "    history = [tuple(x) for x in history]\n",
    "    # yield history,docs_html,output_query,output_language,gallery,output_query,output_keywords"
   ]
  },
  {
   "cell_type": "code",
   "execution_count": 16,
   "metadata": {},
   "outputs": [
    {
     "data": {
      "text/plain": [
       "[Document(page_content='Global warming contributions by gas and source', metadata={'category': 'CO2 & Greenhouse Gas Emissions', 'doc_id': 'owid_383', 'returned_content': '<iframe src=\"https://ourworldindata.org/grapher/global-warming-by-gas-and-source?tab=map\" loading=\"lazy\" style=\"width: 100%; height: 600px; border: 0px none;\" allow=\"web-share; clipboard-write\"></iframe>', 'source': 'OWID', 'subtitle': 'The global mean surface temperature change as a result of the cumulative emissions of three gases – carbon dioxide, methane, and nitrous oxide.', 'url': 'https://ourworldindata.org/grapher/global-warming-by-gas-and-source', 'similarity_score': 0.5550143122673035, 'content': 'Global warming contributions by gas and source', 'reranking_score': 0.651607871055603, 'query_used_for_retrieval': 'How do human activities contribute to global warming?', 'sources_used': ['IEA', 'OWID']}),\n",
       " Document(page_content='Global warming contributions by gas and source', metadata={'category': 'Climate Change', 'doc_id': 'owid_764', 'returned_content': '<iframe src=\"https://ourworldindata.org/grapher/global-warming-by-gas-and-source?tab=map\" loading=\"lazy\" style=\"width: 100%; height: 600px; border: 0px none;\" allow=\"web-share; clipboard-write\"></iframe>', 'source': 'OWID', 'subtitle': 'The global mean surface temperature change as a result of the cumulative emissions of three gases – carbon dioxide, methane, and nitrous oxide.', 'url': 'https://ourworldindata.org/grapher/global-warming-by-gas-and-source', 'similarity_score': 0.5550143122673035, 'content': 'Global warming contributions by gas and source', 'reranking_score': 0.651607871055603, 'query_used_for_retrieval': 'How do human activities contribute to global warming?', 'sources_used': ['IEA', 'OWID']}),\n",
       " Document(page_content='Global warming contributions from fossil fuels and land use', metadata={'category': 'CO2 & Greenhouse Gas Emissions', 'doc_id': 'owid_384', 'returned_content': '<iframe src=\"https://ourworldindata.org/grapher/warming-fossil-fuels-land-use?tab=map\" loading=\"lazy\" style=\"width: 100%; height: 600px; border: 0px none;\" allow=\"web-share; clipboard-write\"></iframe>', 'source': 'OWID', 'subtitle': \"The global mean surface temperature change as a result of a country or region's cumulative emissions of three gases – carbon dioxide, methane, and nitrous oxide.\", 'url': 'https://ourworldindata.org/grapher/warming-fossil-fuels-land-use', 'similarity_score': 0.6049439907073975, 'content': 'Global warming contributions from fossil fuels and land use', 'reranking_score': 0.22002366185188293, 'query_used_for_retrieval': 'How do human activities contribute to global warming?', 'sources_used': ['IEA', 'OWID']}),\n",
       " Document(page_content='Global warming contributions from fossil fuels and land use', metadata={'category': 'Climate Change', 'doc_id': 'owid_765', 'returned_content': '<iframe src=\"https://ourworldindata.org/grapher/warming-fossil-fuels-land-use?tab=map\" loading=\"lazy\" style=\"width: 100%; height: 600px; border: 0px none;\" allow=\"web-share; clipboard-write\"></iframe>', 'source': 'OWID', 'subtitle': \"The global mean surface temperature change as a result of a country or region's cumulative emissions of three gases – carbon dioxide, methane, and nitrous oxide.\", 'url': 'https://ourworldindata.org/grapher/warming-fossil-fuels-land-use', 'similarity_score': 0.6049439907073975, 'content': 'Global warming contributions from fossil fuels and land use', 'reranking_score': 0.22002366185188293, 'query_used_for_retrieval': 'How do human activities contribute to global warming?', 'sources_used': ['IEA', 'OWID']}),\n",
       " Document(page_content='Main sources of methane emissions', metadata={'appears_in': 'Global Methane Tracker 2024', 'appears_in_url': 'https://www.iea.org/reports/global-methane-tracker-2024', 'doc_id': 'iea_133', 'returned_content': 'https://www.iea.org/data-and-statistics/charts/main-sources-of-methane-emissions', 'source': 'IEA', 'sources': 'Methane emissions and abatement potential for oil, gas, and coal are based on the IEA (2023) Global Methane Tracker (https://www.iea.org/data-and-statistics/data-tools/methane-tracker-data-explorer) ; agriculture and waste is based on UNEP (2023), Global Methane Assessment (https://www.unep.org/resources/report/global-methane-assessment-benefits-and-costs-mitigating-methane-emissions). Emissions from biomass and bioenergy burning, which total around 10 Mt (https://essd.copernicus.org/articles/12/1561/2020/) of methane per year each, are not shown.', 'similarity_score': 0.6158384084701538, 'content': 'Main sources of methane emissions', 'reranking_score': 0.0806397795677185, 'query_used_for_retrieval': 'What are the main causes of global warming?', 'sources_used': ['IEA', 'OWID']}),\n",
       " Document(page_content='Global warming: Contributions to the change in global mean surface temperature', metadata={'category': 'CO2 & Greenhouse Gas Emissions', 'doc_id': 'owid_386', 'returned_content': '<iframe src=\"https://ourworldindata.org/grapher/contributions-global-temp-change?tab=map\" loading=\"lazy\" style=\"width: 100%; height: 600px; border: 0px none;\" allow=\"web-share; clipboard-write\"></iframe>', 'source': 'OWID', 'subtitle': \"This is shown as a country or region's share of the global mean surface temperature change as a result of its cumulative emissions of three gases – carbon dioxide, methane, and nitrous oxide.\", 'url': 'https://ourworldindata.org/grapher/contributions-global-temp-change', 'similarity_score': 0.6807445883750916, 'content': 'Global warming: Contributions to the change in global mean surface temperature', 'reranking_score': 0.03409431874752045, 'query_used_for_retrieval': 'How do human activities contribute to global warming?', 'sources_used': ['IEA', 'OWID']}),\n",
       " Document(page_content='Global warming: Contributions to the change in global mean surface temperature', metadata={'category': 'Climate Change', 'doc_id': 'owid_766', 'returned_content': '<iframe src=\"https://ourworldindata.org/grapher/contributions-global-temp-change?tab=map\" loading=\"lazy\" style=\"width: 100%; height: 600px; border: 0px none;\" allow=\"web-share; clipboard-write\"></iframe>', 'source': 'OWID', 'subtitle': \"This is shown as a country or region's share of the global mean surface temperature change as a result of its cumulative emissions of three gases – carbon dioxide, methane, and nitrous oxide.\", 'url': 'https://ourworldindata.org/grapher/contributions-global-temp-change', 'similarity_score': 0.6807445883750916, 'content': 'Global warming: Contributions to the change in global mean surface temperature', 'reranking_score': 0.03409431874752045, 'query_used_for_retrieval': 'How do human activities contribute to global warming?', 'sources_used': ['IEA', 'OWID']}),\n",
       " Document(page_content='Carbon dioxide emissions factors', metadata={'category': 'CO2 & Greenhouse Gas Emissions', 'doc_id': 'owid_342', 'returned_content': '<iframe src=\"https://ourworldindata.org/grapher/carbon-dioxide-emissions-factor?tab=map\" loading=\"lazy\" style=\"width: 100%; height: 600px; border: 0px none;\" allow=\"web-share; clipboard-write\"></iframe>', 'source': 'OWID', 'subtitle': 'Emissions factors quantify the average CO₂ output per unit of energy. They are measured in kilograms of CO₂ per megawatt-hour (MWh) of energy from various fossil fuel sources.', 'url': 'https://ourworldindata.org/grapher/carbon-dioxide-emissions-factor', 'similarity_score': 0.6963810324668884, 'content': 'Carbon dioxide emissions factors', 'reranking_score': 0.007733839564025402, 'query_used_for_retrieval': 'What are the main causes of global warming?', 'sources_used': ['IEA', 'OWID']}),\n",
       " Document(page_content='Carbon dioxide emissions factors', metadata={'category': 'Fossil Fuels', 'doc_id': 'owid_1408', 'returned_content': '<iframe src=\"https://ourworldindata.org/grapher/carbon-dioxide-emissions-factor?tab=map\" loading=\"lazy\" style=\"width: 100%; height: 600px; border: 0px none;\" allow=\"web-share; clipboard-write\"></iframe>', 'source': 'OWID', 'subtitle': 'Emissions factors quantify the average CO₂ output per unit of energy. They are measured in kilograms of CO₂ per megawatt-hour (MWh) of energy from various fossil fuel sources.', 'url': 'https://ourworldindata.org/grapher/carbon-dioxide-emissions-factor', 'similarity_score': 0.6963810324668884, 'content': 'Carbon dioxide emissions factors', 'reranking_score': 0.007733839564025402, 'query_used_for_retrieval': 'What are the main causes of global warming?', 'sources_used': ['IEA', 'OWID']}),\n",
       " Document(page_content='Contribution to global mean surface temperature rise from agriculture and land use', metadata={'category': 'CO2 & Greenhouse Gas Emissions', 'doc_id': 'owid_359', 'returned_content': '<iframe src=\"https://ourworldindata.org/grapher/global-warming-land?tab=map\" loading=\"lazy\" style=\"width: 100%; height: 600px; border: 0px none;\" allow=\"web-share; clipboard-write\"></iframe>', 'source': 'OWID', 'subtitle': \"The global mean surface temperature change as a result of a country or region's cumulative emissions of carbon dioxide, methane, and nitrous oxide. This is for land use and agriculture only.\", 'url': 'https://ourworldindata.org/grapher/global-warming-land', 'similarity_score': 0.7010847330093384, 'content': 'Contribution to global mean surface temperature rise from agriculture and land use', 'reranking_score': 0.006090907845646143, 'query_used_for_retrieval': 'How do human activities contribute to global warming?', 'sources_used': ['IEA', 'OWID']}),\n",
       " Document(page_content='Greenhouse gas emissions', metadata={'category': 'CO2 & Greenhouse Gas Emissions', 'doc_id': 'owid_387', 'returned_content': '<iframe src=\"https://ourworldindata.org/grapher/total-ghg-emissions?tab=map\" loading=\"lazy\" style=\"width: 100%; height: 600px; border: 0px none;\" allow=\"web-share; clipboard-write\"></iframe>', 'source': 'OWID', 'subtitle': 'Greenhouse gas emissions include carbon dioxide, methane and nitrous oxide from all sources, including land-use change. They are measured in tonnes of carbon dioxide-equivalents over a 100-year timescale.', 'url': 'https://ourworldindata.org/grapher/total-ghg-emissions', 'similarity_score': 0.711588978767395, 'content': 'Greenhouse gas emissions', 'reranking_score': 0.001999091589823365, 'query_used_for_retrieval': 'What are the main causes of global warming?', 'sources_used': ['IEA', 'OWID']})]"
      ]
     },
     "execution_count": 16,
     "metadata": {},
     "output_type": "execute_result"
    }
   ],
   "source": [
    "from langchain_core.documents import Document\n",
    "\n",
    "graphs = [Document(page_content='Global warming contributions by gas and source', metadata={'category': 'CO2 & Greenhouse Gas Emissions', 'doc_id': 'owid_383', 'returned_content': '<iframe src=\"https://ourworldindata.org/grapher/global-warming-by-gas-and-source?tab=map\" loading=\"lazy\" style=\"width: 100%; height: 600px; border: 0px none;\" allow=\"web-share; clipboard-write\"></iframe>', 'source': 'OWID', 'subtitle': 'The global mean surface temperature change as a result of the cumulative emissions of three gases – carbon dioxide, methane, and nitrous oxide.', 'url': 'https://ourworldindata.org/grapher/global-warming-by-gas-and-source', 'similarity_score': 0.5550143122673035, 'content': 'Global warming contributions by gas and source', 'reranking_score': 0.651607871055603, 'query_used_for_retrieval': 'How do human activities contribute to global warming?', 'sources_used': ['IEA', 'OWID']}), Document(page_content='Global warming contributions by gas and source', metadata={'category': 'Climate Change', 'doc_id': 'owid_764', 'returned_content': '<iframe src=\"https://ourworldindata.org/grapher/global-warming-by-gas-and-source?tab=map\" loading=\"lazy\" style=\"width: 100%; height: 600px; border: 0px none;\" allow=\"web-share; clipboard-write\"></iframe>', 'source': 'OWID', 'subtitle': 'The global mean surface temperature change as a result of the cumulative emissions of three gases – carbon dioxide, methane, and nitrous oxide.', 'url': 'https://ourworldindata.org/grapher/global-warming-by-gas-and-source', 'similarity_score': 0.5550143122673035, 'content': 'Global warming contributions by gas and source', 'reranking_score': 0.651607871055603, 'query_used_for_retrieval': 'How do human activities contribute to global warming?', 'sources_used': ['IEA', 'OWID']}), Document(page_content='Global warming contributions from fossil fuels and land use', metadata={'category': 'CO2 & Greenhouse Gas Emissions', 'doc_id': 'owid_384', 'returned_content': '<iframe src=\"https://ourworldindata.org/grapher/warming-fossil-fuels-land-use?tab=map\" loading=\"lazy\" style=\"width: 100%; height: 600px; border: 0px none;\" allow=\"web-share; clipboard-write\"></iframe>', 'source': 'OWID', 'subtitle': \"The global mean surface temperature change as a result of a country or region's cumulative emissions of three gases – carbon dioxide, methane, and nitrous oxide.\", 'url': 'https://ourworldindata.org/grapher/warming-fossil-fuels-land-use', 'similarity_score': 0.6049439907073975, 'content': 'Global warming contributions from fossil fuels and land use', 'reranking_score': 0.22002366185188293, 'query_used_for_retrieval': 'How do human activities contribute to global warming?', 'sources_used': ['IEA', 'OWID']}), Document(page_content='Global warming contributions from fossil fuels and land use', metadata={'category': 'Climate Change', 'doc_id': 'owid_765', 'returned_content': '<iframe src=\"https://ourworldindata.org/grapher/warming-fossil-fuels-land-use?tab=map\" loading=\"lazy\" style=\"width: 100%; height: 600px; border: 0px none;\" allow=\"web-share; clipboard-write\"></iframe>', 'source': 'OWID', 'subtitle': \"The global mean surface temperature change as a result of a country or region's cumulative emissions of three gases – carbon dioxide, methane, and nitrous oxide.\", 'url': 'https://ourworldindata.org/grapher/warming-fossil-fuels-land-use', 'similarity_score': 0.6049439907073975, 'content': 'Global warming contributions from fossil fuels and land use', 'reranking_score': 0.22002366185188293, 'query_used_for_retrieval': 'How do human activities contribute to global warming?', 'sources_used': ['IEA', 'OWID']}), Document(page_content='Main sources of methane emissions', metadata={'appears_in': 'Global Methane Tracker 2024', 'appears_in_url': 'https://www.iea.org/reports/global-methane-tracker-2024', 'doc_id': 'iea_133', 'returned_content': 'https://www.iea.org/data-and-statistics/charts/main-sources-of-methane-emissions', 'source': 'IEA', 'sources': 'Methane emissions and abatement potential for oil, gas, and coal are based on the IEA (2023) Global Methane Tracker (https://www.iea.org/data-and-statistics/data-tools/methane-tracker-data-explorer) ; agriculture and waste is based on UNEP (2023), Global Methane Assessment (https://www.unep.org/resources/report/global-methane-assessment-benefits-and-costs-mitigating-methane-emissions). Emissions from biomass and bioenergy burning, which total around 10 Mt (https://essd.copernicus.org/articles/12/1561/2020/) of methane per year each, are not shown.', 'similarity_score': 0.6158384084701538, 'content': 'Main sources of methane emissions', 'reranking_score': 0.0806397795677185, 'query_used_for_retrieval': 'What are the main causes of global warming?', 'sources_used': ['IEA', 'OWID']}), Document(page_content='Global warming: Contributions to the change in global mean surface temperature', metadata={'category': 'CO2 & Greenhouse Gas Emissions', 'doc_id': 'owid_386', 'returned_content': '<iframe src=\"https://ourworldindata.org/grapher/contributions-global-temp-change?tab=map\" loading=\"lazy\" style=\"width: 100%; height: 600px; border: 0px none;\" allow=\"web-share; clipboard-write\"></iframe>', 'source': 'OWID', 'subtitle': \"This is shown as a country or region's share of the global mean surface temperature change as a result of its cumulative emissions of three gases – carbon dioxide, methane, and nitrous oxide.\", 'url': 'https://ourworldindata.org/grapher/contributions-global-temp-change', 'similarity_score': 0.6807445883750916, 'content': 'Global warming: Contributions to the change in global mean surface temperature', 'reranking_score': 0.03409431874752045, 'query_used_for_retrieval': 'How do human activities contribute to global warming?', 'sources_used': ['IEA', 'OWID']}), Document(page_content='Global warming: Contributions to the change in global mean surface temperature', metadata={'category': 'Climate Change', 'doc_id': 'owid_766', 'returned_content': '<iframe src=\"https://ourworldindata.org/grapher/contributions-global-temp-change?tab=map\" loading=\"lazy\" style=\"width: 100%; height: 600px; border: 0px none;\" allow=\"web-share; clipboard-write\"></iframe>', 'source': 'OWID', 'subtitle': \"This is shown as a country or region's share of the global mean surface temperature change as a result of its cumulative emissions of three gases – carbon dioxide, methane, and nitrous oxide.\", 'url': 'https://ourworldindata.org/grapher/contributions-global-temp-change', 'similarity_score': 0.6807445883750916, 'content': 'Global warming: Contributions to the change in global mean surface temperature', 'reranking_score': 0.03409431874752045, 'query_used_for_retrieval': 'How do human activities contribute to global warming?', 'sources_used': ['IEA', 'OWID']}), Document(page_content='Carbon dioxide emissions factors', metadata={'category': 'CO2 & Greenhouse Gas Emissions', 'doc_id': 'owid_342', 'returned_content': '<iframe src=\"https://ourworldindata.org/grapher/carbon-dioxide-emissions-factor?tab=map\" loading=\"lazy\" style=\"width: 100%; height: 600px; border: 0px none;\" allow=\"web-share; clipboard-write\"></iframe>', 'source': 'OWID', 'subtitle': 'Emissions factors quantify the average CO₂ output per unit of energy. They are measured in kilograms of CO₂ per megawatt-hour (MWh) of energy from various fossil fuel sources.', 'url': 'https://ourworldindata.org/grapher/carbon-dioxide-emissions-factor', 'similarity_score': 0.6963810324668884, 'content': 'Carbon dioxide emissions factors', 'reranking_score': 0.007733839564025402, 'query_used_for_retrieval': 'What are the main causes of global warming?', 'sources_used': ['IEA', 'OWID']}), Document(page_content='Carbon dioxide emissions factors', metadata={'category': 'Fossil Fuels', 'doc_id': 'owid_1408', 'returned_content': '<iframe src=\"https://ourworldindata.org/grapher/carbon-dioxide-emissions-factor?tab=map\" loading=\"lazy\" style=\"width: 100%; height: 600px; border: 0px none;\" allow=\"web-share; clipboard-write\"></iframe>', 'source': 'OWID', 'subtitle': 'Emissions factors quantify the average CO₂ output per unit of energy. They are measured in kilograms of CO₂ per megawatt-hour (MWh) of energy from various fossil fuel sources.', 'url': 'https://ourworldindata.org/grapher/carbon-dioxide-emissions-factor', 'similarity_score': 0.6963810324668884, 'content': 'Carbon dioxide emissions factors', 'reranking_score': 0.007733839564025402, 'query_used_for_retrieval': 'What are the main causes of global warming?', 'sources_used': ['IEA', 'OWID']}), Document(page_content='Contribution to global mean surface temperature rise from agriculture and land use', metadata={'category': 'CO2 & Greenhouse Gas Emissions', 'doc_id': 'owid_359', 'returned_content': '<iframe src=\"https://ourworldindata.org/grapher/global-warming-land?tab=map\" loading=\"lazy\" style=\"width: 100%; height: 600px; border: 0px none;\" allow=\"web-share; clipboard-write\"></iframe>', 'source': 'OWID', 'subtitle': \"The global mean surface temperature change as a result of a country or region's cumulative emissions of carbon dioxide, methane, and nitrous oxide. This is for land use and agriculture only.\", 'url': 'https://ourworldindata.org/grapher/global-warming-land', 'similarity_score': 0.7010847330093384, 'content': 'Contribution to global mean surface temperature rise from agriculture and land use', 'reranking_score': 0.006090907845646143, 'query_used_for_retrieval': 'How do human activities contribute to global warming?', 'sources_used': ['IEA', 'OWID']}), Document(page_content='Greenhouse gas emissions', metadata={'category': 'CO2 & Greenhouse Gas Emissions', 'doc_id': 'owid_387', 'returned_content': '<iframe src=\"https://ourworldindata.org/grapher/total-ghg-emissions?tab=map\" loading=\"lazy\" style=\"width: 100%; height: 600px; border: 0px none;\" allow=\"web-share; clipboard-write\"></iframe>', 'source': 'OWID', 'subtitle': 'Greenhouse gas emissions include carbon dioxide, methane and nitrous oxide from all sources, including land-use change. They are measured in tonnes of carbon dioxide-equivalents over a 100-year timescale.', 'url': 'https://ourworldindata.org/grapher/total-ghg-emissions', 'similarity_score': 0.711588978767395, 'content': 'Greenhouse gas emissions', 'reranking_score': 0.001999091589823365, 'query_used_for_retrieval': 'What are the main causes of global warming?', 'sources_used': ['IEA', 'OWID']})]\n",
    "graphs"
   ]
  },
  {
   "cell_type": "code",
   "execution_count": 17,
   "metadata": {},
   "outputs": [
    {
     "data": {
      "text/plain": [
       "[{'embedding': '<iframe src=\"https://ourworldindata.org/grapher/global-warming-by-gas-and-source?tab=map\" loading=\"lazy\" style=\"width: 100%; height: 600px; border: 0px none;\" allow=\"web-share; clipboard-write\"></iframe>',\n",
       "  'metadata': {'source': 'OWID',\n",
       "   'category': 'CO2 & Greenhouse Gas Emissions'}},\n",
       " {'embedding': '<iframe src=\"https://ourworldindata.org/grapher/global-warming-by-gas-and-source?tab=map\" loading=\"lazy\" style=\"width: 100%; height: 600px; border: 0px none;\" allow=\"web-share; clipboard-write\"></iframe>',\n",
       "  'metadata': {'source': 'OWID', 'category': 'Climate Change'}},\n",
       " {'embedding': '<iframe src=\"https://ourworldindata.org/grapher/warming-fossil-fuels-land-use?tab=map\" loading=\"lazy\" style=\"width: 100%; height: 600px; border: 0px none;\" allow=\"web-share; clipboard-write\"></iframe>',\n",
       "  'metadata': {'source': 'OWID',\n",
       "   'category': 'CO2 & Greenhouse Gas Emissions'}},\n",
       " {'embedding': '<iframe src=\"https://ourworldindata.org/grapher/warming-fossil-fuels-land-use?tab=map\" loading=\"lazy\" style=\"width: 100%; height: 600px; border: 0px none;\" allow=\"web-share; clipboard-write\"></iframe>',\n",
       "  'metadata': {'source': 'OWID', 'category': 'Climate Change'}},\n",
       " {'embedding': '<iframe src=\"https://ourworldindata.org/grapher/contributions-global-temp-change?tab=map\" loading=\"lazy\" style=\"width: 100%; height: 600px; border: 0px none;\" allow=\"web-share; clipboard-write\"></iframe>',\n",
       "  'metadata': {'source': 'OWID',\n",
       "   'category': 'CO2 & Greenhouse Gas Emissions'}},\n",
       " {'embedding': '<iframe src=\"https://ourworldindata.org/grapher/contributions-global-temp-change?tab=map\" loading=\"lazy\" style=\"width: 100%; height: 600px; border: 0px none;\" allow=\"web-share; clipboard-write\"></iframe>',\n",
       "  'metadata': {'source': 'OWID', 'category': 'Climate Change'}},\n",
       " {'embedding': '<iframe src=\"https://ourworldindata.org/grapher/carbon-dioxide-emissions-factor?tab=map\" loading=\"lazy\" style=\"width: 100%; height: 600px; border: 0px none;\" allow=\"web-share; clipboard-write\"></iframe>',\n",
       "  'metadata': {'source': 'OWID',\n",
       "   'category': 'CO2 & Greenhouse Gas Emissions'}},\n",
       " {'embedding': '<iframe src=\"https://ourworldindata.org/grapher/carbon-dioxide-emissions-factor?tab=map\" loading=\"lazy\" style=\"width: 100%; height: 600px; border: 0px none;\" allow=\"web-share; clipboard-write\"></iframe>',\n",
       "  'metadata': {'source': 'OWID', 'category': 'Fossil Fuels'}},\n",
       " {'embedding': '<iframe src=\"https://ourworldindata.org/grapher/global-warming-land?tab=map\" loading=\"lazy\" style=\"width: 100%; height: 600px; border: 0px none;\" allow=\"web-share; clipboard-write\"></iframe>',\n",
       "  'metadata': {'source': 'OWID',\n",
       "   'category': 'CO2 & Greenhouse Gas Emissions'}},\n",
       " {'embedding': '<iframe src=\"https://ourworldindata.org/grapher/total-ghg-emissions?tab=map\" loading=\"lazy\" style=\"width: 100%; height: 600px; border: 0px none;\" allow=\"web-share; clipboard-write\"></iframe>',\n",
       "  'metadata': {'source': 'OWID',\n",
       "   'category': 'CO2 & Greenhouse Gas Emissions'}}]"
      ]
     },
     "execution_count": 17,
     "metadata": {},
     "output_type": "execute_result"
    }
   ],
   "source": [
    "graphs = [\n",
    "            {\n",
    "                \"embedding\": x.metadata[\"returned_content\"],\n",
    "                \"metadata\": {\n",
    "                    \"source\": x.metadata[\"source\"],\n",
    "                    \"category\": x.metadata[\"category\"]\n",
    "                    }\n",
    "                } for x in graphs if x.metadata[\"source\"] == \"OWID\"\n",
    "            ]\n",
    "\n",
    "graphs"
   ]
  },
  {
   "cell_type": "code",
   "execution_count": 20,
   "metadata": {},
   "outputs": [],
   "source": [
    "from collections import defaultdict\n",
    "\n",
    "def generate_html(graphs):\n",
    "    # Organize graphs by category\n",
    "    categories = defaultdict(list)\n",
    "    for graph in graphs:\n",
    "        category = graph['metadata']['category']\n",
    "        categories[category].append(graph['embedding'])\n",
    "\n",
    "    # Begin constructing the HTML\n",
    "    html_code = '''\n",
    "<!DOCTYPE html>\n",
    "<html lang=\"en\">\n",
    "<head>\n",
    "    <meta charset=\"UTF-8\">\n",
    "    <meta name=\"viewport\" content=\"width=device-width, initial-scale=1.0\">\n",
    "    <title>Graphs by Category</title>\n",
    "    <style>\n",
    "        .tab-content {\n",
    "            display: none;\n",
    "        }\n",
    "        .tab-content.active {\n",
    "            display: block;\n",
    "        }\n",
    "        .tabs {\n",
    "            margin-bottom: 20px;\n",
    "        }\n",
    "        .tab-button {\n",
    "            background-color: #ddd;\n",
    "            border: none;\n",
    "            padding: 10px 20px;\n",
    "            cursor: pointer;\n",
    "            margin-right: 5px;\n",
    "        }\n",
    "        .tab-button.active {\n",
    "            background-color: #ccc;\n",
    "        }\n",
    "    </style>\n",
    "    <script>\n",
    "        function showTab(tabId) {\n",
    "            var contents = document.getElementsByClassName('tab-content');\n",
    "            var buttons = document.getElementsByClassName('tab-button');\n",
    "            for (var i = 0; i < contents.length; i++) {\n",
    "                contents[i].classList.remove('active');\n",
    "                buttons[i].classList.remove('active');\n",
    "            }\n",
    "            document.getElementById(tabId).classList.add('active');\n",
    "            document.querySelector('button[data-tab=\"'+tabId+'\"]').classList.add('active');\n",
    "        }\n",
    "    </script>\n",
    "</head>\n",
    "<body>\n",
    "    <div class=\"tabs\">\n",
    "'''\n",
    "\n",
    "    # Add buttons for each category\n",
    "    for i, category in enumerate(categories.keys()):\n",
    "        active_class = 'active' if i == 0 else ''\n",
    "        html_code += f'<button class=\"tab-button {active_class}\" onclick=\"showTab(\\'tab-{i}\\')\" data-tab=\"tab-{i}\">{category}</button>'\n",
    "\n",
    "    html_code += '</div>'\n",
    "\n",
    "    # Add content for each category\n",
    "    for i, (category, embeds) in enumerate(categories.items()):\n",
    "        active_class = 'active' if i == 0 else ''\n",
    "        html_code += f'<div id=\"tab-{i}\" class=\"tab-content {active_class}\">'\n",
    "        for embed in embeds:\n",
    "            html_code += embed\n",
    "        html_code += '</div>'\n",
    "\n",
    "    html_code += '''\n",
    "</body>\n",
    "</html>\n",
    "'''\n",
    "\n",
    "    return html_code\n"
   ]
  },
  {
   "cell_type": "code",
   "execution_count": 22,
   "metadata": {},
   "outputs": [
    {
     "data": {
      "text/plain": [
       "'\\n    <style>\\n      /* Style the tab */\\n      .tab {\\n        overflow: hidden;\\n        border: 1px solid #ccc;\\n        background-color: #f1f1f1;\\n      }\\n\\n      /* Style the buttons inside the tab */\\n      .tab button {\\n        background-color: inherit;\\n        float: left;\\n        border: none;\\n        outline: none;\\n        cursor: pointer;\\n        padding: 14px 16px;\\n        transition: 0.3s;\\n        font-size: 17px;\\n      }\\n\\n      /* Change background color of buttons on hover */\\n      .tab button:hover {\\n        background-color: #ddd;\\n      }\\n\\n      /* Create an active/current tablink class */\\n      .tab button.active {\\n        background-color: #ccc;\\n      }\\n\\n      /* Style the tab content */\\n      .tabcontent {\\n        display: none;\\n        padding: 6px 12px;\\n        border-top: none;\\n      }\\n\\n      /* Show the tab content when it\\'s active */\\n      .tabcontent.active {\\n        display: block;\\n      }\\n    </style>\\n    \\n    <div class=\"tab\">\\n    <button class=\"tablinks\" onclick=\"openCategory(event, \\'CO2 & Greenhouse Gas Emissions\\')\">CO2 & Greenhouse Gas Emissions</button><button class=\"tablinks\" onclick=\"openCategory(event, \\'Climate Change\\')\">Climate Change</button><button class=\"tablinks\" onclick=\"openCategory(event, \\'Fossil Fuels\\')\">Fossil Fuels</button></div><div id=\"CO2 & Greenhouse Gas Emissions\" class=\"tabcontent\"><h3>CO2 & Greenhouse Gas Emissions</h3><div><iframe src=\"https://ourworldindata.org/grapher/global-warming-by-gas-and-source?tab=map\" loading=\"lazy\" style=\"width: 100%; height: 600px; border: 0px none;\" allow=\"web-share; clipboard-write\"></iframe></div><div><iframe src=\"https://ourworldindata.org/grapher/warming-fossil-fuels-land-use?tab=map\" loading=\"lazy\" style=\"width: 100%; height: 600px; border: 0px none;\" allow=\"web-share; clipboard-write\"></iframe></div><div><iframe src=\"https://ourworldindata.org/grapher/contributions-global-temp-change?tab=map\" loading=\"lazy\" style=\"width: 100%; height: 600px; border: 0px none;\" allow=\"web-share; clipboard-write\"></iframe></div><div><iframe src=\"https://ourworldindata.org/grapher/carbon-dioxide-emissions-factor?tab=map\" loading=\"lazy\" style=\"width: 100%; height: 600px; border: 0px none;\" allow=\"web-share; clipboard-write\"></iframe></div><div><iframe src=\"https://ourworldindata.org/grapher/global-warming-land?tab=map\" loading=\"lazy\" style=\"width: 100%; height: 600px; border: 0px none;\" allow=\"web-share; clipboard-write\"></iframe></div><div><iframe src=\"https://ourworldindata.org/grapher/total-ghg-emissions?tab=map\" loading=\"lazy\" style=\"width: 100%; height: 600px; border: 0px none;\" allow=\"web-share; clipboard-write\"></iframe></div></div><div id=\"Climate Change\" class=\"tabcontent\"><h3>Climate Change</h3><div><iframe src=\"https://ourworldindata.org/grapher/global-warming-by-gas-and-source?tab=map\" loading=\"lazy\" style=\"width: 100%; height: 600px; border: 0px none;\" allow=\"web-share; clipboard-write\"></iframe></div><div><iframe src=\"https://ourworldindata.org/grapher/warming-fossil-fuels-land-use?tab=map\" loading=\"lazy\" style=\"width: 100%; height: 600px; border: 0px none;\" allow=\"web-share; clipboard-write\"></iframe></div><div><iframe src=\"https://ourworldindata.org/grapher/contributions-global-temp-change?tab=map\" loading=\"lazy\" style=\"width: 100%; height: 600px; border: 0px none;\" allow=\"web-share; clipboard-write\"></iframe></div></div><div id=\"Fossil Fuels\" class=\"tabcontent\"><h3>Fossil Fuels</h3><div><iframe src=\"https://ourworldindata.org/grapher/carbon-dioxide-emissions-factor?tab=map\" loading=\"lazy\" style=\"width: 100%; height: 600px; border: 0px none;\" allow=\"web-share; clipboard-write\"></iframe></div></div>\\n    <script>\\n    function openCategory(evt, categoryName) {\\n        var i, tabcontent, tablinks;\\n        tabcontent = document.getElementsByClassName(\"tabcontent\");\\n        for (i = 0; i < tabcontent.length; i++) {\\n            tabcontent[i].style.display = \"none\";\\n            tabcontent[i].classList.remove(\"active\");\\n        }\\n        tablinks = document.getElementsByClassName(\"tablinks\");\\n        for (i = 0; i < tablinks.length; i++) {\\n            tablinks[i].className = tablinks[i].className.replace(\" active\", \"\");\\n        }\\n        document.getElementById(categoryName).style.display = \"block\";\\n        document.getElementById(categoryName).classList.add(\"active\");\\n        evt.currentTarget.className += \" active\";\\n    }\\n    </script>\\n    '"
      ]
     },
     "execution_count": 22,
     "metadata": {},
     "output_type": "execute_result"
    }
   ],
   "source": [
    "generate_graphs_html(graphs)"
   ]
  },
  {
   "cell_type": "code",
   "execution_count": 18,
   "metadata": {},
   "outputs": [
    {
     "name": "stderr",
     "output_type": "stream",
     "text": [
      "INFO:sentence_transformers.SentenceTransformer:Use pytorch device_name: cpu\n",
      "INFO:sentence_transformers.SentenceTransformer:Load pretrained SentenceTransformer: BAAI/bge-base-en-v1.5\n"
     ]
    },
    {
     "name": "stdout",
     "output_type": "stream",
     "text": [
      "Loading embeddings model:  BAAI/bge-base-en-v1.5\n"
     ]
    },
    {
     "name": "stderr",
     "output_type": "stream",
     "text": [
      "/home/dora/anaconda3/envs/climateqa_huggingface/lib/python3.12/site-packages/huggingface_hub/file_download.py:1132: FutureWarning: `resume_download` is deprecated and will be removed in version 1.0.0. Downloads always resume when possible. If you want to force a new download, use `force_download=True`.\n",
      "  warnings.warn(\n"
     ]
    },
    {
     "name": "stdout",
     "output_type": "stream",
     "text": [
      "Loading FlashRankRanker model ms-marco-TinyBERT-L-2-v2\n",
      "Loading model FlashRank model ms-marco-TinyBERT-L-2-v2...\n"
     ]
    },
    {
     "name": "stderr",
     "output_type": "stream",
     "text": [
      "INFO:chromadb.telemetry.posthog:Anonymized telemetry enabled. See https://docs.trychroma.com/telemetry for more information.\n"
     ]
    },
    {
     "ename": "NameError",
     "evalue": "name 'make_graph_agent' is not defined",
     "output_type": "error",
     "traceback": [
      "\u001b[0;31m---------------------------------------------------------------------------\u001b[0m",
      "\u001b[0;31mNameError\u001b[0m                                 Traceback (most recent call last)",
      "Cell \u001b[0;32mIn[18], line 10\u001b[0m\n\u001b[1;32m      7\u001b[0m vectorstore_graphs \u001b[38;5;241m=\u001b[39m Chroma(persist_directory\u001b[38;5;241m=\u001b[39m\u001b[38;5;124m\"\u001b[39m\u001b[38;5;124m/home/dora/climate-question-answering/data/vectorstore\u001b[39m\u001b[38;5;124m\"\u001b[39m, embedding_function\u001b[38;5;241m=\u001b[39membeddings_function)\n\u001b[1;32m      9\u001b[0m \u001b[38;5;66;03m# agent = make_graph_agent(llm,vectorstore,reranker)\u001b[39;00m\n\u001b[0;32m---> 10\u001b[0m agent \u001b[38;5;241m=\u001b[39m \u001b[43mmake_graph_agent\u001b[49m(llm\u001b[38;5;241m=\u001b[39mllm, vectorstore_ipcc\u001b[38;5;241m=\u001b[39mvectorstore, vectorstore_graphs\u001b[38;5;241m=\u001b[39mvectorstore_graphs, reranker\u001b[38;5;241m=\u001b[39mreranker)\n\u001b[1;32m     12\u001b[0m \u001b[38;5;28;01masync\u001b[39;00m \u001b[38;5;28;01mdef\u001b[39;00m \u001b[38;5;21mchat\u001b[39m(query,history,audience,sources,reports):\n\u001b[1;32m     13\u001b[0m \u001b[38;5;250m    \u001b[39m\u001b[38;5;124;03m\"\"\"taking a query and a message history, use a pipeline (reformulation, retriever, answering) to yield a tuple of:\u001b[39;00m\n\u001b[1;32m     14\u001b[0m \u001b[38;5;124;03m    (messages in gradio format, messages in langchain format, source documents)\"\"\"\u001b[39;00m\n",
      "\u001b[0;31mNameError\u001b[0m: name 'make_graph_agent' is not defined"
     ]
    }
   ],
   "source": [
    "embeddings_function = get_embeddings_function()\n",
    "llm = get_llm(provider=\"openai\",max_tokens = 1024,temperature = 0.0)\n",
    "reranker = get_reranker(\"nano\")\n",
    "\n",
    "# Create vectorstore and retriever\n",
    "vectorstore = get_pinecone_vectorstore(embeddings_function)\n",
    "vectorstore_graphs = Chroma(persist_directory=\"/home/dora/climate-question-answering/data/vectorstore\", embedding_function=embeddings_function)\n",
    "\n",
    "# agent = make_graph_agent(llm,vectorstore,reranker)\n",
    "agent = make_graph_agent(llm=llm, vectorstore_ipcc=vectorstore, vectorstore_graphs=vectorstore_graphs, reranker=reranker)\n",
    "\n",
    "async def chat(query,history,audience,sources,reports):\n",
    "    \"\"\"taking a query and a message history, use a pipeline (reformulation, retriever, answering) to yield a tuple of:\n",
    "    (messages in gradio format, messages in langchain format, source documents)\"\"\"\n",
    "\n",
    "    date_now = datetime.now().strftime(\"%Y-%m-%d %H:%M:%S\")\n",
    "    print(f\">> NEW QUESTION ({date_now}) : {query}\")\n",
    "\n",
    "    if audience == \"Children\":\n",
    "        audience_prompt = audience_prompts[\"children\"]\n",
    "    elif audience == \"General public\":\n",
    "        audience_prompt = audience_prompts[\"general\"]\n",
    "    elif audience == \"Experts\":\n",
    "        audience_prompt = audience_prompts[\"experts\"]\n",
    "    else:\n",
    "        audience_prompt = audience_prompts[\"experts\"]\n",
    "\n",
    "    # Prepare default values\n",
    "    if len(sources) == 0:\n",
    "        sources = [\"IPCC\"]\n",
    "\n",
    "    if len(reports) == 0:\n",
    "        reports = []\n",
    "    \n",
    "    inputs = {\"user_input\": query,\"audience\": audience_prompt,\"sources\":sources}\n",
    "    print(f\"\\n\\nInputs:\\n {inputs}\\n\\n\")\n",
    "    result = agent.astream_events(inputs,version = \"v1\") #{\"callbacks\":[MyCustomAsyncHandler()]})\n",
    "    # result = rag_chain.stream(inputs)\n",
    "\n",
    "    # path_reformulation = \"/logs/reformulation/final_output\"\n",
    "    # path_keywords = \"/logs/keywords/final_output\"\n",
    "    # path_retriever = \"/logs/find_documents/final_output\"\n",
    "    # path_answer = \"/logs/answer/streamed_output_str/-\"\n",
    "\n",
    "    docs = []\n",
    "    graphs_html = \"\"\n",
    "    docs_html = \"\"\n",
    "    output_query = \"\"\n",
    "    output_language = \"\"\n",
    "    output_keywords = \"\"\n",
    "    gallery = []\n",
    "    updates = {}\n",
    "    start_streaming = False\n",
    "\n",
    "    steps_display = {\n",
    "        \"categorize_intent\":(\"🔄️ Analyzing user message\",True),\n",
    "        \"transform_query\":(\"🔄️ Thinking step by step to answer the question\",True),\n",
    "        \"retrieve_documents\":(\"🔄️ Searching in the knowledge base\",False),\n",
    "    }\n",
    "\n",
    "    try:\n",
    "        async for event in result:\n",
    "\n",
    "            if event[\"event\"] == \"on_chat_model_stream\" and event[\"metadata\"][\"langgraph_node\"] in [\"answer_rag\", \"answer_chitchat\", \"answer_ai_impact\"]:\n",
    "                if start_streaming == False:\n",
    "                    start_streaming = True\n",
    "                    history[-1] = (query,\"\")\n",
    "\n",
    "                new_token = event[\"data\"][\"chunk\"].content\n",
    "                # time.sleep(0.01)\n",
    "                previous_answer = history[-1][1]\n",
    "                previous_answer = previous_answer if previous_answer is not None else \"\"\n",
    "                answer_yet = previous_answer + new_token\n",
    "                answer_yet = parse_output_llm_with_sources(answer_yet)\n",
    "                history[-1] = (query,answer_yet)\n",
    "            \n",
    "            elif event[\"name\"] == \"retrieve_documents\" and event[\"event\"] == \"on_chain_end\":\n",
    "                try:\n",
    "                    docs = event[\"data\"][\"output\"][\"documents\"]\n",
    "                    docs_html = []\n",
    "                    for i, d in enumerate(docs, 1):\n",
    "                        docs_html.append(make_html_source(d, i))\n",
    "                    docs_html = \"\".join(docs_html)\n",
    "\n",
    "                    print(docs_html)\n",
    "                except Exception as e:\n",
    "                    print(f\"Error getting documents: {e}\")\n",
    "                    print(event)\n",
    "\n",
    "            # elif event[\"name\"] == \"retrieve_documents\" and event[\"event\"] == \"on_chain_start\":\n",
    "            #     print(event)\n",
    "            #     questions = event[\"data\"][\"input\"][\"questions\"]\n",
    "            #     questions = \"\\n\".join([f\"{i+1}. {q['question']} ({q['source']})\" for i,q in enumerate(questions)])\n",
    "            #     answer_yet = \"🔄️ Searching in the knowledge base\\n{questions}\"\n",
    "            #     history[-1] = (query,answer_yet)\n",
    "\n",
    "            elif event[\"name\"] == \"retrieve_graphs\" and event[\"event\"] == \"on_chain_end\":\n",
    "                try:\n",
    "                    recommended_content = event[\"data\"][\"output\"][\"recommended_content\"]\n",
    "                    graphs = [\n",
    "                        {\n",
    "                            \"embedding\": x.metadata[\"returned_content\"],\n",
    "                            \"metadata\": {\n",
    "                                \"source\": x.metadata[\"source\"],\n",
    "                                \"category\": x.metadata[\"category\"]\n",
    "                                }\n",
    "                                } for x in recommended_content if x.metadata[\"source\"] == \"OWID\"\n",
    "                                ]\n",
    "                    \n",
    "                    graphs_by_category = defaultdict(list)\n",
    "    \n",
    "                    # Organize graphs by category\n",
    "                    for graph in graphs:\n",
    "                        category = graph['metadata']['category']\n",
    "                        graphs_by_category[category].append(graph['embedding'])        \n",
    "\n",
    "                    \n",
    "                    for category, graphs in graphs_by_category.items():\n",
    "                        embeddings = \"\\n\".join(graphs)\n",
    "                        updates[graph_displays[category]] = embeddings\n",
    "                    \n",
    "                    print(f\"\\n\\nUpdates:\\n {updates}\\n\\n\")\n",
    "                                                \n",
    "                except Exception as e:\n",
    "                    print(f\"Error getting graphs: {e}\")\n",
    "\n",
    "            for event_name,(event_description,display_output) in steps_display.items():\n",
    "                if event[\"name\"] == event_name:\n",
    "                    if event[\"event\"] == \"on_chain_start\":\n",
    "                        # answer_yet = f\"<p><span class='loader'></span>{event_description}</p>\"\n",
    "                        # answer_yet = make_toolbox(event_description, \"\", checked = False)\n",
    "                        answer_yet = event_description\n",
    "                        history[-1] = (query,answer_yet)\n",
    "                    # elif event[\"event\"] == \"on_chain_end\":\n",
    "                    #     answer_yet = \"\"\n",
    "                    #     history[-1] = (query,answer_yet)\n",
    "                        # if display_output:\n",
    "                        #     print(event[\"data\"][\"output\"])\n",
    "\n",
    "            # if op['path'] == path_reformulation: # reforulated question\n",
    "            #     try:\n",
    "            #         output_language = op['value'][\"language\"] # str\n",
    "            #         output_query = op[\"value\"][\"question\"]\n",
    "            #     except Exception as e:\n",
    "            #         raise gr.Error(f\"ClimateQ&A Error: {e} - The error has been noted, try another question and if the error remains, you can contact us :)\")\n",
    "            \n",
    "            # if op[\"path\"] == path_keywords:\n",
    "            #     try:\n",
    "            #         output_keywords = op['value'][\"keywords\"] # str\n",
    "            #         output_keywords = \" AND \".join(output_keywords)\n",
    "            #     except Exception as e:\n",
    "            #         pass\n",
    "\n",
    "\n",
    "\n",
    "            history = [tuple(x) for x in history]\n",
    "            yield history,docs_html,output_query,output_language,gallery,updates#,output_query,output_keywords\n",
    "\n",
    "\n",
    "    except Exception as e:\n",
    "        raise gr.Error(f\"{e}\")\n",
    "\n",
    "\n",
    "    try:\n",
    "        # Log answer on Azure Blob Storage\n",
    "        if os.getenv(\"GRADIO_ENV\") != \"local\":\n",
    "            timestamp = str(datetime.now().timestamp())\n",
    "            file = timestamp + \".json\"\n",
    "            prompt = history[-1][0]\n",
    "            logs = {\n",
    "                \"user_id\": str(user_id),\n",
    "                \"prompt\": prompt,\n",
    "                \"query\": prompt,\n",
    "                \"question\":output_query,\n",
    "                \"sources\":sources,\n",
    "                \"docs\":serialize_docs(docs),\n",
    "                \"answer\": history[-1][1],\n",
    "                \"time\": timestamp,\n",
    "            }\n",
    "            log_on_azure(file, logs, share_client)\n",
    "    except Exception as e:\n",
    "        print(f\"Error logging on Azure Blob Storage: {e}\")\n",
    "        raise gr.Error(f\"ClimateQ&A Error: {str(e)[:100]} - The error has been noted, try another question and if the error remains, you can contact us :)\")\n",
    "\n",
    "    image_dict = {}\n",
    "    for i,doc in enumerate(docs):\n",
    "        \n",
    "        if doc.metadata[\"chunk_type\"] == \"image\":\n",
    "            try:\n",
    "                key = f\"Image {i+1}\"\n",
    "                image_path = doc.metadata[\"image_path\"].split(\"documents/\")[1]\n",
    "                img = get_image_from_azure_blob_storage(image_path)\n",
    "\n",
    "                # Convert the image to a byte buffer\n",
    "                buffered = BytesIO()\n",
    "                img.save(buffered, format=\"PNG\")\n",
    "                img_str = base64.b64encode(buffered.getvalue()).decode()\n",
    "\n",
    "                # Embedding the base64 string in Markdown\n",
    "                markdown_image = f\"![Alt text](data:image/png;base64,{img_str})\"\n",
    "                image_dict[key] = {\"img\":img,\"md\":markdown_image,\"caption\":doc.page_content,\"key\":key,\"figure_code\":doc.metadata[\"figure_code\"]}\n",
    "            except Exception as e:\n",
    "                print(f\"Skipped adding image {i} because of {e}\")\n",
    "\n",
    "    if len(image_dict) > 0:\n",
    "\n",
    "        gallery = [x[\"img\"] for x in list(image_dict.values())]\n",
    "        img = list(image_dict.values())[0]\n",
    "        img_md = img[\"md\"]\n",
    "        img_caption = img[\"caption\"]\n",
    "        img_code = img[\"figure_code\"]\n",
    "        if img_code != \"N/A\":\n",
    "            img_name = f\"{img['key']} - {img['figure_code']}\"\n",
    "        else:\n",
    "            img_name = f\"{img['key']}\"\n",
    "\n",
    "        answer_yet = history[-1][1] + f\"\\n\\n{img_md}\\n<p class='chatbot-caption'><b>{img_name}</b> - {img_caption}</p>\"\n",
    "        history[-1] = (history[-1][0],answer_yet)\n",
    "        history = [tuple(x) for x in history]\n",
    "\n",
    "        print(f\"\\n\\nImages:\\n{gallery}\")\n",
    "\n",
    "    # gallery = [x.metadata[\"image_path\"] for x in docs if (len(x.metadata[\"image_path\"]) > 0 and \"IAS\" in x.metadata[\"image_path\"])]\n",
    "    # if len(gallery) > 0:\n",
    "    #     gallery = list(set(\"|\".join(gallery).split(\"|\")))\n",
    "    #     gallery = [get_image_from_azure_blob_storage(x) for x in gallery]\n",
    "\n",
    "        yield history,docs_html,output_query,output_language,gallery,updates#,output_query,output_keywords\n"
   ]
  }
 ],
 "metadata": {
  "kernelspec": {
   "display_name": "climateqa_huggingface",
   "language": "python",
   "name": "python3"
  },
  "language_info": {
   "codemirror_mode": {
    "name": "ipython",
    "version": 3
   },
   "file_extension": ".py",
   "mimetype": "text/x-python",
   "name": "python",
   "nbconvert_exporter": "python",
   "pygments_lexer": "ipython3",
   "version": "3.12.3"
  }
 },
 "nbformat": 4,
 "nbformat_minor": 2
}
